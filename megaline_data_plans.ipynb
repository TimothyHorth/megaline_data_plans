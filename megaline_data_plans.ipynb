{
 "cells": [
  {
   "cell_type": "markdown",
   "metadata": {},
   "source": [
    "<div style=\"border:solid green 2px; padding: 20px\"> <h1 style=\"color:green; margin-bottom:20px\">Reviewer's comment v1</h1>\n",
    "\n",
    "Hello Tim, my name is Dmitrii Pyshnenko. Happy to review your project! 🙌\n",
    "\n",
    "As usual you can find my comments under the heading **«Review»**. I will categorize my comments in green, blue or red boxes like this:\n",
    "\n",
    "<div class=\"alert alert-success\">\n",
    "    <b>Success:</b> if everything is done successfully\n",
    "</div>\n",
    "<div class=\"alert alert-warning\">\n",
    "    <b>Remarks:</b> if I can give some recommendations or ways to improve the project\n",
    "</div>\n",
    "<div class=\"alert alert-danger\">\n",
    "    <b>Needs fixing:</b> if the block requires some corrections. Work can't be accepted with the red comments\n",
    "</div>\n",
    "\n",
    "Please don't remove my comments :) If you have any questions don't hesitate to respond to my comments in a different section. \n",
    "\n"
   ]
  },
  {
   "cell_type": "markdown",
   "metadata": {},
   "source": [
    "<div style=\"border:solid green 2px; padding: 20px\">\n",
    "<b>Reviewer's comment v1</b>\n",
    "    \n",
    "<b>Overall Feedback</b> \n",
    "    \n",
    "Overall well done! I can see that a lot of effort has been made! Your project already looks really good, and you accomplished impressive results.\n",
    "\n",
    "However, there are some comments/areas left to fix that will help you to make your project even better:\n",
    "\n",
    "- Change type of joining dataframes. \n",
    "  \n",
    "And of course, if you have any questions along the way, remember that you can always reach out to your tutor for any clarification.\n",
    "</div>"
   ]
  },
  {
   "cell_type": "markdown",
   "metadata": {},
   "source": [
    "<span style='background:cyan'> Hello Dmitril! Thank you for reviewing my project. My responses to your comments will be highlighted in cyan. </span>"
   ]
  },
  {
   "cell_type": "markdown",
   "metadata": {},
   "source": [
    "<div style=\"border:solid green 2px; padding: 20px\">\n",
    "<b>Reviewer's comment v2:</b>\n",
    "    \n",
    "<b>Overall Feedback</b> \n",
    "    \n",
    "Hi Tim! Thank you for submitting your project with all corrections! \n",
    "- Now everything is perfect. No critial issues left, so your project has been accepted! \n",
    "- Wish you cool projects in the next sprints! ☘️\n",
    "    \n",
    "PS: As a last thing, I can recommend cool lectures on stat analysis here: https://www.youtube.com/playlist?list=PL2SOU6wwxB0uwwH80KTQ6ht66KWxbzTIo  🙌\n",
    "\n",
    "</div>"
   ]
  },
  {
   "cell_type": "markdown",
   "metadata": {},
   "source": [
    "# Which one is a better plan?\n",
    "\n",
    "You work as an analyst for the telecom operator Megaline. The company offers its clients two prepaid plans, Surf and Ultimate. The commercial department wants to know which of the plans brings in more revenue in order to adjust the advertising budget.\n",
    "\n",
    "You are going to carry out a preliminary analysis of the plans based on a relatively small client selection. You'll have the data on 500 Megaline clients: who the clients are, where they're from, which plan they use, and the number of calls they made and text messages they sent in 2018. Your job is to analyze the clients' behavior and determine which prepaid plan brings in more revenue."
   ]
  },
  {
   "cell_type": "markdown",
   "metadata": {},
   "source": [
    "The purpose of this report is to determine which prepaid plan brings in more revenue based on the behavior of their respective clients. Each plan charges a standard service fee for basic usage, and tacks on fees as clients exceed their plan's set limits. To determine which plan brings in more revenue, the total revenue collected from each customer will need to be calculated, which will then allow the monthly averages to be plotted. Revenue statistics will be analyzed for clients of each plan and how the average revenue distribution varies between plans. At the end of the report a conclusion will be provided that determines which prepaid plan, either Surf or Ultimate, brings in more revenue based on client behavior."
   ]
  },
  {
   "cell_type": "markdown",
   "metadata": {},
   "source": [
    "<div class=\"alert alert-block alert-success\">\n",
    "<b>Reviewer's comment v1</b>\n",
    " \n",
    "Great that you added additional information about the project goal and tasks."
   ]
  },
  {
   "cell_type": "markdown",
   "metadata": {},
   "source": [
    "## Initialization"
   ]
  },
  {
   "cell_type": "markdown",
   "metadata": {},
   "source": [
    "The below cell block imports the `pandas`, `numpy`, and `math` libraries. It also imports the `stats` and `pyplot` modules from their respective libraries."
   ]
  },
  {
   "cell_type": "code",
   "execution_count": 1,
   "metadata": {},
   "outputs": [],
   "source": [
    "# Loading all the libraries\n",
    "import pandas as pd\n",
    "import numpy as np\n",
    "import math\n",
    "from scipy import stats as st\n",
    "from matplotlib import pyplot as plt\n"
   ]
  },
  {
   "cell_type": "markdown",
   "metadata": {},
   "source": [
    "## Load data"
   ]
  },
  {
   "cell_type": "markdown",
   "metadata": {},
   "source": [
    "The below cell block loads the data from the csv files that were provided, and stores the data into separate DataFrames. Each DataFrame is named after the data that it contains."
   ]
  },
  {
   "cell_type": "code",
   "execution_count": 2,
   "metadata": {},
   "outputs": [],
   "source": [
    "# Load the data files into different DataFrames\n",
    "calls = pd.read_csv('/datasets/megaline_calls.csv')\n",
    "internet = pd.read_csv('/datasets/megaline_internet.csv')\n",
    "messages = pd.read_csv('/datasets/megaline_messages.csv')\n",
    "plans = pd.read_csv('/datasets/megaline_plans.csv')\n",
    "users = pd.read_csv('/datasets/megaline_users.csv')\n"
   ]
  },
  {
   "cell_type": "markdown",
   "metadata": {},
   "source": [
    "## Prepare the data"
   ]
  },
  {
   "cell_type": "markdown",
   "metadata": {},
   "source": [
    "Before any statistical analysis can be performed, it is important to ensure that the data in each DataFrame is suitable in its current state. In this seciton, each DataFrame will be examined for any errors or characteristics that may pose as obstacles to future analysis. Any missing values, wrong data types, or incorrect values will be identified and corrected as needed. Additionally, any supplemental information that can be provided to each DataFrame will be added as a column or columns."
   ]
  },
  {
   "cell_type": "markdown",
   "metadata": {},
   "source": [
    "### Plans\n",
    "\n",
    "Let's begin by analyzing the `plans` DataFrame, which contains data on the types of plans that Megaline offers to its clients.\n",
    "\n",
    "#### View the data"
   ]
  },
  {
   "cell_type": "code",
   "execution_count": 3,
   "metadata": {},
   "outputs": [
    {
     "name": "stdout",
     "output_type": "stream",
     "text": [
      "<class 'pandas.core.frame.DataFrame'>\n",
      "RangeIndex: 2 entries, 0 to 1\n",
      "Data columns (total 8 columns):\n",
      "messages_included        2 non-null int64\n",
      "mb_per_month_included    2 non-null int64\n",
      "minutes_included         2 non-null int64\n",
      "usd_monthly_pay          2 non-null int64\n",
      "usd_per_gb               2 non-null int64\n",
      "usd_per_message          2 non-null float64\n",
      "usd_per_minute           2 non-null float64\n",
      "plan_name                2 non-null object\n",
      "dtypes: float64(2), int64(5), object(1)\n",
      "memory usage: 256.0+ bytes\n"
     ]
    }
   ],
   "source": [
    "# Print the general/summary information about the plans' DataFrame\n",
    "plans.info()\n"
   ]
  },
  {
   "cell_type": "code",
   "execution_count": 4,
   "metadata": {},
   "outputs": [
    {
     "data": {
      "text/html": [
       "<div>\n",
       "<style scoped>\n",
       "    .dataframe tbody tr th:only-of-type {\n",
       "        vertical-align: middle;\n",
       "    }\n",
       "\n",
       "    .dataframe tbody tr th {\n",
       "        vertical-align: top;\n",
       "    }\n",
       "\n",
       "    .dataframe thead th {\n",
       "        text-align: right;\n",
       "    }\n",
       "</style>\n",
       "<table border=\"1\" class=\"dataframe\">\n",
       "  <thead>\n",
       "    <tr style=\"text-align: right;\">\n",
       "      <th></th>\n",
       "      <th>messages_included</th>\n",
       "      <th>mb_per_month_included</th>\n",
       "      <th>minutes_included</th>\n",
       "      <th>usd_monthly_pay</th>\n",
       "      <th>usd_per_gb</th>\n",
       "      <th>usd_per_message</th>\n",
       "      <th>usd_per_minute</th>\n",
       "      <th>plan_name</th>\n",
       "    </tr>\n",
       "  </thead>\n",
       "  <tbody>\n",
       "    <tr>\n",
       "      <td>0</td>\n",
       "      <td>50</td>\n",
       "      <td>15360</td>\n",
       "      <td>500</td>\n",
       "      <td>20</td>\n",
       "      <td>10</td>\n",
       "      <td>0.03</td>\n",
       "      <td>0.03</td>\n",
       "      <td>surf</td>\n",
       "    </tr>\n",
       "    <tr>\n",
       "      <td>1</td>\n",
       "      <td>1000</td>\n",
       "      <td>30720</td>\n",
       "      <td>3000</td>\n",
       "      <td>70</td>\n",
       "      <td>7</td>\n",
       "      <td>0.01</td>\n",
       "      <td>0.01</td>\n",
       "      <td>ultimate</td>\n",
       "    </tr>\n",
       "  </tbody>\n",
       "</table>\n",
       "</div>"
      ],
      "text/plain": [
       "   messages_included  mb_per_month_included  minutes_included  \\\n",
       "0                 50                  15360               500   \n",
       "1               1000                  30720              3000   \n",
       "\n",
       "   usd_monthly_pay  usd_per_gb  usd_per_message  usd_per_minute plan_name  \n",
       "0               20          10             0.03            0.03      surf  \n",
       "1               70           7             0.01            0.01  ultimate  "
      ]
     },
     "execution_count": 4,
     "metadata": {},
     "output_type": "execute_result"
    }
   ],
   "source": [
    "# Print a sample of data for plans\n",
    "plans.head(15)\n"
   ]
  },
  {
   "cell_type": "markdown",
   "metadata": {},
   "source": [
    "There are only two rows of of data in this DataFrame, `plans`. The first row contains information on the Surf plan, and the second row contains information on the Ultimate plan. The data types appear to be correct. The numeric values that would be expected to be whole numbers are indeed provided as integers, the numeric values that would be expected to be fractional values are indeed provided as floats, and the values that would expected to be strings are indeed provided as objects. No further actions are required to correct the data types."
   ]
  },
  {
   "cell_type": "markdown",
   "metadata": {},
   "source": [
    "#### Fix data\n",
    "\n",
    "I do not see any issues with the the data in the `plans` DataFrame."
   ]
  },
  {
   "cell_type": "code",
   "execution_count": 5,
   "metadata": {},
   "outputs": [],
   "source": [
    "# Sticking with the binary definition, so the below comments have been commented out\n",
    "\n",
    "# plans.loc[0, 'mb_per_month_included'] = 15000\n",
    "# plans.loc[1, 'mb_per_month_included'] = 30000"
   ]
  },
  {
   "cell_type": "markdown",
   "metadata": {},
   "source": [
    "<div class=\"alert alert-block alert-warning\">\n",
    "<b>Reviewer's comment v1</b>\n",
    " \n",
    "We can stick here to the binary definition, which is more common in the area of data/computer science. You can read about the difference here: https://www.gbmb.org/gb-to-mb"
   ]
  },
  {
   "cell_type": "markdown",
   "metadata": {},
   "source": [
    "<span style='background:cyan'> Understood! I was not aware of that. The course has not covered binary numbers yet, but I see what you are saying. I will incorporate your comment by not changing the values in the `plans` DataFrame! The code above has been commented out. </span>"
   ]
  },
  {
   "cell_type": "markdown",
   "metadata": {},
   "source": [
    "<div class=\"alert alert-block alert-success\">\n",
    "<b>Reviewer's comment v2</b>\n",
    " \n",
    "Thank you for updating that. There is indeed some confusion regarding what notation to use, so in theory both are correct but the latter is more common. "
   ]
  },
  {
   "cell_type": "markdown",
   "metadata": {},
   "source": [
    "#### Enrich data"
   ]
  },
  {
   "cell_type": "markdown",
   "metadata": {},
   "source": [
    "At this time, no data will be added to enrich the `plans` DataFrame."
   ]
  },
  {
   "cell_type": "markdown",
   "metadata": {},
   "source": [
    "### Users\n",
    "\n",
    "Now let's take a look at the `users` DataFrame and see if anything needs correcting."
   ]
  },
  {
   "cell_type": "code",
   "execution_count": 6,
   "metadata": {},
   "outputs": [
    {
     "name": "stdout",
     "output_type": "stream",
     "text": [
      "<class 'pandas.core.frame.DataFrame'>\n",
      "RangeIndex: 500 entries, 0 to 499\n",
      "Data columns (total 8 columns):\n",
      "user_id       500 non-null int64\n",
      "first_name    500 non-null object\n",
      "last_name     500 non-null object\n",
      "age           500 non-null int64\n",
      "city          500 non-null object\n",
      "reg_date      500 non-null object\n",
      "plan          500 non-null object\n",
      "churn_date    34 non-null object\n",
      "dtypes: int64(2), object(6)\n",
      "memory usage: 31.4+ KB\n"
     ]
    }
   ],
   "source": [
    "# Print the general/summary information about the users' DataFrame\n",
    "users.info()\n"
   ]
  },
  {
   "cell_type": "code",
   "execution_count": 7,
   "metadata": {},
   "outputs": [
    {
     "data": {
      "text/html": [
       "<div>\n",
       "<style scoped>\n",
       "    .dataframe tbody tr th:only-of-type {\n",
       "        vertical-align: middle;\n",
       "    }\n",
       "\n",
       "    .dataframe tbody tr th {\n",
       "        vertical-align: top;\n",
       "    }\n",
       "\n",
       "    .dataframe thead th {\n",
       "        text-align: right;\n",
       "    }\n",
       "</style>\n",
       "<table border=\"1\" class=\"dataframe\">\n",
       "  <thead>\n",
       "    <tr style=\"text-align: right;\">\n",
       "      <th></th>\n",
       "      <th>user_id</th>\n",
       "      <th>first_name</th>\n",
       "      <th>last_name</th>\n",
       "      <th>age</th>\n",
       "      <th>city</th>\n",
       "      <th>reg_date</th>\n",
       "      <th>plan</th>\n",
       "      <th>churn_date</th>\n",
       "    </tr>\n",
       "  </thead>\n",
       "  <tbody>\n",
       "    <tr>\n",
       "      <td>0</td>\n",
       "      <td>1000</td>\n",
       "      <td>Anamaria</td>\n",
       "      <td>Bauer</td>\n",
       "      <td>45</td>\n",
       "      <td>Atlanta-Sandy Springs-Roswell, GA MSA</td>\n",
       "      <td>2018-12-24</td>\n",
       "      <td>ultimate</td>\n",
       "      <td>NaN</td>\n",
       "    </tr>\n",
       "    <tr>\n",
       "      <td>1</td>\n",
       "      <td>1001</td>\n",
       "      <td>Mickey</td>\n",
       "      <td>Wilkerson</td>\n",
       "      <td>28</td>\n",
       "      <td>Seattle-Tacoma-Bellevue, WA MSA</td>\n",
       "      <td>2018-08-13</td>\n",
       "      <td>surf</td>\n",
       "      <td>NaN</td>\n",
       "    </tr>\n",
       "    <tr>\n",
       "      <td>2</td>\n",
       "      <td>1002</td>\n",
       "      <td>Carlee</td>\n",
       "      <td>Hoffman</td>\n",
       "      <td>36</td>\n",
       "      <td>Las Vegas-Henderson-Paradise, NV MSA</td>\n",
       "      <td>2018-10-21</td>\n",
       "      <td>surf</td>\n",
       "      <td>NaN</td>\n",
       "    </tr>\n",
       "    <tr>\n",
       "      <td>3</td>\n",
       "      <td>1003</td>\n",
       "      <td>Reynaldo</td>\n",
       "      <td>Jenkins</td>\n",
       "      <td>52</td>\n",
       "      <td>Tulsa, OK MSA</td>\n",
       "      <td>2018-01-28</td>\n",
       "      <td>surf</td>\n",
       "      <td>NaN</td>\n",
       "    </tr>\n",
       "    <tr>\n",
       "      <td>4</td>\n",
       "      <td>1004</td>\n",
       "      <td>Leonila</td>\n",
       "      <td>Thompson</td>\n",
       "      <td>40</td>\n",
       "      <td>Seattle-Tacoma-Bellevue, WA MSA</td>\n",
       "      <td>2018-05-23</td>\n",
       "      <td>surf</td>\n",
       "      <td>NaN</td>\n",
       "    </tr>\n",
       "    <tr>\n",
       "      <td>5</td>\n",
       "      <td>1005</td>\n",
       "      <td>Livia</td>\n",
       "      <td>Shields</td>\n",
       "      <td>31</td>\n",
       "      <td>Dallas-Fort Worth-Arlington, TX MSA</td>\n",
       "      <td>2018-11-29</td>\n",
       "      <td>surf</td>\n",
       "      <td>NaN</td>\n",
       "    </tr>\n",
       "    <tr>\n",
       "      <td>6</td>\n",
       "      <td>1006</td>\n",
       "      <td>Jesusa</td>\n",
       "      <td>Bradford</td>\n",
       "      <td>73</td>\n",
       "      <td>San Francisco-Oakland-Berkeley, CA MSA</td>\n",
       "      <td>2018-11-27</td>\n",
       "      <td>ultimate</td>\n",
       "      <td>2018-12-18</td>\n",
       "    </tr>\n",
       "    <tr>\n",
       "      <td>7</td>\n",
       "      <td>1007</td>\n",
       "      <td>Eusebio</td>\n",
       "      <td>Welch</td>\n",
       "      <td>42</td>\n",
       "      <td>Grand Rapids-Kentwood, MI MSA</td>\n",
       "      <td>2018-07-11</td>\n",
       "      <td>surf</td>\n",
       "      <td>NaN</td>\n",
       "    </tr>\n",
       "    <tr>\n",
       "      <td>8</td>\n",
       "      <td>1008</td>\n",
       "      <td>Emely</td>\n",
       "      <td>Hoffman</td>\n",
       "      <td>53</td>\n",
       "      <td>Orlando-Kissimmee-Sanford, FL MSA</td>\n",
       "      <td>2018-08-03</td>\n",
       "      <td>ultimate</td>\n",
       "      <td>NaN</td>\n",
       "    </tr>\n",
       "    <tr>\n",
       "      <td>9</td>\n",
       "      <td>1009</td>\n",
       "      <td>Gerry</td>\n",
       "      <td>Little</td>\n",
       "      <td>19</td>\n",
       "      <td>San Jose-Sunnyvale-Santa Clara, CA MSA</td>\n",
       "      <td>2018-04-22</td>\n",
       "      <td>surf</td>\n",
       "      <td>NaN</td>\n",
       "    </tr>\n",
       "    <tr>\n",
       "      <td>10</td>\n",
       "      <td>1010</td>\n",
       "      <td>Wilber</td>\n",
       "      <td>Blair</td>\n",
       "      <td>52</td>\n",
       "      <td>Dallas-Fort Worth-Arlington, TX MSA</td>\n",
       "      <td>2018-03-09</td>\n",
       "      <td>surf</td>\n",
       "      <td>NaN</td>\n",
       "    </tr>\n",
       "    <tr>\n",
       "      <td>11</td>\n",
       "      <td>1011</td>\n",
       "      <td>Halina</td>\n",
       "      <td>Henry</td>\n",
       "      <td>73</td>\n",
       "      <td>Cleveland-Elyria, OH MSA</td>\n",
       "      <td>2018-01-18</td>\n",
       "      <td>ultimate</td>\n",
       "      <td>NaN</td>\n",
       "    </tr>\n",
       "    <tr>\n",
       "      <td>12</td>\n",
       "      <td>1012</td>\n",
       "      <td>Jonelle</td>\n",
       "      <td>Mcbride</td>\n",
       "      <td>59</td>\n",
       "      <td>Chicago-Naperville-Elgin, IL-IN-WI MSA</td>\n",
       "      <td>2018-06-28</td>\n",
       "      <td>surf</td>\n",
       "      <td>2018-11-16</td>\n",
       "    </tr>\n",
       "    <tr>\n",
       "      <td>13</td>\n",
       "      <td>1013</td>\n",
       "      <td>Nicolas</td>\n",
       "      <td>Snider</td>\n",
       "      <td>50</td>\n",
       "      <td>Knoxville, TN MSA</td>\n",
       "      <td>2018-12-01</td>\n",
       "      <td>ultimate</td>\n",
       "      <td>NaN</td>\n",
       "    </tr>\n",
       "    <tr>\n",
       "      <td>14</td>\n",
       "      <td>1014</td>\n",
       "      <td>Edmundo</td>\n",
       "      <td>Simon</td>\n",
       "      <td>61</td>\n",
       "      <td>New York-Newark-Jersey City, NY-NJ-PA MSA</td>\n",
       "      <td>2018-11-25</td>\n",
       "      <td>surf</td>\n",
       "      <td>NaN</td>\n",
       "    </tr>\n",
       "  </tbody>\n",
       "</table>\n",
       "</div>"
      ],
      "text/plain": [
       "    user_id first_name  last_name  age  \\\n",
       "0      1000   Anamaria      Bauer   45   \n",
       "1      1001     Mickey  Wilkerson   28   \n",
       "2      1002     Carlee    Hoffman   36   \n",
       "3      1003   Reynaldo    Jenkins   52   \n",
       "4      1004    Leonila   Thompson   40   \n",
       "5      1005      Livia    Shields   31   \n",
       "6      1006     Jesusa   Bradford   73   \n",
       "7      1007    Eusebio      Welch   42   \n",
       "8      1008      Emely    Hoffman   53   \n",
       "9      1009      Gerry     Little   19   \n",
       "10     1010     Wilber      Blair   52   \n",
       "11     1011     Halina      Henry   73   \n",
       "12     1012    Jonelle    Mcbride   59   \n",
       "13     1013    Nicolas     Snider   50   \n",
       "14     1014    Edmundo      Simon   61   \n",
       "\n",
       "                                         city    reg_date      plan  \\\n",
       "0       Atlanta-Sandy Springs-Roswell, GA MSA  2018-12-24  ultimate   \n",
       "1             Seattle-Tacoma-Bellevue, WA MSA  2018-08-13      surf   \n",
       "2        Las Vegas-Henderson-Paradise, NV MSA  2018-10-21      surf   \n",
       "3                               Tulsa, OK MSA  2018-01-28      surf   \n",
       "4             Seattle-Tacoma-Bellevue, WA MSA  2018-05-23      surf   \n",
       "5         Dallas-Fort Worth-Arlington, TX MSA  2018-11-29      surf   \n",
       "6      San Francisco-Oakland-Berkeley, CA MSA  2018-11-27  ultimate   \n",
       "7               Grand Rapids-Kentwood, MI MSA  2018-07-11      surf   \n",
       "8           Orlando-Kissimmee-Sanford, FL MSA  2018-08-03  ultimate   \n",
       "9      San Jose-Sunnyvale-Santa Clara, CA MSA  2018-04-22      surf   \n",
       "10        Dallas-Fort Worth-Arlington, TX MSA  2018-03-09      surf   \n",
       "11                   Cleveland-Elyria, OH MSA  2018-01-18  ultimate   \n",
       "12     Chicago-Naperville-Elgin, IL-IN-WI MSA  2018-06-28      surf   \n",
       "13                          Knoxville, TN MSA  2018-12-01  ultimate   \n",
       "14  New York-Newark-Jersey City, NY-NJ-PA MSA  2018-11-25      surf   \n",
       "\n",
       "    churn_date  \n",
       "0          NaN  \n",
       "1          NaN  \n",
       "2          NaN  \n",
       "3          NaN  \n",
       "4          NaN  \n",
       "5          NaN  \n",
       "6   2018-12-18  \n",
       "7          NaN  \n",
       "8          NaN  \n",
       "9          NaN  \n",
       "10         NaN  \n",
       "11         NaN  \n",
       "12  2018-11-16  \n",
       "13         NaN  \n",
       "14         NaN  "
      ]
     },
     "execution_count": 7,
     "metadata": {},
     "output_type": "execute_result"
    }
   ],
   "source": [
    "# Print a sample of data for users\n",
    "users.head(15)\n"
   ]
  },
  {
   "cell_type": "markdown",
   "metadata": {},
   "source": [
    "When looking at data types of each column it can be seen that the `'age'` column currently contains float values, when it is expected to contain `int` values. That column can be modified to just contain integers. The data type of the `'reg_date'` and `'churn_date'` columns can both be be modified to the datetime object data type, since they contain strings that represent dates. Additionally, it appears that there are missing values in the `'churn_date'` column. The project description explains that the missing values are due to the corresponding data plans still being used (currently in service) when this database was extracted. There are **464** Non-Null values out of **500** rows. For now, I will leave the missing values as they are, since they serve a purpose in identifying which plans were still in service when this data was collected."
   ]
  },
  {
   "cell_type": "markdown",
   "metadata": {},
   "source": [
    "#### Fix Data"
   ]
  },
  {
   "cell_type": "markdown",
   "metadata": {},
   "source": [
    "The below code block will change the data type for the `'reg_date'` and `'churn_date'` columns from objects to datetime objects. Also, the data type for the `'age'` column will be changed from float to integer."
   ]
  },
  {
   "cell_type": "code",
   "execution_count": 8,
   "metadata": {},
   "outputs": [],
   "source": [
    "users['reg_date'] = pd.to_datetime(users['reg_date'], format='%Y-%m-%d')\n",
    "users['churn_date'] = pd.to_datetime(users['churn_date'], format='%Y-%m-%d')\n",
    "users['age'] = users['age'].astype('int')"
   ]
  },
  {
   "cell_type": "markdown",
   "metadata": {},
   "source": [
    "Let's look at the info for the `users` DataFrame one last time to ensure the columns are of the correct data type."
   ]
  },
  {
   "cell_type": "code",
   "execution_count": 9,
   "metadata": {},
   "outputs": [
    {
     "name": "stdout",
     "output_type": "stream",
     "text": [
      "<class 'pandas.core.frame.DataFrame'>\n",
      "RangeIndex: 500 entries, 0 to 499\n",
      "Data columns (total 8 columns):\n",
      "user_id       500 non-null int64\n",
      "first_name    500 non-null object\n",
      "last_name     500 non-null object\n",
      "age           500 non-null int64\n",
      "city          500 non-null object\n",
      "reg_date      500 non-null datetime64[ns]\n",
      "plan          500 non-null object\n",
      "churn_date    34 non-null datetime64[ns]\n",
      "dtypes: datetime64[ns](2), int64(2), object(4)\n",
      "memory usage: 31.4+ KB\n"
     ]
    }
   ],
   "source": [
    "users.info()"
   ]
  },
  {
   "cell_type": "markdown",
   "metadata": {},
   "source": [
    "#### Enrich Data"
   ]
  },
  {
   "cell_type": "markdown",
   "metadata": {},
   "source": [
    "To ensure that there are no duplicate users in this DataFrame, let's check for rows that contain the same full name. Since the first name and last name are contained in two separate columns, let's create a new column in the `users` DataFrame that contains the full name of each user in all lowercase. We'll name this new column `'full_name'`, and then check for duplicates in the `'full_name'` column. "
   ]
  },
  {
   "cell_type": "code",
   "execution_count": 10,
   "metadata": {},
   "outputs": [],
   "source": [
    "for i in range(0,500):\n",
    "    users.loc[i, 'full_name'] = users.loc[i, 'first_name'].lower() + ' ' + users.loc[i, 'last_name'].lower()"
   ]
  },
  {
   "cell_type": "code",
   "execution_count": 11,
   "metadata": {},
   "outputs": [
    {
     "data": {
      "text/html": [
       "<div>\n",
       "<style scoped>\n",
       "    .dataframe tbody tr th:only-of-type {\n",
       "        vertical-align: middle;\n",
       "    }\n",
       "\n",
       "    .dataframe tbody tr th {\n",
       "        vertical-align: top;\n",
       "    }\n",
       "\n",
       "    .dataframe thead th {\n",
       "        text-align: right;\n",
       "    }\n",
       "</style>\n",
       "<table border=\"1\" class=\"dataframe\">\n",
       "  <thead>\n",
       "    <tr style=\"text-align: right;\">\n",
       "      <th></th>\n",
       "      <th>user_id</th>\n",
       "      <th>first_name</th>\n",
       "      <th>last_name</th>\n",
       "      <th>age</th>\n",
       "      <th>city</th>\n",
       "      <th>reg_date</th>\n",
       "      <th>plan</th>\n",
       "      <th>churn_date</th>\n",
       "      <th>full_name</th>\n",
       "    </tr>\n",
       "  </thead>\n",
       "  <tbody>\n",
       "  </tbody>\n",
       "</table>\n",
       "</div>"
      ],
      "text/plain": [
       "Empty DataFrame\n",
       "Columns: [user_id, first_name, last_name, age, city, reg_date, plan, churn_date, full_name]\n",
       "Index: []"
      ]
     },
     "execution_count": 11,
     "metadata": {},
     "output_type": "execute_result"
    }
   ],
   "source": [
    "users[users['full_name'].duplicated()]"
   ]
  },
  {
   "cell_type": "markdown",
   "metadata": {},
   "source": [
    "No duplicates detected."
   ]
  },
  {
   "cell_type": "markdown",
   "metadata": {},
   "source": [
    "### Calls\n",
    "\n",
    "Examine the data contained in the `calls` DataFrame."
   ]
  },
  {
   "cell_type": "code",
   "execution_count": 12,
   "metadata": {},
   "outputs": [
    {
     "name": "stdout",
     "output_type": "stream",
     "text": [
      "<class 'pandas.core.frame.DataFrame'>\n",
      "RangeIndex: 137735 entries, 0 to 137734\n",
      "Data columns (total 4 columns):\n",
      "id           137735 non-null object\n",
      "user_id      137735 non-null int64\n",
      "call_date    137735 non-null object\n",
      "duration     137735 non-null float64\n",
      "dtypes: float64(1), int64(1), object(2)\n",
      "memory usage: 4.2+ MB\n"
     ]
    }
   ],
   "source": [
    "# Print the general/summary information about the calls' DataFrame\n",
    "calls.info()\n"
   ]
  },
  {
   "cell_type": "code",
   "execution_count": 13,
   "metadata": {},
   "outputs": [
    {
     "data": {
      "text/html": [
       "<div>\n",
       "<style scoped>\n",
       "    .dataframe tbody tr th:only-of-type {\n",
       "        vertical-align: middle;\n",
       "    }\n",
       "\n",
       "    .dataframe tbody tr th {\n",
       "        vertical-align: top;\n",
       "    }\n",
       "\n",
       "    .dataframe thead th {\n",
       "        text-align: right;\n",
       "    }\n",
       "</style>\n",
       "<table border=\"1\" class=\"dataframe\">\n",
       "  <thead>\n",
       "    <tr style=\"text-align: right;\">\n",
       "      <th></th>\n",
       "      <th>id</th>\n",
       "      <th>user_id</th>\n",
       "      <th>call_date</th>\n",
       "      <th>duration</th>\n",
       "    </tr>\n",
       "  </thead>\n",
       "  <tbody>\n",
       "    <tr>\n",
       "      <td>0</td>\n",
       "      <td>1000_93</td>\n",
       "      <td>1000</td>\n",
       "      <td>2018-12-27</td>\n",
       "      <td>8.52</td>\n",
       "    </tr>\n",
       "    <tr>\n",
       "      <td>1</td>\n",
       "      <td>1000_145</td>\n",
       "      <td>1000</td>\n",
       "      <td>2018-12-27</td>\n",
       "      <td>13.66</td>\n",
       "    </tr>\n",
       "    <tr>\n",
       "      <td>2</td>\n",
       "      <td>1000_247</td>\n",
       "      <td>1000</td>\n",
       "      <td>2018-12-27</td>\n",
       "      <td>14.48</td>\n",
       "    </tr>\n",
       "    <tr>\n",
       "      <td>3</td>\n",
       "      <td>1000_309</td>\n",
       "      <td>1000</td>\n",
       "      <td>2018-12-28</td>\n",
       "      <td>5.76</td>\n",
       "    </tr>\n",
       "    <tr>\n",
       "      <td>4</td>\n",
       "      <td>1000_380</td>\n",
       "      <td>1000</td>\n",
       "      <td>2018-12-30</td>\n",
       "      <td>4.22</td>\n",
       "    </tr>\n",
       "    <tr>\n",
       "      <td>5</td>\n",
       "      <td>1000_388</td>\n",
       "      <td>1000</td>\n",
       "      <td>2018-12-31</td>\n",
       "      <td>2.20</td>\n",
       "    </tr>\n",
       "    <tr>\n",
       "      <td>6</td>\n",
       "      <td>1000_510</td>\n",
       "      <td>1000</td>\n",
       "      <td>2018-12-27</td>\n",
       "      <td>5.75</td>\n",
       "    </tr>\n",
       "    <tr>\n",
       "      <td>7</td>\n",
       "      <td>1000_521</td>\n",
       "      <td>1000</td>\n",
       "      <td>2018-12-28</td>\n",
       "      <td>14.18</td>\n",
       "    </tr>\n",
       "    <tr>\n",
       "      <td>8</td>\n",
       "      <td>1000_530</td>\n",
       "      <td>1000</td>\n",
       "      <td>2018-12-28</td>\n",
       "      <td>5.77</td>\n",
       "    </tr>\n",
       "    <tr>\n",
       "      <td>9</td>\n",
       "      <td>1000_544</td>\n",
       "      <td>1000</td>\n",
       "      <td>2018-12-26</td>\n",
       "      <td>4.40</td>\n",
       "    </tr>\n",
       "    <tr>\n",
       "      <td>10</td>\n",
       "      <td>1000_693</td>\n",
       "      <td>1000</td>\n",
       "      <td>2018-12-31</td>\n",
       "      <td>4.31</td>\n",
       "    </tr>\n",
       "    <tr>\n",
       "      <td>11</td>\n",
       "      <td>1000_705</td>\n",
       "      <td>1000</td>\n",
       "      <td>2018-12-31</td>\n",
       "      <td>12.78</td>\n",
       "    </tr>\n",
       "    <tr>\n",
       "      <td>12</td>\n",
       "      <td>1000_735</td>\n",
       "      <td>1000</td>\n",
       "      <td>2018-12-29</td>\n",
       "      <td>1.70</td>\n",
       "    </tr>\n",
       "    <tr>\n",
       "      <td>13</td>\n",
       "      <td>1000_778</td>\n",
       "      <td>1000</td>\n",
       "      <td>2018-12-28</td>\n",
       "      <td>3.29</td>\n",
       "    </tr>\n",
       "    <tr>\n",
       "      <td>14</td>\n",
       "      <td>1000_826</td>\n",
       "      <td>1000</td>\n",
       "      <td>2018-12-26</td>\n",
       "      <td>9.96</td>\n",
       "    </tr>\n",
       "  </tbody>\n",
       "</table>\n",
       "</div>"
      ],
      "text/plain": [
       "          id  user_id   call_date  duration\n",
       "0    1000_93     1000  2018-12-27      8.52\n",
       "1   1000_145     1000  2018-12-27     13.66\n",
       "2   1000_247     1000  2018-12-27     14.48\n",
       "3   1000_309     1000  2018-12-28      5.76\n",
       "4   1000_380     1000  2018-12-30      4.22\n",
       "5   1000_388     1000  2018-12-31      2.20\n",
       "6   1000_510     1000  2018-12-27      5.75\n",
       "7   1000_521     1000  2018-12-28     14.18\n",
       "8   1000_530     1000  2018-12-28      5.77\n",
       "9   1000_544     1000  2018-12-26      4.40\n",
       "10  1000_693     1000  2018-12-31      4.31\n",
       "11  1000_705     1000  2018-12-31     12.78\n",
       "12  1000_735     1000  2018-12-29      1.70\n",
       "13  1000_778     1000  2018-12-28      3.29\n",
       "14  1000_826     1000  2018-12-26      9.96"
      ]
     },
     "execution_count": 13,
     "metadata": {},
     "output_type": "execute_result"
    }
   ],
   "source": [
    "# Print a sample of data for calls\n",
    "calls.head(15)\n"
   ]
  },
  {
   "cell_type": "markdown",
   "metadata": {},
   "source": [
    "There are **137,735** rows in the `calls` DataFrame, and there don't appear to be any missing values. The data type for the `'call_date'` column needs to be changed to the datetime object data type, which will be done below.\n",
    "\n",
    "The first 15 values in the `'user_id'` column are all **1000**, which means that there are multiple calls corresponding to the same user. It should be noted that Megaline rounds seconds up to full minutes when recording the duration time for calls. So, the values in the `'duration'` column need to be rounded up to a whole number representing a full minute."
   ]
  },
  {
   "cell_type": "markdown",
   "metadata": {},
   "source": [
    "#### Fix data"
   ]
  },
  {
   "cell_type": "markdown",
   "metadata": {},
   "source": [
    "The below code blocks will change the values in the `'call_date'` column to be datetime objects. Also, the values in the `'duration'` column will be rounded up to the next highest whole number. This is done using the `math.ceil()` function. Any value that is a whole number already will not be changed."
   ]
  },
  {
   "cell_type": "code",
   "execution_count": 14,
   "metadata": {},
   "outputs": [],
   "source": [
    "# Change the data type of the 'call_date' column to be datetime object\n",
    "# Only the year and month will be kept in the column, as is done in the 2nd line of code\n",
    "\n",
    "calls['call_date'] = pd.to_datetime(calls['call_date'], format='%Y-%m-%d')\n"
   ]
  },
  {
   "cell_type": "code",
   "execution_count": 15,
   "metadata": {},
   "outputs": [],
   "source": [
    "# Roundup the values in the 'duration' column to the next highest whole number.\n",
    "\n",
    "#for i in range(0, len(calls)):\n",
    "    #calls.loc[i, 'duration'] = math.ceil(calls.loc[i, 'duration'])\n",
    "    \n",
    "calls['duration'] = np.ceil(calls['duration'])\n"
   ]
  },
  {
   "cell_type": "markdown",
   "metadata": {},
   "source": [
    "<div class=\"alert alert-block alert-success\">\n",
    "<b>Reviewer's comment v1:</b>\n",
    "    \n",
    "Ok, great job! Good that you did not forget about data rounding. Here you can also apply np.ceil ()\n",
    "\n",
    "Also, you can apply this method directly (no loops) to the column in your data in the following way:\n",
    "\n",
    "```\n",
    "calls['duration'] = np.ceil(calls['duration'])\n",
    "```"
   ]
  },
  {
   "cell_type": "markdown",
   "metadata": {},
   "source": [
    "<span style='background:cyan'> Thanks for the suggestion! Your comment has been incorporated above! Drastically improves the runtime! Your code suggestion has also been incorporated for the other DataFrames.</span>"
   ]
  },
  {
   "cell_type": "markdown",
   "metadata": {},
   "source": [
    "<div class=\"alert alert-block alert-success\">\n",
    "<b>Reviewer's comment v2</b>\n",
    " \n",
    "Looks great!"
   ]
  },
  {
   "cell_type": "markdown",
   "metadata": {},
   "source": [
    "Let's take another look at the `calls` DataFrame to ensure that the changes have been correclty implemented."
   ]
  },
  {
   "cell_type": "code",
   "execution_count": 16,
   "metadata": {},
   "outputs": [
    {
     "data": {
      "text/html": [
       "<div>\n",
       "<style scoped>\n",
       "    .dataframe tbody tr th:only-of-type {\n",
       "        vertical-align: middle;\n",
       "    }\n",
       "\n",
       "    .dataframe tbody tr th {\n",
       "        vertical-align: top;\n",
       "    }\n",
       "\n",
       "    .dataframe thead th {\n",
       "        text-align: right;\n",
       "    }\n",
       "</style>\n",
       "<table border=\"1\" class=\"dataframe\">\n",
       "  <thead>\n",
       "    <tr style=\"text-align: right;\">\n",
       "      <th></th>\n",
       "      <th>id</th>\n",
       "      <th>user_id</th>\n",
       "      <th>call_date</th>\n",
       "      <th>duration</th>\n",
       "    </tr>\n",
       "  </thead>\n",
       "  <tbody>\n",
       "    <tr>\n",
       "      <td>0</td>\n",
       "      <td>1000_93</td>\n",
       "      <td>1000</td>\n",
       "      <td>2018-12-27</td>\n",
       "      <td>9.0</td>\n",
       "    </tr>\n",
       "    <tr>\n",
       "      <td>1</td>\n",
       "      <td>1000_145</td>\n",
       "      <td>1000</td>\n",
       "      <td>2018-12-27</td>\n",
       "      <td>14.0</td>\n",
       "    </tr>\n",
       "    <tr>\n",
       "      <td>2</td>\n",
       "      <td>1000_247</td>\n",
       "      <td>1000</td>\n",
       "      <td>2018-12-27</td>\n",
       "      <td>15.0</td>\n",
       "    </tr>\n",
       "    <tr>\n",
       "      <td>3</td>\n",
       "      <td>1000_309</td>\n",
       "      <td>1000</td>\n",
       "      <td>2018-12-28</td>\n",
       "      <td>6.0</td>\n",
       "    </tr>\n",
       "    <tr>\n",
       "      <td>4</td>\n",
       "      <td>1000_380</td>\n",
       "      <td>1000</td>\n",
       "      <td>2018-12-30</td>\n",
       "      <td>5.0</td>\n",
       "    </tr>\n",
       "    <tr>\n",
       "      <td>5</td>\n",
       "      <td>1000_388</td>\n",
       "      <td>1000</td>\n",
       "      <td>2018-12-31</td>\n",
       "      <td>3.0</td>\n",
       "    </tr>\n",
       "    <tr>\n",
       "      <td>6</td>\n",
       "      <td>1000_510</td>\n",
       "      <td>1000</td>\n",
       "      <td>2018-12-27</td>\n",
       "      <td>6.0</td>\n",
       "    </tr>\n",
       "    <tr>\n",
       "      <td>7</td>\n",
       "      <td>1000_521</td>\n",
       "      <td>1000</td>\n",
       "      <td>2018-12-28</td>\n",
       "      <td>15.0</td>\n",
       "    </tr>\n",
       "    <tr>\n",
       "      <td>8</td>\n",
       "      <td>1000_530</td>\n",
       "      <td>1000</td>\n",
       "      <td>2018-12-28</td>\n",
       "      <td>6.0</td>\n",
       "    </tr>\n",
       "    <tr>\n",
       "      <td>9</td>\n",
       "      <td>1000_544</td>\n",
       "      <td>1000</td>\n",
       "      <td>2018-12-26</td>\n",
       "      <td>5.0</td>\n",
       "    </tr>\n",
       "    <tr>\n",
       "      <td>10</td>\n",
       "      <td>1000_693</td>\n",
       "      <td>1000</td>\n",
       "      <td>2018-12-31</td>\n",
       "      <td>5.0</td>\n",
       "    </tr>\n",
       "    <tr>\n",
       "      <td>11</td>\n",
       "      <td>1000_705</td>\n",
       "      <td>1000</td>\n",
       "      <td>2018-12-31</td>\n",
       "      <td>13.0</td>\n",
       "    </tr>\n",
       "    <tr>\n",
       "      <td>12</td>\n",
       "      <td>1000_735</td>\n",
       "      <td>1000</td>\n",
       "      <td>2018-12-29</td>\n",
       "      <td>2.0</td>\n",
       "    </tr>\n",
       "    <tr>\n",
       "      <td>13</td>\n",
       "      <td>1000_778</td>\n",
       "      <td>1000</td>\n",
       "      <td>2018-12-28</td>\n",
       "      <td>4.0</td>\n",
       "    </tr>\n",
       "    <tr>\n",
       "      <td>14</td>\n",
       "      <td>1000_826</td>\n",
       "      <td>1000</td>\n",
       "      <td>2018-12-26</td>\n",
       "      <td>10.0</td>\n",
       "    </tr>\n",
       "    <tr>\n",
       "      <td>15</td>\n",
       "      <td>1000_842</td>\n",
       "      <td>1000</td>\n",
       "      <td>2018-12-27</td>\n",
       "      <td>6.0</td>\n",
       "    </tr>\n",
       "    <tr>\n",
       "      <td>16</td>\n",
       "      <td>1001_0</td>\n",
       "      <td>1001</td>\n",
       "      <td>2018-09-06</td>\n",
       "      <td>11.0</td>\n",
       "    </tr>\n",
       "    <tr>\n",
       "      <td>17</td>\n",
       "      <td>1001_1</td>\n",
       "      <td>1001</td>\n",
       "      <td>2018-10-12</td>\n",
       "      <td>1.0</td>\n",
       "    </tr>\n",
       "    <tr>\n",
       "      <td>18</td>\n",
       "      <td>1001_2</td>\n",
       "      <td>1001</td>\n",
       "      <td>2018-10-17</td>\n",
       "      <td>16.0</td>\n",
       "    </tr>\n",
       "    <tr>\n",
       "      <td>19</td>\n",
       "      <td>1001_4</td>\n",
       "      <td>1001</td>\n",
       "      <td>2018-12-05</td>\n",
       "      <td>0.0</td>\n",
       "    </tr>\n",
       "  </tbody>\n",
       "</table>\n",
       "</div>"
      ],
      "text/plain": [
       "          id  user_id  call_date  duration\n",
       "0    1000_93     1000 2018-12-27       9.0\n",
       "1   1000_145     1000 2018-12-27      14.0\n",
       "2   1000_247     1000 2018-12-27      15.0\n",
       "3   1000_309     1000 2018-12-28       6.0\n",
       "4   1000_380     1000 2018-12-30       5.0\n",
       "5   1000_388     1000 2018-12-31       3.0\n",
       "6   1000_510     1000 2018-12-27       6.0\n",
       "7   1000_521     1000 2018-12-28      15.0\n",
       "8   1000_530     1000 2018-12-28       6.0\n",
       "9   1000_544     1000 2018-12-26       5.0\n",
       "10  1000_693     1000 2018-12-31       5.0\n",
       "11  1000_705     1000 2018-12-31      13.0\n",
       "12  1000_735     1000 2018-12-29       2.0\n",
       "13  1000_778     1000 2018-12-28       4.0\n",
       "14  1000_826     1000 2018-12-26      10.0\n",
       "15  1000_842     1000 2018-12-27       6.0\n",
       "16    1001_0     1001 2018-09-06      11.0\n",
       "17    1001_1     1001 2018-10-12       1.0\n",
       "18    1001_2     1001 2018-10-17      16.0\n",
       "19    1001_4     1001 2018-12-05       0.0"
      ]
     },
     "execution_count": 16,
     "metadata": {},
     "output_type": "execute_result"
    }
   ],
   "source": [
    "calls.head(20)"
   ]
  },
  {
   "cell_type": "markdown",
   "metadata": {},
   "source": [
    "While the values in the `'duration'` column have been correctly rounded, let's change their data type to integer. "
   ]
  },
  {
   "cell_type": "code",
   "execution_count": 17,
   "metadata": {},
   "outputs": [
    {
     "data": {
      "text/html": [
       "<div>\n",
       "<style scoped>\n",
       "    .dataframe tbody tr th:only-of-type {\n",
       "        vertical-align: middle;\n",
       "    }\n",
       "\n",
       "    .dataframe tbody tr th {\n",
       "        vertical-align: top;\n",
       "    }\n",
       "\n",
       "    .dataframe thead th {\n",
       "        text-align: right;\n",
       "    }\n",
       "</style>\n",
       "<table border=\"1\" class=\"dataframe\">\n",
       "  <thead>\n",
       "    <tr style=\"text-align: right;\">\n",
       "      <th></th>\n",
       "      <th>id</th>\n",
       "      <th>user_id</th>\n",
       "      <th>call_date</th>\n",
       "      <th>duration</th>\n",
       "    </tr>\n",
       "  </thead>\n",
       "  <tbody>\n",
       "    <tr>\n",
       "      <td>0</td>\n",
       "      <td>1000_93</td>\n",
       "      <td>1000</td>\n",
       "      <td>2018-12-27</td>\n",
       "      <td>9</td>\n",
       "    </tr>\n",
       "    <tr>\n",
       "      <td>1</td>\n",
       "      <td>1000_145</td>\n",
       "      <td>1000</td>\n",
       "      <td>2018-12-27</td>\n",
       "      <td>14</td>\n",
       "    </tr>\n",
       "    <tr>\n",
       "      <td>2</td>\n",
       "      <td>1000_247</td>\n",
       "      <td>1000</td>\n",
       "      <td>2018-12-27</td>\n",
       "      <td>15</td>\n",
       "    </tr>\n",
       "    <tr>\n",
       "      <td>3</td>\n",
       "      <td>1000_309</td>\n",
       "      <td>1000</td>\n",
       "      <td>2018-12-28</td>\n",
       "      <td>6</td>\n",
       "    </tr>\n",
       "    <tr>\n",
       "      <td>4</td>\n",
       "      <td>1000_380</td>\n",
       "      <td>1000</td>\n",
       "      <td>2018-12-30</td>\n",
       "      <td>5</td>\n",
       "    </tr>\n",
       "    <tr>\n",
       "      <td>5</td>\n",
       "      <td>1000_388</td>\n",
       "      <td>1000</td>\n",
       "      <td>2018-12-31</td>\n",
       "      <td>3</td>\n",
       "    </tr>\n",
       "    <tr>\n",
       "      <td>6</td>\n",
       "      <td>1000_510</td>\n",
       "      <td>1000</td>\n",
       "      <td>2018-12-27</td>\n",
       "      <td>6</td>\n",
       "    </tr>\n",
       "    <tr>\n",
       "      <td>7</td>\n",
       "      <td>1000_521</td>\n",
       "      <td>1000</td>\n",
       "      <td>2018-12-28</td>\n",
       "      <td>15</td>\n",
       "    </tr>\n",
       "    <tr>\n",
       "      <td>8</td>\n",
       "      <td>1000_530</td>\n",
       "      <td>1000</td>\n",
       "      <td>2018-12-28</td>\n",
       "      <td>6</td>\n",
       "    </tr>\n",
       "    <tr>\n",
       "      <td>9</td>\n",
       "      <td>1000_544</td>\n",
       "      <td>1000</td>\n",
       "      <td>2018-12-26</td>\n",
       "      <td>5</td>\n",
       "    </tr>\n",
       "    <tr>\n",
       "      <td>10</td>\n",
       "      <td>1000_693</td>\n",
       "      <td>1000</td>\n",
       "      <td>2018-12-31</td>\n",
       "      <td>5</td>\n",
       "    </tr>\n",
       "    <tr>\n",
       "      <td>11</td>\n",
       "      <td>1000_705</td>\n",
       "      <td>1000</td>\n",
       "      <td>2018-12-31</td>\n",
       "      <td>13</td>\n",
       "    </tr>\n",
       "    <tr>\n",
       "      <td>12</td>\n",
       "      <td>1000_735</td>\n",
       "      <td>1000</td>\n",
       "      <td>2018-12-29</td>\n",
       "      <td>2</td>\n",
       "    </tr>\n",
       "    <tr>\n",
       "      <td>13</td>\n",
       "      <td>1000_778</td>\n",
       "      <td>1000</td>\n",
       "      <td>2018-12-28</td>\n",
       "      <td>4</td>\n",
       "    </tr>\n",
       "    <tr>\n",
       "      <td>14</td>\n",
       "      <td>1000_826</td>\n",
       "      <td>1000</td>\n",
       "      <td>2018-12-26</td>\n",
       "      <td>10</td>\n",
       "    </tr>\n",
       "    <tr>\n",
       "      <td>15</td>\n",
       "      <td>1000_842</td>\n",
       "      <td>1000</td>\n",
       "      <td>2018-12-27</td>\n",
       "      <td>6</td>\n",
       "    </tr>\n",
       "    <tr>\n",
       "      <td>16</td>\n",
       "      <td>1001_0</td>\n",
       "      <td>1001</td>\n",
       "      <td>2018-09-06</td>\n",
       "      <td>11</td>\n",
       "    </tr>\n",
       "    <tr>\n",
       "      <td>17</td>\n",
       "      <td>1001_1</td>\n",
       "      <td>1001</td>\n",
       "      <td>2018-10-12</td>\n",
       "      <td>1</td>\n",
       "    </tr>\n",
       "    <tr>\n",
       "      <td>18</td>\n",
       "      <td>1001_2</td>\n",
       "      <td>1001</td>\n",
       "      <td>2018-10-17</td>\n",
       "      <td>16</td>\n",
       "    </tr>\n",
       "    <tr>\n",
       "      <td>19</td>\n",
       "      <td>1001_4</td>\n",
       "      <td>1001</td>\n",
       "      <td>2018-12-05</td>\n",
       "      <td>0</td>\n",
       "    </tr>\n",
       "  </tbody>\n",
       "</table>\n",
       "</div>"
      ],
      "text/plain": [
       "          id  user_id  call_date  duration\n",
       "0    1000_93     1000 2018-12-27         9\n",
       "1   1000_145     1000 2018-12-27        14\n",
       "2   1000_247     1000 2018-12-27        15\n",
       "3   1000_309     1000 2018-12-28         6\n",
       "4   1000_380     1000 2018-12-30         5\n",
       "5   1000_388     1000 2018-12-31         3\n",
       "6   1000_510     1000 2018-12-27         6\n",
       "7   1000_521     1000 2018-12-28        15\n",
       "8   1000_530     1000 2018-12-28         6\n",
       "9   1000_544     1000 2018-12-26         5\n",
       "10  1000_693     1000 2018-12-31         5\n",
       "11  1000_705     1000 2018-12-31        13\n",
       "12  1000_735     1000 2018-12-29         2\n",
       "13  1000_778     1000 2018-12-28         4\n",
       "14  1000_826     1000 2018-12-26        10\n",
       "15  1000_842     1000 2018-12-27         6\n",
       "16    1001_0     1001 2018-09-06        11\n",
       "17    1001_1     1001 2018-10-12         1\n",
       "18    1001_2     1001 2018-10-17        16\n",
       "19    1001_4     1001 2018-12-05         0"
      ]
     },
     "execution_count": 17,
     "metadata": {},
     "output_type": "execute_result"
    }
   ],
   "source": [
    "calls['duration'] = calls['duration'].astype('int')\n",
    "calls.head(20)"
   ]
  },
  {
   "cell_type": "markdown",
   "metadata": {},
   "source": [
    "That completes all corrective actions for the `calls` DataFrame."
   ]
  },
  {
   "cell_type": "markdown",
   "metadata": {},
   "source": [
    "#### Enrich data"
   ]
  },
  {
   "cell_type": "markdown",
   "metadata": {},
   "source": [
    "To aid in analysis later on it would be helpful to have a column or columns specifying the month that each call was made. Knowing the month when each call was made will help calculate how many minutes each client used per month."
   ]
  },
  {
   "cell_type": "code",
   "execution_count": 18,
   "metadata": {},
   "outputs": [],
   "source": [
    "# Initialize a dictionary pairing the numeric value for the month in each datetime object and the string of\n",
    "# the corresponding month\n",
    "\n",
    "# month_dict = {\n",
    "#     1: 'january',\n",
    "#     2: 'february',\n",
    "#     3: 'march',\n",
    "#     4: 'april',\n",
    "#     5: 'may',\n",
    "#     6: 'june',\n",
    "#     7: 'july',\n",
    "#     8: 'august',\n",
    "#     9: 'september',\n",
    "#     10: 'october',\n",
    "#     11: 'november',\n",
    "#     12: 'december',\n",
    "# }"
   ]
  },
  {
   "cell_type": "markdown",
   "metadata": {},
   "source": [
    "<div class=\"alert alert-block alert-success\">\n",
    "<b>Reviewer's comment v1:</b>\n",
    "    \n",
    "You can also use a month_name() here: https://pandas.pydata.org/docs/reference/api/pandas.Series.dt.month_name.html"
   ]
  },
  {
   "cell_type": "markdown",
   "metadata": {},
   "source": [
    "<span style='background:cyan'> Understood! I have commented out the dictionary, removed the 'month_id' column, and used the month_name() method to create a the new column. This significantly simplified my code and made the report much better. I've applied this method to the other DataFrames, as well. Thank you for you suggestion!</span>"
   ]
  },
  {
   "cell_type": "markdown",
   "metadata": {},
   "source": [
    "<div class=\"alert alert-block alert-success\">\n",
    "<b>Reviewer's comment v2</b>\n",
    " \n",
    "🙌"
   ]
  },
  {
   "cell_type": "code",
   "execution_count": 19,
   "metadata": {},
   "outputs": [],
   "source": [
    "# Add a new column to the 'calls' DataFrame that contains the string name for each month\n",
    "\n",
    "calls['month'] = calls['call_date'].dt.month_name()\n"
   ]
  },
  {
   "cell_type": "markdown",
   "metadata": {},
   "source": [
    "<div class=\"alert alert-block alert-warning\">\n",
    "<b>Reviewer's comment v1:</b>\n",
    "    \n",
    "Everything is correct here but usually, it is always helpful to double-check whether we indeed have data within one year/time period. If not then selecting and aggregating data by the month number will cause an issue. So here it is safer to use datetime64[M] which provides a complete date. "
   ]
  },
  {
   "cell_type": "markdown",
   "metadata": {},
   "source": [
    "<span style='background:cyan'> Understood! I will keep that in mind for future work! I looked into the datetime64[M] and didn't understand it too well, so I did not implement it here. I will continue to look at it after re-submitting this project.</span>"
   ]
  },
  {
   "cell_type": "markdown",
   "metadata": {},
   "source": [
    "<div class=\"alert alert-block alert-success\">\n",
    "<b>Reviewer's comment v2</b>\n",
    " \n",
    "Sure and you can check additional examples here: https://numpy.org/doc/stable/reference/arrays.datetime.html"
   ]
  },
  {
   "cell_type": "markdown",
   "metadata": {},
   "source": [
    "Let's see how the new column turned out!"
   ]
  },
  {
   "cell_type": "code",
   "execution_count": 20,
   "metadata": {},
   "outputs": [
    {
     "data": {
      "text/html": [
       "<div>\n",
       "<style scoped>\n",
       "    .dataframe tbody tr th:only-of-type {\n",
       "        vertical-align: middle;\n",
       "    }\n",
       "\n",
       "    .dataframe tbody tr th {\n",
       "        vertical-align: top;\n",
       "    }\n",
       "\n",
       "    .dataframe thead th {\n",
       "        text-align: right;\n",
       "    }\n",
       "</style>\n",
       "<table border=\"1\" class=\"dataframe\">\n",
       "  <thead>\n",
       "    <tr style=\"text-align: right;\">\n",
       "      <th></th>\n",
       "      <th>id</th>\n",
       "      <th>user_id</th>\n",
       "      <th>call_date</th>\n",
       "      <th>duration</th>\n",
       "      <th>month</th>\n",
       "    </tr>\n",
       "  </thead>\n",
       "  <tbody>\n",
       "    <tr>\n",
       "      <td>0</td>\n",
       "      <td>1000_93</td>\n",
       "      <td>1000</td>\n",
       "      <td>2018-12-27</td>\n",
       "      <td>9</td>\n",
       "      <td>December</td>\n",
       "    </tr>\n",
       "    <tr>\n",
       "      <td>1</td>\n",
       "      <td>1000_145</td>\n",
       "      <td>1000</td>\n",
       "      <td>2018-12-27</td>\n",
       "      <td>14</td>\n",
       "      <td>December</td>\n",
       "    </tr>\n",
       "    <tr>\n",
       "      <td>2</td>\n",
       "      <td>1000_247</td>\n",
       "      <td>1000</td>\n",
       "      <td>2018-12-27</td>\n",
       "      <td>15</td>\n",
       "      <td>December</td>\n",
       "    </tr>\n",
       "    <tr>\n",
       "      <td>3</td>\n",
       "      <td>1000_309</td>\n",
       "      <td>1000</td>\n",
       "      <td>2018-12-28</td>\n",
       "      <td>6</td>\n",
       "      <td>December</td>\n",
       "    </tr>\n",
       "    <tr>\n",
       "      <td>4</td>\n",
       "      <td>1000_380</td>\n",
       "      <td>1000</td>\n",
       "      <td>2018-12-30</td>\n",
       "      <td>5</td>\n",
       "      <td>December</td>\n",
       "    </tr>\n",
       "    <tr>\n",
       "      <td>5</td>\n",
       "      <td>1000_388</td>\n",
       "      <td>1000</td>\n",
       "      <td>2018-12-31</td>\n",
       "      <td>3</td>\n",
       "      <td>December</td>\n",
       "    </tr>\n",
       "    <tr>\n",
       "      <td>6</td>\n",
       "      <td>1000_510</td>\n",
       "      <td>1000</td>\n",
       "      <td>2018-12-27</td>\n",
       "      <td>6</td>\n",
       "      <td>December</td>\n",
       "    </tr>\n",
       "    <tr>\n",
       "      <td>7</td>\n",
       "      <td>1000_521</td>\n",
       "      <td>1000</td>\n",
       "      <td>2018-12-28</td>\n",
       "      <td>15</td>\n",
       "      <td>December</td>\n",
       "    </tr>\n",
       "    <tr>\n",
       "      <td>8</td>\n",
       "      <td>1000_530</td>\n",
       "      <td>1000</td>\n",
       "      <td>2018-12-28</td>\n",
       "      <td>6</td>\n",
       "      <td>December</td>\n",
       "    </tr>\n",
       "    <tr>\n",
       "      <td>9</td>\n",
       "      <td>1000_544</td>\n",
       "      <td>1000</td>\n",
       "      <td>2018-12-26</td>\n",
       "      <td>5</td>\n",
       "      <td>December</td>\n",
       "    </tr>\n",
       "    <tr>\n",
       "      <td>10</td>\n",
       "      <td>1000_693</td>\n",
       "      <td>1000</td>\n",
       "      <td>2018-12-31</td>\n",
       "      <td>5</td>\n",
       "      <td>December</td>\n",
       "    </tr>\n",
       "    <tr>\n",
       "      <td>11</td>\n",
       "      <td>1000_705</td>\n",
       "      <td>1000</td>\n",
       "      <td>2018-12-31</td>\n",
       "      <td>13</td>\n",
       "      <td>December</td>\n",
       "    </tr>\n",
       "    <tr>\n",
       "      <td>12</td>\n",
       "      <td>1000_735</td>\n",
       "      <td>1000</td>\n",
       "      <td>2018-12-29</td>\n",
       "      <td>2</td>\n",
       "      <td>December</td>\n",
       "    </tr>\n",
       "    <tr>\n",
       "      <td>13</td>\n",
       "      <td>1000_778</td>\n",
       "      <td>1000</td>\n",
       "      <td>2018-12-28</td>\n",
       "      <td>4</td>\n",
       "      <td>December</td>\n",
       "    </tr>\n",
       "    <tr>\n",
       "      <td>14</td>\n",
       "      <td>1000_826</td>\n",
       "      <td>1000</td>\n",
       "      <td>2018-12-26</td>\n",
       "      <td>10</td>\n",
       "      <td>December</td>\n",
       "    </tr>\n",
       "    <tr>\n",
       "      <td>15</td>\n",
       "      <td>1000_842</td>\n",
       "      <td>1000</td>\n",
       "      <td>2018-12-27</td>\n",
       "      <td>6</td>\n",
       "      <td>December</td>\n",
       "    </tr>\n",
       "    <tr>\n",
       "      <td>16</td>\n",
       "      <td>1001_0</td>\n",
       "      <td>1001</td>\n",
       "      <td>2018-09-06</td>\n",
       "      <td>11</td>\n",
       "      <td>September</td>\n",
       "    </tr>\n",
       "    <tr>\n",
       "      <td>17</td>\n",
       "      <td>1001_1</td>\n",
       "      <td>1001</td>\n",
       "      <td>2018-10-12</td>\n",
       "      <td>1</td>\n",
       "      <td>October</td>\n",
       "    </tr>\n",
       "    <tr>\n",
       "      <td>18</td>\n",
       "      <td>1001_2</td>\n",
       "      <td>1001</td>\n",
       "      <td>2018-10-17</td>\n",
       "      <td>16</td>\n",
       "      <td>October</td>\n",
       "    </tr>\n",
       "    <tr>\n",
       "      <td>19</td>\n",
       "      <td>1001_4</td>\n",
       "      <td>1001</td>\n",
       "      <td>2018-12-05</td>\n",
       "      <td>0</td>\n",
       "      <td>December</td>\n",
       "    </tr>\n",
       "  </tbody>\n",
       "</table>\n",
       "</div>"
      ],
      "text/plain": [
       "          id  user_id  call_date  duration      month\n",
       "0    1000_93     1000 2018-12-27         9   December\n",
       "1   1000_145     1000 2018-12-27        14   December\n",
       "2   1000_247     1000 2018-12-27        15   December\n",
       "3   1000_309     1000 2018-12-28         6   December\n",
       "4   1000_380     1000 2018-12-30         5   December\n",
       "5   1000_388     1000 2018-12-31         3   December\n",
       "6   1000_510     1000 2018-12-27         6   December\n",
       "7   1000_521     1000 2018-12-28        15   December\n",
       "8   1000_530     1000 2018-12-28         6   December\n",
       "9   1000_544     1000 2018-12-26         5   December\n",
       "10  1000_693     1000 2018-12-31         5   December\n",
       "11  1000_705     1000 2018-12-31        13   December\n",
       "12  1000_735     1000 2018-12-29         2   December\n",
       "13  1000_778     1000 2018-12-28         4   December\n",
       "14  1000_826     1000 2018-12-26        10   December\n",
       "15  1000_842     1000 2018-12-27         6   December\n",
       "16    1001_0     1001 2018-09-06        11  September\n",
       "17    1001_1     1001 2018-10-12         1    October\n",
       "18    1001_2     1001 2018-10-17        16    October\n",
       "19    1001_4     1001 2018-12-05         0   December"
      ]
     },
     "execution_count": 20,
     "metadata": {},
     "output_type": "execute_result"
    }
   ],
   "source": [
    "calls.head(20)"
   ]
  },
  {
   "cell_type": "markdown",
   "metadata": {},
   "source": [
    "The DataFrame now contains a column storing the month each call was made as a string value."
   ]
  },
  {
   "cell_type": "markdown",
   "metadata": {},
   "source": [
    "### Messages\n",
    "\n",
    "The `messages` DataFrame is examined below."
   ]
  },
  {
   "cell_type": "code",
   "execution_count": 21,
   "metadata": {},
   "outputs": [
    {
     "name": "stdout",
     "output_type": "stream",
     "text": [
      "<class 'pandas.core.frame.DataFrame'>\n",
      "RangeIndex: 76051 entries, 0 to 76050\n",
      "Data columns (total 3 columns):\n",
      "id              76051 non-null object\n",
      "user_id         76051 non-null int64\n",
      "message_date    76051 non-null object\n",
      "dtypes: int64(1), object(2)\n",
      "memory usage: 1.7+ MB\n"
     ]
    }
   ],
   "source": [
    "# Print the general/summary information about the messages' DataFrame\n",
    "messages.info()\n"
   ]
  },
  {
   "cell_type": "code",
   "execution_count": 22,
   "metadata": {},
   "outputs": [
    {
     "data": {
      "text/html": [
       "<div>\n",
       "<style scoped>\n",
       "    .dataframe tbody tr th:only-of-type {\n",
       "        vertical-align: middle;\n",
       "    }\n",
       "\n",
       "    .dataframe tbody tr th {\n",
       "        vertical-align: top;\n",
       "    }\n",
       "\n",
       "    .dataframe thead th {\n",
       "        text-align: right;\n",
       "    }\n",
       "</style>\n",
       "<table border=\"1\" class=\"dataframe\">\n",
       "  <thead>\n",
       "    <tr style=\"text-align: right;\">\n",
       "      <th></th>\n",
       "      <th>id</th>\n",
       "      <th>user_id</th>\n",
       "      <th>message_date</th>\n",
       "    </tr>\n",
       "  </thead>\n",
       "  <tbody>\n",
       "    <tr>\n",
       "      <td>0</td>\n",
       "      <td>1000_125</td>\n",
       "      <td>1000</td>\n",
       "      <td>2018-12-27</td>\n",
       "    </tr>\n",
       "    <tr>\n",
       "      <td>1</td>\n",
       "      <td>1000_160</td>\n",
       "      <td>1000</td>\n",
       "      <td>2018-12-31</td>\n",
       "    </tr>\n",
       "    <tr>\n",
       "      <td>2</td>\n",
       "      <td>1000_223</td>\n",
       "      <td>1000</td>\n",
       "      <td>2018-12-31</td>\n",
       "    </tr>\n",
       "    <tr>\n",
       "      <td>3</td>\n",
       "      <td>1000_251</td>\n",
       "      <td>1000</td>\n",
       "      <td>2018-12-27</td>\n",
       "    </tr>\n",
       "    <tr>\n",
       "      <td>4</td>\n",
       "      <td>1000_255</td>\n",
       "      <td>1000</td>\n",
       "      <td>2018-12-26</td>\n",
       "    </tr>\n",
       "    <tr>\n",
       "      <td>5</td>\n",
       "      <td>1000_346</td>\n",
       "      <td>1000</td>\n",
       "      <td>2018-12-29</td>\n",
       "    </tr>\n",
       "    <tr>\n",
       "      <td>6</td>\n",
       "      <td>1000_386</td>\n",
       "      <td>1000</td>\n",
       "      <td>2018-12-30</td>\n",
       "    </tr>\n",
       "    <tr>\n",
       "      <td>7</td>\n",
       "      <td>1000_413</td>\n",
       "      <td>1000</td>\n",
       "      <td>2018-12-31</td>\n",
       "    </tr>\n",
       "    <tr>\n",
       "      <td>8</td>\n",
       "      <td>1000_502</td>\n",
       "      <td>1000</td>\n",
       "      <td>2018-12-27</td>\n",
       "    </tr>\n",
       "    <tr>\n",
       "      <td>9</td>\n",
       "      <td>1000_525</td>\n",
       "      <td>1000</td>\n",
       "      <td>2018-12-28</td>\n",
       "    </tr>\n",
       "    <tr>\n",
       "      <td>10</td>\n",
       "      <td>1000_567</td>\n",
       "      <td>1000</td>\n",
       "      <td>2018-12-25</td>\n",
       "    </tr>\n",
       "    <tr>\n",
       "      <td>11</td>\n",
       "      <td>1001_1</td>\n",
       "      <td>1001</td>\n",
       "      <td>2018-11-14</td>\n",
       "    </tr>\n",
       "    <tr>\n",
       "      <td>12</td>\n",
       "      <td>1001_2</td>\n",
       "      <td>1001</td>\n",
       "      <td>2018-08-17</td>\n",
       "    </tr>\n",
       "    <tr>\n",
       "      <td>13</td>\n",
       "      <td>1001_5</td>\n",
       "      <td>1001</td>\n",
       "      <td>2018-12-05</td>\n",
       "    </tr>\n",
       "    <tr>\n",
       "      <td>14</td>\n",
       "      <td>1001_7</td>\n",
       "      <td>1001</td>\n",
       "      <td>2018-11-28</td>\n",
       "    </tr>\n",
       "  </tbody>\n",
       "</table>\n",
       "</div>"
      ],
      "text/plain": [
       "          id  user_id message_date\n",
       "0   1000_125     1000   2018-12-27\n",
       "1   1000_160     1000   2018-12-31\n",
       "2   1000_223     1000   2018-12-31\n",
       "3   1000_251     1000   2018-12-27\n",
       "4   1000_255     1000   2018-12-26\n",
       "5   1000_346     1000   2018-12-29\n",
       "6   1000_386     1000   2018-12-30\n",
       "7   1000_413     1000   2018-12-31\n",
       "8   1000_502     1000   2018-12-27\n",
       "9   1000_525     1000   2018-12-28\n",
       "10  1000_567     1000   2018-12-25\n",
       "11    1001_1     1001   2018-11-14\n",
       "12    1001_2     1001   2018-08-17\n",
       "13    1001_5     1001   2018-12-05\n",
       "14    1001_7     1001   2018-11-28"
      ]
     },
     "execution_count": 22,
     "metadata": {},
     "output_type": "execute_result"
    }
   ],
   "source": [
    "# Print a sample of data for messages\n",
    "messages.head(15)\n"
   ]
  },
  {
   "cell_type": "markdown",
   "metadata": {},
   "source": [
    "As was done with  previous DataFrames, the data type for the `'message_date'` column can be modified to be a datetime object data type. The current data type is the obeject data type, which most likely means the values are strings."
   ]
  },
  {
   "cell_type": "markdown",
   "metadata": {},
   "source": [
    "#### Fix data"
   ]
  },
  {
   "cell_type": "markdown",
   "metadata": {},
   "source": [
    "The below code will modify the string dates in the `'message_date'` column to be datetime object values."
   ]
  },
  {
   "cell_type": "code",
   "execution_count": 23,
   "metadata": {},
   "outputs": [],
   "source": [
    "# Change the data type for the values in the 'message_date' column to be datetime objects\n",
    "\n",
    "messages['message_date'] = pd.to_datetime(messages['message_date'], format='%Y-%m-%d')"
   ]
  },
  {
   "cell_type": "markdown",
   "metadata": {},
   "source": [
    "Let's look at the info for the `messages` DataFrame to ensure that the values are now of the datetime object data type."
   ]
  },
  {
   "cell_type": "code",
   "execution_count": 24,
   "metadata": {},
   "outputs": [
    {
     "name": "stdout",
     "output_type": "stream",
     "text": [
      "<class 'pandas.core.frame.DataFrame'>\n",
      "RangeIndex: 76051 entries, 0 to 76050\n",
      "Data columns (total 3 columns):\n",
      "id              76051 non-null object\n",
      "user_id         76051 non-null int64\n",
      "message_date    76051 non-null datetime64[ns]\n",
      "dtypes: datetime64[ns](1), int64(1), object(1)\n",
      "memory usage: 1.7+ MB\n"
     ]
    }
   ],
   "source": [
    "messages.info()"
   ]
  },
  {
   "cell_type": "markdown",
   "metadata": {},
   "source": [
    "#### Enrich data"
   ]
  },
  {
   "cell_type": "markdown",
   "metadata": {},
   "source": [
    "Again, it will be helpful for future analysis if the month that each messages was sent was stored in a separate column as a string value."
   ]
  },
  {
   "cell_type": "code",
   "execution_count": 25,
   "metadata": {},
   "outputs": [],
   "source": [
    "# Add a new column to the 'messages' DataFrame that contains the string name for each month\n",
    "\n",
    "messages['month'] = messages['message_date'].dt.month_name()"
   ]
  },
  {
   "cell_type": "markdown",
   "metadata": {},
   "source": [
    "Let's take a look at the `messages` DataFrame to ensure the new column was added correctly."
   ]
  },
  {
   "cell_type": "code",
   "execution_count": 26,
   "metadata": {},
   "outputs": [
    {
     "data": {
      "text/html": [
       "<div>\n",
       "<style scoped>\n",
       "    .dataframe tbody tr th:only-of-type {\n",
       "        vertical-align: middle;\n",
       "    }\n",
       "\n",
       "    .dataframe tbody tr th {\n",
       "        vertical-align: top;\n",
       "    }\n",
       "\n",
       "    .dataframe thead th {\n",
       "        text-align: right;\n",
       "    }\n",
       "</style>\n",
       "<table border=\"1\" class=\"dataframe\">\n",
       "  <thead>\n",
       "    <tr style=\"text-align: right;\">\n",
       "      <th></th>\n",
       "      <th>id</th>\n",
       "      <th>user_id</th>\n",
       "      <th>message_date</th>\n",
       "      <th>month</th>\n",
       "    </tr>\n",
       "  </thead>\n",
       "  <tbody>\n",
       "    <tr>\n",
       "      <td>0</td>\n",
       "      <td>1000_125</td>\n",
       "      <td>1000</td>\n",
       "      <td>2018-12-27</td>\n",
       "      <td>December</td>\n",
       "    </tr>\n",
       "    <tr>\n",
       "      <td>1</td>\n",
       "      <td>1000_160</td>\n",
       "      <td>1000</td>\n",
       "      <td>2018-12-31</td>\n",
       "      <td>December</td>\n",
       "    </tr>\n",
       "    <tr>\n",
       "      <td>2</td>\n",
       "      <td>1000_223</td>\n",
       "      <td>1000</td>\n",
       "      <td>2018-12-31</td>\n",
       "      <td>December</td>\n",
       "    </tr>\n",
       "    <tr>\n",
       "      <td>3</td>\n",
       "      <td>1000_251</td>\n",
       "      <td>1000</td>\n",
       "      <td>2018-12-27</td>\n",
       "      <td>December</td>\n",
       "    </tr>\n",
       "    <tr>\n",
       "      <td>4</td>\n",
       "      <td>1000_255</td>\n",
       "      <td>1000</td>\n",
       "      <td>2018-12-26</td>\n",
       "      <td>December</td>\n",
       "    </tr>\n",
       "    <tr>\n",
       "      <td>5</td>\n",
       "      <td>1000_346</td>\n",
       "      <td>1000</td>\n",
       "      <td>2018-12-29</td>\n",
       "      <td>December</td>\n",
       "    </tr>\n",
       "    <tr>\n",
       "      <td>6</td>\n",
       "      <td>1000_386</td>\n",
       "      <td>1000</td>\n",
       "      <td>2018-12-30</td>\n",
       "      <td>December</td>\n",
       "    </tr>\n",
       "    <tr>\n",
       "      <td>7</td>\n",
       "      <td>1000_413</td>\n",
       "      <td>1000</td>\n",
       "      <td>2018-12-31</td>\n",
       "      <td>December</td>\n",
       "    </tr>\n",
       "    <tr>\n",
       "      <td>8</td>\n",
       "      <td>1000_502</td>\n",
       "      <td>1000</td>\n",
       "      <td>2018-12-27</td>\n",
       "      <td>December</td>\n",
       "    </tr>\n",
       "    <tr>\n",
       "      <td>9</td>\n",
       "      <td>1000_525</td>\n",
       "      <td>1000</td>\n",
       "      <td>2018-12-28</td>\n",
       "      <td>December</td>\n",
       "    </tr>\n",
       "    <tr>\n",
       "      <td>10</td>\n",
       "      <td>1000_567</td>\n",
       "      <td>1000</td>\n",
       "      <td>2018-12-25</td>\n",
       "      <td>December</td>\n",
       "    </tr>\n",
       "    <tr>\n",
       "      <td>11</td>\n",
       "      <td>1001_1</td>\n",
       "      <td>1001</td>\n",
       "      <td>2018-11-14</td>\n",
       "      <td>November</td>\n",
       "    </tr>\n",
       "    <tr>\n",
       "      <td>12</td>\n",
       "      <td>1001_2</td>\n",
       "      <td>1001</td>\n",
       "      <td>2018-08-17</td>\n",
       "      <td>August</td>\n",
       "    </tr>\n",
       "    <tr>\n",
       "      <td>13</td>\n",
       "      <td>1001_5</td>\n",
       "      <td>1001</td>\n",
       "      <td>2018-12-05</td>\n",
       "      <td>December</td>\n",
       "    </tr>\n",
       "    <tr>\n",
       "      <td>14</td>\n",
       "      <td>1001_7</td>\n",
       "      <td>1001</td>\n",
       "      <td>2018-11-28</td>\n",
       "      <td>November</td>\n",
       "    </tr>\n",
       "    <tr>\n",
       "      <td>15</td>\n",
       "      <td>1001_9</td>\n",
       "      <td>1001</td>\n",
       "      <td>2018-10-23</td>\n",
       "      <td>October</td>\n",
       "    </tr>\n",
       "    <tr>\n",
       "      <td>16</td>\n",
       "      <td>1001_10</td>\n",
       "      <td>1001</td>\n",
       "      <td>2018-09-01</td>\n",
       "      <td>September</td>\n",
       "    </tr>\n",
       "    <tr>\n",
       "      <td>17</td>\n",
       "      <td>1001_11</td>\n",
       "      <td>1001</td>\n",
       "      <td>2018-11-18</td>\n",
       "      <td>November</td>\n",
       "    </tr>\n",
       "    <tr>\n",
       "      <td>18</td>\n",
       "      <td>1001_17</td>\n",
       "      <td>1001</td>\n",
       "      <td>2018-12-11</td>\n",
       "      <td>December</td>\n",
       "    </tr>\n",
       "    <tr>\n",
       "      <td>19</td>\n",
       "      <td>1001_18</td>\n",
       "      <td>1001</td>\n",
       "      <td>2018-10-01</td>\n",
       "      <td>October</td>\n",
       "    </tr>\n",
       "  </tbody>\n",
       "</table>\n",
       "</div>"
      ],
      "text/plain": [
       "          id  user_id message_date      month\n",
       "0   1000_125     1000   2018-12-27   December\n",
       "1   1000_160     1000   2018-12-31   December\n",
       "2   1000_223     1000   2018-12-31   December\n",
       "3   1000_251     1000   2018-12-27   December\n",
       "4   1000_255     1000   2018-12-26   December\n",
       "5   1000_346     1000   2018-12-29   December\n",
       "6   1000_386     1000   2018-12-30   December\n",
       "7   1000_413     1000   2018-12-31   December\n",
       "8   1000_502     1000   2018-12-27   December\n",
       "9   1000_525     1000   2018-12-28   December\n",
       "10  1000_567     1000   2018-12-25   December\n",
       "11    1001_1     1001   2018-11-14   November\n",
       "12    1001_2     1001   2018-08-17     August\n",
       "13    1001_5     1001   2018-12-05   December\n",
       "14    1001_7     1001   2018-11-28   November\n",
       "15    1001_9     1001   2018-10-23    October\n",
       "16   1001_10     1001   2018-09-01  September\n",
       "17   1001_11     1001   2018-11-18   November\n",
       "18   1001_17     1001   2018-12-11   December\n",
       "19   1001_18     1001   2018-10-01    October"
      ]
     },
     "execution_count": 26,
     "metadata": {},
     "output_type": "execute_result"
    }
   ],
   "source": [
    "messages.head(20)"
   ]
  },
  {
   "cell_type": "markdown",
   "metadata": {},
   "source": [
    "### Internet\n",
    "\n",
    "Finally, let's examine the data in the `internet` DataFrame."
   ]
  },
  {
   "cell_type": "code",
   "execution_count": 27,
   "metadata": {},
   "outputs": [
    {
     "name": "stdout",
     "output_type": "stream",
     "text": [
      "<class 'pandas.core.frame.DataFrame'>\n",
      "RangeIndex: 104825 entries, 0 to 104824\n",
      "Data columns (total 4 columns):\n",
      "id              104825 non-null object\n",
      "user_id         104825 non-null int64\n",
      "session_date    104825 non-null object\n",
      "mb_used         104825 non-null float64\n",
      "dtypes: float64(1), int64(1), object(2)\n",
      "memory usage: 3.2+ MB\n"
     ]
    }
   ],
   "source": [
    "# Print the general/summary information about the internet DataFrame\n",
    "internet.info()\n"
   ]
  },
  {
   "cell_type": "code",
   "execution_count": 28,
   "metadata": {},
   "outputs": [
    {
     "data": {
      "text/html": [
       "<div>\n",
       "<style scoped>\n",
       "    .dataframe tbody tr th:only-of-type {\n",
       "        vertical-align: middle;\n",
       "    }\n",
       "\n",
       "    .dataframe tbody tr th {\n",
       "        vertical-align: top;\n",
       "    }\n",
       "\n",
       "    .dataframe thead th {\n",
       "        text-align: right;\n",
       "    }\n",
       "</style>\n",
       "<table border=\"1\" class=\"dataframe\">\n",
       "  <thead>\n",
       "    <tr style=\"text-align: right;\">\n",
       "      <th></th>\n",
       "      <th>id</th>\n",
       "      <th>user_id</th>\n",
       "      <th>session_date</th>\n",
       "      <th>mb_used</th>\n",
       "    </tr>\n",
       "  </thead>\n",
       "  <tbody>\n",
       "    <tr>\n",
       "      <td>0</td>\n",
       "      <td>1000_13</td>\n",
       "      <td>1000</td>\n",
       "      <td>2018-12-29</td>\n",
       "      <td>89.86</td>\n",
       "    </tr>\n",
       "    <tr>\n",
       "      <td>1</td>\n",
       "      <td>1000_204</td>\n",
       "      <td>1000</td>\n",
       "      <td>2018-12-31</td>\n",
       "      <td>0.00</td>\n",
       "    </tr>\n",
       "    <tr>\n",
       "      <td>2</td>\n",
       "      <td>1000_379</td>\n",
       "      <td>1000</td>\n",
       "      <td>2018-12-28</td>\n",
       "      <td>660.40</td>\n",
       "    </tr>\n",
       "    <tr>\n",
       "      <td>3</td>\n",
       "      <td>1000_413</td>\n",
       "      <td>1000</td>\n",
       "      <td>2018-12-26</td>\n",
       "      <td>270.99</td>\n",
       "    </tr>\n",
       "    <tr>\n",
       "      <td>4</td>\n",
       "      <td>1000_442</td>\n",
       "      <td>1000</td>\n",
       "      <td>2018-12-27</td>\n",
       "      <td>880.22</td>\n",
       "    </tr>\n",
       "    <tr>\n",
       "      <td>5</td>\n",
       "      <td>1001_0</td>\n",
       "      <td>1001</td>\n",
       "      <td>2018-08-24</td>\n",
       "      <td>284.68</td>\n",
       "    </tr>\n",
       "    <tr>\n",
       "      <td>6</td>\n",
       "      <td>1001_3</td>\n",
       "      <td>1001</td>\n",
       "      <td>2018-12-09</td>\n",
       "      <td>656.04</td>\n",
       "    </tr>\n",
       "    <tr>\n",
       "      <td>7</td>\n",
       "      <td>1001_4</td>\n",
       "      <td>1001</td>\n",
       "      <td>2018-11-04</td>\n",
       "      <td>16.97</td>\n",
       "    </tr>\n",
       "    <tr>\n",
       "      <td>8</td>\n",
       "      <td>1001_10</td>\n",
       "      <td>1001</td>\n",
       "      <td>2018-11-27</td>\n",
       "      <td>135.18</td>\n",
       "    </tr>\n",
       "    <tr>\n",
       "      <td>9</td>\n",
       "      <td>1001_15</td>\n",
       "      <td>1001</td>\n",
       "      <td>2018-12-13</td>\n",
       "      <td>761.92</td>\n",
       "    </tr>\n",
       "    <tr>\n",
       "      <td>10</td>\n",
       "      <td>1001_16</td>\n",
       "      <td>1001</td>\n",
       "      <td>2018-10-28</td>\n",
       "      <td>501.53</td>\n",
       "    </tr>\n",
       "    <tr>\n",
       "      <td>11</td>\n",
       "      <td>1001_17</td>\n",
       "      <td>1001</td>\n",
       "      <td>2018-09-05</td>\n",
       "      <td>727.29</td>\n",
       "    </tr>\n",
       "    <tr>\n",
       "      <td>12</td>\n",
       "      <td>1001_24</td>\n",
       "      <td>1001</td>\n",
       "      <td>2018-09-05</td>\n",
       "      <td>622.03</td>\n",
       "    </tr>\n",
       "    <tr>\n",
       "      <td>13</td>\n",
       "      <td>1001_25</td>\n",
       "      <td>1001</td>\n",
       "      <td>2018-10-14</td>\n",
       "      <td>310.43</td>\n",
       "    </tr>\n",
       "    <tr>\n",
       "      <td>14</td>\n",
       "      <td>1001_26</td>\n",
       "      <td>1001</td>\n",
       "      <td>2018-09-17</td>\n",
       "      <td>0.00</td>\n",
       "    </tr>\n",
       "  </tbody>\n",
       "</table>\n",
       "</div>"
      ],
      "text/plain": [
       "          id  user_id session_date  mb_used\n",
       "0    1000_13     1000   2018-12-29    89.86\n",
       "1   1000_204     1000   2018-12-31     0.00\n",
       "2   1000_379     1000   2018-12-28   660.40\n",
       "3   1000_413     1000   2018-12-26   270.99\n",
       "4   1000_442     1000   2018-12-27   880.22\n",
       "5     1001_0     1001   2018-08-24   284.68\n",
       "6     1001_3     1001   2018-12-09   656.04\n",
       "7     1001_4     1001   2018-11-04    16.97\n",
       "8    1001_10     1001   2018-11-27   135.18\n",
       "9    1001_15     1001   2018-12-13   761.92\n",
       "10   1001_16     1001   2018-10-28   501.53\n",
       "11   1001_17     1001   2018-09-05   727.29\n",
       "12   1001_24     1001   2018-09-05   622.03\n",
       "13   1001_25     1001   2018-10-14   310.43\n",
       "14   1001_26     1001   2018-09-17     0.00"
      ]
     },
     "execution_count": 28,
     "metadata": {},
     "output_type": "execute_result"
    }
   ],
   "source": [
    "# Print a sample of data for the internet traffic\n",
    "internet.head(15)\n"
   ]
  },
  {
   "cell_type": "markdown",
   "metadata": {},
   "source": [
    "Much like with the other DataFrame, the data type for the `'session_date'` column needs to be changed to a datetime object data type. No other glaring issues are present in the DataFrame's info or first 15 rows.\n",
    "\n",
    "It should be noted that Megaline rounds internet usage for the month up to the nearest whole GB. Since the values in the `'mb_used'` are for singular instances, they will not be rounded in this DataFrame. Rounding the values will be done at a later time in this report."
   ]
  },
  {
   "cell_type": "markdown",
   "metadata": {},
   "source": [
    "#### Fix data"
   ]
  },
  {
   "cell_type": "markdown",
   "metadata": {},
   "source": [
    "The below code block will modify the values in the `'session_date'` column to be datetime objects."
   ]
  },
  {
   "cell_type": "code",
   "execution_count": 29,
   "metadata": {},
   "outputs": [],
   "source": [
    "internet['session_date'] = pd.to_datetime(internet['session_date'], format='%Y-%m-%d')"
   ]
  },
  {
   "cell_type": "markdown",
   "metadata": {},
   "source": [
    "Let's look at the DataFrame to ensure the data type was correctly changed."
   ]
  },
  {
   "cell_type": "code",
   "execution_count": 30,
   "metadata": {},
   "outputs": [
    {
     "name": "stdout",
     "output_type": "stream",
     "text": [
      "<class 'pandas.core.frame.DataFrame'>\n",
      "RangeIndex: 104825 entries, 0 to 104824\n",
      "Data columns (total 4 columns):\n",
      "id              104825 non-null object\n",
      "user_id         104825 non-null int64\n",
      "session_date    104825 non-null datetime64[ns]\n",
      "mb_used         104825 non-null float64\n",
      "dtypes: datetime64[ns](1), float64(1), int64(1), object(1)\n",
      "memory usage: 3.2+ MB\n"
     ]
    }
   ],
   "source": [
    "internet.info()"
   ]
  },
  {
   "cell_type": "markdown",
   "metadata": {},
   "source": [
    "#### Enrich data"
   ]
  },
  {
   "cell_type": "markdown",
   "metadata": {},
   "source": [
    "Like with the `calls` and `messages` DataFrames, we will add a column to the `internet` DataFrame that contains the string values for the corresponding month of each instance of internet usage."
   ]
  },
  {
   "cell_type": "code",
   "execution_count": 31,
   "metadata": {},
   "outputs": [],
   "source": [
    "# Add a new column to the 'internet' DataFrame that contains the string name for each month\n",
    "\n",
    "internet['month'] = internet['session_date'].dt.month_name()"
   ]
  },
  {
   "cell_type": "markdown",
   "metadata": {},
   "source": [
    "Let's take one last look at the `internet` DataFrame to ensure the columns were added correctly."
   ]
  },
  {
   "cell_type": "code",
   "execution_count": 32,
   "metadata": {},
   "outputs": [
    {
     "data": {
      "text/html": [
       "<div>\n",
       "<style scoped>\n",
       "    .dataframe tbody tr th:only-of-type {\n",
       "        vertical-align: middle;\n",
       "    }\n",
       "\n",
       "    .dataframe tbody tr th {\n",
       "        vertical-align: top;\n",
       "    }\n",
       "\n",
       "    .dataframe thead th {\n",
       "        text-align: right;\n",
       "    }\n",
       "</style>\n",
       "<table border=\"1\" class=\"dataframe\">\n",
       "  <thead>\n",
       "    <tr style=\"text-align: right;\">\n",
       "      <th></th>\n",
       "      <th>id</th>\n",
       "      <th>user_id</th>\n",
       "      <th>session_date</th>\n",
       "      <th>mb_used</th>\n",
       "      <th>month</th>\n",
       "    </tr>\n",
       "  </thead>\n",
       "  <tbody>\n",
       "    <tr>\n",
       "      <td>0</td>\n",
       "      <td>1000_13</td>\n",
       "      <td>1000</td>\n",
       "      <td>2018-12-29</td>\n",
       "      <td>89.86</td>\n",
       "      <td>December</td>\n",
       "    </tr>\n",
       "    <tr>\n",
       "      <td>1</td>\n",
       "      <td>1000_204</td>\n",
       "      <td>1000</td>\n",
       "      <td>2018-12-31</td>\n",
       "      <td>0.00</td>\n",
       "      <td>December</td>\n",
       "    </tr>\n",
       "    <tr>\n",
       "      <td>2</td>\n",
       "      <td>1000_379</td>\n",
       "      <td>1000</td>\n",
       "      <td>2018-12-28</td>\n",
       "      <td>660.40</td>\n",
       "      <td>December</td>\n",
       "    </tr>\n",
       "    <tr>\n",
       "      <td>3</td>\n",
       "      <td>1000_413</td>\n",
       "      <td>1000</td>\n",
       "      <td>2018-12-26</td>\n",
       "      <td>270.99</td>\n",
       "      <td>December</td>\n",
       "    </tr>\n",
       "    <tr>\n",
       "      <td>4</td>\n",
       "      <td>1000_442</td>\n",
       "      <td>1000</td>\n",
       "      <td>2018-12-27</td>\n",
       "      <td>880.22</td>\n",
       "      <td>December</td>\n",
       "    </tr>\n",
       "    <tr>\n",
       "      <td>5</td>\n",
       "      <td>1001_0</td>\n",
       "      <td>1001</td>\n",
       "      <td>2018-08-24</td>\n",
       "      <td>284.68</td>\n",
       "      <td>August</td>\n",
       "    </tr>\n",
       "    <tr>\n",
       "      <td>6</td>\n",
       "      <td>1001_3</td>\n",
       "      <td>1001</td>\n",
       "      <td>2018-12-09</td>\n",
       "      <td>656.04</td>\n",
       "      <td>December</td>\n",
       "    </tr>\n",
       "    <tr>\n",
       "      <td>7</td>\n",
       "      <td>1001_4</td>\n",
       "      <td>1001</td>\n",
       "      <td>2018-11-04</td>\n",
       "      <td>16.97</td>\n",
       "      <td>November</td>\n",
       "    </tr>\n",
       "    <tr>\n",
       "      <td>8</td>\n",
       "      <td>1001_10</td>\n",
       "      <td>1001</td>\n",
       "      <td>2018-11-27</td>\n",
       "      <td>135.18</td>\n",
       "      <td>November</td>\n",
       "    </tr>\n",
       "    <tr>\n",
       "      <td>9</td>\n",
       "      <td>1001_15</td>\n",
       "      <td>1001</td>\n",
       "      <td>2018-12-13</td>\n",
       "      <td>761.92</td>\n",
       "      <td>December</td>\n",
       "    </tr>\n",
       "    <tr>\n",
       "      <td>10</td>\n",
       "      <td>1001_16</td>\n",
       "      <td>1001</td>\n",
       "      <td>2018-10-28</td>\n",
       "      <td>501.53</td>\n",
       "      <td>October</td>\n",
       "    </tr>\n",
       "    <tr>\n",
       "      <td>11</td>\n",
       "      <td>1001_17</td>\n",
       "      <td>1001</td>\n",
       "      <td>2018-09-05</td>\n",
       "      <td>727.29</td>\n",
       "      <td>September</td>\n",
       "    </tr>\n",
       "    <tr>\n",
       "      <td>12</td>\n",
       "      <td>1001_24</td>\n",
       "      <td>1001</td>\n",
       "      <td>2018-09-05</td>\n",
       "      <td>622.03</td>\n",
       "      <td>September</td>\n",
       "    </tr>\n",
       "    <tr>\n",
       "      <td>13</td>\n",
       "      <td>1001_25</td>\n",
       "      <td>1001</td>\n",
       "      <td>2018-10-14</td>\n",
       "      <td>310.43</td>\n",
       "      <td>October</td>\n",
       "    </tr>\n",
       "    <tr>\n",
       "      <td>14</td>\n",
       "      <td>1001_26</td>\n",
       "      <td>1001</td>\n",
       "      <td>2018-09-17</td>\n",
       "      <td>0.00</td>\n",
       "      <td>September</td>\n",
       "    </tr>\n",
       "  </tbody>\n",
       "</table>\n",
       "</div>"
      ],
      "text/plain": [
       "          id  user_id session_date  mb_used      month\n",
       "0    1000_13     1000   2018-12-29    89.86   December\n",
       "1   1000_204     1000   2018-12-31     0.00   December\n",
       "2   1000_379     1000   2018-12-28   660.40   December\n",
       "3   1000_413     1000   2018-12-26   270.99   December\n",
       "4   1000_442     1000   2018-12-27   880.22   December\n",
       "5     1001_0     1001   2018-08-24   284.68     August\n",
       "6     1001_3     1001   2018-12-09   656.04   December\n",
       "7     1001_4     1001   2018-11-04    16.97   November\n",
       "8    1001_10     1001   2018-11-27   135.18   November\n",
       "9    1001_15     1001   2018-12-13   761.92   December\n",
       "10   1001_16     1001   2018-10-28   501.53    October\n",
       "11   1001_17     1001   2018-09-05   727.29  September\n",
       "12   1001_24     1001   2018-09-05   622.03  September\n",
       "13   1001_25     1001   2018-10-14   310.43    October\n",
       "14   1001_26     1001   2018-09-17     0.00  September"
      ]
     },
     "execution_count": 32,
     "metadata": {},
     "output_type": "execute_result"
    }
   ],
   "source": [
    "internet.head(15)"
   ]
  },
  {
   "cell_type": "markdown",
   "metadata": {},
   "source": [
    "## Study plan conditions"
   ]
  },
  {
   "cell_type": "markdown",
   "metadata": {},
   "source": [
    "Let's review the prepaid plan options one more time before diving into the analysis."
   ]
  },
  {
   "cell_type": "code",
   "execution_count": 33,
   "metadata": {},
   "outputs": [
    {
     "data": {
      "text/html": [
       "<div>\n",
       "<style scoped>\n",
       "    .dataframe tbody tr th:only-of-type {\n",
       "        vertical-align: middle;\n",
       "    }\n",
       "\n",
       "    .dataframe tbody tr th {\n",
       "        vertical-align: top;\n",
       "    }\n",
       "\n",
       "    .dataframe thead th {\n",
       "        text-align: right;\n",
       "    }\n",
       "</style>\n",
       "<table border=\"1\" class=\"dataframe\">\n",
       "  <thead>\n",
       "    <tr style=\"text-align: right;\">\n",
       "      <th></th>\n",
       "      <th>messages_included</th>\n",
       "      <th>mb_per_month_included</th>\n",
       "      <th>minutes_included</th>\n",
       "      <th>usd_monthly_pay</th>\n",
       "      <th>usd_per_gb</th>\n",
       "      <th>usd_per_message</th>\n",
       "      <th>usd_per_minute</th>\n",
       "      <th>plan_name</th>\n",
       "    </tr>\n",
       "  </thead>\n",
       "  <tbody>\n",
       "    <tr>\n",
       "      <td>0</td>\n",
       "      <td>50</td>\n",
       "      <td>15360</td>\n",
       "      <td>500</td>\n",
       "      <td>20</td>\n",
       "      <td>10</td>\n",
       "      <td>0.03</td>\n",
       "      <td>0.03</td>\n",
       "      <td>surf</td>\n",
       "    </tr>\n",
       "    <tr>\n",
       "      <td>1</td>\n",
       "      <td>1000</td>\n",
       "      <td>30720</td>\n",
       "      <td>3000</td>\n",
       "      <td>70</td>\n",
       "      <td>7</td>\n",
       "      <td>0.01</td>\n",
       "      <td>0.01</td>\n",
       "      <td>ultimate</td>\n",
       "    </tr>\n",
       "  </tbody>\n",
       "</table>\n",
       "</div>"
      ],
      "text/plain": [
       "   messages_included  mb_per_month_included  minutes_included  \\\n",
       "0                 50                  15360               500   \n",
       "1               1000                  30720              3000   \n",
       "\n",
       "   usd_monthly_pay  usd_per_gb  usd_per_message  usd_per_minute plan_name  \n",
       "0               20          10             0.03            0.03      surf  \n",
       "1               70           7             0.01            0.01  ultimate  "
      ]
     },
     "execution_count": 33,
     "metadata": {},
     "output_type": "execute_result"
    }
   ],
   "source": [
    "# Print out the plan conditions and make sure they are clear for you\n",
    "plans.head()\n"
   ]
  },
  {
   "cell_type": "markdown",
   "metadata": {},
   "source": [
    "<div class=\"alert alert-success\">\n",
    "<b>Reviewer's comment v1:</b>\n",
    "    \n",
    "Good start and very detailed data preprocessing. "
   ]
  },
  {
   "cell_type": "markdown",
   "metadata": {},
   "source": [
    "## Aggregate data per user\n",
    "\n",
    "With the data in the DataFrames prepared and curated for analysis, it's time to begin aggregating the data. We will calculate the number of calls made, minutes used, messages sent, and megabytes of internet used per user each month. To start, we'll calculate the number of calls made by each client per month. The resulting pivot table will be stored in the `call_results` variable."
   ]
  },
  {
   "cell_type": "code",
   "execution_count": 34,
   "metadata": {},
   "outputs": [
    {
     "data": {
      "text/html": [
       "<div>\n",
       "<style scoped>\n",
       "    .dataframe tbody tr th:only-of-type {\n",
       "        vertical-align: middle;\n",
       "    }\n",
       "\n",
       "    .dataframe tbody tr th {\n",
       "        vertical-align: top;\n",
       "    }\n",
       "\n",
       "    .dataframe thead th {\n",
       "        text-align: right;\n",
       "    }\n",
       "</style>\n",
       "<table border=\"1\" class=\"dataframe\">\n",
       "  <thead>\n",
       "    <tr style=\"text-align: right;\">\n",
       "      <th></th>\n",
       "      <th></th>\n",
       "      <th>id</th>\n",
       "    </tr>\n",
       "    <tr>\n",
       "      <th>user_id</th>\n",
       "      <th>month</th>\n",
       "      <th></th>\n",
       "    </tr>\n",
       "  </thead>\n",
       "  <tbody>\n",
       "    <tr>\n",
       "      <td>1000</td>\n",
       "      <td>December</td>\n",
       "      <td>16</td>\n",
       "    </tr>\n",
       "    <tr>\n",
       "      <td rowspan=\"4\" valign=\"top\">1001</td>\n",
       "      <td>August</td>\n",
       "      <td>27</td>\n",
       "    </tr>\n",
       "    <tr>\n",
       "      <td>December</td>\n",
       "      <td>56</td>\n",
       "    </tr>\n",
       "    <tr>\n",
       "      <td>November</td>\n",
       "      <td>64</td>\n",
       "    </tr>\n",
       "    <tr>\n",
       "      <td>October</td>\n",
       "      <td>65</td>\n",
       "    </tr>\n",
       "    <tr>\n",
       "      <td>...</td>\n",
       "      <td>...</td>\n",
       "      <td>...</td>\n",
       "    </tr>\n",
       "    <tr>\n",
       "      <td>1498</td>\n",
       "      <td>September</td>\n",
       "      <td>45</td>\n",
       "    </tr>\n",
       "    <tr>\n",
       "      <td rowspan=\"4\" valign=\"top\">1499</td>\n",
       "      <td>December</td>\n",
       "      <td>65</td>\n",
       "    </tr>\n",
       "    <tr>\n",
       "      <td>November</td>\n",
       "      <td>45</td>\n",
       "    </tr>\n",
       "    <tr>\n",
       "      <td>October</td>\n",
       "      <td>53</td>\n",
       "    </tr>\n",
       "    <tr>\n",
       "      <td>September</td>\n",
       "      <td>41</td>\n",
       "    </tr>\n",
       "  </tbody>\n",
       "</table>\n",
       "<p>2258 rows × 1 columns</p>\n",
       "</div>"
      ],
      "text/plain": [
       "                   id\n",
       "user_id month        \n",
       "1000    December   16\n",
       "1001    August     27\n",
       "        December   56\n",
       "        November   64\n",
       "        October    65\n",
       "...                ..\n",
       "1498    September  45\n",
       "1499    December   65\n",
       "        November   45\n",
       "        October    53\n",
       "        September  41\n",
       "\n",
       "[2258 rows x 1 columns]"
      ]
     },
     "execution_count": 34,
     "metadata": {},
     "output_type": "execute_result"
    }
   ],
   "source": [
    "# Calculate the number of calls made by each user per month. Save the results.\n",
    "# Use the calls DataFrame. Groupby user_id and month using a pivot table. Count the number of \n",
    "# instances per month per user.\n",
    "\n",
    "call_results = calls.pivot_table(index=['user_id', 'month'], values='id', aggfunc='count')\n",
    "call_results"
   ]
  },
  {
   "cell_type": "markdown",
   "metadata": {},
   "source": [
    "Next, we'll calculate the total number of minutes each user spent on a call each month. Remember, each call duration was rounded up to the next highest whole minute. The results will be stored into the `minutes_results` variable."
   ]
  },
  {
   "cell_type": "code",
   "execution_count": 35,
   "metadata": {},
   "outputs": [
    {
     "data": {
      "text/html": [
       "<div>\n",
       "<style scoped>\n",
       "    .dataframe tbody tr th:only-of-type {\n",
       "        vertical-align: middle;\n",
       "    }\n",
       "\n",
       "    .dataframe tbody tr th {\n",
       "        vertical-align: top;\n",
       "    }\n",
       "\n",
       "    .dataframe thead th {\n",
       "        text-align: right;\n",
       "    }\n",
       "</style>\n",
       "<table border=\"1\" class=\"dataframe\">\n",
       "  <thead>\n",
       "    <tr style=\"text-align: right;\">\n",
       "      <th></th>\n",
       "      <th></th>\n",
       "      <th>duration</th>\n",
       "    </tr>\n",
       "    <tr>\n",
       "      <th>user_id</th>\n",
       "      <th>month</th>\n",
       "      <th></th>\n",
       "    </tr>\n",
       "  </thead>\n",
       "  <tbody>\n",
       "    <tr>\n",
       "      <td>1000</td>\n",
       "      <td>December</td>\n",
       "      <td>124</td>\n",
       "    </tr>\n",
       "    <tr>\n",
       "      <td rowspan=\"4\" valign=\"top\">1001</td>\n",
       "      <td>August</td>\n",
       "      <td>182</td>\n",
       "    </tr>\n",
       "    <tr>\n",
       "      <td>December</td>\n",
       "      <td>412</td>\n",
       "    </tr>\n",
       "    <tr>\n",
       "      <td>November</td>\n",
       "      <td>426</td>\n",
       "    </tr>\n",
       "    <tr>\n",
       "      <td>October</td>\n",
       "      <td>393</td>\n",
       "    </tr>\n",
       "    <tr>\n",
       "      <td>...</td>\n",
       "      <td>...</td>\n",
       "      <td>...</td>\n",
       "    </tr>\n",
       "    <tr>\n",
       "      <td>1498</td>\n",
       "      <td>September</td>\n",
       "      <td>363</td>\n",
       "    </tr>\n",
       "    <tr>\n",
       "      <td rowspan=\"4\" valign=\"top\">1499</td>\n",
       "      <td>December</td>\n",
       "      <td>496</td>\n",
       "    </tr>\n",
       "    <tr>\n",
       "      <td>November</td>\n",
       "      <td>308</td>\n",
       "    </tr>\n",
       "    <tr>\n",
       "      <td>October</td>\n",
       "      <td>385</td>\n",
       "    </tr>\n",
       "    <tr>\n",
       "      <td>September</td>\n",
       "      <td>346</td>\n",
       "    </tr>\n",
       "  </tbody>\n",
       "</table>\n",
       "<p>2258 rows × 1 columns</p>\n",
       "</div>"
      ],
      "text/plain": [
       "                   duration\n",
       "user_id month              \n",
       "1000    December        124\n",
       "1001    August          182\n",
       "        December        412\n",
       "        November        426\n",
       "        October         393\n",
       "...                     ...\n",
       "1498    September       363\n",
       "1499    December        496\n",
       "        November        308\n",
       "        October         385\n",
       "        September       346\n",
       "\n",
       "[2258 rows x 1 columns]"
      ]
     },
     "execution_count": 35,
     "metadata": {},
     "output_type": "execute_result"
    }
   ],
   "source": [
    "# Calculate the amount of minutes spent by each user per month. Save the result.\n",
    "\n",
    "minutes_results = calls.pivot_table(index=['user_id', 'month'], values='duration', aggfunc='sum')\n",
    "minutes_results"
   ]
  },
  {
   "cell_type": "markdown",
   "metadata": {},
   "source": [
    "<div class=\"alert alert-block alert-warning\">\n",
    "<b>Reviewer's comment v1</b>\n",
    "\n",
    "In pivot_table or groupby it is possible to pass multiple arguments, so here, you can create an aggregated table in one go like this:\n",
    "    \n",
    "    data_calls.groupby(['user_id','month']).agg({'duration' : ('count','sum')}).reset_index()\n",
    "    \n",
    "or \n",
    "    \n",
    "    data_calls.pivot_table(index = ('user_id','month'), values = 'duration', aggfunc = ('count','sum')).reset_index()"
   ]
  },
  {
   "cell_type": "markdown",
   "metadata": {},
   "source": [
    "<span style='background:cyan'> Understood! I will keep that in mind for future work! </span>"
   ]
  },
  {
   "cell_type": "markdown",
   "metadata": {},
   "source": [
    "Next, we'll calculate the number of messages sent by each user per month. The results will be saved in the `message_results` variable."
   ]
  },
  {
   "cell_type": "code",
   "execution_count": 36,
   "metadata": {},
   "outputs": [
    {
     "data": {
      "text/html": [
       "<div>\n",
       "<style scoped>\n",
       "    .dataframe tbody tr th:only-of-type {\n",
       "        vertical-align: middle;\n",
       "    }\n",
       "\n",
       "    .dataframe tbody tr th {\n",
       "        vertical-align: top;\n",
       "    }\n",
       "\n",
       "    .dataframe thead th {\n",
       "        text-align: right;\n",
       "    }\n",
       "</style>\n",
       "<table border=\"1\" class=\"dataframe\">\n",
       "  <thead>\n",
       "    <tr style=\"text-align: right;\">\n",
       "      <th></th>\n",
       "      <th></th>\n",
       "      <th>id</th>\n",
       "    </tr>\n",
       "    <tr>\n",
       "      <th>user_id</th>\n",
       "      <th>month</th>\n",
       "      <th></th>\n",
       "    </tr>\n",
       "  </thead>\n",
       "  <tbody>\n",
       "    <tr>\n",
       "      <td>1000</td>\n",
       "      <td>December</td>\n",
       "      <td>11</td>\n",
       "    </tr>\n",
       "    <tr>\n",
       "      <td rowspan=\"4\" valign=\"top\">1001</td>\n",
       "      <td>August</td>\n",
       "      <td>30</td>\n",
       "    </tr>\n",
       "    <tr>\n",
       "      <td>December</td>\n",
       "      <td>44</td>\n",
       "    </tr>\n",
       "    <tr>\n",
       "      <td>November</td>\n",
       "      <td>36</td>\n",
       "    </tr>\n",
       "    <tr>\n",
       "      <td>October</td>\n",
       "      <td>53</td>\n",
       "    </tr>\n",
       "    <tr>\n",
       "      <td>...</td>\n",
       "      <td>...</td>\n",
       "      <td>...</td>\n",
       "    </tr>\n",
       "    <tr>\n",
       "      <td rowspan=\"4\" valign=\"top\">1496</td>\n",
       "      <td>December</td>\n",
       "      <td>11</td>\n",
       "    </tr>\n",
       "    <tr>\n",
       "      <td>November</td>\n",
       "      <td>13</td>\n",
       "    </tr>\n",
       "    <tr>\n",
       "      <td>October</td>\n",
       "      <td>18</td>\n",
       "    </tr>\n",
       "    <tr>\n",
       "      <td>September</td>\n",
       "      <td>21</td>\n",
       "    </tr>\n",
       "    <tr>\n",
       "      <td>1497</td>\n",
       "      <td>December</td>\n",
       "      <td>50</td>\n",
       "    </tr>\n",
       "  </tbody>\n",
       "</table>\n",
       "<p>1806 rows × 1 columns</p>\n",
       "</div>"
      ],
      "text/plain": [
       "                   id\n",
       "user_id month        \n",
       "1000    December   11\n",
       "1001    August     30\n",
       "        December   44\n",
       "        November   36\n",
       "        October    53\n",
       "...                ..\n",
       "1496    December   11\n",
       "        November   13\n",
       "        October    18\n",
       "        September  21\n",
       "1497    December   50\n",
       "\n",
       "[1806 rows x 1 columns]"
      ]
     },
     "execution_count": 36,
     "metadata": {},
     "output_type": "execute_result"
    }
   ],
   "source": [
    "# Calculate the number of messages sent by each user per month. Save the result.\n",
    "\n",
    "message_results = messages.pivot_table(index=['user_id', 'month'], values='id', aggfunc='count')\n",
    "message_results"
   ]
  },
  {
   "cell_type": "markdown",
   "metadata": {},
   "source": [
    "Next we'll calculate the total number of megabytes of internet used by each user per month, and save the results in the `internet_results` variable. Remember, the instances of internet usage were not rounded to the next highest whole gigabyte, since only the monthly usage is rounded to the next highest whole gigabyte number. The rounding operation will be conducted later on in this report, prior to obtaining any statistical values."
   ]
  },
  {
   "cell_type": "code",
   "execution_count": 37,
   "metadata": {},
   "outputs": [
    {
     "data": {
      "text/html": [
       "<div>\n",
       "<style scoped>\n",
       "    .dataframe tbody tr th:only-of-type {\n",
       "        vertical-align: middle;\n",
       "    }\n",
       "\n",
       "    .dataframe tbody tr th {\n",
       "        vertical-align: top;\n",
       "    }\n",
       "\n",
       "    .dataframe thead th {\n",
       "        text-align: right;\n",
       "    }\n",
       "</style>\n",
       "<table border=\"1\" class=\"dataframe\">\n",
       "  <thead>\n",
       "    <tr style=\"text-align: right;\">\n",
       "      <th></th>\n",
       "      <th></th>\n",
       "      <th>mb_used</th>\n",
       "    </tr>\n",
       "    <tr>\n",
       "      <th>user_id</th>\n",
       "      <th>month</th>\n",
       "      <th></th>\n",
       "    </tr>\n",
       "  </thead>\n",
       "  <tbody>\n",
       "    <tr>\n",
       "      <td>1000</td>\n",
       "      <td>December</td>\n",
       "      <td>1901.47</td>\n",
       "    </tr>\n",
       "    <tr>\n",
       "      <td rowspan=\"4\" valign=\"top\">1001</td>\n",
       "      <td>August</td>\n",
       "      <td>6919.15</td>\n",
       "    </tr>\n",
       "    <tr>\n",
       "      <td>December</td>\n",
       "      <td>19369.18</td>\n",
       "    </tr>\n",
       "    <tr>\n",
       "      <td>November</td>\n",
       "      <td>18504.30</td>\n",
       "    </tr>\n",
       "    <tr>\n",
       "      <td>October</td>\n",
       "      <td>22330.49</td>\n",
       "    </tr>\n",
       "    <tr>\n",
       "      <td>...</td>\n",
       "      <td>...</td>\n",
       "      <td>...</td>\n",
       "    </tr>\n",
       "    <tr>\n",
       "      <td>1498</td>\n",
       "      <td>September</td>\n",
       "      <td>22827.28</td>\n",
       "    </tr>\n",
       "    <tr>\n",
       "      <td rowspan=\"4\" valign=\"top\">1499</td>\n",
       "      <td>December</td>\n",
       "      <td>22059.21</td>\n",
       "    </tr>\n",
       "    <tr>\n",
       "      <td>November</td>\n",
       "      <td>16813.83</td>\n",
       "    </tr>\n",
       "    <tr>\n",
       "      <td>October</td>\n",
       "      <td>19492.43</td>\n",
       "    </tr>\n",
       "    <tr>\n",
       "      <td>September</td>\n",
       "      <td>12984.76</td>\n",
       "    </tr>\n",
       "  </tbody>\n",
       "</table>\n",
       "<p>2277 rows × 1 columns</p>\n",
       "</div>"
      ],
      "text/plain": [
       "                    mb_used\n",
       "user_id month              \n",
       "1000    December    1901.47\n",
       "1001    August      6919.15\n",
       "        December   19369.18\n",
       "        November   18504.30\n",
       "        October    22330.49\n",
       "...                     ...\n",
       "1498    September  22827.28\n",
       "1499    December   22059.21\n",
       "        November   16813.83\n",
       "        October    19492.43\n",
       "        September  12984.76\n",
       "\n",
       "[2277 rows x 1 columns]"
      ]
     },
     "execution_count": 37,
     "metadata": {},
     "output_type": "execute_result"
    }
   ],
   "source": [
    "# Calculate the volume of internet traffic used by each user per month. Save the result.\n",
    "\n",
    "internet_results = internet.pivot_table(index=['user_id', 'month'], values='mb_used', aggfunc='sum')\n",
    "internet_results"
   ]
  },
  {
   "cell_type": "markdown",
   "metadata": {},
   "source": [
    "With all the data aggregated by month for each user, the results will be combined with each other to form one large table. The goal is to end up with a table where each row contains the necessary information to calculate the revenue each month per user. To accomplish this, each pivot table stored above will be merged together on the `'user_id'` and `'month'` columns."
   ]
  },
  {
   "cell_type": "code",
   "execution_count": 38,
   "metadata": {},
   "outputs": [
    {
     "data": {
      "text/html": [
       "<div>\n",
       "<style scoped>\n",
       "    .dataframe tbody tr th:only-of-type {\n",
       "        vertical-align: middle;\n",
       "    }\n",
       "\n",
       "    .dataframe tbody tr th {\n",
       "        vertical-align: top;\n",
       "    }\n",
       "\n",
       "    .dataframe thead th {\n",
       "        text-align: right;\n",
       "    }\n",
       "</style>\n",
       "<table border=\"1\" class=\"dataframe\">\n",
       "  <thead>\n",
       "    <tr style=\"text-align: right;\">\n",
       "      <th></th>\n",
       "      <th>user_id</th>\n",
       "      <th>month</th>\n",
       "      <th>calls</th>\n",
       "      <th>call_minutes</th>\n",
       "      <th>messages</th>\n",
       "      <th>mb_usage</th>\n",
       "    </tr>\n",
       "  </thead>\n",
       "  <tbody>\n",
       "    <tr>\n",
       "      <td>0</td>\n",
       "      <td>1000</td>\n",
       "      <td>December</td>\n",
       "      <td>16.0</td>\n",
       "      <td>124.0</td>\n",
       "      <td>11.0</td>\n",
       "      <td>1901.47</td>\n",
       "    </tr>\n",
       "    <tr>\n",
       "      <td>1</td>\n",
       "      <td>1001</td>\n",
       "      <td>August</td>\n",
       "      <td>27.0</td>\n",
       "      <td>182.0</td>\n",
       "      <td>30.0</td>\n",
       "      <td>6919.15</td>\n",
       "    </tr>\n",
       "    <tr>\n",
       "      <td>2</td>\n",
       "      <td>1001</td>\n",
       "      <td>December</td>\n",
       "      <td>56.0</td>\n",
       "      <td>412.0</td>\n",
       "      <td>44.0</td>\n",
       "      <td>19369.18</td>\n",
       "    </tr>\n",
       "    <tr>\n",
       "      <td>3</td>\n",
       "      <td>1001</td>\n",
       "      <td>November</td>\n",
       "      <td>64.0</td>\n",
       "      <td>426.0</td>\n",
       "      <td>36.0</td>\n",
       "      <td>18504.30</td>\n",
       "    </tr>\n",
       "    <tr>\n",
       "      <td>4</td>\n",
       "      <td>1001</td>\n",
       "      <td>October</td>\n",
       "      <td>65.0</td>\n",
       "      <td>393.0</td>\n",
       "      <td>53.0</td>\n",
       "      <td>22330.49</td>\n",
       "    </tr>\n",
       "    <tr>\n",
       "      <td>...</td>\n",
       "      <td>...</td>\n",
       "      <td>...</td>\n",
       "      <td>...</td>\n",
       "      <td>...</td>\n",
       "      <td>...</td>\n",
       "      <td>...</td>\n",
       "    </tr>\n",
       "    <tr>\n",
       "      <td>2288</td>\n",
       "      <td>1349</td>\n",
       "      <td>October</td>\n",
       "      <td>NaN</td>\n",
       "      <td>NaN</td>\n",
       "      <td>76.0</td>\n",
       "      <td>13093.55</td>\n",
       "    </tr>\n",
       "    <tr>\n",
       "      <td>2289</td>\n",
       "      <td>1361</td>\n",
       "      <td>May</td>\n",
       "      <td>NaN</td>\n",
       "      <td>NaN</td>\n",
       "      <td>2.0</td>\n",
       "      <td>1519.69</td>\n",
       "    </tr>\n",
       "    <tr>\n",
       "      <td>2290</td>\n",
       "      <td>1482</td>\n",
       "      <td>October</td>\n",
       "      <td>NaN</td>\n",
       "      <td>NaN</td>\n",
       "      <td>2.0</td>\n",
       "      <td>NaN</td>\n",
       "    </tr>\n",
       "    <tr>\n",
       "      <td>2291</td>\n",
       "      <td>1108</td>\n",
       "      <td>December</td>\n",
       "      <td>NaN</td>\n",
       "      <td>NaN</td>\n",
       "      <td>NaN</td>\n",
       "      <td>233.17</td>\n",
       "    </tr>\n",
       "    <tr>\n",
       "      <td>2292</td>\n",
       "      <td>1311</td>\n",
       "      <td>June</td>\n",
       "      <td>NaN</td>\n",
       "      <td>NaN</td>\n",
       "      <td>NaN</td>\n",
       "      <td>1498.83</td>\n",
       "    </tr>\n",
       "  </tbody>\n",
       "</table>\n",
       "<p>2293 rows × 6 columns</p>\n",
       "</div>"
      ],
      "text/plain": [
       "      user_id     month  calls  call_minutes  messages  mb_usage\n",
       "0        1000  December   16.0         124.0      11.0   1901.47\n",
       "1        1001    August   27.0         182.0      30.0   6919.15\n",
       "2        1001  December   56.0         412.0      44.0  19369.18\n",
       "3        1001  November   64.0         426.0      36.0  18504.30\n",
       "4        1001   October   65.0         393.0      53.0  22330.49\n",
       "...       ...       ...    ...           ...       ...       ...\n",
       "2288     1349   October    NaN           NaN      76.0  13093.55\n",
       "2289     1361       May    NaN           NaN       2.0   1519.69\n",
       "2290     1482   October    NaN           NaN       2.0       NaN\n",
       "2291     1108  December    NaN           NaN       NaN    233.17\n",
       "2292     1311      June    NaN           NaN       NaN   1498.83\n",
       "\n",
       "[2293 rows x 6 columns]"
      ]
     },
     "execution_count": 38,
     "metadata": {},
     "output_type": "execute_result"
    }
   ],
   "source": [
    "# Merge the data for calls, minutes, messages, internet based on user_id and month\n",
    "merged_tables = call_results.merge(right=minutes_results, how='outer', on=['user_id', 'month'])\n",
    "merged_tables = merged_tables.merge(right=message_results, how='outer', on=['user_id', 'month'])\n",
    "merged_tables = merged_tables.merge(right=internet_results, how='outer', on=['user_id', 'month'])\n",
    "\n",
    "# Rename the tables columns\n",
    "merged_tables.columns = ['calls', 'call_minutes', 'messages', 'mb_usage']\n",
    "\n",
    "# Reset the index\n",
    "merged_tables = merged_tables.reset_index()\n",
    "\n",
    "# Print the merged table\n",
    "merged_tables\n"
   ]
  },
  {
   "cell_type": "markdown",
   "metadata": {},
   "source": [
    "<div class=\"alert alert-block alert-danger\">\n",
    "<b>Reviewer's comment v1:</b>\n",
    "    \n",
    "Here, you need to use another way of joining tables (change how parameter). Now, if users made calls, but did not send messages, it will not be tracked in the new table (the same with the Internet). This will happen because with the left method, we take all the keys from the left table and look for their matches in the right table. If there are unique values in the right table, we will ignore them. For this task, we need to take all the records from the right and left tables. You can see about connections here https://medium.com/@Lexx01/sql-inner--outer-join-64f3862d8540"
   ]
  },
  {
   "cell_type": "markdown",
   "metadata": {},
   "source": [
    "<span style='background:cyan'> Okay! Thak you for pointing that out. I have passed the value 'outer' to the how parameter so that the keys in either table are included regardless of if they match. I know that this is not needed in the first merge line since the two tables deal with the same data, but I have implemented the how parameter in each merge line. </span>\n",
    "\n",
    "<span style='background:cyan'> Since there are now NaN values in the dataset, it can be seen that I was definitely missing out on data using my prior method. Let's go ahead and change all missing values to zero, since that is what they represent</span>"
   ]
  },
  {
   "cell_type": "markdown",
   "metadata": {},
   "source": [
    "<div class=\"alert alert-block alert-success\">\n",
    "<b>Reviewer's comment v2:</b>\n",
    "    \n",
    "Indeed `how = 'outer' can be used here to prevent data loss.\n",
    "    \n",
    "By the way, it is also possible to group 3 tables at once using reduce. You can read about it here: https://www.codegrepper.com/code-examples/python/merge+more+than+2+dataframes+in+pandas"
   ]
  },
  {
   "cell_type": "code",
   "execution_count": 39,
   "metadata": {},
   "outputs": [],
   "source": [
    "merged_tables = merged_tables.fillna(0)"
   ]
  },
  {
   "cell_type": "markdown",
   "metadata": {},
   "source": [
    "<span style='background:cyan'> This table should be much better now. </span>"
   ]
  },
  {
   "cell_type": "markdown",
   "metadata": {},
   "source": [
    "<div class=\"alert alert-block alert-success\">\n",
    "<b>Reviewer's comment v2:</b>\n",
    "    \n",
    "That is also correct."
   ]
  },
  {
   "cell_type": "markdown",
   "metadata": {},
   "source": [
    "Now that the aggregated results have been combined into one table, we now want to add the pricing information for each plan to each row based on which plan the client uses. To do this, we'll merge the combined table above with the `plans` DataFrame. However, there is no easy way to currently do this. So, an intermediate table will need to merged with the `merged_tables` DataFrame first. This table will contain each user_id and the corresponding data plan that they use/used. The user_id values and their corresponding plans can be found in the `plans` DataFrame, so we will simply create an itermediate table of data sliced from the `plans` DataFrame. The table will be stored in the `plan_info` variable."
   ]
  },
  {
   "cell_type": "code",
   "execution_count": 40,
   "metadata": {},
   "outputs": [
    {
     "data": {
      "text/html": [
       "<div>\n",
       "<style scoped>\n",
       "    .dataframe tbody tr th:only-of-type {\n",
       "        vertical-align: middle;\n",
       "    }\n",
       "\n",
       "    .dataframe tbody tr th {\n",
       "        vertical-align: top;\n",
       "    }\n",
       "\n",
       "    .dataframe thead th {\n",
       "        text-align: right;\n",
       "    }\n",
       "</style>\n",
       "<table border=\"1\" class=\"dataframe\">\n",
       "  <thead>\n",
       "    <tr style=\"text-align: right;\">\n",
       "      <th></th>\n",
       "      <th>user_id</th>\n",
       "      <th>plan_name</th>\n",
       "    </tr>\n",
       "  </thead>\n",
       "  <tbody>\n",
       "    <tr>\n",
       "      <td>0</td>\n",
       "      <td>1000</td>\n",
       "      <td>ultimate</td>\n",
       "    </tr>\n",
       "    <tr>\n",
       "      <td>1</td>\n",
       "      <td>1001</td>\n",
       "      <td>surf</td>\n",
       "    </tr>\n",
       "    <tr>\n",
       "      <td>2</td>\n",
       "      <td>1002</td>\n",
       "      <td>surf</td>\n",
       "    </tr>\n",
       "    <tr>\n",
       "      <td>3</td>\n",
       "      <td>1003</td>\n",
       "      <td>surf</td>\n",
       "    </tr>\n",
       "    <tr>\n",
       "      <td>4</td>\n",
       "      <td>1004</td>\n",
       "      <td>surf</td>\n",
       "    </tr>\n",
       "    <tr>\n",
       "      <td>...</td>\n",
       "      <td>...</td>\n",
       "      <td>...</td>\n",
       "    </tr>\n",
       "    <tr>\n",
       "      <td>495</td>\n",
       "      <td>1495</td>\n",
       "      <td>surf</td>\n",
       "    </tr>\n",
       "    <tr>\n",
       "      <td>496</td>\n",
       "      <td>1496</td>\n",
       "      <td>surf</td>\n",
       "    </tr>\n",
       "    <tr>\n",
       "      <td>497</td>\n",
       "      <td>1497</td>\n",
       "      <td>ultimate</td>\n",
       "    </tr>\n",
       "    <tr>\n",
       "      <td>498</td>\n",
       "      <td>1498</td>\n",
       "      <td>surf</td>\n",
       "    </tr>\n",
       "    <tr>\n",
       "      <td>499</td>\n",
       "      <td>1499</td>\n",
       "      <td>surf</td>\n",
       "    </tr>\n",
       "  </tbody>\n",
       "</table>\n",
       "<p>500 rows × 2 columns</p>\n",
       "</div>"
      ],
      "text/plain": [
       "     user_id plan_name\n",
       "0       1000  ultimate\n",
       "1       1001      surf\n",
       "2       1002      surf\n",
       "3       1003      surf\n",
       "4       1004      surf\n",
       "..       ...       ...\n",
       "495     1495      surf\n",
       "496     1496      surf\n",
       "497     1497  ultimate\n",
       "498     1498      surf\n",
       "499     1499      surf\n",
       "\n",
       "[500 rows x 2 columns]"
      ]
     },
     "execution_count": 40,
     "metadata": {},
     "output_type": "execute_result"
    }
   ],
   "source": [
    "plan_info = users[['user_id', 'plan']]\n",
    "plan_info.columns = ['user_id', 'plan_name']\n",
    "plan_info"
   ]
  },
  {
   "cell_type": "markdown",
   "metadata": {},
   "source": [
    "Now we will merge the `plan_info` table with the `merged_tables` table on the `'user_id'` column. The combined table will be displayed underneath."
   ]
  },
  {
   "cell_type": "code",
   "execution_count": 41,
   "metadata": {},
   "outputs": [
    {
     "data": {
      "text/html": [
       "<div>\n",
       "<style scoped>\n",
       "    .dataframe tbody tr th:only-of-type {\n",
       "        vertical-align: middle;\n",
       "    }\n",
       "\n",
       "    .dataframe tbody tr th {\n",
       "        vertical-align: top;\n",
       "    }\n",
       "\n",
       "    .dataframe thead th {\n",
       "        text-align: right;\n",
       "    }\n",
       "</style>\n",
       "<table border=\"1\" class=\"dataframe\">\n",
       "  <thead>\n",
       "    <tr style=\"text-align: right;\">\n",
       "      <th></th>\n",
       "      <th>user_id</th>\n",
       "      <th>month</th>\n",
       "      <th>calls</th>\n",
       "      <th>call_minutes</th>\n",
       "      <th>messages</th>\n",
       "      <th>mb_usage</th>\n",
       "      <th>plan_name</th>\n",
       "    </tr>\n",
       "  </thead>\n",
       "  <tbody>\n",
       "    <tr>\n",
       "      <td>0</td>\n",
       "      <td>1000</td>\n",
       "      <td>December</td>\n",
       "      <td>16.0</td>\n",
       "      <td>124.0</td>\n",
       "      <td>11.0</td>\n",
       "      <td>1901.47</td>\n",
       "      <td>ultimate</td>\n",
       "    </tr>\n",
       "    <tr>\n",
       "      <td>1</td>\n",
       "      <td>1001</td>\n",
       "      <td>August</td>\n",
       "      <td>27.0</td>\n",
       "      <td>182.0</td>\n",
       "      <td>30.0</td>\n",
       "      <td>6919.15</td>\n",
       "      <td>surf</td>\n",
       "    </tr>\n",
       "    <tr>\n",
       "      <td>2</td>\n",
       "      <td>1001</td>\n",
       "      <td>December</td>\n",
       "      <td>56.0</td>\n",
       "      <td>412.0</td>\n",
       "      <td>44.0</td>\n",
       "      <td>19369.18</td>\n",
       "      <td>surf</td>\n",
       "    </tr>\n",
       "    <tr>\n",
       "      <td>3</td>\n",
       "      <td>1001</td>\n",
       "      <td>November</td>\n",
       "      <td>64.0</td>\n",
       "      <td>426.0</td>\n",
       "      <td>36.0</td>\n",
       "      <td>18504.30</td>\n",
       "      <td>surf</td>\n",
       "    </tr>\n",
       "    <tr>\n",
       "      <td>4</td>\n",
       "      <td>1001</td>\n",
       "      <td>October</td>\n",
       "      <td>65.0</td>\n",
       "      <td>393.0</td>\n",
       "      <td>53.0</td>\n",
       "      <td>22330.49</td>\n",
       "      <td>surf</td>\n",
       "    </tr>\n",
       "    <tr>\n",
       "      <td>...</td>\n",
       "      <td>...</td>\n",
       "      <td>...</td>\n",
       "      <td>...</td>\n",
       "      <td>...</td>\n",
       "      <td>...</td>\n",
       "      <td>...</td>\n",
       "      <td>...</td>\n",
       "    </tr>\n",
       "    <tr>\n",
       "      <td>2288</td>\n",
       "      <td>1204</td>\n",
       "      <td>November</td>\n",
       "      <td>0.0</td>\n",
       "      <td>0.0</td>\n",
       "      <td>42.0</td>\n",
       "      <td>21346.95</td>\n",
       "      <td>ultimate</td>\n",
       "    </tr>\n",
       "    <tr>\n",
       "      <td>2289</td>\n",
       "      <td>1349</td>\n",
       "      <td>December</td>\n",
       "      <td>0.0</td>\n",
       "      <td>0.0</td>\n",
       "      <td>61.0</td>\n",
       "      <td>13039.91</td>\n",
       "      <td>surf</td>\n",
       "    </tr>\n",
       "    <tr>\n",
       "      <td>2290</td>\n",
       "      <td>1349</td>\n",
       "      <td>November</td>\n",
       "      <td>0.0</td>\n",
       "      <td>0.0</td>\n",
       "      <td>72.0</td>\n",
       "      <td>17128.26</td>\n",
       "      <td>surf</td>\n",
       "    </tr>\n",
       "    <tr>\n",
       "      <td>2291</td>\n",
       "      <td>1349</td>\n",
       "      <td>October</td>\n",
       "      <td>0.0</td>\n",
       "      <td>0.0</td>\n",
       "      <td>76.0</td>\n",
       "      <td>13093.55</td>\n",
       "      <td>surf</td>\n",
       "    </tr>\n",
       "    <tr>\n",
       "      <td>2292</td>\n",
       "      <td>1108</td>\n",
       "      <td>December</td>\n",
       "      <td>0.0</td>\n",
       "      <td>0.0</td>\n",
       "      <td>0.0</td>\n",
       "      <td>233.17</td>\n",
       "      <td>ultimate</td>\n",
       "    </tr>\n",
       "  </tbody>\n",
       "</table>\n",
       "<p>2293 rows × 7 columns</p>\n",
       "</div>"
      ],
      "text/plain": [
       "      user_id     month  calls  call_minutes  messages  mb_usage plan_name\n",
       "0        1000  December   16.0         124.0      11.0   1901.47  ultimate\n",
       "1        1001    August   27.0         182.0      30.0   6919.15      surf\n",
       "2        1001  December   56.0         412.0      44.0  19369.18      surf\n",
       "3        1001  November   64.0         426.0      36.0  18504.30      surf\n",
       "4        1001   October   65.0         393.0      53.0  22330.49      surf\n",
       "...       ...       ...    ...           ...       ...       ...       ...\n",
       "2288     1204  November    0.0           0.0      42.0  21346.95  ultimate\n",
       "2289     1349  December    0.0           0.0      61.0  13039.91      surf\n",
       "2290     1349  November    0.0           0.0      72.0  17128.26      surf\n",
       "2291     1349   October    0.0           0.0      76.0  13093.55      surf\n",
       "2292     1108  December    0.0           0.0       0.0    233.17  ultimate\n",
       "\n",
       "[2293 rows x 7 columns]"
      ]
     },
     "execution_count": 41,
     "metadata": {},
     "output_type": "execute_result"
    }
   ],
   "source": [
    "# Merge the 'merged_tables' table and the 'plan_info' table on the 'user_id' column\n",
    "merged_tables = merged_tables.merge(right=plan_info, on='user_id')\n",
    "\n",
    "# Display the combined table\n",
    "merged_tables"
   ]
  },
  {
   "cell_type": "markdown",
   "metadata": {},
   "source": [
    "Finally, the `plans` DataFrame will be merged with the `merged_tables` DataFrame on the `'plan_name'` column. The index will also be reset, and the final table will be displayed."
   ]
  },
  {
   "cell_type": "code",
   "execution_count": 42,
   "metadata": {},
   "outputs": [
    {
     "data": {
      "text/html": [
       "<div>\n",
       "<style scoped>\n",
       "    .dataframe tbody tr th:only-of-type {\n",
       "        vertical-align: middle;\n",
       "    }\n",
       "\n",
       "    .dataframe tbody tr th {\n",
       "        vertical-align: top;\n",
       "    }\n",
       "\n",
       "    .dataframe thead th {\n",
       "        text-align: right;\n",
       "    }\n",
       "</style>\n",
       "<table border=\"1\" class=\"dataframe\">\n",
       "  <thead>\n",
       "    <tr style=\"text-align: right;\">\n",
       "      <th></th>\n",
       "      <th>user_id</th>\n",
       "      <th>month</th>\n",
       "      <th>calls</th>\n",
       "      <th>call_minutes</th>\n",
       "      <th>messages</th>\n",
       "      <th>mb_usage</th>\n",
       "      <th>plan_name</th>\n",
       "      <th>messages_included</th>\n",
       "      <th>mb_per_month_included</th>\n",
       "      <th>minutes_included</th>\n",
       "      <th>usd_monthly_pay</th>\n",
       "      <th>usd_per_gb</th>\n",
       "      <th>usd_per_message</th>\n",
       "      <th>usd_per_minute</th>\n",
       "    </tr>\n",
       "  </thead>\n",
       "  <tbody>\n",
       "    <tr>\n",
       "      <td>0</td>\n",
       "      <td>1000</td>\n",
       "      <td>December</td>\n",
       "      <td>16.0</td>\n",
       "      <td>124.0</td>\n",
       "      <td>11.0</td>\n",
       "      <td>1901.47</td>\n",
       "      <td>ultimate</td>\n",
       "      <td>1000</td>\n",
       "      <td>30720</td>\n",
       "      <td>3000</td>\n",
       "      <td>70</td>\n",
       "      <td>7</td>\n",
       "      <td>0.01</td>\n",
       "      <td>0.01</td>\n",
       "    </tr>\n",
       "    <tr>\n",
       "      <td>1</td>\n",
       "      <td>1001</td>\n",
       "      <td>October</td>\n",
       "      <td>65.0</td>\n",
       "      <td>393.0</td>\n",
       "      <td>53.0</td>\n",
       "      <td>22330.49</td>\n",
       "      <td>surf</td>\n",
       "      <td>50</td>\n",
       "      <td>15360</td>\n",
       "      <td>500</td>\n",
       "      <td>20</td>\n",
       "      <td>10</td>\n",
       "      <td>0.03</td>\n",
       "      <td>0.03</td>\n",
       "    </tr>\n",
       "    <tr>\n",
       "      <td>2</td>\n",
       "      <td>1001</td>\n",
       "      <td>September</td>\n",
       "      <td>49.0</td>\n",
       "      <td>315.0</td>\n",
       "      <td>44.0</td>\n",
       "      <td>13314.82</td>\n",
       "      <td>surf</td>\n",
       "      <td>50</td>\n",
       "      <td>15360</td>\n",
       "      <td>500</td>\n",
       "      <td>20</td>\n",
       "      <td>10</td>\n",
       "      <td>0.03</td>\n",
       "      <td>0.03</td>\n",
       "    </tr>\n",
       "    <tr>\n",
       "      <td>3</td>\n",
       "      <td>1001</td>\n",
       "      <td>November</td>\n",
       "      <td>64.0</td>\n",
       "      <td>426.0</td>\n",
       "      <td>36.0</td>\n",
       "      <td>18504.30</td>\n",
       "      <td>surf</td>\n",
       "      <td>50</td>\n",
       "      <td>15360</td>\n",
       "      <td>500</td>\n",
       "      <td>20</td>\n",
       "      <td>10</td>\n",
       "      <td>0.03</td>\n",
       "      <td>0.03</td>\n",
       "    </tr>\n",
       "    <tr>\n",
       "      <td>4</td>\n",
       "      <td>1001</td>\n",
       "      <td>August</td>\n",
       "      <td>27.0</td>\n",
       "      <td>182.0</td>\n",
       "      <td>30.0</td>\n",
       "      <td>6919.15</td>\n",
       "      <td>surf</td>\n",
       "      <td>50</td>\n",
       "      <td>15360</td>\n",
       "      <td>500</td>\n",
       "      <td>20</td>\n",
       "      <td>10</td>\n",
       "      <td>0.03</td>\n",
       "      <td>0.03</td>\n",
       "    </tr>\n",
       "    <tr>\n",
       "      <td>...</td>\n",
       "      <td>...</td>\n",
       "      <td>...</td>\n",
       "      <td>...</td>\n",
       "      <td>...</td>\n",
       "      <td>...</td>\n",
       "      <td>...</td>\n",
       "      <td>...</td>\n",
       "      <td>...</td>\n",
       "      <td>...</td>\n",
       "      <td>...</td>\n",
       "      <td>...</td>\n",
       "      <td>...</td>\n",
       "      <td>...</td>\n",
       "      <td>...</td>\n",
       "    </tr>\n",
       "    <tr>\n",
       "      <td>2288</td>\n",
       "      <td>1498</td>\n",
       "      <td>September</td>\n",
       "      <td>45.0</td>\n",
       "      <td>363.0</td>\n",
       "      <td>0.0</td>\n",
       "      <td>22827.28</td>\n",
       "      <td>surf</td>\n",
       "      <td>50</td>\n",
       "      <td>15360</td>\n",
       "      <td>500</td>\n",
       "      <td>20</td>\n",
       "      <td>10</td>\n",
       "      <td>0.03</td>\n",
       "      <td>0.03</td>\n",
       "    </tr>\n",
       "    <tr>\n",
       "      <td>2289</td>\n",
       "      <td>1499</td>\n",
       "      <td>December</td>\n",
       "      <td>65.0</td>\n",
       "      <td>496.0</td>\n",
       "      <td>0.0</td>\n",
       "      <td>22059.21</td>\n",
       "      <td>surf</td>\n",
       "      <td>50</td>\n",
       "      <td>15360</td>\n",
       "      <td>500</td>\n",
       "      <td>20</td>\n",
       "      <td>10</td>\n",
       "      <td>0.03</td>\n",
       "      <td>0.03</td>\n",
       "    </tr>\n",
       "    <tr>\n",
       "      <td>2290</td>\n",
       "      <td>1499</td>\n",
       "      <td>November</td>\n",
       "      <td>45.0</td>\n",
       "      <td>308.0</td>\n",
       "      <td>0.0</td>\n",
       "      <td>16813.83</td>\n",
       "      <td>surf</td>\n",
       "      <td>50</td>\n",
       "      <td>15360</td>\n",
       "      <td>500</td>\n",
       "      <td>20</td>\n",
       "      <td>10</td>\n",
       "      <td>0.03</td>\n",
       "      <td>0.03</td>\n",
       "    </tr>\n",
       "    <tr>\n",
       "      <td>2291</td>\n",
       "      <td>1499</td>\n",
       "      <td>September</td>\n",
       "      <td>41.0</td>\n",
       "      <td>346.0</td>\n",
       "      <td>0.0</td>\n",
       "      <td>12984.76</td>\n",
       "      <td>surf</td>\n",
       "      <td>50</td>\n",
       "      <td>15360</td>\n",
       "      <td>500</td>\n",
       "      <td>20</td>\n",
       "      <td>10</td>\n",
       "      <td>0.03</td>\n",
       "      <td>0.03</td>\n",
       "    </tr>\n",
       "    <tr>\n",
       "      <td>2292</td>\n",
       "      <td>1499</td>\n",
       "      <td>October</td>\n",
       "      <td>53.0</td>\n",
       "      <td>385.0</td>\n",
       "      <td>0.0</td>\n",
       "      <td>19492.43</td>\n",
       "      <td>surf</td>\n",
       "      <td>50</td>\n",
       "      <td>15360</td>\n",
       "      <td>500</td>\n",
       "      <td>20</td>\n",
       "      <td>10</td>\n",
       "      <td>0.03</td>\n",
       "      <td>0.03</td>\n",
       "    </tr>\n",
       "  </tbody>\n",
       "</table>\n",
       "<p>2293 rows × 14 columns</p>\n",
       "</div>"
      ],
      "text/plain": [
       "      user_id      month  calls  call_minutes  messages  mb_usage plan_name  \\\n",
       "0        1000   December   16.0         124.0      11.0   1901.47  ultimate   \n",
       "1        1001    October   65.0         393.0      53.0  22330.49      surf   \n",
       "2        1001  September   49.0         315.0      44.0  13314.82      surf   \n",
       "3        1001   November   64.0         426.0      36.0  18504.30      surf   \n",
       "4        1001     August   27.0         182.0      30.0   6919.15      surf   \n",
       "...       ...        ...    ...           ...       ...       ...       ...   \n",
       "2288     1498  September   45.0         363.0       0.0  22827.28      surf   \n",
       "2289     1499   December   65.0         496.0       0.0  22059.21      surf   \n",
       "2290     1499   November   45.0         308.0       0.0  16813.83      surf   \n",
       "2291     1499  September   41.0         346.0       0.0  12984.76      surf   \n",
       "2292     1499    October   53.0         385.0       0.0  19492.43      surf   \n",
       "\n",
       "      messages_included  mb_per_month_included  minutes_included  \\\n",
       "0                  1000                  30720              3000   \n",
       "1                    50                  15360               500   \n",
       "2                    50                  15360               500   \n",
       "3                    50                  15360               500   \n",
       "4                    50                  15360               500   \n",
       "...                 ...                    ...               ...   \n",
       "2288                 50                  15360               500   \n",
       "2289                 50                  15360               500   \n",
       "2290                 50                  15360               500   \n",
       "2291                 50                  15360               500   \n",
       "2292                 50                  15360               500   \n",
       "\n",
       "      usd_monthly_pay  usd_per_gb  usd_per_message  usd_per_minute  \n",
       "0                  70           7             0.01            0.01  \n",
       "1                  20          10             0.03            0.03  \n",
       "2                  20          10             0.03            0.03  \n",
       "3                  20          10             0.03            0.03  \n",
       "4                  20          10             0.03            0.03  \n",
       "...               ...         ...              ...             ...  \n",
       "2288               20          10             0.03            0.03  \n",
       "2289               20          10             0.03            0.03  \n",
       "2290               20          10             0.03            0.03  \n",
       "2291               20          10             0.03            0.03  \n",
       "2292               20          10             0.03            0.03  \n",
       "\n",
       "[2293 rows x 14 columns]"
      ]
     },
     "execution_count": 42,
     "metadata": {},
     "output_type": "execute_result"
    }
   ],
   "source": [
    "merged_tables = merged_tables.merge(right=plans, on='plan_name')\n",
    "merged_tables = merged_tables.sort_values(by='user_id').reset_index(drop=True)\n",
    "merged_tables"
   ]
  },
  {
   "cell_type": "markdown",
   "metadata": {},
   "source": [
    "We now have a comprehensive table of the necessary information to calculate the total monthly revenue for each client. To calculate the monthly revenue of each client, we'll need to determine if the clients exceeded their data usage limits or not. If they did, then the difference between their usage and their plan's limit will be calculated and multiplied by the specified rate. This will be done for the minutes, messages, and megabytes used by each client. Once the extra fees, if any, have been calculated, they will be added to the standard montly rate for each plan, giving the final monthly revenue.\n",
    "\n",
    "All the above calculations have been programmed to be executed in the `get_revenue` function below. It should be noted that at this time the monthly internet usage for each client will finally be converted from megabytes to gigabytes, and rounded to the next highest whole gigabyte value."
   ]
  },
  {
   "cell_type": "code",
   "execution_count": 43,
   "metadata": {},
   "outputs": [],
   "source": [
    "# Calculate the monthly revenue for each user\n",
    "def get_revenue(row):\n",
    "    \"\"\"\"\"\"\n",
    "    \n",
    "    # User's usage\n",
    "    minutes = row['call_minutes']\n",
    "    messages = row['messages']\n",
    "    # for internet usage, change from megabytes to gigabytes (keep in binary) and round up to the next highest \n",
    "    # hole gigabyte\n",
    "    internet = math.ceil(row['mb_usage'] * (2**(-10)))\n",
    "    \n",
    "    # Plan limits\n",
    "    minutes_limit = row['minutes_included']\n",
    "    messages_limit = row['messages_included']\n",
    "    # for internet usage, change from megabytes to gigabytes (keep in binary)\n",
    "    internet_limit = row['mb_per_month_included'] * (2**(-10))\n",
    "    \n",
    "    # Fee rates\n",
    "    monthly_rate = row['usd_monthly_pay']\n",
    "    minute_rate = row['usd_per_minute']\n",
    "    message_rate = row['usd_per_message']\n",
    "    internet_rate = row['usd_per_gb']\n",
    "    \n",
    "    # Initialize the revenue values and assign them to 0\n",
    "    minutes_revenue = 0\n",
    "    messages_revenue = 0\n",
    "    internet_revenue = 0\n",
    "    \n",
    "    # Calculating overuse and total revenue\n",
    "    if minutes > minutes_limit:\n",
    "        minutes_revenue = (minutes - minutes_limit) * minute_rate\n",
    "    if messages > messages_limit:\n",
    "        messages_revenue = (messages - messages_limit) * message_rate\n",
    "    if internet > internet_limit:\n",
    "        internet_revenue = (internet - internet_limit) * internet_rate\n",
    "        \n",
    "    total_revenue = monthly_rate + minutes_revenue + messages_revenue + internet_revenue\n",
    "    \n",
    "    return total_revenue\n",
    "        \n",
    "        \n"
   ]
  },
  {
   "cell_type": "markdown",
   "metadata": {},
   "source": [
    "Let's test the above function on a few rows from the `merged_tables` DataFrame."
   ]
  },
  {
   "cell_type": "code",
   "execution_count": 44,
   "metadata": {},
   "outputs": [
    {
     "data": {
      "text/html": [
       "<div>\n",
       "<style scoped>\n",
       "    .dataframe tbody tr th:only-of-type {\n",
       "        vertical-align: middle;\n",
       "    }\n",
       "\n",
       "    .dataframe tbody tr th {\n",
       "        vertical-align: top;\n",
       "    }\n",
       "\n",
       "    .dataframe thead th {\n",
       "        text-align: right;\n",
       "    }\n",
       "</style>\n",
       "<table border=\"1\" class=\"dataframe\">\n",
       "  <thead>\n",
       "    <tr style=\"text-align: right;\">\n",
       "      <th></th>\n",
       "      <th>user_id</th>\n",
       "      <th>month</th>\n",
       "      <th>calls</th>\n",
       "      <th>call_minutes</th>\n",
       "      <th>messages</th>\n",
       "      <th>mb_usage</th>\n",
       "      <th>plan_name</th>\n",
       "      <th>messages_included</th>\n",
       "      <th>mb_per_month_included</th>\n",
       "      <th>minutes_included</th>\n",
       "      <th>usd_monthly_pay</th>\n",
       "      <th>usd_per_gb</th>\n",
       "      <th>usd_per_message</th>\n",
       "      <th>usd_per_minute</th>\n",
       "    </tr>\n",
       "  </thead>\n",
       "  <tbody>\n",
       "    <tr>\n",
       "      <td>5</td>\n",
       "      <td>1001</td>\n",
       "      <td>December</td>\n",
       "      <td>56.0</td>\n",
       "      <td>412.0</td>\n",
       "      <td>44.0</td>\n",
       "      <td>19369.18</td>\n",
       "      <td>surf</td>\n",
       "      <td>50</td>\n",
       "      <td>15360</td>\n",
       "      <td>500</td>\n",
       "      <td>20</td>\n",
       "      <td>10</td>\n",
       "      <td>0.03</td>\n",
       "      <td>0.03</td>\n",
       "    </tr>\n",
       "    <tr>\n",
       "      <td>6</td>\n",
       "      <td>1002</td>\n",
       "      <td>October</td>\n",
       "      <td>11.0</td>\n",
       "      <td>59.0</td>\n",
       "      <td>15.0</td>\n",
       "      <td>6552.01</td>\n",
       "      <td>surf</td>\n",
       "      <td>50</td>\n",
       "      <td>15360</td>\n",
       "      <td>500</td>\n",
       "      <td>20</td>\n",
       "      <td>10</td>\n",
       "      <td>0.03</td>\n",
       "      <td>0.03</td>\n",
       "    </tr>\n",
       "    <tr>\n",
       "      <td>7</td>\n",
       "      <td>1002</td>\n",
       "      <td>November</td>\n",
       "      <td>55.0</td>\n",
       "      <td>386.0</td>\n",
       "      <td>32.0</td>\n",
       "      <td>19345.08</td>\n",
       "      <td>surf</td>\n",
       "      <td>50</td>\n",
       "      <td>15360</td>\n",
       "      <td>500</td>\n",
       "      <td>20</td>\n",
       "      <td>10</td>\n",
       "      <td>0.03</td>\n",
       "      <td>0.03</td>\n",
       "    </tr>\n",
       "    <tr>\n",
       "      <td>8</td>\n",
       "      <td>1002</td>\n",
       "      <td>December</td>\n",
       "      <td>47.0</td>\n",
       "      <td>384.0</td>\n",
       "      <td>41.0</td>\n",
       "      <td>14396.24</td>\n",
       "      <td>surf</td>\n",
       "      <td>50</td>\n",
       "      <td>15360</td>\n",
       "      <td>500</td>\n",
       "      <td>20</td>\n",
       "      <td>10</td>\n",
       "      <td>0.03</td>\n",
       "      <td>0.03</td>\n",
       "    </tr>\n",
       "    <tr>\n",
       "      <td>9</td>\n",
       "      <td>1003</td>\n",
       "      <td>December</td>\n",
       "      <td>149.0</td>\n",
       "      <td>1104.0</td>\n",
       "      <td>50.0</td>\n",
       "      <td>27044.14</td>\n",
       "      <td>surf</td>\n",
       "      <td>50</td>\n",
       "      <td>15360</td>\n",
       "      <td>500</td>\n",
       "      <td>20</td>\n",
       "      <td>10</td>\n",
       "      <td>0.03</td>\n",
       "      <td>0.03</td>\n",
       "    </tr>\n",
       "    <tr>\n",
       "      <td>10</td>\n",
       "      <td>1004</td>\n",
       "      <td>November</td>\n",
       "      <td>54.0</td>\n",
       "      <td>476.0</td>\n",
       "      <td>25.0</td>\n",
       "      <td>21850.78</td>\n",
       "      <td>surf</td>\n",
       "      <td>50</td>\n",
       "      <td>15360</td>\n",
       "      <td>500</td>\n",
       "      <td>20</td>\n",
       "      <td>10</td>\n",
       "      <td>0.03</td>\n",
       "      <td>0.03</td>\n",
       "    </tr>\n",
       "  </tbody>\n",
       "</table>\n",
       "</div>"
      ],
      "text/plain": [
       "    user_id     month  calls  call_minutes  messages  mb_usage plan_name  \\\n",
       "5      1001  December   56.0         412.0      44.0  19369.18      surf   \n",
       "6      1002   October   11.0          59.0      15.0   6552.01      surf   \n",
       "7      1002  November   55.0         386.0      32.0  19345.08      surf   \n",
       "8      1002  December   47.0         384.0      41.0  14396.24      surf   \n",
       "9      1003  December  149.0        1104.0      50.0  27044.14      surf   \n",
       "10     1004  November   54.0         476.0      25.0  21850.78      surf   \n",
       "\n",
       "    messages_included  mb_per_month_included  minutes_included  \\\n",
       "5                  50                  15360               500   \n",
       "6                  50                  15360               500   \n",
       "7                  50                  15360               500   \n",
       "8                  50                  15360               500   \n",
       "9                  50                  15360               500   \n",
       "10                 50                  15360               500   \n",
       "\n",
       "    usd_monthly_pay  usd_per_gb  usd_per_message  usd_per_minute  \n",
       "5                20          10             0.03            0.03  \n",
       "6                20          10             0.03            0.03  \n",
       "7                20          10             0.03            0.03  \n",
       "8                20          10             0.03            0.03  \n",
       "9                20          10             0.03            0.03  \n",
       "10               20          10             0.03            0.03  "
      ]
     },
     "execution_count": 44,
     "metadata": {},
     "output_type": "execute_result"
    }
   ],
   "source": [
    "# Obtain a test sample\n",
    "\n",
    "test_rows = merged_tables.loc[5:10]\n",
    "test_rows"
   ]
  },
  {
   "cell_type": "code",
   "execution_count": 45,
   "metadata": {},
   "outputs": [
    {
     "data": {
      "text/plain": [
       "5      60.00\n",
       "6      20.00\n",
       "7      60.00\n",
       "8      20.00\n",
       "9     158.12\n",
       "10     90.00\n",
       "dtype: float64"
      ]
     },
     "execution_count": 45,
     "metadata": {},
     "output_type": "execute_result"
    }
   ],
   "source": [
    "# Test the above function on the test sample\n",
    "\n",
    "test_rows.apply(get_revenue, axis=1)"
   ]
  },
  {
   "cell_type": "markdown",
   "metadata": {},
   "source": [
    "Now that we've confirmed that the function works, let's apply the function to the entire `merged_tables` DataFrame."
   ]
  },
  {
   "cell_type": "code",
   "execution_count": 46,
   "metadata": {},
   "outputs": [],
   "source": [
    "# Apply the function to the entire DataFrame\n",
    "merged_tables['revenue'] = merged_tables.apply(get_revenue, axis=1)"
   ]
  },
  {
   "cell_type": "code",
   "execution_count": 47,
   "metadata": {},
   "outputs": [
    {
     "data": {
      "text/html": [
       "<div>\n",
       "<style scoped>\n",
       "    .dataframe tbody tr th:only-of-type {\n",
       "        vertical-align: middle;\n",
       "    }\n",
       "\n",
       "    .dataframe tbody tr th {\n",
       "        vertical-align: top;\n",
       "    }\n",
       "\n",
       "    .dataframe thead th {\n",
       "        text-align: right;\n",
       "    }\n",
       "</style>\n",
       "<table border=\"1\" class=\"dataframe\">\n",
       "  <thead>\n",
       "    <tr style=\"text-align: right;\">\n",
       "      <th></th>\n",
       "      <th>user_id</th>\n",
       "      <th>month</th>\n",
       "      <th>calls</th>\n",
       "      <th>call_minutes</th>\n",
       "      <th>messages</th>\n",
       "      <th>mb_usage</th>\n",
       "      <th>plan_name</th>\n",
       "      <th>messages_included</th>\n",
       "      <th>mb_per_month_included</th>\n",
       "      <th>minutes_included</th>\n",
       "      <th>usd_monthly_pay</th>\n",
       "      <th>usd_per_gb</th>\n",
       "      <th>usd_per_message</th>\n",
       "      <th>usd_per_minute</th>\n",
       "      <th>revenue</th>\n",
       "    </tr>\n",
       "  </thead>\n",
       "  <tbody>\n",
       "    <tr>\n",
       "      <td>0</td>\n",
       "      <td>1000</td>\n",
       "      <td>December</td>\n",
       "      <td>16.0</td>\n",
       "      <td>124.0</td>\n",
       "      <td>11.0</td>\n",
       "      <td>1901.47</td>\n",
       "      <td>ultimate</td>\n",
       "      <td>1000</td>\n",
       "      <td>30720</td>\n",
       "      <td>3000</td>\n",
       "      <td>70</td>\n",
       "      <td>7</td>\n",
       "      <td>0.01</td>\n",
       "      <td>0.01</td>\n",
       "      <td>70.00</td>\n",
       "    </tr>\n",
       "    <tr>\n",
       "      <td>1</td>\n",
       "      <td>1001</td>\n",
       "      <td>October</td>\n",
       "      <td>65.0</td>\n",
       "      <td>393.0</td>\n",
       "      <td>53.0</td>\n",
       "      <td>22330.49</td>\n",
       "      <td>surf</td>\n",
       "      <td>50</td>\n",
       "      <td>15360</td>\n",
       "      <td>500</td>\n",
       "      <td>20</td>\n",
       "      <td>10</td>\n",
       "      <td>0.03</td>\n",
       "      <td>0.03</td>\n",
       "      <td>90.09</td>\n",
       "    </tr>\n",
       "    <tr>\n",
       "      <td>2</td>\n",
       "      <td>1001</td>\n",
       "      <td>September</td>\n",
       "      <td>49.0</td>\n",
       "      <td>315.0</td>\n",
       "      <td>44.0</td>\n",
       "      <td>13314.82</td>\n",
       "      <td>surf</td>\n",
       "      <td>50</td>\n",
       "      <td>15360</td>\n",
       "      <td>500</td>\n",
       "      <td>20</td>\n",
       "      <td>10</td>\n",
       "      <td>0.03</td>\n",
       "      <td>0.03</td>\n",
       "      <td>20.00</td>\n",
       "    </tr>\n",
       "    <tr>\n",
       "      <td>3</td>\n",
       "      <td>1001</td>\n",
       "      <td>November</td>\n",
       "      <td>64.0</td>\n",
       "      <td>426.0</td>\n",
       "      <td>36.0</td>\n",
       "      <td>18504.30</td>\n",
       "      <td>surf</td>\n",
       "      <td>50</td>\n",
       "      <td>15360</td>\n",
       "      <td>500</td>\n",
       "      <td>20</td>\n",
       "      <td>10</td>\n",
       "      <td>0.03</td>\n",
       "      <td>0.03</td>\n",
       "      <td>60.00</td>\n",
       "    </tr>\n",
       "    <tr>\n",
       "      <td>4</td>\n",
       "      <td>1001</td>\n",
       "      <td>August</td>\n",
       "      <td>27.0</td>\n",
       "      <td>182.0</td>\n",
       "      <td>30.0</td>\n",
       "      <td>6919.15</td>\n",
       "      <td>surf</td>\n",
       "      <td>50</td>\n",
       "      <td>15360</td>\n",
       "      <td>500</td>\n",
       "      <td>20</td>\n",
       "      <td>10</td>\n",
       "      <td>0.03</td>\n",
       "      <td>0.03</td>\n",
       "      <td>20.00</td>\n",
       "    </tr>\n",
       "    <tr>\n",
       "      <td>5</td>\n",
       "      <td>1001</td>\n",
       "      <td>December</td>\n",
       "      <td>56.0</td>\n",
       "      <td>412.0</td>\n",
       "      <td>44.0</td>\n",
       "      <td>19369.18</td>\n",
       "      <td>surf</td>\n",
       "      <td>50</td>\n",
       "      <td>15360</td>\n",
       "      <td>500</td>\n",
       "      <td>20</td>\n",
       "      <td>10</td>\n",
       "      <td>0.03</td>\n",
       "      <td>0.03</td>\n",
       "      <td>60.00</td>\n",
       "    </tr>\n",
       "    <tr>\n",
       "      <td>6</td>\n",
       "      <td>1002</td>\n",
       "      <td>October</td>\n",
       "      <td>11.0</td>\n",
       "      <td>59.0</td>\n",
       "      <td>15.0</td>\n",
       "      <td>6552.01</td>\n",
       "      <td>surf</td>\n",
       "      <td>50</td>\n",
       "      <td>15360</td>\n",
       "      <td>500</td>\n",
       "      <td>20</td>\n",
       "      <td>10</td>\n",
       "      <td>0.03</td>\n",
       "      <td>0.03</td>\n",
       "      <td>20.00</td>\n",
       "    </tr>\n",
       "    <tr>\n",
       "      <td>7</td>\n",
       "      <td>1002</td>\n",
       "      <td>November</td>\n",
       "      <td>55.0</td>\n",
       "      <td>386.0</td>\n",
       "      <td>32.0</td>\n",
       "      <td>19345.08</td>\n",
       "      <td>surf</td>\n",
       "      <td>50</td>\n",
       "      <td>15360</td>\n",
       "      <td>500</td>\n",
       "      <td>20</td>\n",
       "      <td>10</td>\n",
       "      <td>0.03</td>\n",
       "      <td>0.03</td>\n",
       "      <td>60.00</td>\n",
       "    </tr>\n",
       "    <tr>\n",
       "      <td>8</td>\n",
       "      <td>1002</td>\n",
       "      <td>December</td>\n",
       "      <td>47.0</td>\n",
       "      <td>384.0</td>\n",
       "      <td>41.0</td>\n",
       "      <td>14396.24</td>\n",
       "      <td>surf</td>\n",
       "      <td>50</td>\n",
       "      <td>15360</td>\n",
       "      <td>500</td>\n",
       "      <td>20</td>\n",
       "      <td>10</td>\n",
       "      <td>0.03</td>\n",
       "      <td>0.03</td>\n",
       "      <td>20.00</td>\n",
       "    </tr>\n",
       "    <tr>\n",
       "      <td>9</td>\n",
       "      <td>1003</td>\n",
       "      <td>December</td>\n",
       "      <td>149.0</td>\n",
       "      <td>1104.0</td>\n",
       "      <td>50.0</td>\n",
       "      <td>27044.14</td>\n",
       "      <td>surf</td>\n",
       "      <td>50</td>\n",
       "      <td>15360</td>\n",
       "      <td>500</td>\n",
       "      <td>20</td>\n",
       "      <td>10</td>\n",
       "      <td>0.03</td>\n",
       "      <td>0.03</td>\n",
       "      <td>158.12</td>\n",
       "    </tr>\n",
       "    <tr>\n",
       "      <td>10</td>\n",
       "      <td>1004</td>\n",
       "      <td>November</td>\n",
       "      <td>54.0</td>\n",
       "      <td>476.0</td>\n",
       "      <td>25.0</td>\n",
       "      <td>21850.78</td>\n",
       "      <td>surf</td>\n",
       "      <td>50</td>\n",
       "      <td>15360</td>\n",
       "      <td>500</td>\n",
       "      <td>20</td>\n",
       "      <td>10</td>\n",
       "      <td>0.03</td>\n",
       "      <td>0.03</td>\n",
       "      <td>90.00</td>\n",
       "    </tr>\n",
       "    <tr>\n",
       "      <td>11</td>\n",
       "      <td>1004</td>\n",
       "      <td>July</td>\n",
       "      <td>49.0</td>\n",
       "      <td>381.0</td>\n",
       "      <td>26.0</td>\n",
       "      <td>24516.62</td>\n",
       "      <td>surf</td>\n",
       "      <td>50</td>\n",
       "      <td>15360</td>\n",
       "      <td>500</td>\n",
       "      <td>20</td>\n",
       "      <td>10</td>\n",
       "      <td>0.03</td>\n",
       "      <td>0.03</td>\n",
       "      <td>110.00</td>\n",
       "    </tr>\n",
       "    <tr>\n",
       "      <td>12</td>\n",
       "      <td>1004</td>\n",
       "      <td>December</td>\n",
       "      <td>50.0</td>\n",
       "      <td>427.0</td>\n",
       "      <td>31.0</td>\n",
       "      <td>21389.29</td>\n",
       "      <td>surf</td>\n",
       "      <td>50</td>\n",
       "      <td>15360</td>\n",
       "      <td>500</td>\n",
       "      <td>20</td>\n",
       "      <td>10</td>\n",
       "      <td>0.03</td>\n",
       "      <td>0.03</td>\n",
       "      <td>80.00</td>\n",
       "    </tr>\n",
       "    <tr>\n",
       "      <td>13</td>\n",
       "      <td>1004</td>\n",
       "      <td>August</td>\n",
       "      <td>49.0</td>\n",
       "      <td>354.0</td>\n",
       "      <td>25.0</td>\n",
       "      <td>27981.74</td>\n",
       "      <td>surf</td>\n",
       "      <td>50</td>\n",
       "      <td>15360</td>\n",
       "      <td>500</td>\n",
       "      <td>20</td>\n",
       "      <td>10</td>\n",
       "      <td>0.03</td>\n",
       "      <td>0.03</td>\n",
       "      <td>150.00</td>\n",
       "    </tr>\n",
       "    <tr>\n",
       "      <td>14</td>\n",
       "      <td>1004</td>\n",
       "      <td>June</td>\n",
       "      <td>44.0</td>\n",
       "      <td>275.0</td>\n",
       "      <td>18.0</td>\n",
       "      <td>20672.82</td>\n",
       "      <td>surf</td>\n",
       "      <td>50</td>\n",
       "      <td>15360</td>\n",
       "      <td>500</td>\n",
       "      <td>20</td>\n",
       "      <td>10</td>\n",
       "      <td>0.03</td>\n",
       "      <td>0.03</td>\n",
       "      <td>80.00</td>\n",
       "    </tr>\n",
       "    <tr>\n",
       "      <td>15</td>\n",
       "      <td>1004</td>\n",
       "      <td>May</td>\n",
       "      <td>21.0</td>\n",
       "      <td>193.0</td>\n",
       "      <td>7.0</td>\n",
       "      <td>6547.21</td>\n",
       "      <td>surf</td>\n",
       "      <td>50</td>\n",
       "      <td>15360</td>\n",
       "      <td>500</td>\n",
       "      <td>20</td>\n",
       "      <td>10</td>\n",
       "      <td>0.03</td>\n",
       "      <td>0.03</td>\n",
       "      <td>20.00</td>\n",
       "    </tr>\n",
       "    <tr>\n",
       "      <td>16</td>\n",
       "      <td>1004</td>\n",
       "      <td>October</td>\n",
       "      <td>61.0</td>\n",
       "      <td>365.0</td>\n",
       "      <td>24.0</td>\n",
       "      <td>14541.63</td>\n",
       "      <td>surf</td>\n",
       "      <td>50</td>\n",
       "      <td>15360</td>\n",
       "      <td>500</td>\n",
       "      <td>20</td>\n",
       "      <td>10</td>\n",
       "      <td>0.03</td>\n",
       "      <td>0.03</td>\n",
       "      <td>20.00</td>\n",
       "    </tr>\n",
       "    <tr>\n",
       "      <td>17</td>\n",
       "      <td>1004</td>\n",
       "      <td>September</td>\n",
       "      <td>42.0</td>\n",
       "      <td>301.0</td>\n",
       "      <td>21.0</td>\n",
       "      <td>18852.72</td>\n",
       "      <td>surf</td>\n",
       "      <td>50</td>\n",
       "      <td>15360</td>\n",
       "      <td>500</td>\n",
       "      <td>20</td>\n",
       "      <td>10</td>\n",
       "      <td>0.03</td>\n",
       "      <td>0.03</td>\n",
       "      <td>60.00</td>\n",
       "    </tr>\n",
       "    <tr>\n",
       "      <td>18</td>\n",
       "      <td>1005</td>\n",
       "      <td>December</td>\n",
       "      <td>59.0</td>\n",
       "      <td>496.0</td>\n",
       "      <td>11.0</td>\n",
       "      <td>17140.17</td>\n",
       "      <td>surf</td>\n",
       "      <td>50</td>\n",
       "      <td>15360</td>\n",
       "      <td>500</td>\n",
       "      <td>20</td>\n",
       "      <td>10</td>\n",
       "      <td>0.03</td>\n",
       "      <td>0.03</td>\n",
       "      <td>40.00</td>\n",
       "    </tr>\n",
       "    <tr>\n",
       "      <td>19</td>\n",
       "      <td>1006</td>\n",
       "      <td>December</td>\n",
       "      <td>9.0</td>\n",
       "      <td>59.0</td>\n",
       "      <td>139.0</td>\n",
       "      <td>32118.82</td>\n",
       "      <td>ultimate</td>\n",
       "      <td>1000</td>\n",
       "      <td>30720</td>\n",
       "      <td>3000</td>\n",
       "      <td>70</td>\n",
       "      <td>7</td>\n",
       "      <td>0.01</td>\n",
       "      <td>0.01</td>\n",
       "      <td>84.00</td>\n",
       "    </tr>\n",
       "  </tbody>\n",
       "</table>\n",
       "</div>"
      ],
      "text/plain": [
       "    user_id      month  calls  call_minutes  messages  mb_usage plan_name  \\\n",
       "0      1000   December   16.0         124.0      11.0   1901.47  ultimate   \n",
       "1      1001    October   65.0         393.0      53.0  22330.49      surf   \n",
       "2      1001  September   49.0         315.0      44.0  13314.82      surf   \n",
       "3      1001   November   64.0         426.0      36.0  18504.30      surf   \n",
       "4      1001     August   27.0         182.0      30.0   6919.15      surf   \n",
       "5      1001   December   56.0         412.0      44.0  19369.18      surf   \n",
       "6      1002    October   11.0          59.0      15.0   6552.01      surf   \n",
       "7      1002   November   55.0         386.0      32.0  19345.08      surf   \n",
       "8      1002   December   47.0         384.0      41.0  14396.24      surf   \n",
       "9      1003   December  149.0        1104.0      50.0  27044.14      surf   \n",
       "10     1004   November   54.0         476.0      25.0  21850.78      surf   \n",
       "11     1004       July   49.0         381.0      26.0  24516.62      surf   \n",
       "12     1004   December   50.0         427.0      31.0  21389.29      surf   \n",
       "13     1004     August   49.0         354.0      25.0  27981.74      surf   \n",
       "14     1004       June   44.0         275.0      18.0  20672.82      surf   \n",
       "15     1004        May   21.0         193.0       7.0   6547.21      surf   \n",
       "16     1004    October   61.0         365.0      24.0  14541.63      surf   \n",
       "17     1004  September   42.0         301.0      21.0  18852.72      surf   \n",
       "18     1005   December   59.0         496.0      11.0  17140.17      surf   \n",
       "19     1006   December    9.0          59.0     139.0  32118.82  ultimate   \n",
       "\n",
       "    messages_included  mb_per_month_included  minutes_included  \\\n",
       "0                1000                  30720              3000   \n",
       "1                  50                  15360               500   \n",
       "2                  50                  15360               500   \n",
       "3                  50                  15360               500   \n",
       "4                  50                  15360               500   \n",
       "5                  50                  15360               500   \n",
       "6                  50                  15360               500   \n",
       "7                  50                  15360               500   \n",
       "8                  50                  15360               500   \n",
       "9                  50                  15360               500   \n",
       "10                 50                  15360               500   \n",
       "11                 50                  15360               500   \n",
       "12                 50                  15360               500   \n",
       "13                 50                  15360               500   \n",
       "14                 50                  15360               500   \n",
       "15                 50                  15360               500   \n",
       "16                 50                  15360               500   \n",
       "17                 50                  15360               500   \n",
       "18                 50                  15360               500   \n",
       "19               1000                  30720              3000   \n",
       "\n",
       "    usd_monthly_pay  usd_per_gb  usd_per_message  usd_per_minute  revenue  \n",
       "0                70           7             0.01            0.01    70.00  \n",
       "1                20          10             0.03            0.03    90.09  \n",
       "2                20          10             0.03            0.03    20.00  \n",
       "3                20          10             0.03            0.03    60.00  \n",
       "4                20          10             0.03            0.03    20.00  \n",
       "5                20          10             0.03            0.03    60.00  \n",
       "6                20          10             0.03            0.03    20.00  \n",
       "7                20          10             0.03            0.03    60.00  \n",
       "8                20          10             0.03            0.03    20.00  \n",
       "9                20          10             0.03            0.03   158.12  \n",
       "10               20          10             0.03            0.03    90.00  \n",
       "11               20          10             0.03            0.03   110.00  \n",
       "12               20          10             0.03            0.03    80.00  \n",
       "13               20          10             0.03            0.03   150.00  \n",
       "14               20          10             0.03            0.03    80.00  \n",
       "15               20          10             0.03            0.03    20.00  \n",
       "16               20          10             0.03            0.03    20.00  \n",
       "17               20          10             0.03            0.03    60.00  \n",
       "18               20          10             0.03            0.03    40.00  \n",
       "19               70           7             0.01            0.01    84.00  "
      ]
     },
     "execution_count": 47,
     "metadata": {},
     "output_type": "execute_result"
    }
   ],
   "source": [
    "# Print the combined table with the 'revenue' column now added\n",
    "merged_tables.head(20)"
   ]
  },
  {
   "cell_type": "markdown",
   "metadata": {},
   "source": [
    "<div class=\"alert alert-block alert-warning\">\n",
    "<b>Reviewer's comment v1</b>\n",
    "\n",
    "I can recommend using .head() .tail() .sample() methods to show data from big tables, as in other tools it can cause a very long list of rows without formating."
   ]
  },
  {
   "cell_type": "markdown",
   "metadata": {},
   "source": [
    "<span style='background:cyan'> Incorporated. Sorry about that. </span>"
   ]
  },
  {
   "cell_type": "markdown",
   "metadata": {},
   "source": [
    "The monthly revenue for each client has been calculated and added to the `merged_tables` DataFrame under a new column named `'revenue'`. We now have a completed and comprehensive DataFrame that can be utilized for statistical analysis in the upcoming sections."
   ]
  },
  {
   "cell_type": "markdown",
   "metadata": {},
   "source": [
    "<div class=\"alert alert-success\">\n",
    "<b>Reviewer's comment v1:</b>\n",
    "    \n",
    "Everything is correct here and great that you created a separate function for this. \n",
    "    \n",
    "Btw it is also possible to make the calculation of revenue a little bit differently using np.where - [https://numpy.org/doc/stable/reference/generated/numpy.where.html](https://numpy.org/doc/stable/reference/generated/numpy.where.html)\n",
    "\n",
    "```\n",
    "  np.where ('condition: if exceeding the package limit', 'multiply the difference by the price of additional services', '0')\n",
    "```\n",
    "    \n",
    "Great thing about python is that there are so many libraries and ready-to-use functions. For example, this task can also be solved using `.clip()` (a useful method in many tasks). You can read about it here: [https://www.pythonpool.com/numpy-clip/](https://www.pythonpool.com/numpy-clip/)\n",
    "\n",
    "total5['gb_surcharge'] = (total5['gb_used'] - total5['gb_per_month_included']).clip(0) * total5['usd_per_gb']"
   ]
  },
  {
   "cell_type": "markdown",
   "metadata": {},
   "source": [
    "<span style='background:cyan'> Very cool! I will take a look into that!</span>"
   ]
  },
  {
   "cell_type": "markdown",
   "metadata": {},
   "source": [
    "## Study user behaviour"
   ]
  },
  {
   "cell_type": "markdown",
   "metadata": {},
   "source": [
    "Now that we have a useful table containing all the data and results in one place, let's try to get a better idea of what our data looks like. It is our goal to observe patterns or relationships between columns of data in the `merged_tables` DataFrame and the type of plan that each client is using. The observations will made off of statisical values such as averages (means) and standard deviations, as well as various plots, which will all be taken on a per-plan basis. In this section we will make use of bar charts, histograms, and boxplots in order to visually analyze the data for any interesting phenomenons.\n",
    "\n",
    "To save keystrokes, I will assign the `merged_tables` DataFrame to the variable `df`."
   ]
  },
  {
   "cell_type": "code",
   "execution_count": 48,
   "metadata": {},
   "outputs": [],
   "source": [
    "df = merged_tables"
   ]
  },
  {
   "cell_type": "markdown",
   "metadata": {},
   "source": [
    "### Calls\n",
    "\n",
    "Let's begin by looking at the monthly call minutes per client of each plan. We want to compare the average monthly minutes used by clients from the Surf plan and clients from the Ultimate plan and see if there are any unique behaviours from the two samples. \n",
    "\n",
    "Two bar charts are displayed below. The first bar chart plots the average call minutes used by clients from the Surf plan for each distinct month. The second bar chart also plots the average call minutes used for each distinct month, but for users on the Ultimate plan."
   ]
  },
  {
   "cell_type": "code",
   "execution_count": 49,
   "metadata": {},
   "outputs": [
    {
     "data": {
      "image/png": "[encoded data removed]",
      "text/plain": [
       "<Figure size 1080x720 with 1 Axes>"
      ]
     },
     "metadata": {
      "needs_background": "light"
     },
     "output_type": "display_data"
    }
   ],
   "source": [
    "# Compare average duration of calls per clients from the Surf plan per each distinct month. Plot a bar plot to visualize it.\n",
    "\n",
    "# Chronological order of months for sorting the DataFrame index\n",
    "sort_order = ['January', 'February', 'March', 'April', 'May', 'June', 'July', 'August', 'September', 'October', 'November', 'December']\n",
    "\n",
    "# Obtain the desired data\n",
    "average_surf_call_duration_by_month = round((df[df['plan_name'] == 'surf'].groupby('month')['call_minutes'].mean()),2)\n",
    "\n",
    "# Sort the index by the chronological order of months\n",
    "average_surf_call_duration_by_month.index = pd.CategoricalIndex(average_surf_call_duration_by_month.index, categories=sort_order, ordered=True)\n",
    "average_surf_call_duration_by_month = average_surf_call_duration_by_month.sort_index()\n",
    "\n",
    "# Plot a bar chart\n",
    "average_surf_call_duration_by_month.plot(kind='bar', figsize=(15,10))\n",
    "plt.title('Surf Plan - Average Call Duration')\n",
    "plt.xlabel('Month')\n",
    "plt.ylabel('Minutes')\n",
    "plt.show()\n"
   ]
  },
  {
   "cell_type": "markdown",
   "metadata": {},
   "source": [
    "As can be seen from the above bar chart, the average call minutes used by clients from the Surf plan in January, February, March, and April tend to be lower than for the rest of the months. The range of call minutes used between January and April is roughly between **200** minutes and **375 minutes**. The rest of the months have an average value of around **425** minutes. It's possible that the first few months of the year have such low averages due to clients having just seen family and friends during the holidays, and thus not needing to catch up. It is also a possibility that they have just started a new plan for the new year, and the call minutes collected do not reflect an entire month's worth of calls. \n",
    "\n",
    "It is important to keep in mind that the Surf plan provides its clients with **500** call minutes per month. There were no monthly averages that exceeded the **500** limit, however they definitely got close."
   ]
  },
  {
   "cell_type": "code",
   "execution_count": 50,
   "metadata": {},
   "outputs": [
    {
     "data": {
      "image/png": "[encoded data removed]",
      "text/plain": [
       "<Figure size 1080x720 with 1 Axes>"
      ]
     },
     "metadata": {
      "needs_background": "light"
     },
     "output_type": "display_data"
    }
   ],
   "source": [
    "# Compare average duration of calls per clients from the Ultimate plan per each distinct month. Plot a bar plot to visualize it.\n",
    "\n",
    "# Chronological order of months for sorting the DataFrame index\n",
    "sort_order = ['January', 'February', 'March', 'April', 'May', 'June', 'July', 'August', 'September', 'October', 'November', 'December']\n",
    "\n",
    "# Obtain the desired data\n",
    "average_ultimate_call_duration_by_month = round((df[df['plan_name'] == 'ultimate'].groupby('month')['call_minutes'].mean()),2)\n",
    "\n",
    "# Sort the index by the chronological order of months\n",
    "average_ultimate_call_duration_by_month.index = pd.CategoricalIndex(average_ultimate_call_duration_by_month.index, categories=sort_order, ordered=True)\n",
    "average_ultimate_call_duration_by_month = average_ultimate_call_duration_by_month.sort_index()\n",
    "\n",
    "# Plot a bar chart\n",
    "average_ultimate_call_duration_by_month.plot(kind='bar', figsize=(15,10))\n",
    "plt.title('Ultimate Plan - Average Call Duration')\n",
    "plt.xlabel('Month')\n",
    "plt.ylabel('Minutes')\n",
    "plt.show()"
   ]
  },
  {
   "cell_type": "markdown",
   "metadata": {},
   "source": [
    "The month of January saw the lowest average call minutes used by clients from the Ultimate plan, with an average value of approximately **200** minutes. However, the month of February spiked to an average value of **400** minutes, before the average minutes declined back down to around **300** and **325**, respectively, in the months of March and April. The rest of the months held fairly steady with an average value around **400** minutes. I don't see a logical pattern for the behavior of this data. However, the very low average values of call minutes used in the month of January may be because of clients starting new plans for the new year. Thus, the data collected does not refelct a full month's worth of calls.\n",
    "\n",
    "The Ultimate plan provides its users with **3,000** call minutes per month. No monthly averages came even remotely close to exceeding **3,000** minutes.\n",
    "\n",
    "Now let's compare the number of minutes required each month by users of each plan. Two histograms are plotted on the same chart below. Two datasets are sliced off the `df` (merged_tables) DataFrame based on which plan was/is used by the clients. One data slice containes data for users from the Surf plan, and one data slice contains data for users from the Ultimate plan. The histograms below plot the frequency of the average monthly values for call minutes used by clients of each plan. Both histograms will be plotted on one chart to assist in comparing the two plots."
   ]
  },
  {
   "cell_type": "code",
   "execution_count": 51,
   "metadata": {},
   "outputs": [
    {
     "data": {
      "image/png": "[encoded data removed]",
      "text/plain": [
       "<Figure size 1080x720 with 1 Axes>"
      ]
     },
     "metadata": {
      "needs_background": "light"
     },
     "output_type": "display_data"
    }
   ],
   "source": [
    "# Compare the number of minutes users from the Surf plan require each month. Plot a histogram.\n",
    "\n",
    "df[df['plan_name'] == 'surf']['call_minutes'].hist(bins=50, figsize=(15,10), label='surf')\n",
    "\n",
    "df[df['plan_name'] == 'ultimate']['call_minutes'].hist(bins=50, figsize=(15,10), label='ultimate')\n",
    "plt.title('Frequency of Average Minutes for Both Plan (50 bins)')\n",
    "plt.xlabel('Number of Minutes')\n",
    "plt.ylabel('Frequency')\n",
    "plt.legend()\n",
    "plt.show()"
   ]
  },
  {
   "cell_type": "markdown",
   "metadata": {},
   "source": [
    "The frequency distributions of both datasets loosely resemble that of a Normal distribution. The highest frequency of average call minutes used by clients from either plan appears to be around **425-430** minutes per month. It should be noted that there are more data values to plot for the Surf plan than there are for the Ultimate plan, meaning that either more customers chose the Surf plan, or the customers have been with the Surf plan for a longer period of time (or both). Generally speaking, it appears that the Surf plan is the more popular choice.\n",
    "\n",
    "The important takeaway is that cleints from both plans use a monthly average of approximately **430** minutes. The behavior of the clients and how many minutes they require each month does not differ greatly depending on which plan they are currently using. This doesn't mean much for clients from the Ultimate plan since their plan provides them with **3,000** prepaid minutes. However, **430** used call minutes is getting pretty close to the **500** minute limit provided by the Surf Plan. To optimize revenue, the Surf plan contains more opportunity to charge clients extra than the Ultimate plan does.\n",
    "\n",
    "To confirm these observations and get a little deeper look on the distribution of these datasets, let's calculate the averages and dispersion of each dataset. Belwo, the mean, varaince, and standard deviation are calculated and displayed for the average monthly minutes used by clients from the Surf plan and clients of the Ultimate plan."
   ]
  },
  {
   "cell_type": "code",
   "execution_count": 52,
   "metadata": {},
   "outputs": [
    {
     "name": "stdout",
     "output_type": "stream",
     "text": [
      "SURF DATA:\n",
      "Mean: 408.74\n",
      "Variance: 39628.7\n",
      "Standard Deviation: 199.07\n",
      "\n",
      "ULTIMATE DATA:\n",
      "Mean: 407.96\n",
      "Variance: 39887.29\n",
      "Standard Deviation: 199.72\n"
     ]
    }
   ],
   "source": [
    "# Calculate the mean and the variance of the monthly call duration\n",
    "\n",
    "# Obtain data slices and group\n",
    "surf_data_calls = df[df['plan_name'] == 'surf'].groupby('user_id')['call_minutes'].mean()\n",
    "ultimate_data_calls = df[df['plan_name'] == 'ultimate'].groupby('user_id')['call_minutes'].mean()\n",
    "\n",
    "# Mean\n",
    "surf_mean = round(surf_data_calls.mean(),2)\n",
    "ultimate_mean = round(ultimate_data_calls.mean(),2)\n",
    "\n",
    "# Variance\n",
    "surf_variance = round(np.var(surf_data_calls),2)\n",
    "ultimate_variance = round(np.var(ultimate_data_calls),2)\n",
    "\n",
    "# Standard Deviation\n",
    "surf_std = round(np.std(surf_data_calls),2)\n",
    "ultimate_std = round(np.std(ultimate_data_calls),2)\n",
    "\n",
    "print('SURF DATA:')\n",
    "print(f'Mean: {surf_mean}')\n",
    "print(f'Variance: {surf_variance}')\n",
    "print(f'Standard Deviation: {surf_std}')\n",
    "print()\n",
    "print('ULTIMATE DATA:')\n",
    "print(f'Mean: {ultimate_mean}')\n",
    "print(f'Variance: {ultimate_variance}')\n",
    "print(f'Standard Deviation: {ultimate_std}')\n"
   ]
  },
  {
   "cell_type": "markdown",
   "metadata": {},
   "source": [
    "As was stated above when looking at the histogram, the average monthly call minutes used is roughly the same for clients of either plan. Both average values sit right around **408** call minutes. The dispersion, or standard deviation, for both datasets is roughly the same, as well, at around **200** minutes. This appears to be reasonable, as the majority of the data in the histograms is plotted between the **200** and **600** minute values. The only real difference between the two histograms above is simply the number of instances, or data values, plotted. The Surf plan has a lot more data to plot.\n",
    "\n",
    "Let's plot boxplots to depict and confirm the statisictal values calculated above."
   ]
  },
  {
   "cell_type": "code",
   "execution_count": 53,
   "metadata": {},
   "outputs": [
    {
     "data": {
      "image/png": "[encoded data removed]",
      "text/plain": [
       "<Figure size 1080x720 with 1 Axes>"
      ]
     },
     "metadata": {
      "needs_background": "light"
     },
     "output_type": "display_data"
    }
   ],
   "source": [
    "# Plot a boxplot to visualize the distribution of the monthly call duration for users on the Surf plan\n",
    "\n",
    "pd.DataFrame(surf_data_calls).boxplot(figsize=(15,10))\n",
    "plt.title('Surf Plan - Boxplot of Average Monthly Call Duration')\n",
    "plt.show()"
   ]
  },
  {
   "cell_type": "code",
   "execution_count": 54,
   "metadata": {},
   "outputs": [
    {
     "data": {
      "image/png": "[encoded data removed]",
      "text/plain": [
       "<Figure size 1080x720 with 1 Axes>"
      ]
     },
     "metadata": {
      "needs_background": "light"
     },
     "output_type": "display_data"
    }
   ],
   "source": [
    "# Plot a boxplot to visualize the distribution of the monthly call duration for users on the Ultimate plan\n",
    "\n",
    "pd.DataFrame(ultimate_data_calls).boxplot(figsize=(15,10))\n",
    "plt.title('Ultimate Plan - Boxplot of Average Monthly Call Duration')\n",
    "plt.show()"
   ]
  },
  {
   "cell_type": "markdown",
   "metadata": {},
   "source": [
    "The boxplots above appear to be relatively similar, which is what was said for the statistical means and standard deviations calculated for both datasets. These boxplots confimr the earlier observation that the behavior of clients from either plan in terms of calling is not different. Clients from both plans average a monthly call usage of around **420** minutes."
   ]
  },
  {
   "cell_type": "markdown",
   "metadata": {},
   "source": [
    "### Messages\n",
    "\n",
    "Now let's do the same analysis that we just completed on the `'call_minutes'` column, but let's apply it to the `'messages'` column. We'll begin by plotting the bar charts."
   ]
  },
  {
   "cell_type": "code",
   "execution_count": 55,
   "metadata": {},
   "outputs": [
    {
     "data": {
      "image/png": "[encoded data removed]",
      "text/plain": [
       "<Figure size 1080x720 with 1 Axes>"
      ]
     },
     "metadata": {
      "needs_background": "light"
     },
     "output_type": "display_data"
    }
   ],
   "source": [
    "# Compare the number of messages cliens from the Surf plan tend to send each month\n",
    "\n",
    "# Obtain the desired data\n",
    "average_surf_messages_by_month = round((df[df['plan_name'] == 'surf'].groupby('month')['messages'].mean()),2)\n",
    "\n",
    "# Sort the index by the chronological order of months\n",
    "average_surf_messages_by_month.index = pd.CategoricalIndex(average_surf_messages_by_month.index, categories=sort_order, ordered=True)\n",
    "average_surf_messages_by_month = average_surf_messages_by_month.sort_index()\n",
    "\n",
    "# Plot a bar chart\n",
    "average_surf_messages_by_month.plot(kind='bar', figsize=(15,10))\n",
    "plt.title('Surf Plan - Average Messages Sent')\n",
    "plt.xlabel('Month')\n",
    "plt.ylabel('Messages Sent')\n",
    "plt.show()\n",
    "\n"
   ]
  },
  {
   "cell_type": "markdown",
   "metadata": {},
   "source": [
    "Oddly enough, the average monthly number of messages sent by clients from the Surf plan begins the lowest in January and the incrementally increases all year. The highest number of messages sent by clients from the Surf plan was in december, with an average value of approximately **37** messages. This pattern of incrementally increasing values may be due to the same reason call minutes used were incrementally increasing throughout the year.\n",
    "\n",
    "As was seen with the call minutes, the Surf plan only provides **50** prepaid messages per month, and the monthly client averages are quite close to that **50** limit. Let's see if it's the same with the clients from the Ultimate plan."
   ]
  },
  {
   "cell_type": "code",
   "execution_count": 56,
   "metadata": {},
   "outputs": [
    {
     "data": {
      "image/png": "[encoded data removed]",
      "text/plain": [
       "<Figure size 1080x720 with 1 Axes>"
      ]
     },
     "metadata": {
      "needs_background": "light"
     },
     "output_type": "display_data"
    }
   ],
   "source": [
    "# Compare the number of messages cliens from the Ultimate plan tend to send each month\n",
    "\n",
    "# Obtain the desired data\n",
    "average_ultimate_messages_by_month = round((df[df['plan_name'] == 'ultimate'].groupby('month')['messages'].mean()),2)\n",
    "\n",
    "# Sort the index by the chronological order of months\n",
    "average_ultimate_messages_by_month.index = pd.CategoricalIndex(average_ultimate_messages_by_month.index, categories=sort_order, ordered=True)\n",
    "average_ultimate_messages_by_month = average_ultimate_messages_by_month.sort_index()\n",
    "\n",
    "# Plot a bar chart\n",
    "average_ultimate_messages_by_month.plot(kind='bar', figsize=(15,10))\n",
    "plt.title('Ultimate Plan - Average Messages Sent')\n",
    "plt.xlabel('Month')\n",
    "plt.ylabel('Messages Sent')\n",
    "plt.show()"
   ]
  },
  {
   "cell_type": "markdown",
   "metadata": {},
   "source": [
    "Similarly to what was seen on the bar chart for clients from the Surf plan, the average monthly number of messages sent by clients from the Ultimate plan are the lowest in January, and then incrementally increase throughout the year (with only a few dropdowns). As was the case with the average messages from the Surf plan, the month of December contained the highest monthly average number of messges sent, at a value of approximately **46**. This behavior is in-line with what we've seen with clients from the Surf plan. However, the significant difference here is that the Ultimate plan provides its users with **1,000** prepaid messages. So, the clients from the Ultimate plan are not even coming close to exceeding their messages limit.\n",
    "\n",
    "Let's plot histograms of the datasets below to see what the distribution looks like."
   ]
  },
  {
   "cell_type": "code",
   "execution_count": 57,
   "metadata": {},
   "outputs": [
    {
     "data": {
      "image/png": "[encoded data removed]",
      "text/plain": [
       "<Figure size 1080x720 with 1 Axes>"
      ]
     },
     "metadata": {
      "needs_background": "light"
     },
     "output_type": "display_data"
    }
   ],
   "source": [
    "# Compare the amount of messages sent by users per plan\n",
    "df[df['plan_name'] == 'surf']['messages'].hist(bins=50, figsize=(15,10), label='surf')\n",
    "\n",
    "df[df['plan_name'] == 'ultimate']['messages'].hist(bins=50, figsize=(15,10), label='ultimate')\n",
    "plt.title('Frequency of Average Messages Sent for Both Plans (50 bins)')\n",
    "plt.xlabel('Number of Messages')\n",
    "plt.ylabel('Frequency')\n",
    "plt.legend()\n",
    "plt.show()\n"
   ]
  },
  {
   "cell_type": "markdown",
   "metadata": {},
   "source": [
    "Not much can be said for the distribution shape itself. The majority of clients from the Surf plan and the Ultimate plan send **500** messages or less each month, with most clients not even more than **10** messages per month. There is no real concern here for clients of on the Ultimate plan, as they get **1,000** prepaid messages with their plan. It's somewhat expected for users of the Ultimate plan since there is no reason not to exceed sending **50** messages each month. However, since clients on the Surf plan are only provided with **50** prepaid messages, it is important to note that there is a sizeable group of clients in both groups have a tendency to exceed sending **50** messages each month. This is unexpected for clients from the Surf plan due to the plan's message limit. Once clients on the Surf plan reach **50** messages sent that month, each additional message sent costs the client 3 cents. This can quickly add up to a sizeable chunk of change.\n",
    "\n",
    "Below we will calculate the average, varaince, and standard deviation for each dataset."
   ]
  },
  {
   "cell_type": "code",
   "execution_count": 58,
   "metadata": {},
   "outputs": [
    {
     "name": "stdout",
     "output_type": "stream",
     "text": [
      "SURF DATA:\n",
      "Mean: 32.41\n",
      "Variance: 959.21\n",
      "Standard Deviation: 30.97\n",
      "\n",
      "ULTIMATE DATA:\n",
      "Mean: 38.47\n",
      "Variance: 1077.3\n",
      "Standard Deviation: 32.82\n"
     ]
    }
   ],
   "source": [
    "# Obtain the desired data slices and group them\n",
    "surf_data_messages = df[df['plan_name'] == 'surf'].groupby('user_id')['messages'].mean()\n",
    "ultimate_data_messages = df[df['plan_name'] == 'ultimate'].groupby('user_id')['messages'].mean()\n",
    "\n",
    "# Mean\n",
    "surf_mean = round(surf_data_messages.mean(),2)\n",
    "ultimate_mean = round(ultimate_data_messages.mean(),2)\n",
    "\n",
    "# Variance\n",
    "surf_variance = round(np.var(surf_data_messages),2)\n",
    "ultimate_variance = round(np.var(ultimate_data_messages),2)\n",
    "\n",
    "# Standard Deviation\n",
    "surf_std = round(np.std(surf_data_messages),2)\n",
    "ultimate_std = round(np.std(ultimate_data_messages),2)\n",
    "\n",
    "print('SURF DATA:')\n",
    "print(f'Mean: {surf_mean}')\n",
    "print(f'Variance: {surf_variance}')\n",
    "print(f'Standard Deviation: {surf_std}')\n",
    "print()\n",
    "print('ULTIMATE DATA:')\n",
    "print(f'Mean: {ultimate_mean}')\n",
    "print(f'Variance: {ultimate_variance}')\n",
    "print(f'Standard Deviation: {ultimate_std}')"
   ]
  },
  {
   "cell_type": "markdown",
   "metadata": {},
   "source": [
    "<div class=\"alert alert-success\">\n",
    "<b>Reviewer's comment v1:</b>\n",
    "    \n",
    "It's great that you managed to calculate all the necessary metrics and display them.\n",
    "\n",
    "There is also a way to display all statistical metrics in one table (you can pass all metrics to aggfunc at once.), using, for example, pivot_table:\n",
    "\n",
    "`data.pivot_table(index= 'tariff', values= '...', aggfunc= ['mean', 'var','std', 'median'])`"
   ]
  },
  {
   "cell_type": "markdown",
   "metadata": {},
   "source": [
    "The average monthly number of messages sent is approximately **33** for clients from the Surf plan. This is slightly less than the average monthly number of messages sent by clients from the Ultimate plan, which is approximately **39** messages. The standard deviation of the number of monthly messages sent are roughly the same for each dataset at about **31** or **32** texts. That standard deviation value provides enough texts to place cleints of the Surf plan over thier message limit of **50** messages, thereby providing Megaline with extra revenue.\n",
    "\n",
    "Plot the boxplots below in order to get a visual representation of the statistical values calculated above."
   ]
  },
  {
   "cell_type": "code",
   "execution_count": 59,
   "metadata": {},
   "outputs": [
    {
     "data": {
      "image/png": "[encoded data removed]",
      "text/plain": [
       "<Figure size 1080x720 with 1 Axes>"
      ]
     },
     "metadata": {
      "needs_background": "light"
     },
     "output_type": "display_data"
    }
   ],
   "source": [
    "# Plot a boxplot to visualize the distribution of the monthly messages sent for the Surf plan\n",
    "\n",
    "pd.DataFrame(surf_data_messages).boxplot(figsize=(15,10))\n",
    "plt.title('Surf Plan - Boxplot of Average Monthly Messages Sent')\n",
    "plt.show()"
   ]
  },
  {
   "cell_type": "code",
   "execution_count": 60,
   "metadata": {},
   "outputs": [
    {
     "data": {
      "image/png": "[encoded data removed]",
      "text/plain": [
       "<Figure size 1080x720 with 1 Axes>"
      ]
     },
     "metadata": {
      "needs_background": "light"
     },
     "output_type": "display_data"
    }
   ],
   "source": [
    "# Plot a boxplot to visualize the distribution of the monthly messages sent for the Ultimate plan\n",
    "\n",
    "pd.DataFrame(ultimate_data_messages).boxplot(figsize=(15,10))\n",
    "plt.title('Ultimate Plan - Boxplot of Average Monthly Call Duration')\n",
    "plt.show()"
   ]
  },
  {
   "cell_type": "markdown",
   "metadata": {},
   "source": [
    "The boxplots for each plan look relatively the same, except that the values for clients from the Ultimate plan are slightly more inflated. The distribution looks somewhat similar, although the third quartile for the Ultimate plan is distributed across a larger range. This means that the Ultimate plan contains a wider distribution for monthly average number of texts sent. These boxplots confirm the observations made above.\n",
    "\n",
    "The behavior is relatively the same between clients from the Surf plan and clients of the Ultimate plan. Clients on either plan tend to send **33** an **39** messages per month, however clients from the Ultimate plan tend to send a few more texts than clients from the Surf plan. This is really only an issue for clients form the Surf plan, since their monthly limit is capped at **50** messages. Any additional messages will cost them 3 cents."
   ]
  },
  {
   "cell_type": "markdown",
   "metadata": {},
   "source": [
    "### Internet\n",
    "\n",
    "The same analysis that we've been performing will now be conducted on the `'mmb_usage'` column to gain insight into the internet usage by clients from the Surf and the Ultimate plan."
   ]
  },
  {
   "cell_type": "code",
   "execution_count": 61,
   "metadata": {},
   "outputs": [
    {
     "data": {
      "image/png": "[encoded data removed]",
      "text/plain": [
       "<Figure size 1080x720 with 1 Axes>"
      ]
     },
     "metadata": {
      "needs_background": "light"
     },
     "output_type": "display_data"
    }
   ],
   "source": [
    "# Compare the internet usage by clients from the Surf plan each month\n",
    "\n",
    "# Obtain the desired data\n",
    "average_surf_internet_by_month = round((df[df['plan_name'] == 'surf'].groupby('month')['mb_usage'].mean()),2)\n",
    "\n",
    "# Sort the index by the chronological order of months\n",
    "average_surf_internet_by_month.index = pd.CategoricalIndex(average_surf_internet_by_month.index, categories=sort_order, ordered=True)\n",
    "average_surf_internet_by_month = average_surf_internet_by_month.sort_index()\n",
    "\n",
    "# Plot a bar chart\n",
    "average_surf_internet_by_month.plot(kind='bar', figsize=(15,10))\n",
    "plt.title('Surf Plan - Average Internet Usage')\n",
    "plt.xlabel('Month')\n",
    "plt.ylabel('Megabytes Used')\n",
    "plt.show()"
   ]
  },
  {
   "cell_type": "markdown",
   "metadata": {},
   "source": [
    "Much like what was seen for the call minutes and messages data, the internet usage by clients from the Surf plan started off rather low in January and then incrementally increased throughout the year. The average monthly internet usage by clients from the Surf plan eventually ended up leveling out at around **16,500** megabytes by July, which is **1,500** more than their limit. Additionally, since the monthly internet usage is rounded to the highest whole gigabyte, this means clients will be billed for having used **2 GB** over their internet data limit on average."
   ]
  },
  {
   "cell_type": "code",
   "execution_count": 62,
   "metadata": {},
   "outputs": [
    {
     "data": {
      "image/png": "[encoded data removed]",
      "text/plain": [
       "<Figure size 1080x720 with 1 Axes>"
      ]
     },
     "metadata": {
      "needs_background": "light"
     },
     "output_type": "display_data"
    }
   ],
   "source": [
    "# Compare the internet usage by clients from the Ultimate plan each month\n",
    "\n",
    "# Obtain the desired data\n",
    "average_ultimate_internet_by_month = round((df[df['plan_name'] == 'ultimate'].groupby('month')['mb_usage'].mean()),2)\n",
    "\n",
    "# Sort the index by the chronological order of months\n",
    "average_ultimate_internet_by_month.index = pd.CategoricalIndex(average_ultimate_internet_by_month.index, categories=sort_order, ordered=True)\n",
    "average_ultimate_internet_by_month = average_ultimate_internet_by_month.sort_index()\n",
    "\n",
    "# Plot a bar chart\n",
    "average_ultimate_internet_by_month.plot(kind='bar', figsize=(15,10))\n",
    "plt.title('Ultimate Plan - Average Internet Usage')\n",
    "plt.xlabel('Month')\n",
    "plt.ylabel('Megabytes Used')\n",
    "plt.show()"
   ]
  },
  {
   "cell_type": "markdown",
   "metadata": {},
   "source": [
    "While the internet usage for clients from the Ultimate plan starts off low, it rapidly picks up value in the months of February and March, and then levels off for the rest of the year at just above **16,000** megabytes (15 GB). Given that clients from the Ultimate plan are provided with **30 GB**, the majority of clients do not come close to exceeding this internet usage limit."
   ]
  },
  {
   "cell_type": "code",
   "execution_count": 63,
   "metadata": {},
   "outputs": [
    {
     "data": {
      "image/png": "[encoded data removed]",
      "text/plain": [
       "<Figure size 1080x720 with 1 Axes>"
      ]
     },
     "metadata": {
      "needs_background": "light"
     },
     "output_type": "display_data"
    }
   ],
   "source": [
    "# Compare the amount of internet traffic consumed by users per plan\n",
    "\n",
    "df[df['plan_name'] == 'surf']['mb_usage'].hist(bins=50, figsize=(15,10), label='surf')\n",
    "\n",
    "df[df['plan_name'] == 'ultimate']['mb_usage'].hist(bins=50, figsize=(15,10), label='ultimate')\n",
    "plt.title('Frequency of Average Internet Usage for Both Plans (50 bins)')\n",
    "plt.xlabel('Number of Megabytes Used')\n",
    "plt.ylabel('Frequency')\n",
    "plt.legend()\n",
    "plt.show()\n"
   ]
  },
  {
   "cell_type": "markdown",
   "metadata": {},
   "source": [
    "The histogram plots for both datasets on the above chart appear to have distribution that closely resembles that of a Normal distribution. So, they tend to have an average at the peak value. The peaks for both datasets align at approximately **17,000** megabytes, which means that on average the clients from the Surf plan and clients from the Ultimate plan used roughly **17,000** megabytes of internet on average per month. The clients from either plan behave the same. Their is no distinct different between their behavior.\n",
    "\n",
    "This is not much of a problem for clients from the Ultimate plan, since on average they do not come close to exceeding their internet usage limit of **30,000** megabytes. There are some clients that do, though, but they are frew and far between. The real issue is for the clients from the Surf plan who's limit is set at **15,000** megabytes. The average monthly internet usage was approximated for both datasets to be around **17,000** megabytes, or **17 GB**, which already exceeds the **15,000** megabyte, or **15 GB**, limit."
   ]
  },
  {
   "cell_type": "code",
   "execution_count": 64,
   "metadata": {},
   "outputs": [
    {
     "name": "stdout",
     "output_type": "stream",
     "text": [
      "SURF DATA:\n",
      "Mean: 15.87 (GB)\n",
      "Variance: 38.64 (GB)\n",
      "Standard Deviation: 6.22 (GB)\n",
      "\n",
      "ULTIMATE DATA:\n",
      "Mean: 16.04 (GB)\n",
      "Variance: 34.72 (GB)\n",
      "Standard Deviation: 5.89 (GB)\n"
     ]
    }
   ],
   "source": [
    "# Obtain the desired data slices and group them\n",
    "surf_data_internet = df[df['plan_name'] == 'surf'].groupby('user_id')['mb_usage'].mean()\n",
    "ultimate_data_internet = df[df['plan_name'] == 'ultimate'].groupby('user_id')['mb_usage'].mean()\n",
    "\n",
    "# Mean\n",
    "surf_mean = round(surf_data_internet.mean()/1000,2)\n",
    "ultimate_mean = round(ultimate_data_internet.mean()/1000,2)\n",
    "\n",
    "# Variance\n",
    "surf_variance = round((np.var(surf_data_internet)/(1000**2)),2)\n",
    "ultimate_variance = round((np.var(ultimate_data_internet)/(1000**2)),2)\n",
    "\n",
    "# Standard Deviation\n",
    "surf_std = round(np.std(surf_data_internet)/1000,2)\n",
    "ultimate_std = round(np.std(ultimate_data_internet)/1000,2)\n",
    "\n",
    "print('SURF DATA:')\n",
    "print(f'Mean: {surf_mean} (GB)')\n",
    "print(f'Variance: {surf_variance} (GB)')\n",
    "print(f'Standard Deviation: {surf_std} (GB)')\n",
    "print()\n",
    "print('ULTIMATE DATA:')\n",
    "print(f'Mean: {ultimate_mean} (GB)')\n",
    "print(f'Variance: {ultimate_variance} (GB)')\n",
    "print(f'Standard Deviation: {ultimate_std} (GB)')"
   ]
  },
  {
   "cell_type": "markdown",
   "metadata": {},
   "source": [
    "The statistical data for both datasets is fiarly similar. It is important to note that the average monthly internet usage for clients from the Surf plan exceeds the plan's limit of **15 GB**. Thus, the average client from the Surf plan will be paying an additional fee for their monthly internet usage. "
   ]
  },
  {
   "cell_type": "code",
   "execution_count": 65,
   "metadata": {},
   "outputs": [
    {
     "data": {
      "image/png": "[encoded data removed]",
      "text/plain": [
       "<Figure size 1080x720 with 1 Axes>"
      ]
     },
     "metadata": {
      "needs_background": "light"
     },
     "output_type": "display_data"
    }
   ],
   "source": [
    "# Plot a boxplot to visualize the distribution of the monthly internet usage for clients from the Surf plan\n",
    "\n",
    "pd.DataFrame(surf_data_internet).boxplot(figsize=(15,10))\n",
    "plt.title('Surf Plan - Boxplot of Average Monthly Internet Usage')\n",
    "plt.show()"
   ]
  },
  {
   "cell_type": "code",
   "execution_count": 66,
   "metadata": {},
   "outputs": [
    {
     "data": {
      "image/png": "[encoded data removed]",
      "text/plain": [
       "<Figure size 1080x720 with 1 Axes>"
      ]
     },
     "metadata": {
      "needs_background": "light"
     },
     "output_type": "display_data"
    }
   ],
   "source": [
    "# Plot a boxplot to visualize the distribution of the monthly internet usage for cleints from the Ultimate plan\n",
    "\n",
    "pd.DataFrame(ultimate_data_internet).boxplot(figsize=(15,10))\n",
    "plt.title('Ultimate Plan - Boxplot of Average Monthly Internet Usage')\n",
    "plt.show()"
   ]
  },
  {
   "cell_type": "markdown",
   "metadata": {},
   "source": [
    "The monthly internet usage of clients from the Ultimate plan almost never exceeds the plan's limit of **30 GB** of internet data. However, over half of the clients from the Surf plan exceed the monthly internet usage limit of **15 GB** of data. This is a very interesting note since that means over half of all clients from the Surf plan will be paying extra internet usage fees, which provides additioanl revenue to Megaline.\n",
    "\n",
    "Overall, there is no significant difference between the internet usage by clients from the Surf plan and the internet usage by clients from the Ultimate plan. The behavior of both groups is rather similar when it comes to their monthly internet usage."
   ]
  },
  {
   "cell_type": "markdown",
   "metadata": {},
   "source": [
    "### Revenue"
   ]
  },
  {
   "cell_type": "markdown",
   "metadata": {},
   "source": [
    "Now that we have examined and analyzed the behavior of clients from the Surf and Ultimate plan, let's take a look at the average monthly revenue collected from clients of each plan."
   ]
  },
  {
   "cell_type": "code",
   "execution_count": 67,
   "metadata": {},
   "outputs": [
    {
     "data": {
      "image/png": "[encoded data removed]",
      "text/plain": [
       "<Figure size 1080x720 with 1 Axes>"
      ]
     },
     "metadata": {
      "needs_background": "light"
     },
     "output_type": "display_data"
    }
   ],
   "source": [
    "# Compare the monthly revenue collected from clients from the Surf plan\n",
    "\n",
    "# Obtain the desired data\n",
    "average_surf_revenue_by_month = round((df[df['plan_name'] == 'surf'].groupby('month')['revenue'].mean()),2)\n",
    "\n",
    "# Sort the index by the chronological order of months\n",
    "average_surf_revenue_by_month.index = pd.CategoricalIndex(average_surf_revenue_by_month.index, categories=sort_order, ordered=True)\n",
    "average_surf_revenue_by_month = average_surf_revenue_by_month.sort_index()\n",
    "\n",
    "# Plot a bar chart\n",
    "average_surf_revenue_by_month.plot(kind='bar', figsize=(15,10))\n",
    "plt.title('Surf Plan - Average Revenue')\n",
    "plt.xlabel('Month')\n",
    "plt.ylabel('Revenue (in USD)')\n",
    "plt.show()"
   ]
  },
  {
   "cell_type": "markdown",
   "metadata": {},
   "source": [
    "The average monthly revenue collected from clients from the Surf plan begins at **20 USD** during the month of January, which is the standard monthly fee, and then gradually increases each month until leveling out at around **65 USD** starting in July. It should be noted that the monthly average revenue brought in from each client on the Surf plan form July to December is around **65 USD**, which is only **5 USD** less than the standard monthly fee that Megaline charges for the Ultimate plan. This bar chart shows that there is a large portion of clients on the Surf plan that significantly exceed their plan's limits and have to pay extra each month for additional media usage."
   ]
  },
  {
   "cell_type": "code",
   "execution_count": 68,
   "metadata": {},
   "outputs": [
    {
     "data": {
      "image/png": "[encoded data removed]",
      "text/plain": [
       "<Figure size 1080x720 with 1 Axes>"
      ]
     },
     "metadata": {
      "needs_background": "light"
     },
     "output_type": "display_data"
    }
   ],
   "source": [
    "# Compare the monthly revenue collected from clients from the Ultimate plan\n",
    "\n",
    "# Obtain the desired data\n",
    "average_ultimate_revenue_by_month = round((df[df['plan_name'] == 'ultimate'].groupby('month')['revenue'].mean()),2)\n",
    "\n",
    "# Sort the index by the chronological order of months\n",
    "average_ultimate_revenue_by_month.index = pd.CategoricalIndex(average_ultimate_revenue_by_month.index, categories=sort_order, ordered=True)\n",
    "average_ultimate_revenue_by_month = average_ultimate_revenue_by_month.sort_index()\n",
    "\n",
    "# Plot a bar chart\n",
    "average_ultimate_revenue_by_month.plot(kind='bar', figsize=(15,10))\n",
    "plt.title('Ultimate Plan - Average Revenue')\n",
    "plt.xlabel('Month')\n",
    "plt.ylabel('Revenue (in USD)')\n",
    "plt.show()"
   ]
  },
  {
   "cell_type": "markdown",
   "metadata": {},
   "source": [
    "The average monthly revenue brought in from each user on the Ultimate plan is consistently around **70 USD**, with a slight spike to approximately **75 USD** during the month of March. The bar chart shows that users of the Ultimate plan generally stay within the data limits of their plan. Some clients exceed the data limits, but they appear to be few and far between."
   ]
  },
  {
   "cell_type": "code",
   "execution_count": 69,
   "metadata": {},
   "outputs": [
    {
     "data": {
      "image/png": "[encoded data removed]",
      "text/plain": [
       "<Figure size 1080x720 with 1 Axes>"
      ]
     },
     "metadata": {
      "needs_background": "light"
     },
     "output_type": "display_data"
    }
   ],
   "source": [
    "# Compare the amount of revenue brought in by users per plan\n",
    "df[df['plan_name'] == 'surf']['revenue'].hist(bins=50, figsize=(15,10), label='surf')\n",
    "\n",
    "df[df['plan_name'] == 'ultimate']['revenue'].hist(bins=50, figsize=(15,10), label='ultimate')\n",
    "plt.title('Frequency of Average Revenue Brought in for Both Plan (50 bins)')\n",
    "plt.xlabel('Revenue')\n",
    "plt.ylabel('Frequency')\n",
    "plt.legend()\n",
    "plt.show()\n"
   ]
  },
  {
   "cell_type": "markdown",
   "metadata": {},
   "source": [
    "The above histogram reinforces the concept that the large majority of users on the Ultimate plan stay within their plan's limitations, and simply pay their **70 USD** standard service fee each month. There are a few users who exceed the limits of the Ultimate plan, as can be seen by the few orange bars on the right side of **70 USD**.\n",
    "\n",
    "Clients of the Surf plan, however, have a much higher frequency of exceeding their plan's limitations. The number of clients from the Surf plan that pay extra fees for exceeding certain data limits far outweighs the number of clients from the Ultimate plan that pay extra fees for exceeding certain data limits. I estimate that almost half of the clients from the Surf plan exceed one or more data limitations and have to pay extra fees each month.\n",
    "\n",
    "It is important to note that clients from the Surf plan have a much higher frequency of paying over **70 USD** than do clients from the Ultimate plan. This is a very significant observation in that is shows that the Surf plan provides Megaline with a greater opportunity to collect more revenue than the Ultimate plan does."
   ]
  },
  {
   "cell_type": "code",
   "execution_count": 70,
   "metadata": {},
   "outputs": [
    {
     "name": "stdout",
     "output_type": "stream",
     "text": [
      "SURF DATA:\n",
      "Mean: 58.19\n",
      "Variance: 1892.21\n",
      "Standard Deviation: 43.5\n",
      "\n",
      "ULTIMATE DATA:\n",
      "Mean: 71.82\n",
      "Variance: 54.78\n",
      "Standard Deviation: 7.4\n"
     ]
    }
   ],
   "source": [
    "surf_data_revenue = df[df['plan_name'] == 'surf'].groupby('user_id')['revenue'].mean()\n",
    "ultimate_data_revenue = df[df['plan_name'] == 'ultimate'].groupby('user_id')['revenue'].mean()\n",
    "\n",
    "# Mean\n",
    "surf_mean = round(surf_data_revenue.mean(),2)\n",
    "ultimate_mean = round(ultimate_data_revenue.mean(),2)\n",
    "\n",
    "# Variance\n",
    "surf_variance = round(np.var(surf_data_revenue),2)\n",
    "ultimate_variance = round(np.var(ultimate_data_revenue),2)\n",
    "\n",
    "# Standard Deviation\n",
    "surf_std = round(np.std(surf_data_revenue),2)\n",
    "ultimate_std = round(np.std(ultimate_data_revenue),2)\n",
    "\n",
    "print('SURF DATA:')\n",
    "print(f'Mean: {surf_mean}')\n",
    "print(f'Variance: {surf_variance}')\n",
    "print(f'Standard Deviation: {surf_std}')\n",
    "print()\n",
    "print('ULTIMATE DATA:')\n",
    "print(f'Mean: {ultimate_mean}')\n",
    "print(f'Variance: {ultimate_variance}')\n",
    "print(f'Standard Deviation: {ultimate_std}')"
   ]
  },
  {
   "cell_type": "markdown",
   "metadata": {},
   "source": [
    "Shockingly, the average monthly revenue brought in per client is relatively close for each plan. The average monthly revenue per client from the Surf plan is approximately **60 USD**, and the average monthly revenue per client on the Ultimate plan is approximately **72 USD**.  This means there is only a **12 USD** difference between the two monthly revenue averages. This difference between the averages is a far cry from the **50 USD** difference between the initial standard monthly fee of both plans. However, it can be observed that the revenue brought in by clients from the Surf plan has a much higher dispersion than the revenue brought in by clients from the Ultimate plan. This means that there will be a larger amount of clients from the Surf plan paying quite a bit more than the **60 USD** average monthly revenue, as well as a large amount of clients only paying the **20 USD** standard fee for the Surf plan.\n",
    "\n",
    "Again, it appears that most clients of the Ultimate plan keep their usage within the limits of their plan, seeing as their average monthly revenue is very close to the standard service fee of **70 USD**. Only a small portion of clients exceed the plan's limits by a sizeable amount, which helps to bring the average monthly revenue for clients from the Ultimate plan to approximately **72 USD**. "
   ]
  },
  {
   "cell_type": "code",
   "execution_count": 71,
   "metadata": {},
   "outputs": [
    {
     "data": {
      "image/png": "[encoded data removed]",
      "text/plain": [
       "<Figure size 1080x720 with 1 Axes>"
      ]
     },
     "metadata": {
      "needs_background": "light"
     },
     "output_type": "display_data"
    }
   ],
   "source": [
    "# Plot a boxplot to visualize the distribution of the monthly revenue\n",
    "\n",
    "pd.DataFrame(surf_data_revenue).boxplot(figsize=(15,10))\n",
    "plt.title('Surf Plan - Boxplot of Average Monthly Revenue')\n",
    "plt.show()"
   ]
  },
  {
   "cell_type": "markdown",
   "metadata": {},
   "source": [
    "The boxplot for the Surf data is a little more telling. It appears that just under half of the clients from the Surf plan pay more **50 USD** or more each month. This is only **20 USD** away from the **70 USD** standard fee for the Ultimate plan. Looking even closer, it appears that a quarter of the clients from the Surf plan pay more then **75 USD** each month! So, a quarter of the clients form the Surf plan pay more than what it would cost them to just be on the Ultimate plan, where they would have larger data limits and potentially be able to reduce their extra fees.\n",
    "\n",
    "From the boxplot above, it looks like only a quarter of the clients from the Surf plan pay less than **30 USD**, which is still **10 USD** greater than the standard initial fee of **20 USD** for the Surf plan. "
   ]
  },
  {
   "cell_type": "code",
   "execution_count": 72,
   "metadata": {},
   "outputs": [
    {
     "data": {
      "image/png": "[encoded data removed]",
      "text/plain": [
       "<Figure size 1080x720 with 1 Axes>"
      ]
     },
     "metadata": {
      "needs_background": "light"
     },
     "output_type": "display_data"
    }
   ],
   "source": [
    "# Plot a boxplot to visualize the distribution of the monthly revenue\n",
    "\n",
    "pd.DataFrame(ultimate_data_revenue).boxplot(figsize=(15,10))\n",
    "plt.title('Ultimate Plan - Boxplot of Average Monthly Revenue')\n",
    "plt.show()"
   ]
  },
  {
   "cell_type": "markdown",
   "metadata": {},
   "source": [
    "While not a whole lot of data is depicted clearly here, this boxplot is very telling that the vast majority of clients from the Ultimate plan only pay the **70 USD** standard monthly fee to be on the Ultimate plan. All clients with revenue value higher than **70 USD** are plotted as outliers on the above boxplot. This means that revenue associated with these clients is so far outside the normal range of values that they should not be considered as reliable data. This is fairly unexpected since there are some outliers that are only a few dollars above the **70 USD** value. This boxplot only has such small whiskers (not even visible) since the vast majority of monthly revenue collected from each client is concentrated at the **70 USD** value. For the purposes of this report, the plotted points are considered reliable data, but it just goes to show how few clients on the ultimate plan pay more than the standard **70 USD**.\n",
    "\n",
    "Overall, the average monthly revenue collected from clients from either plan is relatively close. The average monthly revenue collected is slightly higher for the Ultimate plan due to its standard monthly fee being higher, but the Surf plan provides a greater opportunity for Megaline to collect much higher revenue values given the plan's limitations."
   ]
  },
  {
   "cell_type": "markdown",
   "metadata": {},
   "source": [
    "<div class=\"alert alert-success\">\n",
    "<b>Reviewer's comment v1:</b>\n",
    "    \n",
    "- I will write overall thoughts about the data analysis section:\n",
    "- Very nice visualization of the data. Great that you used different graph types to check available data.\n",
    "- Also, nice that you managed to add both plans on one graph.\n",
    "- If you have time and willing to practice, you can display two charts (histogram and a box plot) using a two-column subplot.\n",
    "\n",
    "```\n",
    "    # Create one row with 2 columns\n",
    "\t  fig, axes = plt.subplots(1, 2, figsize=(16, 5))\n",
    "\n",
    "\t  # Create a histogram for the surf plan\n",
    "\t  sns.distplot(... ax=axes[0])\n",
    "\t  # Create a histogram for the second plan\n",
    "\t  sns.distplot(... ax=axes[0])\n",
    "\t\n",
    "\t  # Create a boxplot for both plans\n",
    "\t  sns.boxplot(... ax=axes[1])\n",
    "```"
   ]
  },
  {
   "cell_type": "markdown",
   "metadata": {},
   "source": [
    "## Test statistical hypotheses"
   ]
  },
  {
   "cell_type": "markdown",
   "metadata": {},
   "source": [
    "### Test the Hypothesis that the Monthly Average Revenue is Equal for Both Plans\n",
    "\n",
    "We saw in the section above that the monthly average revenue collected from clients from either plan is relatively the same. The average monthly revenue collected from clients from the Ultimate plan is slightly higher than the average monthly revenue collected from clients from the Surf plan. However, we're only comparing a sample of clients from each plan. We want to know if the average monthly revenue collected per client is the same for each plan when taking into account the entire population of clients; not just this sample of clients from both plans.\n",
    "\n",
    "To test this, we'll create a Null hypothesis that states that the average monthly revenue from clients from the Surf plan and Ultimate plan are equal. The alternative hypothesis will state that the average monthly revenue from clients from the Surf plan and Ultimate plan are NOT equal.\n",
    "\n",
    "We will pass the `surf_data` and `ultimate_data` data slices obtained below to a t-test function to determine the statistical significance of this hypothesis. Depending on the p-value obtained, we will either reject the null hypothesis or conclude that we cannot reject the null hypothesis."
   ]
  },
  {
   "cell_type": "code",
   "execution_count": 73,
   "metadata": {},
   "outputs": [
    {
     "name": "stdout",
     "output_type": "stream",
     "text": [
      "p-value 1e-07\n",
      "We reject the null hypothesis\n"
     ]
    }
   ],
   "source": [
    "# Test the hypotheses\n",
    "\n",
    "# Obtain the desired data slices\n",
    "surf_data = df[df['plan_name'] == 'surf'].groupby('user_id')['revenue'].mean()\n",
    "ultimate_data = df[df['plan_name'] == 'ultimate'].groupby('user_id')['revenue'].mean()\n",
    "\n",
    "# The alpha value, or statistical significance, will be 5%\n",
    "alpha = 0.05\n",
    "\n",
    "# Calculate the result using the t-test\n",
    "# equal_var will be set to false since we know that the variance is not equal\n",
    "results = st.ttest_ind(surf_data, ultimate_data, equal_var=False)\n",
    "\n",
    "# Print the results\n",
    "print('p-value', round(results.pvalue,7))\n",
    "\n",
    "# Determine if we can or cannot reject the null hypothesis and print the result\n",
    "if results.pvalue < alpha:\n",
    "    print(\"We reject the null hypothesis\")\n",
    "else:\n",
    "    print(\"We can't reject the null hypothesis\")"
   ]
  },
  {
   "cell_type": "markdown",
   "metadata": {},
   "source": [
    "The calculated p-value from the t-test is approximately **0.0000186**, which is less than the stated **0.05** significance value. Thus, we can reject the null hypothesis. Since the null hypothesis can be rejected, it means that the average monthly revenue collected from clients from the Surf plan and Ultimate plan are NOT equal. While this result cannot confirm that the average revenue for users of either plan are different, it is very, very unlikely. There is a very high liklihood that the two values are different since the p-value for for the null hypothesis is so incredibly small. "
   ]
  },
  {
   "cell_type": "markdown",
   "metadata": {},
   "source": [
    "### Test the Hypothesis that the Average Monthly Revenue from Clients from the NY-NJ-PA Area is Different than that of Clients from Other Regions"
   ]
  },
  {
   "cell_type": "markdown",
   "metadata": {},
   "source": [
    "Let's try looking at another hypothesis. We will create a null hypothesis that the average monthly revenue collected from clients from the NY-NJ-PA area is equal to the average monthly revenue collected from clients from other regions. Thus, the alternative hypothesis will be that the average monthly revenue collected from clients from the NY-NJ-PA area is NOT equal to the average monthly revenue collected from clients from other regions.\n",
    "\n",
    "We will first obtain two data slices, where on data slice contains data on clients from the NY-NJ-PA area and the other data slice contains data on clients from all other regions. We will once again use a t-test to compare these two samples, however we will pass the t-test function an argument of `equal_var=True` since we believe the that the variances are equal for both samples. There should not be any significant difference in the variance between the revenue for the sample of clients from the NY-NJ-PA area and the revenue for the sample of clients from other regions. The statistical significance will once again be set at 0.05."
   ]
  },
  {
   "cell_type": "code",
   "execution_count": 74,
   "metadata": {},
   "outputs": [
    {
     "name": "stdout",
     "output_type": "stream",
     "text": [
      "p-value 0.48043818838129104\n",
      "We can't reject the null hypothesis\n"
     ]
    }
   ],
   "source": [
    "# Test the hypotheses\n",
    "\n",
    "# Obtain the desired data slics\n",
    "df_with_location = merged_tables.merge(right=users, on='user_id')\n",
    "df_NY_NJ = df_with_location.query('city == \"New York-Newark-Jersey City, NY-NJ-PA MSA\"')\n",
    "df_other_regions = df_with_location.query('city != \"New York-Newark-Jersey City, NY-NJ-PA MSA\"')\n",
    "\n",
    "# Calculate the average monthly revenue collected from each user in each data slice\n",
    "df_NY_NJ = df_NY_NJ.groupby('user_id')['revenue'].mean()\n",
    "df_other_regions = df_other_regions.groupby('user_id')['revenue'].mean()\n",
    "\n",
    "# Set the alpha value to 0.05\n",
    "alpha = 0.05\n",
    "\n",
    "# Run the t-test, pass equal_var=True\n",
    "results = st.ttest_ind(df_NY_NJ, df_other_regions, equal_var=True)\n",
    "\n",
    "# Print the p-value results\n",
    "print('p-value', results.pvalue)\n",
    "\n",
    "# Determine if we can or cannot reject the null hypothesis and print the result\n",
    "if results.pvalue < alpha:\n",
    "    print(\"We reject the null hypothesis\")\n",
    "else:\n",
    "    print(\"We can't reject the null hypothesis\")\n"
   ]
  },
  {
   "cell_type": "markdown",
   "metadata": {},
   "source": [
    "The p-value was calculated to be approximately **0.287**. Since **0.287** is greater than the statistical significance level (alpha) of **0.05**, we CANNOT reject the null hypothesis. This means that there is too high of a probability that the average monthly revenue from clients in the NY-NJ-PA area is indeed equal to the average monthly revenue collected from clients from other regions for the null hypothesis to be rejected. Thus, we cannot reject that the average monthly revenue values are equal. This result supports that the sample of clients from the NY-NJ-PA area is not any different than the sample of clients from other regions. There is no need to treat clients from the NY-NJ-PA area different from clients from other regions, so we do not need to do a separate analysis on that sample of clients."
   ]
  },
  {
   "cell_type": "markdown",
   "metadata": {},
   "source": [
    "<div class=\"alert alert-success\">\n",
    "<b>Reviewer's comment v1:</b>\n",
    "    \n",
    "- Overall great job! Hypotheses have been formulated and tested correctly. Great that you additionally checked data that has been used for the test. \n",
    "- Your conclusions based on the results are also correct.\n",
    "- Great that you additionally correctly compared the variances using tests. It is also possible to compare data sample variances using Levene test (https://docs.scipy.org/doc/scipy/reference/generated/scipy.stats.levene.html) or Bartlett’s test (https://docs.scipy.org/doc/scipy/reference/generated/scipy.stats.bartlett.html)"
   ]
  },
  {
   "cell_type": "markdown",
   "metadata": {},
   "source": [
    "## General conclusion\n",
    "\n",
    "### Actions Taken\n",
    "\n",
    "At the beginning of this report we imported the python libraries needed for data anlysis, and read the CSV files into DataFrame variables. Then, we began curating and preparing the data in each DataFrame for statistical analysis. The following actions were taken to prepare the data for analysis:\n",
    "\n",
    "- Changed all dates that were strings to datetime objects\n",
    "- Corrected the internet usage limits for Surf and Ultimate plan\n",
    "- Checked for duplicate clients\n",
    "- Added columns containing numeric and string values for the month each message, call minute, and internet was used\n",
    "\n",
    "Additionally, the duration value (in minutes) of each call needed to be rounded to the next highest whole minute since that's how Megaline recorded the number of minutes of usage. This was excecuted by rounding up each duration value of every call, and then changing it to just be an integer value.\n",
    "\n",
    "Once the data had been corrected and manipulated to be suitable for statistical analysis, we began aggregating the data. Each table containing data usage was grouped by the user_id and month that the usage occured, and the values were either counted or summed. The following were calculated for each user for each distinct month:\n",
    "\n",
    "- Total calls\n",
    "- Total call minutes\n",
    "- Total messages sent\n",
    "- Total internet usage (megabytes; rounded)\n",
    "\n",
    "It should be noted that the total monthly internet usage for each client was rounded to the next highest gigabyte (GB) since that is how Megaline records the monthly internet usage for each client. The same process that was carried out for the call duration values was also applied to the monthly internet usage for each client. The values were rounded up to the next highest whole value and then changed to just be an integer.\n",
    "\n",
    "Once the total values were aggregated for each client by each distinct month, it was important to determine the average monthly values for each media for each client, as well as the revenue. This was executed, and then the data was plotted for the average values of each media from users of both the Surf plan and the Ultimate plan. The data was separated by which plan the clients belonged to. The following values were plotted:\n",
    "\n",
    "- Call minutes used\n",
    "- Messages sent\n",
    "- Gigabytes of internet used\n",
    "- Revenue\n",
    "\n",
    "The following graphs were plotted:\n",
    "\n",
    "- Bar chart\n",
    "- Histogram\n",
    "- Boxplot\n",
    "\n",
    "Not only were all 3 graphs plotted for all media type usage and revenue of clients of each group, but the average monthly values for each sample group were calculated, as well as their respective variance and standard deviation. This allowed us to better understand the behavior of the data usage by clients of each plan, and gave better insight as to the values that the boxplots were showing.\n",
    "\n",
    "After we had obtained a general sense of the data usage behavior for clients of each plan, we tested two hypotheses about the average monthly revenue values for each sample group. The hypotheses tested are as follows:\n",
    "\n",
    "- Average monthly revenue for clients of each plan (Surf and Ultimate) are equal\n",
    "- Average monthly revenue for clients in NY-NJ-PA area is equal to average monthly revenue for clients in other \n",
    "  regions\n",
    "  \n",
    "A t-test was used to test both hypotheses. The samples were passed ot the t-test function, however the first hypothesis test was passed `equal_var=False`, while the second hypothesis test was passed `equal_var=True`. This is because we knew that the variance for the average monthly revenue for clients from the Surf plan was not equal to the variance for the average monthly revenue for clients of the Ultimate plan. However, it was assumed that the variance for the average monthly revenue for clients from the NY-NJ-PA area was equivalent to the variance for the average monthly revenue for clients from other regions. We had no reason to assume otherwise.\n",
    "\n",
    "In the end, we were able to reject the hypothesis that the average monthly revenue for clients of either plan were equal, but we were NOT able to reject the hypothesis that the average monthly revenue for clients from the NY-NJ-PA area is different than the average monthly revenue for clients for other regions. This was to be expected, and our previous observations and calculations supported these outcomes.\n",
    "\n",
    "### Final Conclusion\n",
    "\n",
    "Overall, clients from the Ultimate plan stayed within their plans' data limitations. They more often than not only paid their **70 USD** standard service fee for the Ultimate plan and nothing more. While this **70 USD** standard service fee is greater than the **20 USD** standard service fee for the Surf plan, it was determined that that a large majority of clients from the Surf plan exceed their monthly limits of data usage and end up paying more money. For each type of data usage, at least a quarter of clients from the Surf plan exceed their monthly limits. The most significant observation was that at least half of the clients from the Surf plan exceed their monthly internet limit of **15 GB**. A quarter of clients from the Surf plan pay an extra **40 USD** for their internet usage since they use more than **18 GB**. This is also confirmed by the fact that the standard deviation from the average monthly revenue value for clients from the Surf plan was approximately **40 USD**. That puts at least a quarter of clients from the Surf plan paying more than **80 USD** to Megaline for their data usage, while another quarter pay between **50 USD** and **80 USD**. \n",
    "\n",
    "Given that the Surf plan has a significantly higher number of clients and that the average and dispersion of the monthly revenue from clients from the Surf plan is so high, there is a greater opportunity to make more money from the Surf plan. Thus, the marketing team should place more effort and funding towards getting customers to become clients of the Surf plan. This will assist in bringing in the most revenue for Megaline."
   ]
  },
  {
   "cell_type": "markdown",
   "metadata": {},
   "source": [
    "<div class=\"alert alert-success\" role=\"alert\">\n",
    "<b>Reviewer's comment v1:</b>\n",
    "    \n",
    "- You conducted an outstanding research with correct interim findings, clean code and nice visualisation.\n",
    "- I also like your overall conclusion. It is very structured and provides insights and recommendations to the business."
   ]
  },
  {
   "cell_type": "markdown",
   "metadata": {},
   "source": [
    "<span style='background:cyan'> After correcting the merge issue specifid midway through the report, I reviewed the statistical data and plots to see how different the outputs were. Most all of the values were relatively unchanged, however there were a few differences that I had to address due to the extra data on clients remaining in the outer merged table. Thank you for pointing that out! </span>\n",
    "\n",
    "<span style='background:cyan'> Additionally, my report runs to completion much quicker after implementing your suggestions. I no longer have the time-consuming for loops in this report. It now only takes a few seconds to run all the cells. </span>"
   ]
  },
  {
   "cell_type": "markdown",
   "metadata": {},
   "source": [
    "<div class=\"alert alert-block alert-success\">\n",
    "<b>Reviewer's comment v2:</b>\n",
    "    \n",
    "Thank you very much for going an extra mile and leaving all your comments. Hopefully, smth was useful and wish you cool projects in the next sprints :)"
   ]
  }
 ],
 "metadata": {
  "ExecuteTimeLog": [
   {
    "duration": 828,
    "start_time": "2021-11-16T09:21:11.304Z"
   },
   {
    "duration": 893,
    "start_time": "2021-11-16T09:21:17.728Z"
   },
   {
    "duration": 1150,
    "start_time": "2021-11-16T09:21:29.568Z"
   },
   {
    "duration": 3,
    "start_time": "2021-11-16T09:24:14.495Z"
   },
   {
    "duration": 120,
    "start_time": "2021-11-16T09:24:46.630Z"
   },
   {
    "duration": 3,
    "start_time": "2021-11-16T09:28:27.882Z"
   },
   {
    "duration": 4,
    "start_time": "2021-11-16T09:29:54.281Z"
   },
   {
    "duration": 3,
    "start_time": "2021-11-16T09:30:45.936Z"
   },
   {
    "duration": 4,
    "start_time": "2021-11-16T09:31:06.300Z"
   },
   {
    "duration": 113,
    "start_time": "2021-11-16T09:31:37.208Z"
   },
   {
    "duration": 143,
    "start_time": "2021-11-16T09:31:48.656Z"
   },
   {
    "duration": 98,
    "start_time": "2021-11-16T09:31:55.678Z"
   },
   {
    "duration": 3,
    "start_time": "2021-11-16T09:32:08.535Z"
   },
   {
    "duration": 111,
    "start_time": "2021-11-16T09:32:10.120Z"
   },
   {
    "duration": 3,
    "start_time": "2021-11-16T09:32:15.732Z"
   },
   {
    "duration": 4,
    "start_time": "2021-11-16T09:32:29.423Z"
   },
   {
    "duration": 3,
    "start_time": "2021-11-16T10:03:03.074Z"
   },
   {
    "duration": 3,
    "start_time": "2021-11-16T10:10:01.288Z"
   },
   {
    "duration": 3,
    "start_time": "2021-11-16T10:10:46.923Z"
   },
   {
    "duration": 121,
    "start_time": "2021-11-16T10:37:46.494Z"
   },
   {
    "duration": 125,
    "start_time": "2021-11-16T10:38:20.632Z"
   },
   {
    "duration": 112,
    "start_time": "2021-11-16T10:46:53.001Z"
   },
   {
    "duration": 110,
    "start_time": "2021-11-16T10:48:25.775Z"
   },
   {
    "duration": 3,
    "start_time": "2021-11-16T10:50:18.720Z"
   },
   {
    "duration": 4,
    "start_time": "2021-11-16T10:50:37.649Z"
   },
   {
    "duration": 2,
    "start_time": "2021-11-16T10:50:51.884Z"
   },
   {
    "duration": 3,
    "start_time": "2021-11-16T10:51:56.237Z"
   },
   {
    "duration": 101,
    "start_time": "2021-11-16T10:53:13.791Z"
   },
   {
    "duration": 3,
    "start_time": "2021-11-16T10:55:59.186Z"
   },
   {
    "duration": 3,
    "start_time": "2021-11-16T10:56:10.751Z"
   },
   {
    "duration": 3,
    "start_time": "2021-11-16T10:56:49.038Z"
   },
   {
    "duration": 3,
    "start_time": "2021-11-16T10:56:49.174Z"
   },
   {
    "duration": 4,
    "start_time": "2021-11-16T10:56:49.414Z"
   },
   {
    "duration": 3,
    "start_time": "2021-11-16T10:56:49.680Z"
   },
   {
    "duration": 3,
    "start_time": "2021-11-16T10:56:50.370Z"
   },
   {
    "duration": 114,
    "start_time": "2021-11-16T10:59:34.518Z"
   },
   {
    "duration": 3,
    "start_time": "2021-11-16T11:01:41.201Z"
   },
   {
    "duration": 116,
    "start_time": "2021-11-16T11:01:48.754Z"
   },
   {
    "duration": 3,
    "start_time": "2021-11-16T11:02:16.685Z"
   },
   {
    "duration": 3,
    "start_time": "2021-11-16T11:02:19.479Z"
   },
   {
    "duration": 3,
    "start_time": "2021-11-16T11:02:47.067Z"
   },
   {
    "duration": 3,
    "start_time": "2021-11-16T11:02:49.353Z"
   },
   {
    "duration": 3,
    "start_time": "2021-11-16T11:03:07.835Z"
   },
   {
    "duration": 3,
    "start_time": "2021-11-16T11:03:07.953Z"
   },
   {
    "duration": 112,
    "start_time": "2021-11-16T11:07:52.072Z"
   },
   {
    "duration": 187,
    "start_time": "2021-11-16T11:09:23.468Z"
   },
   {
    "duration": 4,
    "start_time": "2021-11-16T11:10:01.455Z"
   },
   {
    "duration": 3,
    "start_time": "2021-11-16T11:10:05.069Z"
   },
   {
    "duration": 4,
    "start_time": "2021-11-16T11:10:13.376Z"
   },
   {
    "duration": 3,
    "start_time": "2021-11-16T11:10:14.434Z"
   },
   {
    "duration": 3,
    "start_time": "2021-11-16T11:10:22.853Z"
   },
   {
    "duration": 4,
    "start_time": "2021-11-16T11:27:29.279Z"
   },
   {
    "duration": 4,
    "start_time": "2021-11-16T11:29:08.919Z"
   },
   {
    "duration": 118,
    "start_time": "2021-11-16T11:29:46.703Z"
   },
   {
    "duration": 437,
    "start_time": "2021-11-16T11:36:02.181Z"
   },
   {
    "duration": 157,
    "start_time": "2021-11-16T11:36:14.388Z"
   },
   {
    "duration": 207,
    "start_time": "2021-11-16T11:47:15.898Z"
   },
   {
    "duration": 3,
    "start_time": "2021-11-16T11:53:52.092Z"
   },
   {
    "duration": 3,
    "start_time": "2021-11-16T11:53:52.236Z"
   },
   {
    "duration": 3,
    "start_time": "2021-11-16T11:59:12.005Z"
   },
   {
    "duration": 112,
    "start_time": "2021-11-16T12:00:33.446Z"
   },
   {
    "duration": 3,
    "start_time": "2021-11-16T12:02:14.453Z"
   },
   {
    "duration": 3,
    "start_time": "2021-11-16T12:02:39.512Z"
   },
   {
    "duration": 106,
    "start_time": "2021-11-16T12:03:03.460Z"
   },
   {
    "duration": 3,
    "start_time": "2021-11-17T20:37:21.139Z"
   },
   {
    "duration": 3,
    "start_time": "2021-11-17T20:37:22.229Z"
   },
   {
    "duration": 3,
    "start_time": "2021-11-17T20:38:38.806Z"
   },
   {
    "duration": 3,
    "start_time": "2021-11-17T20:38:41.958Z"
   },
   {
    "duration": 3,
    "start_time": "2021-11-17T20:43:46.551Z"
   },
   {
    "duration": 4,
    "start_time": "2021-11-17T20:58:21.835Z"
   },
   {
    "duration": 3,
    "start_time": "2021-11-17T20:59:21.872Z"
   },
   {
    "duration": 4,
    "start_time": "2021-11-17T20:59:45.352Z"
   },
   {
    "duration": 4,
    "start_time": "2021-11-17T20:59:49.646Z"
   },
   {
    "duration": 159,
    "start_time": "2021-11-17T21:02:26.949Z"
   },
   {
    "duration": 3,
    "start_time": "2021-11-17T21:03:53.461Z"
   },
   {
    "duration": 3,
    "start_time": "2021-11-17T21:03:53.694Z"
   },
   {
    "duration": 3,
    "start_time": "2021-11-17T21:05:28.145Z"
   },
   {
    "duration": 116,
    "start_time": "2021-11-17T21:05:57.787Z"
   },
   {
    "duration": 3,
    "start_time": "2021-11-17T21:06:37.993Z"
   },
   {
    "duration": 3,
    "start_time": "2021-11-17T21:06:38.261Z"
   },
   {
    "duration": 3,
    "start_time": "2021-11-17T21:11:54.358Z"
   },
   {
    "duration": 3,
    "start_time": "2021-11-17T21:12:43.846Z"
   },
   {
    "duration": 4,
    "start_time": "2021-11-17T21:13:08.773Z"
   },
   {
    "duration": 3,
    "start_time": "2021-11-17T21:14:44.441Z"
   },
   {
    "duration": 3,
    "start_time": "2021-11-17T21:15:42.059Z"
   },
   {
    "duration": 4,
    "start_time": "2021-11-17T21:15:51.995Z"
   },
   {
    "duration": 3,
    "start_time": "2021-11-17T21:15:53.923Z"
   },
   {
    "duration": 3,
    "start_time": "2021-11-17T21:15:55.282Z"
   },
   {
    "duration": 3,
    "start_time": "2021-11-17T21:16:28.492Z"
   },
   {
    "duration": 3,
    "start_time": "2021-11-17T21:16:32.603Z"
   },
   {
    "duration": 3,
    "start_time": "2021-11-17T21:17:06.941Z"
   },
   {
    "duration": 98,
    "start_time": "2021-11-17T21:18:05.733Z"
   },
   {
    "duration": 4,
    "start_time": "2021-11-17T21:21:35.255Z"
   },
   {
    "duration": 3,
    "start_time": "2021-11-17T21:21:37.804Z"
   },
   {
    "duration": 4,
    "start_time": "2021-11-17T21:23:06.071Z"
   },
   {
    "duration": 3,
    "start_time": "2021-11-17T21:23:24.799Z"
   },
   {
    "duration": 3,
    "start_time": "2021-11-17T21:23:32.591Z"
   },
   {
    "duration": 98,
    "start_time": "2021-11-17T21:28:31.559Z"
   },
   {
    "duration": 3,
    "start_time": "2021-11-17T21:28:45.448Z"
   },
   {
    "duration": 3,
    "start_time": "2021-11-17T21:29:17.303Z"
   },
   {
    "duration": 3,
    "start_time": "2021-11-17T21:29:29.617Z"
   },
   {
    "duration": 3,
    "start_time": "2021-11-17T21:29:32.681Z"
   },
   {
    "duration": 3,
    "start_time": "2021-11-17T21:36:11.474Z"
   },
   {
    "duration": 3,
    "start_time": "2021-11-17T21:36:14.791Z"
   },
   {
    "duration": 3,
    "start_time": "2021-11-17T21:36:53.943Z"
   },
   {
    "duration": 3,
    "start_time": "2021-11-17T21:36:56.165Z"
   },
   {
    "duration": 4,
    "start_time": "2021-11-17T21:37:16.590Z"
   },
   {
    "duration": 3,
    "start_time": "2021-11-17T21:37:22.702Z"
   },
   {
    "duration": 4,
    "start_time": "2021-11-17T21:38:03.479Z"
   },
   {
    "duration": 3,
    "start_time": "2021-11-17T21:38:08.601Z"
   },
   {
    "duration": 3,
    "start_time": "2021-11-17T21:38:12.928Z"
   },
   {
    "duration": 3,
    "start_time": "2021-11-17T21:38:48.896Z"
   },
   {
    "duration": 2,
    "start_time": "2021-11-17T21:38:49.171Z"
   },
   {
    "duration": 4,
    "start_time": "2021-11-17T21:39:57.889Z"
   },
   {
    "duration": 3,
    "start_time": "2021-11-17T21:39:58.057Z"
   },
   {
    "duration": 3,
    "start_time": "2021-11-17T21:41:20.108Z"
   },
   {
    "duration": 3,
    "start_time": "2021-11-17T21:41:20.629Z"
   },
   {
    "duration": 3,
    "start_time": "2021-11-17T21:42:49.136Z"
   },
   {
    "duration": 3,
    "start_time": "2021-11-17T21:43:15.137Z"
   },
   {
    "duration": 4,
    "start_time": "2021-11-17T21:43:16.766Z"
   },
   {
    "duration": 4,
    "start_time": "2021-11-17T21:43:31.711Z"
   },
   {
    "duration": 3,
    "start_time": "2021-11-17T21:43:36.312Z"
   },
   {
    "duration": 4,
    "start_time": "2021-11-17T21:45:08.825Z"
   },
   {
    "duration": 4,
    "start_time": "2021-11-17T21:45:10.119Z"
   },
   {
    "duration": 4,
    "start_time": "2021-11-17T21:45:13.748Z"
   },
   {
    "duration": 3,
    "start_time": "2021-11-17T21:45:22.219Z"
   },
   {
    "duration": 3,
    "start_time": "2021-11-17T21:45:33.412Z"
   },
   {
    "duration": 2,
    "start_time": "2021-11-17T21:46:01.885Z"
   },
   {
    "duration": 3,
    "start_time": "2021-11-17T21:46:03.628Z"
   },
   {
    "duration": 107,
    "start_time": "2021-11-17T21:47:32.512Z"
   },
   {
    "duration": 103,
    "start_time": "2021-11-17T21:50:36.243Z"
   },
   {
    "duration": 3,
    "start_time": "2021-11-18T06:28:31.440Z"
   },
   {
    "duration": 3,
    "start_time": "2021-11-18T06:29:00.168Z"
   },
   {
    "duration": 3,
    "start_time": "2021-11-18T06:31:27.008Z"
   },
   {
    "duration": 2,
    "start_time": "2021-11-18T06:35:34.288Z"
   },
   {
    "duration": 2,
    "start_time": "2021-11-18T06:38:04.527Z"
   },
   {
    "duration": 1047,
    "start_time": "2022-03-03T04:04:01.743Z"
   },
   {
    "duration": 258,
    "start_time": "2022-03-03T04:06:23.247Z"
   },
   {
    "duration": 7,
    "start_time": "2022-03-03T04:06:56.969Z"
   },
   {
    "duration": 11,
    "start_time": "2022-03-03T04:06:59.669Z"
   },
   {
    "duration": 17,
    "start_time": "2022-03-03T04:09:09.113Z"
   },
   {
    "duration": 8,
    "start_time": "2022-03-03T04:09:17.341Z"
   },
   {
    "duration": 15,
    "start_time": "2022-03-03T04:09:44.777Z"
   },
   {
    "duration": 9,
    "start_time": "2022-03-03T04:09:53.336Z"
   },
   {
    "duration": 10,
    "start_time": "2022-03-03T04:10:21.575Z"
   },
   {
    "duration": 247,
    "start_time": "2022-03-03T04:10:30.684Z"
   },
   {
    "duration": 7,
    "start_time": "2022-03-03T04:10:39.349Z"
   },
   {
    "duration": 183,
    "start_time": "2022-03-03T04:11:07.753Z"
   },
   {
    "duration": 256,
    "start_time": "2022-03-03T04:11:17.141Z"
   },
   {
    "duration": 6,
    "start_time": "2022-03-03T04:11:22.800Z"
   },
   {
    "duration": 12,
    "start_time": "2022-03-03T04:11:30.225Z"
   },
   {
    "duration": 1280,
    "start_time": "2022-03-03T04:15:53.145Z"
   },
   {
    "duration": 19,
    "start_time": "2022-03-03T04:16:07.923Z"
   },
   {
    "duration": 10,
    "start_time": "2022-03-03T04:16:19.074Z"
   },
   {
    "duration": 12,
    "start_time": "2022-03-03T04:16:25.757Z"
   },
   {
    "duration": 19,
    "start_time": "2022-03-03T04:19:30.128Z"
   },
   {
    "duration": 10,
    "start_time": "2022-03-03T04:19:36.643Z"
   },
   {
    "duration": 14,
    "start_time": "2022-03-03T04:20:26.108Z"
   },
   {
    "duration": 10,
    "start_time": "2022-03-03T04:20:32.565Z"
   },
   {
    "duration": 6,
    "start_time": "2022-03-03T04:24:46.321Z"
   },
   {
    "duration": 7,
    "start_time": "2022-03-03T04:24:52.456Z"
   },
   {
    "duration": 6,
    "start_time": "2022-03-03T04:26:21.173Z"
   },
   {
    "duration": 6,
    "start_time": "2022-03-03T04:26:23.465Z"
   },
   {
    "duration": 1077,
    "start_time": "2022-03-06T16:57:50.974Z"
   },
   {
    "duration": 326,
    "start_time": "2022-03-06T16:57:55.107Z"
   },
   {
    "duration": 9,
    "start_time": "2022-03-06T16:58:00.270Z"
   },
   {
    "duration": 14,
    "start_time": "2022-03-06T16:58:03.375Z"
   },
   {
    "duration": 18,
    "start_time": "2022-03-06T17:17:23.054Z"
   },
   {
    "duration": 9,
    "start_time": "2022-03-06T17:17:25.425Z"
   },
   {
    "duration": 17,
    "start_time": "2022-03-06T17:20:22.391Z"
   },
   {
    "duration": 10,
    "start_time": "2022-03-06T17:20:28.428Z"
   },
   {
    "duration": 23,
    "start_time": "2022-03-06T17:21:53.446Z"
   },
   {
    "duration": 13,
    "start_time": "2022-03-06T17:21:59.249Z"
   },
   {
    "duration": 14,
    "start_time": "2022-03-06T17:22:29.942Z"
   },
   {
    "duration": 9,
    "start_time": "2022-03-06T17:23:09.821Z"
   },
   {
    "duration": 18,
    "start_time": "2022-03-06T17:23:11.704Z"
   },
   {
    "duration": 12,
    "start_time": "2022-03-06T17:23:19.490Z"
   },
   {
    "duration": 12,
    "start_time": "2022-03-06T17:24:24.946Z"
   },
   {
    "duration": 8,
    "start_time": "2022-03-06T17:24:30.621Z"
   },
   {
    "duration": 14,
    "start_time": "2022-03-06T17:24:32.905Z"
   },
   {
    "duration": 10,
    "start_time": "2022-03-06T17:24:39.765Z"
   },
   {
    "duration": 8,
    "start_time": "2022-03-06T17:25:16.391Z"
   },
   {
    "duration": 11,
    "start_time": "2022-03-06T17:25:23.555Z"
   },
   {
    "duration": 7,
    "start_time": "2022-03-06T17:25:25.572Z"
   },
   {
    "duration": 7,
    "start_time": "2022-03-06T17:25:30.611Z"
   },
   {
    "duration": 99,
    "start_time": "2022-03-06T17:26:18.546Z"
   },
   {
    "duration": 1021,
    "start_time": "2022-03-06T17:36:04.838Z"
   },
   {
    "duration": 314,
    "start_time": "2022-03-06T17:37:23.602Z"
   },
   {
    "duration": 316,
    "start_time": "2022-03-06T17:37:50.994Z"
   },
   {
    "duration": 8,
    "start_time": "2022-03-06T17:41:37.289Z"
   },
   {
    "duration": 13,
    "start_time": "2022-03-06T17:41:43.868Z"
   },
   {
    "duration": 4,
    "start_time": "2022-03-06T17:51:25.629Z"
   },
   {
    "duration": 4,
    "start_time": "2022-03-06T17:51:35.405Z"
   },
   {
    "duration": 4,
    "start_time": "2022-03-06T17:51:38.479Z"
   },
   {
    "duration": 4,
    "start_time": "2022-03-06T17:51:59.755Z"
   },
   {
    "duration": 10,
    "start_time": "2022-03-06T17:52:06.086Z"
   },
   {
    "duration": 5,
    "start_time": "2022-03-06T17:53:08.390Z"
   },
   {
    "duration": 10,
    "start_time": "2022-03-06T17:53:37.606Z"
   },
   {
    "duration": 8,
    "start_time": "2022-03-06T17:55:00.771Z"
   },
   {
    "duration": 12,
    "start_time": "2022-03-06T17:55:01.731Z"
   },
   {
    "duration": 8,
    "start_time": "2022-03-06T17:56:07.526Z"
   },
   {
    "duration": 13,
    "start_time": "2022-03-06T17:56:17.201Z"
   },
   {
    "duration": 8,
    "start_time": "2022-03-06T17:57:13.512Z"
   },
   {
    "duration": 17,
    "start_time": "2022-03-06T17:59:07.672Z"
   },
   {
    "duration": 23,
    "start_time": "2022-03-06T18:01:30.120Z"
   },
   {
    "duration": 7,
    "start_time": "2022-03-06T18:01:39.137Z"
   },
   {
    "duration": 14,
    "start_time": "2022-03-06T18:01:45.293Z"
   },
   {
    "duration": 347,
    "start_time": "2022-03-06T18:02:06.033Z"
   },
   {
    "duration": 8,
    "start_time": "2022-03-06T18:02:17.224Z"
   },
   {
    "duration": 243,
    "start_time": "2022-03-06T18:02:59.135Z"
   },
   {
    "duration": 279,
    "start_time": "2022-03-06T18:03:17.752Z"
   },
   {
    "duration": 4,
    "start_time": "2022-03-06T18:03:32.767Z"
   },
   {
    "duration": 298,
    "start_time": "2022-03-06T18:06:14.762Z"
   },
   {
    "duration": 10,
    "start_time": "2022-03-06T18:06:22.936Z"
   },
   {
    "duration": 282,
    "start_time": "2022-03-06T18:07:06.753Z"
   },
   {
    "duration": 265,
    "start_time": "2022-03-06T18:07:15.288Z"
   },
   {
    "duration": 9,
    "start_time": "2022-03-06T18:07:16.054Z"
   },
   {
    "duration": 7,
    "start_time": "2022-03-06T18:07:34.866Z"
   },
   {
    "duration": 7,
    "start_time": "2022-03-06T18:07:36.664Z"
   },
   {
    "duration": 289,
    "start_time": "2022-03-06T18:09:29.727Z"
   },
   {
    "duration": 8,
    "start_time": "2022-03-06T18:09:30.086Z"
   },
   {
    "duration": 17,
    "start_time": "2022-03-06T18:09:39.592Z"
   },
   {
    "duration": 9,
    "start_time": "2022-03-06T18:10:00.190Z"
   },
   {
    "duration": 248,
    "start_time": "2022-03-06T18:13:38.880Z"
   },
   {
    "duration": 278,
    "start_time": "2022-03-06T18:14:41.517Z"
   },
   {
    "duration": 312,
    "start_time": "2022-03-06T18:15:46.069Z"
   },
   {
    "duration": 3,
    "start_time": "2022-03-06T18:15:56.429Z"
   },
   {
    "duration": 3,
    "start_time": "2022-03-06T18:16:32.489Z"
   },
   {
    "duration": 274,
    "start_time": "2022-03-06T18:16:39.574Z"
   },
   {
    "duration": 272,
    "start_time": "2022-03-06T18:16:55.251Z"
   },
   {
    "duration": 268,
    "start_time": "2022-03-06T18:17:13.141Z"
   },
   {
    "duration": 242,
    "start_time": "2022-03-06T18:17:31.275Z"
   },
   {
    "duration": 96954,
    "start_time": "2022-03-06T18:17:37.616Z"
   },
   {
    "duration": 18,
    "start_time": "2022-03-06T18:19:21.697Z"
   },
   {
    "duration": 10,
    "start_time": "2022-03-06T18:19:31.984Z"
   },
   {
    "duration": 433,
    "start_time": "2022-03-06T18:20:03.442Z"
   },
   {
    "duration": 350,
    "start_time": "2022-03-06T18:20:23.045Z"
   },
   {
    "duration": 311,
    "start_time": "2022-03-06T18:20:37.633Z"
   },
   {
    "duration": 283,
    "start_time": "2022-03-06T18:21:13.623Z"
   },
   {
    "duration": 9,
    "start_time": "2022-03-06T18:22:03.521Z"
   },
   {
    "duration": 19,
    "start_time": "2022-03-06T18:22:15.941Z"
   },
   {
    "duration": 6,
    "start_time": "2022-03-06T18:22:47.424Z"
   },
   {
    "duration": 17,
    "start_time": "2022-03-06T18:22:51.758Z"
   },
   {
    "duration": 7,
    "start_time": "2022-03-06T18:23:03.219Z"
   },
   {
    "duration": 20,
    "start_time": "2022-03-06T18:23:05.735Z"
   },
   {
    "duration": 505158,
    "start_time": "2022-03-06T18:23:25.768Z"
   },
   {
    "duration": 807,
    "start_time": "2022-03-06T18:36:01.701Z"
   },
   {
    "duration": 1105,
    "start_time": "2022-03-06T18:36:06.743Z"
   },
   {
    "duration": 332,
    "start_time": "2022-03-06T18:36:08.794Z"
   },
   {
    "duration": 13,
    "start_time": "2022-03-06T18:36:14.617Z"
   },
   {
    "duration": 6,
    "start_time": "2022-03-06T18:36:17.331Z"
   },
   {
    "duration": 12,
    "start_time": "2022-03-06T18:36:30.097Z"
   },
   {
    "duration": 11,
    "start_time": "2022-03-06T18:36:51.594Z"
   },
   {
    "duration": 1046,
    "start_time": "2022-03-06T18:37:01.312Z"
   },
   {
    "duration": 329,
    "start_time": "2022-03-06T18:37:03.221Z"
   },
   {
    "duration": 14,
    "start_time": "2022-03-06T18:37:12.606Z"
   },
   {
    "duration": 6,
    "start_time": "2022-03-06T18:38:29.457Z"
   },
   {
    "duration": 345,
    "start_time": "2022-03-06T18:38:34.887Z"
   },
   {
    "duration": 19,
    "start_time": "2022-03-06T18:38:56.034Z"
   },
   {
    "duration": 10,
    "start_time": "2022-03-06T18:39:39.767Z"
   },
   {
    "duration": 10046,
    "start_time": "2022-03-06T18:40:29.224Z"
   },
   {
    "duration": 330,
    "start_time": "2022-03-06T18:41:00.365Z"
   },
   {
    "duration": 95146,
    "start_time": "2022-03-06T18:41:22.466Z"
   },
   {
    "duration": 11,
    "start_time": "2022-03-06T18:43:41.192Z"
   },
   {
    "duration": 10,
    "start_time": "2022-03-06T18:45:36.164Z"
   },
   {
    "duration": 20,
    "start_time": "2022-03-06T18:45:42.556Z"
   },
   {
    "duration": 13,
    "start_time": "2022-03-06T18:45:47.103Z"
   },
   {
    "duration": 8,
    "start_time": "2022-03-06T18:45:51.490Z"
   },
   {
    "duration": 14,
    "start_time": "2022-03-06T18:47:21.602Z"
   },
   {
    "duration": 11,
    "start_time": "2022-03-06T18:47:22.012Z"
   },
   {
    "duration": 16,
    "start_time": "2022-03-06T18:47:53.094Z"
   },
   {
    "duration": 16,
    "start_time": "2022-03-06T18:48:00.798Z"
   },
   {
    "duration": 10,
    "start_time": "2022-03-06T18:48:03.232Z"
   },
   {
    "duration": 7,
    "start_time": "2022-03-06T18:48:58.429Z"
   },
   {
    "duration": 12,
    "start_time": "2022-03-06T18:48:59.230Z"
   },
   {
    "duration": 279,
    "start_time": "2022-03-06T18:49:42.016Z"
   },
   {
    "duration": 8,
    "start_time": "2022-03-06T18:49:43.217Z"
   },
   {
    "duration": 16,
    "start_time": "2022-03-06T18:49:59.341Z"
   },
   {
    "duration": 9,
    "start_time": "2022-03-06T18:50:00.755Z"
   },
   {
    "duration": 257,
    "start_time": "2022-03-06T18:53:39.653Z"
   },
   {
    "duration": 4835,
    "start_time": "2022-03-06T18:55:46.587Z"
   },
   {
    "duration": 291,
    "start_time": "2022-03-06T18:56:47.239Z"
   },
   {
    "duration": 17,
    "start_time": "2022-03-06T18:56:53.486Z"
   },
   {
    "duration": 11,
    "start_time": "2022-03-06T18:56:54.434Z"
   },
   {
    "duration": 250,
    "start_time": "2022-03-06T18:57:20.009Z"
   },
   {
    "duration": 69342,
    "start_time": "2022-03-06T18:57:29.557Z"
   },
   {
    "duration": 12,
    "start_time": "2022-03-06T18:59:03.873Z"
   },
   {
    "duration": 11,
    "start_time": "2022-03-06T18:59:17.948Z"
   },
   {
    "duration": 268,
    "start_time": "2022-03-06T18:59:38.796Z"
   },
   {
    "duration": 6,
    "start_time": "2022-03-06T18:59:44.209Z"
   },
   {
    "duration": 11,
    "start_time": "2022-03-06T18:59:47.256Z"
   },
   {
    "duration": 5,
    "start_time": "2022-03-06T19:00:02.014Z"
   },
   {
    "duration": 14,
    "start_time": "2022-03-06T19:00:07.564Z"
   },
   {
    "duration": 10,
    "start_time": "2022-03-06T19:00:09.302Z"
   },
   {
    "duration": 67903,
    "start_time": "2022-03-06T19:03:33.263Z"
   },
   {
    "duration": 4,
    "start_time": "2022-03-06T19:04:41.168Z"
   },
   {
    "duration": 16,
    "start_time": "2022-03-06T19:05:19.488Z"
   },
   {
    "duration": 10,
    "start_time": "2022-03-06T19:05:21.793Z"
   },
   {
    "duration": 88,
    "start_time": "2022-03-06T19:06:32.041Z"
   },
   {
    "duration": 4,
    "start_time": "2022-03-06T19:06:52.550Z"
   },
   {
    "duration": 68,
    "start_time": "2022-03-06T19:06:59.940Z"
   },
   {
    "duration": 12,
    "start_time": "2022-03-06T19:07:09.623Z"
   },
   {
    "duration": 1009,
    "start_time": "2022-03-06T19:07:51.331Z"
   },
   {
    "duration": 328,
    "start_time": "2022-03-06T19:07:52.341Z"
   },
   {
    "duration": 8,
    "start_time": "2022-03-06T19:07:52.671Z"
   },
   {
    "duration": 14,
    "start_time": "2022-03-06T19:07:52.681Z"
   },
   {
    "duration": 4,
    "start_time": "2022-03-06T19:07:52.697Z"
   },
   {
    "duration": 13,
    "start_time": "2022-03-06T19:07:52.703Z"
   },
   {
    "duration": 19,
    "start_time": "2022-03-06T19:07:52.717Z"
   },
   {
    "duration": 18,
    "start_time": "2022-03-06T19:07:52.738Z"
   },
   {
    "duration": 19,
    "start_time": "2022-03-06T19:07:52.759Z"
   },
   {
    "duration": 11,
    "start_time": "2022-03-06T19:07:52.781Z"
   },
   {
    "duration": 290,
    "start_time": "2022-03-06T19:07:52.794Z"
   },
   {
    "duration": 19,
    "start_time": "2022-03-06T19:07:53.086Z"
   },
   {
    "duration": 29,
    "start_time": "2022-03-06T19:07:53.107Z"
   },
   {
    "duration": 9,
    "start_time": "2022-03-06T19:07:53.138Z"
   },
   {
    "duration": 34,
    "start_time": "2022-03-06T19:07:53.148Z"
   },
   {
    "duration": 10,
    "start_time": "2022-03-06T19:07:53.184Z"
   },
   {
    "duration": 96750,
    "start_time": "2022-03-06T19:07:53.196Z"
   },
   {
    "duration": 10,
    "start_time": "2022-03-06T19:09:29.948Z"
   },
   {
    "duration": 21,
    "start_time": "2022-03-06T19:09:29.960Z"
   },
   {
    "duration": 16,
    "start_time": "2022-03-06T19:09:29.984Z"
   },
   {
    "duration": 14,
    "start_time": "2022-03-06T19:09:30.002Z"
   },
   {
    "duration": 19,
    "start_time": "2022-03-06T19:09:30.018Z"
   },
   {
    "duration": 45,
    "start_time": "2022-03-06T19:09:30.039Z"
   },
   {
    "duration": 12,
    "start_time": "2022-03-06T19:09:30.086Z"
   },
   {
    "duration": 17,
    "start_time": "2022-03-06T19:09:30.099Z"
   },
   {
    "duration": 9,
    "start_time": "2022-03-06T19:09:30.117Z"
   },
   {
    "duration": 22,
    "start_time": "2022-03-06T19:09:30.130Z"
   },
   {
    "duration": 32,
    "start_time": "2022-03-06T19:09:30.155Z"
   },
   {
    "duration": 69266,
    "start_time": "2022-03-06T19:09:30.188Z"
   },
   {
    "duration": 4,
    "start_time": "2022-03-06T19:10:39.456Z"
   },
   {
    "duration": 21,
    "start_time": "2022-03-06T19:10:39.461Z"
   },
   {
    "duration": 9,
    "start_time": "2022-03-06T19:10:39.484Z"
   },
   {
    "duration": 6,
    "start_time": "2022-03-06T19:10:39.495Z"
   },
   {
    "duration": 78,
    "start_time": "2022-03-06T19:10:39.502Z"
   },
   {
    "duration": 12,
    "start_time": "2022-03-06T19:10:39.582Z"
   },
   {
    "duration": 9,
    "start_time": "2022-03-06T19:10:39.596Z"
   },
   {
    "duration": 9,
    "start_time": "2022-03-06T19:10:39.606Z"
   },
   {
    "duration": 5,
    "start_time": "2022-03-06T19:10:39.617Z"
   },
   {
    "duration": 6,
    "start_time": "2022-03-06T19:10:39.624Z"
   },
   {
    "duration": 11,
    "start_time": "2022-03-06T19:10:39.632Z"
   },
   {
    "duration": 10,
    "start_time": "2022-03-06T19:10:39.645Z"
   },
   {
    "duration": 7,
    "start_time": "2022-03-06T19:10:39.657Z"
   },
   {
    "duration": 8,
    "start_time": "2022-03-06T19:10:39.666Z"
   },
   {
    "duration": 9,
    "start_time": "2022-03-06T19:10:39.677Z"
   },
   {
    "duration": 6,
    "start_time": "2022-03-06T19:10:39.688Z"
   },
   {
    "duration": 10,
    "start_time": "2022-03-06T19:10:39.696Z"
   },
   {
    "duration": 7,
    "start_time": "2022-03-06T19:10:39.708Z"
   },
   {
    "duration": 6,
    "start_time": "2022-03-06T19:10:39.717Z"
   },
   {
    "duration": 5,
    "start_time": "2022-03-06T19:10:39.725Z"
   },
   {
    "duration": 6,
    "start_time": "2022-03-06T19:10:39.732Z"
   },
   {
    "duration": 6,
    "start_time": "2022-03-06T19:10:39.740Z"
   },
   {
    "duration": 10,
    "start_time": "2022-03-06T19:14:41.574Z"
   },
   {
    "duration": 3,
    "start_time": "2022-03-06T19:18:26.367Z"
   },
   {
    "duration": 4,
    "start_time": "2022-03-06T19:20:02.858Z"
   },
   {
    "duration": 1153,
    "start_time": "2022-03-06T19:21:53.469Z"
   },
   {
    "duration": 321,
    "start_time": "2022-03-06T19:21:55.599Z"
   },
   {
    "duration": 8,
    "start_time": "2022-03-06T19:21:58.179Z"
   },
   {
    "duration": 13,
    "start_time": "2022-03-06T19:21:58.919Z"
   },
   {
    "duration": 4,
    "start_time": "2022-03-06T19:22:04.437Z"
   },
   {
    "duration": 9,
    "start_time": "2022-03-06T19:22:07.405Z"
   },
   {
    "duration": 6,
    "start_time": "2022-03-06T19:22:09.648Z"
   },
   {
    "duration": 12,
    "start_time": "2022-03-06T19:22:10.114Z"
   },
   {
    "duration": 8,
    "start_time": "2022-03-06T19:22:34.286Z"
   },
   {
    "duration": 7,
    "start_time": "2022-03-06T19:22:34.801Z"
   },
   {
    "duration": 17,
    "start_time": "2022-03-06T19:22:40.967Z"
   },
   {
    "duration": 10,
    "start_time": "2022-03-06T19:22:43.286Z"
   },
   {
    "duration": 24,
    "start_time": "2022-03-06T19:22:47.135Z"
   },
   {
    "duration": 10,
    "start_time": "2022-03-06T19:22:48.405Z"
   },
   {
    "duration": 95582,
    "start_time": "2022-03-06T19:23:00.110Z"
   },
   {
    "duration": 10,
    "start_time": "2022-03-06T19:25:10.197Z"
   },
   {
    "duration": 13,
    "start_time": "2022-03-06T19:25:15.690Z"
   },
   {
    "duration": 16,
    "start_time": "2022-03-06T19:25:22.701Z"
   },
   {
    "duration": 3,
    "start_time": "2022-03-06T19:26:21.962Z"
   },
   {
    "duration": 6413,
    "start_time": "2022-03-06T19:26:27.804Z"
   },
   {
    "duration": 6368,
    "start_time": "2022-03-06T19:26:45.387Z"
   },
   {
    "duration": 101613,
    "start_time": "2022-03-06T19:27:05.924Z"
   },
   {
    "duration": 6941,
    "start_time": "2022-03-06T19:29:32.980Z"
   },
   {
    "duration": 4,
    "start_time": "2022-03-06T19:29:58.395Z"
   },
   {
    "duration": 3,
    "start_time": "2022-03-06T19:30:07.233Z"
   },
   {
    "duration": 96,
    "start_time": "2022-03-06T19:30:20.847Z"
   },
   {
    "duration": 12,
    "start_time": "2022-03-06T19:30:35.552Z"
   },
   {
    "duration": 13,
    "start_time": "2022-03-06T19:30:40.112Z"
   },
   {
    "duration": 9,
    "start_time": "2022-03-06T19:30:40.969Z"
   },
   {
    "duration": 276,
    "start_time": "2022-03-06T19:32:34.774Z"
   },
   {
    "duration": 14,
    "start_time": "2022-03-06T19:32:47.880Z"
   },
   {
    "duration": 10,
    "start_time": "2022-03-06T19:32:48.713Z"
   },
   {
    "duration": 43784,
    "start_time": "2022-03-06T19:32:51.708Z"
   },
   {
    "duration": 4,
    "start_time": "2022-03-06T19:34:03.526Z"
   },
   {
    "duration": 52,
    "start_time": "2022-03-06T19:34:04.573Z"
   },
   {
    "duration": 12,
    "start_time": "2022-03-06T19:34:13.632Z"
   },
   {
    "duration": 15,
    "start_time": "2022-03-06T19:34:17.251Z"
   },
   {
    "duration": 9,
    "start_time": "2022-03-06T19:34:18.286Z"
   },
   {
    "duration": 19,
    "start_time": "2022-03-06T19:34:21.008Z"
   },
   {
    "duration": 12,
    "start_time": "2022-03-06T19:34:21.358Z"
   },
   {
    "duration": 68702,
    "start_time": "2022-03-06T19:34:23.762Z"
   },
   {
    "duration": 4,
    "start_time": "2022-03-06T19:35:38.594Z"
   },
   {
    "duration": 14,
    "start_time": "2022-03-06T19:35:39.096Z"
   },
   {
    "duration": 11,
    "start_time": "2022-03-06T19:35:39.524Z"
   },
   {
    "duration": 66,
    "start_time": "2022-03-06T19:35:40.086Z"
   },
   {
    "duration": 11,
    "start_time": "2022-03-06T19:35:40.987Z"
   },
   {
    "duration": 272,
    "start_time": "2022-03-06T19:35:53.705Z"
   },
   {
    "duration": 9,
    "start_time": "2022-03-06T19:35:55.958Z"
   },
   {
    "duration": 31,
    "start_time": "2022-03-06T19:35:57.757Z"
   },
   {
    "duration": 10,
    "start_time": "2022-03-06T19:36:04.358Z"
   },
   {
    "duration": 45,
    "start_time": "2022-03-06T19:36:56.928Z"
   },
   {
    "duration": 39,
    "start_time": "2022-03-06T19:37:09.305Z"
   },
   {
    "duration": 30,
    "start_time": "2022-03-06T19:38:54.857Z"
   },
   {
    "duration": 39,
    "start_time": "2022-03-06T19:39:02.684Z"
   },
   {
    "duration": 30,
    "start_time": "2022-03-06T19:39:21.492Z"
   },
   {
    "duration": 35,
    "start_time": "2022-03-06T19:39:43.714Z"
   },
   {
    "duration": 46,
    "start_time": "2022-03-06T19:39:51.420Z"
   },
   {
    "duration": 38,
    "start_time": "2022-03-06T19:39:55.580Z"
   },
   {
    "duration": 47,
    "start_time": "2022-03-06T19:40:01.730Z"
   },
   {
    "duration": 280,
    "start_time": "2022-03-06T19:41:12.728Z"
   },
   {
    "duration": 14,
    "start_time": "2022-03-06T19:41:25.184Z"
   },
   {
    "duration": 32,
    "start_time": "2022-03-06T19:42:30.781Z"
   },
   {
    "duration": 275,
    "start_time": "2022-03-06T19:42:53.852Z"
   },
   {
    "duration": 10,
    "start_time": "2022-03-06T19:43:21.227Z"
   },
   {
    "duration": 16,
    "start_time": "2022-03-06T19:43:53.271Z"
   },
   {
    "duration": 27,
    "start_time": "2022-03-06T19:43:57.694Z"
   },
   {
    "duration": 33,
    "start_time": "2022-03-06T19:45:07.180Z"
   },
   {
    "duration": 33,
    "start_time": "2022-03-06T19:45:43.512Z"
   },
   {
    "duration": 35,
    "start_time": "2022-03-06T19:46:06.996Z"
   },
   {
    "duration": 7,
    "start_time": "2022-03-06T19:56:42.113Z"
   },
   {
    "duration": 17,
    "start_time": "2022-03-06T19:56:51.293Z"
   },
   {
    "duration": 252,
    "start_time": "2022-03-06T19:59:10.020Z"
   },
   {
    "duration": 32,
    "start_time": "2022-03-06T19:59:46.368Z"
   },
   {
    "duration": 6442,
    "start_time": "2022-03-06T20:01:27.477Z"
   },
   {
    "duration": 18,
    "start_time": "2022-03-06T20:02:09.097Z"
   },
   {
    "duration": 17,
    "start_time": "2022-03-06T20:02:49.798Z"
   },
   {
    "duration": 19,
    "start_time": "2022-03-06T20:03:02.205Z"
   },
   {
    "duration": 17,
    "start_time": "2022-03-06T20:03:13.031Z"
   },
   {
    "duration": 4,
    "start_time": "2022-03-06T20:05:13.599Z"
   },
   {
    "duration": 4,
    "start_time": "2022-03-06T20:05:34.043Z"
   },
   {
    "duration": 5,
    "start_time": "2022-03-06T20:05:43.731Z"
   },
   {
    "duration": 6362,
    "start_time": "2022-03-06T20:05:56.528Z"
   },
   {
    "duration": 89,
    "start_time": "2022-03-06T20:06:06.745Z"
   },
   {
    "duration": 11,
    "start_time": "2022-03-06T20:06:09.056Z"
   },
   {
    "duration": 35,
    "start_time": "2022-03-06T20:06:21.281Z"
   },
   {
    "duration": 15,
    "start_time": "2022-03-06T20:06:24.565Z"
   },
   {
    "duration": 248,
    "start_time": "2022-03-06T20:07:06.718Z"
   },
   {
    "duration": 19,
    "start_time": "2022-03-06T20:07:36.406Z"
   },
   {
    "duration": 17,
    "start_time": "2022-03-06T20:07:50.850Z"
   },
   {
    "duration": 16,
    "start_time": "2022-03-06T20:08:16.065Z"
   },
   {
    "duration": 10,
    "start_time": "2022-03-06T20:08:22.278Z"
   },
   {
    "duration": 10,
    "start_time": "2022-03-06T20:08:45.646Z"
   },
   {
    "duration": 4,
    "start_time": "2022-03-06T20:12:32.544Z"
   },
   {
    "duration": 3,
    "start_time": "2022-03-06T20:12:50.146Z"
   },
   {
    "duration": 6447,
    "start_time": "2022-03-06T20:13:12.657Z"
   },
   {
    "duration": 6411,
    "start_time": "2022-03-06T20:13:33.258Z"
   },
   {
    "duration": 251,
    "start_time": "2022-03-06T20:13:58.702Z"
   },
   {
    "duration": 6501,
    "start_time": "2022-03-06T20:14:08.340Z"
   },
   {
    "duration": 6261,
    "start_time": "2022-03-06T20:14:18.112Z"
   },
   {
    "duration": 85,
    "start_time": "2022-03-06T20:14:32.275Z"
   },
   {
    "duration": 246,
    "start_time": "2022-03-06T20:14:34.975Z"
   },
   {
    "duration": 249,
    "start_time": "2022-03-06T20:14:49.293Z"
   },
   {
    "duration": 6820,
    "start_time": "2022-03-06T20:15:08.155Z"
   },
   {
    "duration": 6414,
    "start_time": "2022-03-06T20:15:24.222Z"
   },
   {
    "duration": 6500,
    "start_time": "2022-03-06T20:15:43.399Z"
   },
   {
    "duration": 5,
    "start_time": "2022-03-06T20:21:18.396Z"
   },
   {
    "duration": 7180,
    "start_time": "2022-03-06T20:21:37.950Z"
   },
   {
    "duration": 7,
    "start_time": "2022-03-06T20:22:48.476Z"
   },
   {
    "duration": 8,
    "start_time": "2022-03-06T20:22:56.635Z"
   },
   {
    "duration": 6320,
    "start_time": "2022-03-06T20:23:12.762Z"
   },
   {
    "duration": 6317,
    "start_time": "2022-03-06T20:24:19.800Z"
   },
   {
    "duration": 33,
    "start_time": "2022-03-06T20:24:27.752Z"
   },
   {
    "duration": 6509,
    "start_time": "2022-03-06T20:24:43.960Z"
   },
   {
    "duration": 19,
    "start_time": "2022-03-06T20:24:58.952Z"
   },
   {
    "duration": 103,
    "start_time": "2022-03-06T20:25:12.132Z"
   },
   {
    "duration": 4,
    "start_time": "2022-03-06T20:25:14.865Z"
   },
   {
    "duration": 10,
    "start_time": "2022-03-06T20:25:23.508Z"
   },
   {
    "duration": 17,
    "start_time": "2022-03-06T20:25:40.924Z"
   },
   {
    "duration": 16,
    "start_time": "2022-03-06T20:26:01.228Z"
   },
   {
    "duration": 8,
    "start_time": "2022-03-06T20:26:07.848Z"
   },
   {
    "duration": 13,
    "start_time": "2022-03-06T20:26:10.351Z"
   },
   {
    "duration": 12,
    "start_time": "2022-03-06T20:39:14.334Z"
   },
   {
    "duration": 11,
    "start_time": "2022-03-06T20:39:21.980Z"
   },
   {
    "duration": 10,
    "start_time": "2022-03-06T20:39:25.701Z"
   },
   {
    "duration": 13,
    "start_time": "2022-03-06T20:39:26.189Z"
   },
   {
    "duration": 22,
    "start_time": "2022-03-06T20:39:31.297Z"
   },
   {
    "duration": 23,
    "start_time": "2022-03-06T20:39:53.385Z"
   },
   {
    "duration": 11,
    "start_time": "2022-03-06T20:41:01.275Z"
   },
   {
    "duration": 22,
    "start_time": "2022-03-06T20:41:14.280Z"
   },
   {
    "duration": 9,
    "start_time": "2022-03-06T20:41:27.330Z"
   },
   {
    "duration": 24,
    "start_time": "2022-03-06T20:41:34.724Z"
   },
   {
    "duration": 4,
    "start_time": "2022-03-06T20:51:10.072Z"
   },
   {
    "duration": 260,
    "start_time": "2022-03-06T20:52:42.236Z"
   },
   {
    "duration": 23,
    "start_time": "2022-03-06T20:53:27.730Z"
   },
   {
    "duration": 6428,
    "start_time": "2022-03-06T20:53:41.663Z"
   },
   {
    "duration": 5,
    "start_time": "2022-03-06T20:53:57.773Z"
   },
   {
    "duration": 511,
    "start_time": "2022-03-06T20:54:11.186Z"
   },
   {
    "duration": 6,
    "start_time": "2022-03-06T20:55:35.924Z"
   },
   {
    "duration": 6,
    "start_time": "2022-03-06T20:55:37.082Z"
   },
   {
    "duration": 4,
    "start_time": "2022-03-06T20:55:39.375Z"
   },
   {
    "duration": 13,
    "start_time": "2022-03-06T20:57:09.911Z"
   },
   {
    "duration": 502,
    "start_time": "2022-03-06T20:57:14.891Z"
   },
   {
    "duration": 7,
    "start_time": "2022-03-06T20:57:45.101Z"
   },
   {
    "duration": 12,
    "start_time": "2022-03-06T20:57:53.667Z"
   },
   {
    "duration": 7,
    "start_time": "2022-03-06T20:57:54.638Z"
   },
   {
    "duration": 125,
    "start_time": "2022-03-06T20:58:13.992Z"
   },
   {
    "duration": 18,
    "start_time": "2022-03-06T20:58:28.242Z"
   },
   {
    "duration": 28,
    "start_time": "2022-03-06T21:00:24.156Z"
   },
   {
    "duration": 14,
    "start_time": "2022-03-06T21:00:56.969Z"
   },
   {
    "duration": 34,
    "start_time": "2022-03-06T21:05:46.527Z"
   },
   {
    "duration": 11,
    "start_time": "2022-03-06T21:05:50.223Z"
   },
   {
    "duration": 8,
    "start_time": "2022-03-06T21:05:51.302Z"
   },
   {
    "duration": 13,
    "start_time": "2022-03-06T21:05:51.662Z"
   },
   {
    "duration": 22,
    "start_time": "2022-03-06T21:05:53.200Z"
   },
   {
    "duration": 5,
    "start_time": "2022-03-06T21:06:18.068Z"
   },
   {
    "duration": 12,
    "start_time": "2022-03-06T21:06:19.739Z"
   },
   {
    "duration": 7,
    "start_time": "2022-03-06T21:06:21.787Z"
   },
   {
    "duration": 119,
    "start_time": "2022-03-06T21:06:24.325Z"
   },
   {
    "duration": 18,
    "start_time": "2022-03-06T21:06:26.471Z"
   },
   {
    "duration": 282,
    "start_time": "2022-03-06T21:07:35.984Z"
   },
   {
    "duration": 213,
    "start_time": "2022-03-06T21:07:56.861Z"
   },
   {
    "duration": 253,
    "start_time": "2022-03-06T21:08:31.818Z"
   },
   {
    "duration": 275,
    "start_time": "2022-03-06T21:09:23.715Z"
   },
   {
    "duration": 35,
    "start_time": "2022-03-06T21:09:37.123Z"
   },
   {
    "duration": 29,
    "start_time": "2022-03-06T21:10:07.195Z"
   },
   {
    "duration": 30,
    "start_time": "2022-03-06T21:10:09.790Z"
   },
   {
    "duration": 37,
    "start_time": "2022-03-06T21:10:21.351Z"
   },
   {
    "duration": 10,
    "start_time": "2022-03-06T21:10:35.038Z"
   },
   {
    "duration": 7,
    "start_time": "2022-03-06T21:10:37.661Z"
   },
   {
    "duration": 13,
    "start_time": "2022-03-06T21:10:38.049Z"
   },
   {
    "duration": 27,
    "start_time": "2022-03-06T21:10:39.913Z"
   },
   {
    "duration": 13,
    "start_time": "2022-03-06T21:12:58.570Z"
   },
   {
    "duration": 267,
    "start_time": "2022-03-06T21:13:09.869Z"
   },
   {
    "duration": 7,
    "start_time": "2022-03-06T21:13:33.352Z"
   },
   {
    "duration": 265,
    "start_time": "2022-03-06T21:13:53.560Z"
   },
   {
    "duration": 257,
    "start_time": "2022-03-06T21:14:24.587Z"
   },
   {
    "duration": 4,
    "start_time": "2022-03-06T21:14:53.140Z"
   },
   {
    "duration": 5,
    "start_time": "2022-03-06T21:17:30.037Z"
   },
   {
    "duration": 12,
    "start_time": "2022-03-06T21:17:31.252Z"
   },
   {
    "duration": 8,
    "start_time": "2022-03-06T21:17:44.317Z"
   },
   {
    "duration": 5,
    "start_time": "2022-03-06T21:19:40.408Z"
   },
   {
    "duration": 12,
    "start_time": "2022-03-06T21:19:41.578Z"
   },
   {
    "duration": 7,
    "start_time": "2022-03-06T21:19:42.245Z"
   },
   {
    "duration": 124,
    "start_time": "2022-03-06T21:19:43.589Z"
   },
   {
    "duration": 20,
    "start_time": "2022-03-06T21:19:44.114Z"
   },
   {
    "duration": 1129,
    "start_time": "2022-03-06T21:21:13.209Z"
   },
   {
    "duration": 333,
    "start_time": "2022-03-06T21:21:14.340Z"
   },
   {
    "duration": 7,
    "start_time": "2022-03-06T21:21:14.675Z"
   },
   {
    "duration": 14,
    "start_time": "2022-03-06T21:21:14.684Z"
   },
   {
    "duration": 6,
    "start_time": "2022-03-06T21:21:14.700Z"
   },
   {
    "duration": 12,
    "start_time": "2022-03-06T21:21:14.707Z"
   },
   {
    "duration": 7,
    "start_time": "2022-03-06T21:21:14.721Z"
   },
   {
    "duration": 13,
    "start_time": "2022-03-06T21:21:14.730Z"
   },
   {
    "duration": 31,
    "start_time": "2022-03-06T21:21:14.746Z"
   },
   {
    "duration": 10,
    "start_time": "2022-03-06T21:21:14.779Z"
   },
   {
    "duration": 291,
    "start_time": "2022-03-06T21:21:14.791Z"
   },
   {
    "duration": 8,
    "start_time": "2022-03-06T21:21:15.084Z"
   },
   {
    "duration": 23,
    "start_time": "2022-03-06T21:21:15.094Z"
   },
   {
    "duration": 9,
    "start_time": "2022-03-06T21:21:15.119Z"
   },
   {
    "duration": 26,
    "start_time": "2022-03-06T21:21:15.130Z"
   },
   {
    "duration": 96229,
    "start_time": "2022-03-06T21:21:15.157Z"
   },
   {
    "duration": 10,
    "start_time": "2022-03-06T21:22:51.388Z"
   },
   {
    "duration": 15,
    "start_time": "2022-03-06T21:22:51.400Z"
   },
   {
    "duration": 2,
    "start_time": "2022-03-06T21:22:51.417Z"
   },
   {
    "duration": 100969,
    "start_time": "2022-03-06T21:22:51.421Z"
   },
   {
    "duration": 3,
    "start_time": "2022-03-06T21:24:32.392Z"
   },
   {
    "duration": 9,
    "start_time": "2022-03-06T21:24:32.397Z"
   },
   {
    "duration": 92,
    "start_time": "2022-03-06T21:24:32.407Z"
   },
   {
    "duration": 11,
    "start_time": "2022-03-06T21:24:32.501Z"
   },
   {
    "duration": 14,
    "start_time": "2022-03-06T21:24:32.513Z"
   },
   {
    "duration": 8,
    "start_time": "2022-03-06T21:24:32.529Z"
   },
   {
    "duration": 36,
    "start_time": "2022-03-06T21:24:32.541Z"
   },
   {
    "duration": 9,
    "start_time": "2022-03-06T21:24:32.580Z"
   },
   {
    "duration": 43745,
    "start_time": "2022-03-06T21:24:32.590Z"
   },
   {
    "duration": 3,
    "start_time": "2022-03-06T21:25:16.337Z"
   },
   {
    "duration": 67,
    "start_time": "2022-03-06T21:25:16.342Z"
   },
   {
    "duration": 10,
    "start_time": "2022-03-06T21:25:16.410Z"
   },
   {
    "duration": 20,
    "start_time": "2022-03-06T21:25:16.422Z"
   },
   {
    "duration": 9,
    "start_time": "2022-03-06T21:25:16.444Z"
   },
   {
    "duration": 32,
    "start_time": "2022-03-06T21:25:16.454Z"
   },
   {
    "duration": 11,
    "start_time": "2022-03-06T21:25:16.487Z"
   },
   {
    "duration": 68347,
    "start_time": "2022-03-06T21:25:16.499Z"
   },
   {
    "duration": 4,
    "start_time": "2022-03-06T21:26:24.848Z"
   },
   {
    "duration": 23,
    "start_time": "2022-03-06T21:26:24.854Z"
   },
   {
    "duration": 9,
    "start_time": "2022-03-06T21:26:24.879Z"
   },
   {
    "duration": 70,
    "start_time": "2022-03-06T21:26:24.890Z"
   },
   {
    "duration": 21,
    "start_time": "2022-03-06T21:26:24.962Z"
   },
   {
    "duration": 12,
    "start_time": "2022-03-06T21:26:24.984Z"
   },
   {
    "duration": 57,
    "start_time": "2022-03-06T21:26:24.998Z"
   },
   {
    "duration": 55,
    "start_time": "2022-03-06T21:26:25.057Z"
   },
   {
    "duration": 33,
    "start_time": "2022-03-06T21:26:25.114Z"
   },
   {
    "duration": 56,
    "start_time": "2022-03-06T21:26:25.149Z"
   },
   {
    "duration": 36,
    "start_time": "2022-03-06T21:26:25.206Z"
   },
   {
    "duration": 10,
    "start_time": "2022-03-06T21:26:25.244Z"
   },
   {
    "duration": 28,
    "start_time": "2022-03-06T21:26:25.255Z"
   },
   {
    "duration": 19,
    "start_time": "2022-03-06T21:26:25.285Z"
   },
   {
    "duration": 41,
    "start_time": "2022-03-06T21:26:25.306Z"
   },
   {
    "duration": 6,
    "start_time": "2022-03-06T21:26:25.349Z"
   },
   {
    "duration": 41,
    "start_time": "2022-03-06T21:26:25.357Z"
   },
   {
    "duration": 16,
    "start_time": "2022-03-06T21:26:25.401Z"
   },
   {
    "duration": 131,
    "start_time": "2022-03-06T21:26:25.419Z"
   },
   {
    "duration": 21,
    "start_time": "2022-03-06T21:26:25.552Z"
   },
   {
    "duration": 2,
    "start_time": "2022-03-06T21:26:25.578Z"
   },
   {
    "duration": 12,
    "start_time": "2022-03-06T21:26:25.582Z"
   },
   {
    "duration": 12,
    "start_time": "2022-03-06T21:26:25.596Z"
   },
   {
    "duration": 13,
    "start_time": "2022-03-06T21:26:25.610Z"
   },
   {
    "duration": 16,
    "start_time": "2022-03-06T21:26:25.625Z"
   },
   {
    "duration": 22,
    "start_time": "2022-03-06T21:26:25.642Z"
   },
   {
    "duration": 22,
    "start_time": "2022-03-06T21:26:25.666Z"
   },
   {
    "duration": 11,
    "start_time": "2022-03-06T21:26:25.689Z"
   },
   {
    "duration": 2,
    "start_time": "2022-03-06T21:30:59.384Z"
   },
   {
    "duration": 38,
    "start_time": "2022-03-06T21:33:47.819Z"
   },
   {
    "duration": 15,
    "start_time": "2022-03-06T21:34:16.107Z"
   },
   {
    "duration": 15,
    "start_time": "2022-03-06T21:34:23.248Z"
   },
   {
    "duration": 12,
    "start_time": "2022-03-06T21:34:23.894Z"
   },
   {
    "duration": 7,
    "start_time": "2022-03-06T21:34:29.036Z"
   },
   {
    "duration": 16,
    "start_time": "2022-03-06T21:34:36.621Z"
   },
   {
    "duration": 27,
    "start_time": "2022-03-06T21:34:40.922Z"
   },
   {
    "duration": 5,
    "start_time": "2022-03-06T21:34:44.488Z"
   },
   {
    "duration": 13,
    "start_time": "2022-03-06T21:34:46.650Z"
   },
   {
    "duration": 7,
    "start_time": "2022-03-06T21:34:48.015Z"
   },
   {
    "duration": 125,
    "start_time": "2022-03-06T21:34:49.545Z"
   },
   {
    "duration": 24,
    "start_time": "2022-03-06T21:34:49.881Z"
   },
   {
    "duration": 3,
    "start_time": "2022-03-06T21:34:53.009Z"
   },
   {
    "duration": 383,
    "start_time": "2022-03-06T21:36:29.274Z"
   },
   {
    "duration": 9,
    "start_time": "2022-03-06T21:36:41.465Z"
   },
   {
    "duration": 270,
    "start_time": "2022-03-06T21:37:28.180Z"
   },
   {
    "duration": 262,
    "start_time": "2022-03-06T21:37:43.114Z"
   },
   {
    "duration": 9,
    "start_time": "2022-03-06T21:37:52.087Z"
   },
   {
    "duration": 9,
    "start_time": "2022-03-06T21:38:01.541Z"
   },
   {
    "duration": 216,
    "start_time": "2022-03-06T21:39:03.605Z"
   },
   {
    "duration": 213,
    "start_time": "2022-03-06T21:39:13.366Z"
   },
   {
    "duration": 338,
    "start_time": "2022-03-06T21:39:29.110Z"
   },
   {
    "duration": 79,
    "start_time": "2022-03-06T21:39:33.542Z"
   },
   {
    "duration": 345,
    "start_time": "2022-03-06T21:39:42.122Z"
   },
   {
    "duration": 316,
    "start_time": "2022-03-06T21:39:47.856Z"
   },
   {
    "duration": 357,
    "start_time": "2022-03-06T21:39:53.764Z"
   },
   {
    "duration": 358,
    "start_time": "2022-03-06T21:43:32.349Z"
   },
   {
    "duration": 359,
    "start_time": "2022-03-06T21:46:48.581Z"
   },
   {
    "duration": 286,
    "start_time": "2022-03-06T21:48:28.173Z"
   },
   {
    "duration": 293,
    "start_time": "2022-03-06T21:48:39.017Z"
   },
   {
    "duration": 375,
    "start_time": "2022-03-06T21:48:54.438Z"
   },
   {
    "duration": 1038,
    "start_time": "2022-03-06T21:49:22.827Z"
   },
   {
    "duration": 625,
    "start_time": "2022-03-06T21:49:29.976Z"
   },
   {
    "duration": 615,
    "start_time": "2022-03-06T21:52:10.053Z"
   },
   {
    "duration": 618,
    "start_time": "2022-03-06T21:52:26.399Z"
   },
   {
    "duration": 696,
    "start_time": "2022-03-06T21:52:54.348Z"
   },
   {
    "duration": 537,
    "start_time": "2022-03-06T21:53:23.970Z"
   },
   {
    "duration": 557,
    "start_time": "2022-03-06T21:53:30.274Z"
   },
   {
    "duration": 436,
    "start_time": "2022-03-06T21:53:45.876Z"
   },
   {
    "duration": 441,
    "start_time": "2022-03-06T21:53:56.910Z"
   },
   {
    "duration": 430,
    "start_time": "2022-03-06T21:54:05.774Z"
   },
   {
    "duration": 653,
    "start_time": "2022-03-06T21:56:49.345Z"
   },
   {
    "duration": 430,
    "start_time": "2022-03-06T21:57:05.949Z"
   },
   {
    "duration": 527,
    "start_time": "2022-03-06T21:57:18.861Z"
   },
   {
    "duration": 6,
    "start_time": "2022-03-06T22:01:30.966Z"
   },
   {
    "duration": 9,
    "start_time": "2022-03-06T22:01:41.649Z"
   },
   {
    "duration": 11,
    "start_time": "2022-03-06T22:01:50.083Z"
   },
   {
    "duration": 8,
    "start_time": "2022-03-06T22:02:17.391Z"
   },
   {
    "duration": 9,
    "start_time": "2022-03-06T22:03:51.027Z"
   },
   {
    "duration": 12,
    "start_time": "2022-03-06T22:04:46.830Z"
   },
   {
    "duration": 12,
    "start_time": "2022-03-06T22:05:00.167Z"
   },
   {
    "duration": 15,
    "start_time": "2022-03-06T22:05:56.119Z"
   },
   {
    "duration": 12,
    "start_time": "2022-03-06T22:07:42.310Z"
   },
   {
    "duration": 12,
    "start_time": "2022-03-06T22:07:53.232Z"
   },
   {
    "duration": 12,
    "start_time": "2022-03-06T22:08:12.695Z"
   },
   {
    "duration": 11,
    "start_time": "2022-03-06T22:09:04.110Z"
   },
   {
    "duration": 11,
    "start_time": "2022-03-06T22:09:33.227Z"
   },
   {
    "duration": 9,
    "start_time": "2022-03-06T22:09:43.315Z"
   },
   {
    "duration": 95,
    "start_time": "2022-03-06T22:09:48.829Z"
   },
   {
    "duration": 10,
    "start_time": "2022-03-06T22:09:53.746Z"
   },
   {
    "duration": 9,
    "start_time": "2022-03-06T22:10:02.838Z"
   },
   {
    "duration": 15,
    "start_time": "2022-03-06T22:13:22.259Z"
   },
   {
    "duration": 7,
    "start_time": "2022-03-06T22:13:36.047Z"
   },
   {
    "duration": 9,
    "start_time": "2022-03-06T22:13:40.681Z"
   },
   {
    "duration": 264,
    "start_time": "2022-03-06T22:15:56.168Z"
   },
   {
    "duration": 263,
    "start_time": "2022-03-06T22:16:07.360Z"
   },
   {
    "duration": 277,
    "start_time": "2022-03-06T22:16:11.939Z"
   },
   {
    "duration": 9,
    "start_time": "2022-03-06T22:16:43.986Z"
   },
   {
    "duration": 13,
    "start_time": "2022-03-06T22:16:47.174Z"
   },
   {
    "duration": 251,
    "start_time": "2022-03-06T22:19:04.145Z"
   },
   {
    "duration": 22,
    "start_time": "2022-03-06T22:19:22.552Z"
   },
   {
    "duration": 8,
    "start_time": "2022-03-06T22:20:10.991Z"
   },
   {
    "duration": 5,
    "start_time": "2022-03-06T22:20:17.635Z"
   },
   {
    "duration": 8,
    "start_time": "2022-03-06T22:20:24.730Z"
   },
   {
    "duration": 9,
    "start_time": "2022-03-06T22:20:37.076Z"
   },
   {
    "duration": 8,
    "start_time": "2022-03-06T22:20:57.306Z"
   },
   {
    "duration": 4,
    "start_time": "2022-03-06T22:21:16.633Z"
   },
   {
    "duration": 6,
    "start_time": "2022-03-06T22:21:53.236Z"
   },
   {
    "duration": 5,
    "start_time": "2022-03-06T22:22:09.722Z"
   },
   {
    "duration": 250,
    "start_time": "2022-03-06T22:22:16.024Z"
   },
   {
    "duration": 8,
    "start_time": "2022-03-06T22:22:21.055Z"
   },
   {
    "duration": 594,
    "start_time": "2022-03-06T22:24:25.571Z"
   },
   {
    "duration": 582,
    "start_time": "2022-03-06T22:25:03.237Z"
   },
   {
    "duration": 528,
    "start_time": "2022-03-06T22:25:17.729Z"
   },
   {
    "duration": 633,
    "start_time": "2022-03-06T22:26:24.961Z"
   },
   {
    "duration": 620,
    "start_time": "2022-03-06T22:26:42.348Z"
   },
   {
    "duration": 2,
    "start_time": "2022-03-06T22:28:57.715Z"
   },
   {
    "duration": 2,
    "start_time": "2022-03-06T22:29:03.037Z"
   },
   {
    "duration": 5,
    "start_time": "2022-03-06T22:30:23.610Z"
   },
   {
    "duration": 8,
    "start_time": "2022-03-06T22:30:27.323Z"
   },
   {
    "duration": 8,
    "start_time": "2022-03-06T22:30:39.558Z"
   },
   {
    "duration": 3302,
    "start_time": "2022-03-06T22:30:55.576Z"
   },
   {
    "duration": 610,
    "start_time": "2022-03-06T22:32:19.959Z"
   },
   {
    "duration": 6386,
    "start_time": "2022-03-06T22:32:31.052Z"
   },
   {
    "duration": -315,
    "start_time": "2022-03-06T22:32:37.755Z"
   },
   {
    "duration": 6317,
    "start_time": "2022-03-06T22:32:54.161Z"
   },
   {
    "duration": 6298,
    "start_time": "2022-03-06T23:08:42.770Z"
   },
   {
    "duration": 2,
    "start_time": "2022-03-06T23:10:09.064Z"
   },
   {
    "duration": 6636,
    "start_time": "2022-03-06T23:10:16.518Z"
   },
   {
    "duration": 3,
    "start_time": "2022-03-06T23:10:27.724Z"
   },
   {
    "duration": 358,
    "start_time": "2022-03-06T23:10:30.502Z"
   },
   {
    "duration": 349,
    "start_time": "2022-03-06T23:10:34.867Z"
   },
   {
    "duration": 2,
    "start_time": "2022-03-06T23:10:38.376Z"
   },
   {
    "duration": 6426,
    "start_time": "2022-03-06T23:10:49.148Z"
   },
   {
    "duration": 23,
    "start_time": "2022-03-06T23:11:43.974Z"
   },
   {
    "duration": 6470,
    "start_time": "2022-03-06T23:12:59.488Z"
   },
   {
    "duration": 6319,
    "start_time": "2022-03-06T23:13:10.097Z"
   },
   {
    "duration": 6387,
    "start_time": "2022-03-06T23:13:20.633Z"
   },
   {
    "duration": 1097,
    "start_time": "2022-03-06T23:15:28.857Z"
   },
   {
    "duration": 322,
    "start_time": "2022-03-06T23:15:29.956Z"
   },
   {
    "duration": 7,
    "start_time": "2022-03-06T23:15:30.280Z"
   },
   {
    "duration": 22,
    "start_time": "2022-03-06T23:15:30.289Z"
   },
   {
    "duration": 17,
    "start_time": "2022-03-06T23:15:30.313Z"
   },
   {
    "duration": 22,
    "start_time": "2022-03-06T23:15:30.332Z"
   },
   {
    "duration": 14,
    "start_time": "2022-03-06T23:15:30.356Z"
   },
   {
    "duration": 26,
    "start_time": "2022-03-06T23:15:30.372Z"
   },
   {
    "duration": 14,
    "start_time": "2022-03-06T23:15:30.400Z"
   },
   {
    "duration": 19,
    "start_time": "2022-03-06T23:15:30.415Z"
   },
   {
    "duration": 282,
    "start_time": "2022-03-06T23:15:30.436Z"
   },
   {
    "duration": 8,
    "start_time": "2022-03-06T23:15:30.720Z"
   },
   {
    "duration": 22,
    "start_time": "2022-03-06T23:15:30.730Z"
   },
   {
    "duration": 27,
    "start_time": "2022-03-06T23:15:30.754Z"
   },
   {
    "duration": 57,
    "start_time": "2022-03-06T23:15:30.783Z"
   },
   {
    "duration": 96054,
    "start_time": "2022-03-06T23:15:30.842Z"
   },
   {
    "duration": 10,
    "start_time": "2022-03-06T23:17:06.898Z"
   },
   {
    "duration": 14,
    "start_time": "2022-03-06T23:17:06.909Z"
   },
   {
    "duration": 3,
    "start_time": "2022-03-06T23:17:06.924Z"
   },
   {
    "duration": 101990,
    "start_time": "2022-03-06T23:17:06.929Z"
   },
   {
    "duration": 3,
    "start_time": "2022-03-06T23:18:48.921Z"
   },
   {
    "duration": 4,
    "start_time": "2022-03-06T23:18:48.926Z"
   },
   {
    "duration": 84,
    "start_time": "2022-03-06T23:18:48.933Z"
   },
   {
    "duration": 10,
    "start_time": "2022-03-06T23:18:49.020Z"
   },
   {
    "duration": 24,
    "start_time": "2022-03-06T23:18:49.031Z"
   },
   {
    "duration": 8,
    "start_time": "2022-03-06T23:18:49.056Z"
   },
   {
    "duration": 17,
    "start_time": "2022-03-06T23:18:49.066Z"
   },
   {
    "duration": 9,
    "start_time": "2022-03-06T23:18:49.085Z"
   },
   {
    "duration": 44590,
    "start_time": "2022-03-06T23:18:49.096Z"
   },
   {
    "duration": 4,
    "start_time": "2022-03-06T23:19:33.687Z"
   },
   {
    "duration": 54,
    "start_time": "2022-03-06T23:19:33.693Z"
   },
   {
    "duration": 10,
    "start_time": "2022-03-06T23:19:33.749Z"
   },
   {
    "duration": 16,
    "start_time": "2022-03-06T23:19:33.778Z"
   },
   {
    "duration": 12,
    "start_time": "2022-03-06T23:19:33.797Z"
   },
   {
    "duration": 24,
    "start_time": "2022-03-06T23:19:33.811Z"
   },
   {
    "duration": 12,
    "start_time": "2022-03-06T23:19:33.837Z"
   },
   {
    "duration": 70073,
    "start_time": "2022-03-06T23:19:33.877Z"
   },
   {
    "duration": 4,
    "start_time": "2022-03-06T23:20:43.951Z"
   },
   {
    "duration": 24,
    "start_time": "2022-03-06T23:20:43.956Z"
   },
   {
    "duration": 10,
    "start_time": "2022-03-06T23:20:43.982Z"
   },
   {
    "duration": 66,
    "start_time": "2022-03-06T23:20:43.993Z"
   },
   {
    "duration": 24,
    "start_time": "2022-03-06T23:20:44.061Z"
   },
   {
    "duration": 17,
    "start_time": "2022-03-06T23:20:44.086Z"
   },
   {
    "duration": 61,
    "start_time": "2022-03-06T23:20:44.105Z"
   },
   {
    "duration": 43,
    "start_time": "2022-03-06T23:20:44.168Z"
   },
   {
    "duration": 33,
    "start_time": "2022-03-06T23:20:44.213Z"
   },
   {
    "duration": 53,
    "start_time": "2022-03-06T23:20:44.247Z"
   },
   {
    "duration": 33,
    "start_time": "2022-03-06T23:20:44.301Z"
   },
   {
    "duration": 14,
    "start_time": "2022-03-06T23:20:44.336Z"
   },
   {
    "duration": 33,
    "start_time": "2022-03-06T23:20:44.352Z"
   },
   {
    "duration": 11,
    "start_time": "2022-03-06T23:20:44.387Z"
   },
   {
    "duration": 16,
    "start_time": "2022-03-06T23:20:44.399Z"
   },
   {
    "duration": 26,
    "start_time": "2022-03-06T23:20:44.417Z"
   },
   {
    "duration": 34,
    "start_time": "2022-03-06T23:20:44.444Z"
   },
   {
    "duration": 17,
    "start_time": "2022-03-06T23:20:44.480Z"
   },
   {
    "duration": 9,
    "start_time": "2022-03-06T23:20:44.499Z"
   },
   {
    "duration": 134,
    "start_time": "2022-03-06T23:20:44.510Z"
   },
   {
    "duration": 22,
    "start_time": "2022-03-06T23:20:44.646Z"
   },
   {
    "duration": 7,
    "start_time": "2022-03-06T23:20:44.677Z"
   },
   {
    "duration": 356,
    "start_time": "2022-03-06T23:20:44.686Z"
   },
   {
    "duration": 376,
    "start_time": "2022-03-06T23:20:45.044Z"
   },
   {
    "duration": 22,
    "start_time": "2022-03-06T23:20:45.422Z"
   },
   {
    "duration": 7022,
    "start_time": "2022-03-06T23:20:45.446Z"
   },
   {
    "duration": -280,
    "start_time": "2022-03-06T23:20:52.750Z"
   },
   {
    "duration": -283,
    "start_time": "2022-03-06T23:20:52.754Z"
   },
   {
    "duration": -286,
    "start_time": "2022-03-06T23:20:52.758Z"
   },
   {
    "duration": -288,
    "start_time": "2022-03-06T23:20:52.761Z"
   },
   {
    "duration": -290,
    "start_time": "2022-03-06T23:20:52.764Z"
   },
   {
    "duration": -293,
    "start_time": "2022-03-06T23:20:52.768Z"
   },
   {
    "duration": 6382,
    "start_time": "2022-03-06T23:22:04.058Z"
   },
   {
    "duration": 444,
    "start_time": "2022-03-06T23:24:02.925Z"
   },
   {
    "duration": 6805,
    "start_time": "2022-03-06T23:24:16.347Z"
   },
   {
    "duration": 600,
    "start_time": "2022-03-06T23:24:50.462Z"
   },
   {
    "duration": 620,
    "start_time": "2022-03-06T23:25:44.457Z"
   },
   {
    "duration": 14,
    "start_time": "2022-03-06T23:26:00.232Z"
   },
   {
    "duration": 7,
    "start_time": "2022-03-06T23:26:00.592Z"
   },
   {
    "duration": 128,
    "start_time": "2022-03-06T23:26:00.992Z"
   },
   {
    "duration": 21,
    "start_time": "2022-03-06T23:26:01.349Z"
   },
   {
    "duration": 3,
    "start_time": "2022-03-06T23:26:03.586Z"
   },
   {
    "duration": 362,
    "start_time": "2022-03-06T23:26:05.240Z"
   },
   {
    "duration": 346,
    "start_time": "2022-03-06T23:26:07.430Z"
   },
   {
    "duration": 21,
    "start_time": "2022-03-06T23:26:10.401Z"
   },
   {
    "duration": 588,
    "start_time": "2022-03-06T23:26:12.126Z"
   },
   {
    "duration": 581,
    "start_time": "2022-03-06T23:27:19.112Z"
   },
   {
    "duration": 591,
    "start_time": "2022-03-06T23:27:31.719Z"
   },
   {
    "duration": 579,
    "start_time": "2022-03-06T23:28:13.587Z"
   },
   {
    "duration": 593,
    "start_time": "2022-03-06T23:28:22.529Z"
   },
   {
    "duration": 622,
    "start_time": "2022-03-06T23:29:50.747Z"
   },
   {
    "duration": 608,
    "start_time": "2022-03-06T23:30:09.127Z"
   },
   {
    "duration": 626,
    "start_time": "2022-03-06T23:30:50.580Z"
   },
   {
    "duration": 609,
    "start_time": "2022-03-06T23:31:10.763Z"
   },
   {
    "duration": 8,
    "start_time": "2022-03-06T23:31:49.356Z"
   },
   {
    "duration": 12,
    "start_time": "2022-03-06T23:32:17.353Z"
   },
   {
    "duration": 6,
    "start_time": "2022-03-06T23:32:50.911Z"
   },
   {
    "duration": 5,
    "start_time": "2022-03-06T23:34:09.071Z"
   },
   {
    "duration": 6,
    "start_time": "2022-03-06T23:34:38.272Z"
   },
   {
    "duration": 4,
    "start_time": "2022-03-06T23:34:47.957Z"
   },
   {
    "duration": 5,
    "start_time": "2022-03-06T23:35:58.899Z"
   },
   {
    "duration": 4,
    "start_time": "2022-03-06T23:36:17.024Z"
   },
   {
    "duration": 3,
    "start_time": "2022-03-06T23:36:42.642Z"
   },
   {
    "duration": 254,
    "start_time": "2022-03-06T23:36:50.623Z"
   },
   {
    "duration": 5,
    "start_time": "2022-03-06T23:36:55.423Z"
   },
   {
    "duration": 367,
    "start_time": "2022-03-06T23:38:05.372Z"
   },
   {
    "duration": 368,
    "start_time": "2022-03-06T23:38:12.659Z"
   },
   {
    "duration": 351,
    "start_time": "2022-03-06T23:38:49.882Z"
   },
   {
    "duration": 382,
    "start_time": "2022-03-06T23:39:50.981Z"
   },
   {
    "duration": 348,
    "start_time": "2022-03-06T23:40:29.455Z"
   },
   {
    "duration": 365,
    "start_time": "2022-03-06T23:41:07.844Z"
   },
   {
    "duration": 352,
    "start_time": "2022-03-06T23:41:37.693Z"
   },
   {
    "duration": 367,
    "start_time": "2022-03-06T23:42:05.553Z"
   },
   {
    "duration": 586,
    "start_time": "2022-03-06T23:44:18.743Z"
   },
   {
    "duration": 592,
    "start_time": "2022-03-06T23:46:03.634Z"
   },
   {
    "duration": 580,
    "start_time": "2022-03-06T23:46:42.575Z"
   },
   {
    "duration": 598,
    "start_time": "2022-03-06T23:46:50.165Z"
   },
   {
    "duration": 571,
    "start_time": "2022-03-06T23:47:25.731Z"
   },
   {
    "duration": 22,
    "start_time": "2022-03-06T23:47:47.647Z"
   },
   {
    "duration": 257,
    "start_time": "2022-03-06T23:48:37.944Z"
   },
   {
    "duration": 592,
    "start_time": "2022-03-06T23:48:51.446Z"
   },
   {
    "duration": 593,
    "start_time": "2022-03-06T23:49:48.557Z"
   },
   {
    "duration": 2323,
    "start_time": "2022-03-06T23:53:03.793Z"
   },
   {
    "duration": 593,
    "start_time": "2022-03-06T23:53:20.173Z"
   },
   {
    "duration": 591,
    "start_time": "2022-03-06T23:55:07.560Z"
   },
   {
    "duration": 582,
    "start_time": "2022-03-06T23:55:40.732Z"
   },
   {
    "duration": 673,
    "start_time": "2022-03-06T23:56:23.661Z"
   },
   {
    "duration": 597,
    "start_time": "2022-03-06T23:56:32.673Z"
   },
   {
    "duration": 671,
    "start_time": "2022-03-06T23:56:55.122Z"
   },
   {
    "duration": 575,
    "start_time": "2022-03-06T23:57:25.889Z"
   },
   {
    "duration": 568,
    "start_time": "2022-03-06T23:57:46.948Z"
   },
   {
    "duration": 565,
    "start_time": "2022-03-06T23:58:02.754Z"
   },
   {
    "duration": 9,
    "start_time": "2022-03-07T00:01:27.546Z"
   },
   {
    "duration": 12,
    "start_time": "2022-03-07T00:02:13.516Z"
   },
   {
    "duration": 6,
    "start_time": "2022-03-07T00:03:07.799Z"
   },
   {
    "duration": 12,
    "start_time": "2022-03-07T00:04:01.760Z"
   },
   {
    "duration": 454,
    "start_time": "2022-03-07T00:04:23.676Z"
   },
   {
    "duration": 12,
    "start_time": "2022-03-07T00:04:31.985Z"
   },
   {
    "duration": 13,
    "start_time": "2022-03-07T00:05:14.636Z"
   },
   {
    "duration": 4,
    "start_time": "2022-03-07T00:06:44.274Z"
   },
   {
    "duration": 12,
    "start_time": "2022-03-07T00:07:09.070Z"
   },
   {
    "duration": 5,
    "start_time": "2022-03-07T00:07:23.474Z"
   },
   {
    "duration": 5,
    "start_time": "2022-03-07T00:07:35.297Z"
   },
   {
    "duration": 11,
    "start_time": "2022-03-07T00:08:14.600Z"
   },
   {
    "duration": 11,
    "start_time": "2022-03-07T00:08:22.116Z"
   },
   {
    "duration": 12,
    "start_time": "2022-03-07T00:09:11.100Z"
   },
   {
    "duration": 84,
    "start_time": "2022-03-07T00:09:27.159Z"
   },
   {
    "duration": 11,
    "start_time": "2022-03-07T00:09:33.474Z"
   },
   {
    "duration": 314,
    "start_time": "2022-03-07T00:09:46.595Z"
   },
   {
    "duration": 11,
    "start_time": "2022-03-07T00:09:54.287Z"
   },
   {
    "duration": 12,
    "start_time": "2022-03-07T00:10:15.160Z"
   },
   {
    "duration": 4,
    "start_time": "2022-03-07T00:10:35.047Z"
   },
   {
    "duration": 5,
    "start_time": "2022-03-07T00:10:56.478Z"
   },
   {
    "duration": 5,
    "start_time": "2022-03-07T00:19:37.380Z"
   },
   {
    "duration": 5,
    "start_time": "2022-03-07T00:20:02.762Z"
   },
   {
    "duration": 323,
    "start_time": "2022-03-07T00:22:25.602Z"
   },
   {
    "duration": 19,
    "start_time": "2022-03-07T00:22:50.581Z"
   },
   {
    "duration": 9,
    "start_time": "2022-03-07T00:22:59.584Z"
   },
   {
    "duration": 8,
    "start_time": "2022-03-07T00:23:28.723Z"
   },
   {
    "duration": 26,
    "start_time": "2022-03-07T00:23:35.487Z"
   },
   {
    "duration": 9,
    "start_time": "2022-03-07T00:25:10.248Z"
   },
   {
    "duration": 45,
    "start_time": "2022-03-07T00:25:16.202Z"
   },
   {
    "duration": 298,
    "start_time": "2022-03-07T00:28:18.164Z"
   },
   {
    "duration": 51,
    "start_time": "2022-03-07T00:28:34.405Z"
   },
   {
    "duration": 14,
    "start_time": "2022-03-07T00:28:50.776Z"
   },
   {
    "duration": 15,
    "start_time": "2022-03-07T00:29:02.718Z"
   },
   {
    "duration": 26,
    "start_time": "2022-03-07T00:29:08.519Z"
   },
   {
    "duration": 6605,
    "start_time": "2022-03-07T00:30:16.895Z"
   },
   {
    "duration": 44,
    "start_time": "2022-03-07T00:30:52.250Z"
   },
   {
    "duration": 12,
    "start_time": "2022-03-07T00:33:11.882Z"
   },
   {
    "duration": 134,
    "start_time": "2022-03-07T00:36:15.073Z"
   },
   {
    "duration": 25,
    "start_time": "2022-03-07T00:36:23.208Z"
   },
   {
    "duration": 49,
    "start_time": "2022-03-07T00:36:41.010Z"
   },
   {
    "duration": 14,
    "start_time": "2022-03-07T00:37:14.897Z"
   },
   {
    "duration": 17,
    "start_time": "2022-03-07T00:37:43.707Z"
   },
   {
    "duration": 47,
    "start_time": "2022-03-07T00:37:49.081Z"
   },
   {
    "duration": 31,
    "start_time": "2022-03-07T00:38:15.019Z"
   },
   {
    "duration": 17,
    "start_time": "2022-03-07T00:38:23.601Z"
   },
   {
    "duration": 486,
    "start_time": "2022-03-07T00:38:49.898Z"
   },
   {
    "duration": 20,
    "start_time": "2022-03-07T00:39:52.117Z"
   },
   {
    "duration": 46,
    "start_time": "2022-03-07T00:40:27.371Z"
   },
   {
    "duration": 19,
    "start_time": "2022-03-07T00:41:44.433Z"
   },
   {
    "duration": 21,
    "start_time": "2022-03-07T00:42:46.427Z"
   },
   {
    "duration": 3,
    "start_time": "2022-03-07T00:45:19.296Z"
   },
   {
    "duration": 20,
    "start_time": "2022-03-07T00:47:22.910Z"
   },
   {
    "duration": 5,
    "start_time": "2022-03-07T00:47:34.970Z"
   },
   {
    "duration": 5,
    "start_time": "2022-03-07T00:47:58.027Z"
   },
   {
    "duration": 6,
    "start_time": "2022-03-07T00:48:25.702Z"
   },
   {
    "duration": 5,
    "start_time": "2022-03-07T00:48:48.205Z"
   },
   {
    "duration": 96,
    "start_time": "2022-03-07T00:48:58.849Z"
   },
   {
    "duration": 21,
    "start_time": "2022-03-07T00:49:03.071Z"
   },
   {
    "duration": 12,
    "start_time": "2022-03-07T03:07:41.443Z"
   },
   {
    "duration": 12,
    "start_time": "2022-03-07T03:07:48.056Z"
   },
   {
    "duration": 12,
    "start_time": "2022-03-07T03:13:10.358Z"
   },
   {
    "duration": 12,
    "start_time": "2022-03-07T03:21:26.760Z"
   },
   {
    "duration": 14,
    "start_time": "2022-03-07T03:21:35.594Z"
   },
   {
    "duration": 11,
    "start_time": "2022-03-07T03:22:57.065Z"
   },
   {
    "duration": 11,
    "start_time": "2022-03-07T03:25:25.492Z"
   },
   {
    "duration": 5,
    "start_time": "2022-03-07T03:50:44.003Z"
   },
   {
    "duration": 5,
    "start_time": "2022-03-07T03:50:45.557Z"
   },
   {
    "duration": 11,
    "start_time": "2022-03-07T04:01:00.363Z"
   },
   {
    "duration": 3,
    "start_time": "2022-03-07T22:15:29.476Z"
   },
   {
    "duration": 276,
    "start_time": "2022-03-07T22:16:19.277Z"
   },
   {
    "duration": 6,
    "start_time": "2022-03-07T22:22:04.730Z"
   },
   {
    "duration": 10,
    "start_time": "2022-03-07T22:22:05.824Z"
   },
   {
    "duration": 5,
    "start_time": "2022-03-07T22:27:24.216Z"
   },
   {
    "duration": 10,
    "start_time": "2022-03-07T22:27:28.061Z"
   },
   {
    "duration": 7,
    "start_time": "2022-03-07T22:28:40.990Z"
   },
   {
    "duration": 12,
    "start_time": "2022-03-07T22:28:41.690Z"
   },
   {
    "duration": 8,
    "start_time": "2022-03-07T22:35:00.350Z"
   },
   {
    "duration": 7,
    "start_time": "2022-03-07T22:35:01.024Z"
   },
   {
    "duration": 7,
    "start_time": "2022-03-07T22:35:38.654Z"
   },
   {
    "duration": 303,
    "start_time": "2022-03-07T22:39:15.748Z"
   },
   {
    "duration": 308,
    "start_time": "2022-03-07T22:39:27.951Z"
   },
   {
    "duration": 8,
    "start_time": "2022-03-07T22:39:29.420Z"
   },
   {
    "duration": 18,
    "start_time": "2022-03-07T22:41:27.472Z"
   },
   {
    "duration": 10,
    "start_time": "2022-03-07T22:42:22.107Z"
   },
   {
    "duration": 20,
    "start_time": "2022-03-07T22:47:15.314Z"
   },
   {
    "duration": 99484,
    "start_time": "2022-03-07T22:47:22.349Z"
   },
   {
    "duration": 10,
    "start_time": "2022-03-07T22:49:30.245Z"
   },
   {
    "duration": 11,
    "start_time": "2022-03-07T22:50:47.050Z"
   },
   {
    "duration": 3,
    "start_time": "2022-03-07T22:55:01.926Z"
   },
   {
    "duration": 4,
    "start_time": "2022-03-07T22:56:59.098Z"
   },
   {
    "duration": 3,
    "start_time": "2022-03-07T22:57:39.338Z"
   },
   {
    "duration": 104977,
    "start_time": "2022-03-07T22:57:44.265Z"
   },
   {
    "duration": 4,
    "start_time": "2022-03-07T23:00:03.480Z"
   },
   {
    "duration": 3,
    "start_time": "2022-03-07T23:00:40.421Z"
   },
   {
    "duration": 86,
    "start_time": "2022-03-07T23:01:21.035Z"
   },
   {
    "duration": 11,
    "start_time": "2022-03-07T23:01:37.451Z"
   },
   {
    "duration": 14,
    "start_time": "2022-03-07T23:02:43.374Z"
   },
   {
    "duration": 9,
    "start_time": "2022-03-07T23:02:43.787Z"
   },
   {
    "duration": 14,
    "start_time": "2022-03-07T23:06:43.174Z"
   },
   {
    "duration": 11,
    "start_time": "2022-03-07T23:07:11.096Z"
   },
   {
    "duration": 45165,
    "start_time": "2022-03-07T23:09:30.246Z"
   },
   {
    "duration": 4,
    "start_time": "2022-03-07T23:11:47.029Z"
   },
   {
    "duration": 52,
    "start_time": "2022-03-07T23:11:48.001Z"
   },
   {
    "duration": 11,
    "start_time": "2022-03-07T23:12:58.830Z"
   },
   {
    "duration": 3,
    "start_time": "2022-03-07T23:16:15.818Z"
   },
   {
    "duration": 14,
    "start_time": "2022-03-07T23:16:49.840Z"
   },
   {
    "duration": 10,
    "start_time": "2022-03-07T23:17:02.526Z"
   },
   {
    "duration": 17,
    "start_time": "2022-03-07T23:21:02.079Z"
   },
   {
    "duration": 12,
    "start_time": "2022-03-07T23:21:26.633Z"
   },
   {
    "duration": 3,
    "start_time": "2022-03-07T23:23:36.217Z"
   },
   {
    "duration": 70846,
    "start_time": "2022-03-07T23:23:40.142Z"
   },
   {
    "duration": 4,
    "start_time": "2022-03-07T23:25:29.367Z"
   },
   {
    "duration": 11,
    "start_time": "2022-03-07T23:26:01.018Z"
   },
   {
    "duration": 68,
    "start_time": "2022-03-07T23:26:26.904Z"
   },
   {
    "duration": 13,
    "start_time": "2022-03-07T23:26:45.626Z"
   },
   {
    "duration": 10,
    "start_time": "2022-03-07T23:27:35.472Z"
   },
   {
    "duration": 46,
    "start_time": "2022-03-07T23:30:24.122Z"
   },
   {
    "duration": 32,
    "start_time": "2022-03-07T23:31:30.130Z"
   },
   {
    "duration": 31,
    "start_time": "2022-03-07T23:31:46.406Z"
   },
   {
    "duration": 35,
    "start_time": "2022-03-07T23:32:20.977Z"
   },
   {
    "duration": 36,
    "start_time": "2022-03-07T23:34:08.922Z"
   },
   {
    "duration": 30,
    "start_time": "2022-03-07T23:34:55.851Z"
   },
   {
    "duration": 285,
    "start_time": "2022-03-07T23:41:03.851Z"
   },
   {
    "duration": 36,
    "start_time": "2022-03-07T23:41:22.620Z"
   },
   {
    "duration": 26,
    "start_time": "2022-03-07T23:41:47.348Z"
   },
   {
    "duration": 36,
    "start_time": "2022-03-07T23:42:38.993Z"
   },
   {
    "duration": 11,
    "start_time": "2022-03-07T23:42:45.030Z"
   },
   {
    "duration": 37,
    "start_time": "2022-03-07T23:54:41.955Z"
   },
   {
    "duration": 10,
    "start_time": "2022-03-08T00:03:43.591Z"
   },
   {
    "duration": 19,
    "start_time": "2022-03-08T00:05:27.279Z"
   },
   {
    "duration": 25,
    "start_time": "2022-03-08T00:08:17.586Z"
   },
   {
    "duration": 2,
    "start_time": "2022-03-08T00:42:51.340Z"
   },
   {
    "duration": 350,
    "start_time": "2022-03-08T00:46:40.608Z"
   },
   {
    "duration": 441,
    "start_time": "2022-03-08T00:46:49.577Z"
   },
   {
    "duration": 4,
    "start_time": "2022-03-08T00:56:12.596Z"
   },
   {
    "duration": 5,
    "start_time": "2022-03-08T00:56:23.645Z"
   },
   {
    "duration": 8,
    "start_time": "2022-03-08T00:56:30.530Z"
   },
   {
    "duration": 7,
    "start_time": "2022-03-08T01:03:17.144Z"
   },
   {
    "duration": 274,
    "start_time": "2022-03-08T01:04:40.027Z"
   },
   {
    "duration": 10,
    "start_time": "2022-03-08T01:04:52.047Z"
   },
   {
    "duration": 13,
    "start_time": "2022-03-08T01:07:00.715Z"
   },
   {
    "duration": 13,
    "start_time": "2022-03-08T01:07:42.245Z"
   },
   {
    "duration": 6,
    "start_time": "2022-03-08T01:20:43.906Z"
   },
   {
    "duration": 295,
    "start_time": "2022-03-08T01:43:12.024Z"
   },
   {
    "duration": 255,
    "start_time": "2022-03-08T01:43:19.074Z"
   },
   {
    "duration": 80,
    "start_time": "2022-03-08T01:43:20.106Z"
   },
   {
    "duration": 6599,
    "start_time": "2022-03-08T01:43:24.808Z"
   },
   {
    "duration": 37,
    "start_time": "2022-03-08T01:44:00.549Z"
   },
   {
    "duration": 5,
    "start_time": "2022-03-08T01:44:04.110Z"
   },
   {
    "duration": 22,
    "start_time": "2022-03-08T01:44:05.567Z"
   },
   {
    "duration": 7561,
    "start_time": "2022-03-08T01:44:06.286Z"
   },
   {
    "duration": 4,
    "start_time": "2022-03-08T01:44:35.168Z"
   },
   {
    "duration": 319,
    "start_time": "2022-03-08T01:44:35.174Z"
   },
   {
    "duration": 9,
    "start_time": "2022-03-08T01:44:35.495Z"
   },
   {
    "duration": 11,
    "start_time": "2022-03-08T01:44:35.506Z"
   },
   {
    "duration": 7,
    "start_time": "2022-03-08T01:44:35.519Z"
   },
   {
    "duration": 11,
    "start_time": "2022-03-08T01:44:35.527Z"
   },
   {
    "duration": 15,
    "start_time": "2022-03-08T01:44:35.540Z"
   },
   {
    "duration": 29,
    "start_time": "2022-03-08T01:44:35.557Z"
   },
   {
    "duration": 11,
    "start_time": "2022-03-08T01:44:35.592Z"
   },
   {
    "duration": 8,
    "start_time": "2022-03-08T01:44:35.607Z"
   },
   {
    "duration": 342,
    "start_time": "2022-03-08T01:44:35.616Z"
   },
   {
    "duration": 26,
    "start_time": "2022-03-08T01:44:35.960Z"
   },
   {
    "duration": 25,
    "start_time": "2022-03-08T01:44:35.988Z"
   },
   {
    "duration": 9,
    "start_time": "2022-03-08T01:44:36.015Z"
   },
   {
    "duration": 21,
    "start_time": "2022-03-08T01:44:36.026Z"
   },
   {
    "duration": 98992,
    "start_time": "2022-03-08T01:44:36.049Z"
   },
   {
    "duration": 11,
    "start_time": "2022-03-08T01:46:15.042Z"
   },
   {
    "duration": 22,
    "start_time": "2022-03-08T01:46:15.055Z"
   },
   {
    "duration": 5,
    "start_time": "2022-03-08T01:46:15.079Z"
   },
   {
    "duration": 102679,
    "start_time": "2022-03-08T01:46:15.085Z"
   },
   {
    "duration": 4,
    "start_time": "2022-03-08T01:47:57.765Z"
   },
   {
    "duration": 25,
    "start_time": "2022-03-08T01:47:57.770Z"
   },
   {
    "duration": 116,
    "start_time": "2022-03-08T01:47:57.799Z"
   },
   {
    "duration": 11,
    "start_time": "2022-03-08T01:47:57.916Z"
   },
   {
    "duration": 46,
    "start_time": "2022-03-08T01:47:57.929Z"
   },
   {
    "duration": 36,
    "start_time": "2022-03-08T01:47:57.979Z"
   },
   {
    "duration": 25,
    "start_time": "2022-03-08T01:47:58.020Z"
   },
   {
    "duration": 21,
    "start_time": "2022-03-08T01:47:58.048Z"
   },
   {
    "duration": 17,
    "start_time": "2022-03-08T01:47:58.071Z"
   },
   {
    "duration": 46061,
    "start_time": "2022-03-08T01:47:58.090Z"
   },
   {
    "duration": 4,
    "start_time": "2022-03-08T01:48:44.152Z"
   },
   {
    "duration": 84,
    "start_time": "2022-03-08T01:48:44.158Z"
   },
   {
    "duration": 10,
    "start_time": "2022-03-08T01:48:44.244Z"
   },
   {
    "duration": 26,
    "start_time": "2022-03-08T01:48:44.256Z"
   },
   {
    "duration": 10,
    "start_time": "2022-03-08T01:48:44.284Z"
   },
   {
    "duration": 17,
    "start_time": "2022-03-08T01:48:44.297Z"
   },
   {
    "duration": 16,
    "start_time": "2022-03-08T01:48:44.316Z"
   },
   {
    "duration": 4,
    "start_time": "2022-03-08T01:48:44.335Z"
   },
   {
    "duration": 70194,
    "start_time": "2022-03-08T01:48:44.341Z"
   },
   {
    "duration": 4,
    "start_time": "2022-03-08T01:49:54.537Z"
   },
   {
    "duration": 300,
    "start_time": "2022-03-08T01:49:54.542Z"
   },
   {
    "duration": 161,
    "start_time": "2022-03-08T01:49:54.844Z"
   },
   {
    "duration": 193,
    "start_time": "2022-03-08T01:49:55.006Z"
   },
   {
    "duration": 370,
    "start_time": "2022-03-08T01:49:55.200Z"
   },
   {
    "duration": 265,
    "start_time": "2022-03-08T01:49:55.572Z"
   },
   {
    "duration": 252,
    "start_time": "2022-03-08T01:49:55.839Z"
   },
   {
    "duration": 364,
    "start_time": "2022-03-08T01:49:56.093Z"
   },
   {
    "duration": 202,
    "start_time": "2022-03-08T01:49:56.459Z"
   },
   {
    "duration": 271,
    "start_time": "2022-03-08T01:49:56.662Z"
   },
   {
    "duration": 340,
    "start_time": "2022-03-08T01:49:56.934Z"
   },
   {
    "duration": 304,
    "start_time": "2022-03-08T01:49:57.276Z"
   },
   {
    "duration": 140,
    "start_time": "2022-03-08T01:49:57.582Z"
   },
   {
    "duration": 248,
    "start_time": "2022-03-08T01:49:57.724Z"
   },
   {
    "duration": 204,
    "start_time": "2022-03-08T01:49:57.974Z"
   },
   {
    "duration": 305,
    "start_time": "2022-03-08T01:49:58.179Z"
   },
   {
    "duration": 111,
    "start_time": "2022-03-08T01:49:58.486Z"
   },
   {
    "duration": 197,
    "start_time": "2022-03-08T01:49:58.599Z"
   },
   {
    "duration": 157,
    "start_time": "2022-03-08T01:49:58.798Z"
   },
   {
    "duration": 154,
    "start_time": "2022-03-08T01:49:58.957Z"
   },
   {
    "duration": 298,
    "start_time": "2022-03-08T01:49:59.113Z"
   },
   {
    "duration": 592,
    "start_time": "2022-03-08T01:49:59.413Z"
   },
   {
    "duration": 377,
    "start_time": "2022-03-08T01:50:00.007Z"
   },
   {
    "duration": 638,
    "start_time": "2022-03-08T01:50:00.385Z"
   },
   {
    "duration": 13,
    "start_time": "2022-03-08T01:50:01.025Z"
   },
   {
    "duration": 213,
    "start_time": "2022-03-08T01:50:01.039Z"
   },
   {
    "duration": 168,
    "start_time": "2022-03-08T01:50:01.254Z"
   },
   {
    "duration": 564,
    "start_time": "2022-03-08T01:50:01.424Z"
   },
   {
    "duration": 379,
    "start_time": "2022-03-08T01:50:01.990Z"
   },
   {
    "duration": 615,
    "start_time": "2022-03-08T01:50:02.371Z"
   },
   {
    "duration": 12,
    "start_time": "2022-03-08T01:50:02.989Z"
   },
   {
    "duration": 800,
    "start_time": "2022-03-08T01:50:03.003Z"
   },
   {
    "duration": 460,
    "start_time": "2022-03-08T01:50:03.805Z"
   },
   {
    "duration": 639,
    "start_time": "2022-03-08T01:50:04.267Z"
   },
   {
    "duration": 13,
    "start_time": "2022-03-08T01:50:04.908Z"
   },
   {
    "duration": 23,
    "start_time": "2022-03-08T01:50:04.923Z"
   },
   {
    "duration": 385,
    "start_time": "2022-03-08T01:50:04.948Z"
   },
   {
    "duration": 373,
    "start_time": "2022-03-08T01:50:05.335Z"
   },
   {
    "duration": 611,
    "start_time": "2022-03-08T01:50:05.710Z"
   },
   {
    "duration": 12,
    "start_time": "2022-03-08T01:50:06.323Z"
   },
   {
    "duration": 5,
    "start_time": "2022-03-08T01:50:06.337Z"
   },
   {
    "duration": 4,
    "start_time": "2022-03-08T01:50:06.347Z"
   },
   {
    "duration": 5,
    "start_time": "2022-03-08T01:50:06.378Z"
   },
   {
    "duration": 23,
    "start_time": "2022-03-08T01:50:06.385Z"
   },
   {
    "duration": 300,
    "start_time": "2022-03-08T04:38:37.327Z"
   },
   {
    "duration": 5,
    "start_time": "2022-03-08T04:39:46.425Z"
   },
   {
    "duration": 9,
    "start_time": "2022-03-08T04:40:16.950Z"
   },
   {
    "duration": 152,
    "start_time": "2022-03-08T04:40:23.073Z"
   },
   {
    "duration": 277,
    "start_time": "2022-03-08T04:42:39.182Z"
   },
   {
    "duration": 6,
    "start_time": "2022-03-08T04:43:10.325Z"
   },
   {
    "duration": 5,
    "start_time": "2022-03-08T04:43:48.672Z"
   },
   {
    "duration": 272,
    "start_time": "2022-03-08T04:44:06.749Z"
   },
   {
    "duration": 13,
    "start_time": "2022-03-08T04:46:29.752Z"
   },
   {
    "duration": 5,
    "start_time": "2022-03-08T04:46:33.216Z"
   },
   {
    "duration": 282,
    "start_time": "2022-03-08T04:46:34.844Z"
   },
   {
    "duration": 12,
    "start_time": "2022-03-08T04:47:06.953Z"
   },
   {
    "duration": 12,
    "start_time": "2022-03-08T04:47:24.544Z"
   },
   {
    "duration": 370,
    "start_time": "2022-03-08T04:47:25.300Z"
   },
   {
    "duration": 13,
    "start_time": "2022-03-08T04:49:06.762Z"
   },
   {
    "duration": 5,
    "start_time": "2022-03-08T04:49:12.535Z"
   },
   {
    "duration": 15,
    "start_time": "2022-03-08T04:50:34.006Z"
   },
   {
    "duration": 284,
    "start_time": "2022-03-08T04:50:49.371Z"
   },
   {
    "duration": 289,
    "start_time": "2022-03-08T04:51:07.766Z"
   },
   {
    "duration": 14,
    "start_time": "2022-03-08T04:53:02.047Z"
   },
   {
    "duration": 300,
    "start_time": "2022-03-08T04:53:05.061Z"
   },
   {
    "duration": 298,
    "start_time": "2022-03-08T04:53:13.065Z"
   },
   {
    "duration": 290,
    "start_time": "2022-03-08T04:53:21.082Z"
   },
   {
    "duration": 16,
    "start_time": "2022-03-08T04:55:17.238Z"
   },
   {
    "duration": 15,
    "start_time": "2022-03-08T04:56:31.092Z"
   },
   {
    "duration": 283,
    "start_time": "2022-03-08T04:57:54.882Z"
   },
   {
    "duration": 273,
    "start_time": "2022-03-08T04:57:57.712Z"
   },
   {
    "duration": 14,
    "start_time": "2022-03-08T04:59:08.626Z"
   },
   {
    "duration": 279,
    "start_time": "2022-03-08T05:00:11.894Z"
   },
   {
    "duration": 295,
    "start_time": "2022-03-08T05:00:14.261Z"
   },
   {
    "duration": 6348,
    "start_time": "2022-03-08T05:00:49.199Z"
   },
   {
    "duration": 5,
    "start_time": "2022-03-08T05:01:02.178Z"
   },
   {
    "duration": 959,
    "start_time": "2022-03-08T21:54:22.740Z"
   },
   {
    "duration": 301,
    "start_time": "2022-03-08T21:54:24.987Z"
   },
   {
    "duration": 7,
    "start_time": "2022-03-08T21:54:28.876Z"
   },
   {
    "duration": 12,
    "start_time": "2022-03-08T21:54:29.433Z"
   },
   {
    "duration": 4,
    "start_time": "2022-03-08T21:54:39.687Z"
   },
   {
    "duration": 7,
    "start_time": "2022-03-08T21:54:40.676Z"
   },
   {
    "duration": 8,
    "start_time": "2022-03-08T21:54:55.915Z"
   },
   {
    "duration": 11,
    "start_time": "2022-03-08T21:54:56.592Z"
   },
   {
    "duration": 6,
    "start_time": "2022-03-08T21:55:00.658Z"
   },
   {
    "duration": 6,
    "start_time": "2022-03-08T21:55:01.269Z"
   },
   {
    "duration": 244,
    "start_time": "2022-03-08T21:55:03.475Z"
   },
   {
    "duration": 12,
    "start_time": "2022-03-08T21:55:03.908Z"
   },
   {
    "duration": 17,
    "start_time": "2022-03-08T21:55:45.680Z"
   },
   {
    "duration": 9,
    "start_time": "2022-03-08T21:55:46.078Z"
   },
   {
    "duration": 15,
    "start_time": "2022-03-08T21:56:19.167Z"
   },
   {
    "duration": 8,
    "start_time": "2022-03-08T21:56:19.674Z"
   },
   {
    "duration": 20,
    "start_time": "2022-03-08T21:56:23.519Z"
   },
   {
    "duration": 96140,
    "start_time": "2022-03-08T21:56:29.477Z"
   },
   {
    "duration": 9,
    "start_time": "2022-03-08T21:58:13.644Z"
   },
   {
    "duration": 9,
    "start_time": "2022-03-08T21:58:21.818Z"
   },
   {
    "duration": 3,
    "start_time": "2022-03-08T21:58:27.339Z"
   },
   {
    "duration": 100972,
    "start_time": "2022-03-08T21:58:28.696Z"
   },
   {
    "duration": 4,
    "start_time": "2022-03-08T22:00:26.100Z"
   },
   {
    "duration": 3,
    "start_time": "2022-03-08T22:00:28.884Z"
   },
   {
    "duration": 78,
    "start_time": "2022-03-08T22:00:30.392Z"
   },
   {
    "duration": 10,
    "start_time": "2022-03-08T22:00:32.920Z"
   },
   {
    "duration": 10,
    "start_time": "2022-03-08T22:00:39.526Z"
   },
   {
    "duration": 8,
    "start_time": "2022-03-08T22:00:40.201Z"
   },
   {
    "duration": 13,
    "start_time": "2022-03-08T22:00:44.536Z"
   },
   {
    "duration": 5,
    "start_time": "2022-03-08T22:01:08.884Z"
   },
   {
    "duration": 9,
    "start_time": "2022-03-08T22:01:09.570Z"
   },
   {
    "duration": 2,
    "start_time": "2022-03-08T22:01:12.269Z"
   },
   {
    "duration": 41902,
    "start_time": "2022-03-08T22:01:14.656Z"
   },
   {
    "duration": 4,
    "start_time": "2022-03-08T22:04:09.890Z"
   },
   {
    "duration": 44,
    "start_time": "2022-03-08T22:04:10.352Z"
   },
   {
    "duration": 10,
    "start_time": "2022-03-08T22:04:50.420Z"
   },
   {
    "duration": 16,
    "start_time": "2022-03-08T22:05:11.062Z"
   },
   {
    "duration": 12,
    "start_time": "2022-03-08T22:06:28.829Z"
   },
   {
    "duration": 12,
    "start_time": "2022-03-08T22:06:53.888Z"
   },
   {
    "duration": 8,
    "start_time": "2022-03-08T22:06:55.599Z"
   },
   {
    "duration": 14,
    "start_time": "2022-03-08T22:07:03.154Z"
   },
   {
    "duration": 11,
    "start_time": "2022-03-08T22:07:04.121Z"
   },
   {
    "duration": 2,
    "start_time": "2022-03-08T22:07:06.439Z"
   },
   {
    "duration": 65519,
    "start_time": "2022-03-08T22:07:09.278Z"
   },
   {
    "duration": 3,
    "start_time": "2022-03-08T22:08:20.477Z"
   },
   {
    "duration": 59,
    "start_time": "2022-03-08T22:08:20.874Z"
   },
   {
    "duration": 10,
    "start_time": "2022-03-08T22:08:23.056Z"
   },
   {
    "duration": 7,
    "start_time": "2022-03-08T22:08:26.215Z"
   },
   {
    "duration": 51,
    "start_time": "2022-03-08T22:08:31.126Z"
   },
   {
    "duration": 33,
    "start_time": "2022-03-08T22:08:33.811Z"
   },
   {
    "duration": 27,
    "start_time": "2022-03-08T22:08:35.716Z"
   },
   {
    "duration": 30,
    "start_time": "2022-03-08T22:08:37.654Z"
   },
   {
    "duration": 29,
    "start_time": "2022-03-08T22:08:43.830Z"
   },
   {
    "duration": 9,
    "start_time": "2022-03-08T22:08:47.036Z"
   },
   {
    "duration": 15,
    "start_time": "2022-03-08T22:08:49.257Z"
   },
   {
    "duration": 21,
    "start_time": "2022-03-08T22:08:51.119Z"
   },
   {
    "duration": 5,
    "start_time": "2022-03-08T22:08:53.551Z"
   },
   {
    "duration": 11,
    "start_time": "2022-03-08T22:08:55.881Z"
   },
   {
    "duration": 6,
    "start_time": "2022-03-08T22:08:56.940Z"
   },
   {
    "duration": 101,
    "start_time": "2022-03-08T22:08:57.727Z"
   },
   {
    "duration": 18,
    "start_time": "2022-03-08T22:08:58.324Z"
   },
   {
    "duration": 2,
    "start_time": "2022-03-08T22:09:05.967Z"
   },
   {
    "duration": 278,
    "start_time": "2022-03-08T22:09:26.427Z"
   },
   {
    "duration": 362,
    "start_time": "2022-03-08T22:15:41.859Z"
   },
   {
    "duration": 8039,
    "start_time": "2022-03-08T22:16:16.519Z"
   },
   {
    "duration": 8060,
    "start_time": "2022-03-08T22:16:49.014Z"
   },
   {
    "duration": 8,
    "start_time": "2022-03-08T22:17:16.554Z"
   },
   {
    "duration": 8,
    "start_time": "2022-03-08T22:17:41.192Z"
   },
   {
    "duration": 9,
    "start_time": "2022-03-08T22:18:57.348Z"
   },
   {
    "duration": 10,
    "start_time": "2022-03-08T22:19:19.490Z"
   },
   {
    "duration": 298,
    "start_time": "2022-03-08T22:19:26.899Z"
   },
   {
    "duration": 9,
    "start_time": "2022-03-08T22:19:38.568Z"
   },
   {
    "duration": 10,
    "start_time": "2022-03-08T22:20:07.691Z"
   },
   {
    "duration": 9,
    "start_time": "2022-03-08T22:20:19.624Z"
   },
   {
    "duration": 9,
    "start_time": "2022-03-08T22:20:33.170Z"
   },
   {
    "duration": 9,
    "start_time": "2022-03-08T22:20:50.739Z"
   },
   {
    "duration": 312,
    "start_time": "2022-03-08T22:21:20.517Z"
   },
   {
    "duration": 10,
    "start_time": "2022-03-08T22:21:29.900Z"
   },
   {
    "duration": 10,
    "start_time": "2022-03-08T22:22:56.612Z"
   },
   {
    "duration": 9,
    "start_time": "2022-03-08T22:23:24.051Z"
   },
   {
    "duration": 9,
    "start_time": "2022-03-08T22:24:11.808Z"
   },
   {
    "duration": 9,
    "start_time": "2022-03-08T22:24:38.346Z"
   },
   {
    "duration": 8,
    "start_time": "2022-03-08T22:27:19.862Z"
   },
   {
    "duration": 10,
    "start_time": "2022-03-08T22:27:30.782Z"
   },
   {
    "duration": 317,
    "start_time": "2022-03-08T22:27:44.984Z"
   },
   {
    "duration": 277,
    "start_time": "2022-03-08T22:28:32.550Z"
   },
   {
    "duration": 486,
    "start_time": "2022-03-08T22:32:09.041Z"
   },
   {
    "duration": 11,
    "start_time": "2022-03-08T22:32:13.861Z"
   },
   {
    "duration": 11,
    "start_time": "2022-03-08T22:32:30.333Z"
   },
   {
    "duration": 12,
    "start_time": "2022-03-08T22:32:37.715Z"
   },
   {
    "duration": 224,
    "start_time": "2022-03-08T22:32:47.328Z"
   },
   {
    "duration": 224,
    "start_time": "2022-03-08T22:33:15.209Z"
   },
   {
    "duration": 223,
    "start_time": "2022-03-08T22:33:18.335Z"
   },
   {
    "duration": 332,
    "start_time": "2022-03-08T22:35:00.096Z"
   },
   {
    "duration": 280,
    "start_time": "2022-03-08T22:38:56.805Z"
   },
   {
    "duration": 336,
    "start_time": "2022-03-08T22:40:04.969Z"
   },
   {
    "duration": 307,
    "start_time": "2022-03-08T22:41:07.122Z"
   },
   {
    "duration": 305,
    "start_time": "2022-03-08T22:42:29.062Z"
   },
   {
    "duration": 273,
    "start_time": "2022-03-08T22:42:42.998Z"
   },
   {
    "duration": 273,
    "start_time": "2022-03-08T22:43:38.922Z"
   },
   {
    "duration": 282,
    "start_time": "2022-03-08T22:44:17.865Z"
   },
   {
    "duration": 278,
    "start_time": "2022-03-08T22:45:44.217Z"
   },
   {
    "duration": 12,
    "start_time": "2022-03-08T22:52:17.627Z"
   },
   {
    "duration": 20,
    "start_time": "2022-03-08T23:08:19.033Z"
   },
   {
    "duration": 293,
    "start_time": "2022-03-08T23:12:27.616Z"
   },
   {
    "duration": 3665,
    "start_time": "2022-03-08T23:12:42.652Z"
   },
   {
    "duration": 5,
    "start_time": "2022-03-08T23:12:48.669Z"
   },
   {
    "duration": 4,
    "start_time": "2022-03-08T23:12:52.617Z"
   },
   {
    "duration": 4,
    "start_time": "2022-03-08T23:13:09.092Z"
   },
   {
    "duration": 278,
    "start_time": "2022-03-08T23:27:50.811Z"
   },
   {
    "duration": 435,
    "start_time": "2022-03-08T23:32:25.170Z"
   },
   {
    "duration": 76,
    "start_time": "2022-03-08T23:39:03.500Z"
   },
   {
    "duration": 310,
    "start_time": "2022-03-08T23:47:11.910Z"
   },
   {
    "duration": 276,
    "start_time": "2022-03-08T23:47:15.159Z"
   },
   {
    "duration": 443,
    "start_time": "2022-03-08T23:51:16.450Z"
   },
   {
    "duration": 12,
    "start_time": "2022-03-08T23:51:57.875Z"
   },
   {
    "duration": 12,
    "start_time": "2022-03-08T23:52:21.944Z"
   },
   {
    "duration": 337,
    "start_time": "2022-03-08T23:54:33.034Z"
   },
   {
    "duration": 3,
    "start_time": "2022-03-09T02:10:13.563Z"
   },
   {
    "duration": 3,
    "start_time": "2022-03-09T02:11:49.803Z"
   },
   {
    "duration": 290,
    "start_time": "2022-03-09T02:11:51.800Z"
   },
   {
    "duration": 4,
    "start_time": "2022-03-09T02:13:15.652Z"
   },
   {
    "duration": 6,
    "start_time": "2022-03-09T02:16:12.224Z"
   },
   {
    "duration": 7,
    "start_time": "2022-03-09T02:16:16.178Z"
   },
   {
    "duration": 10,
    "start_time": "2022-03-09T02:16:26.871Z"
   },
   {
    "duration": 8,
    "start_time": "2022-03-09T02:20:58.619Z"
   },
   {
    "duration": 10,
    "start_time": "2022-03-09T02:21:04.850Z"
   },
   {
    "duration": 17,
    "start_time": "2022-03-09T02:21:24.680Z"
   },
   {
    "duration": 1015,
    "start_time": "2022-03-09T02:22:32.099Z"
   },
   {
    "duration": 270,
    "start_time": "2022-03-09T02:22:33.116Z"
   },
   {
    "duration": 5,
    "start_time": "2022-03-09T02:22:33.388Z"
   },
   {
    "duration": 13,
    "start_time": "2022-03-09T02:22:33.395Z"
   },
   {
    "duration": 3,
    "start_time": "2022-03-09T02:22:33.409Z"
   },
   {
    "duration": 8,
    "start_time": "2022-03-09T02:22:33.414Z"
   },
   {
    "duration": 6,
    "start_time": "2022-03-09T02:22:33.423Z"
   },
   {
    "duration": 11,
    "start_time": "2022-03-09T02:22:33.430Z"
   },
   {
    "duration": 8,
    "start_time": "2022-03-09T02:22:33.443Z"
   },
   {
    "duration": 8,
    "start_time": "2022-03-09T02:22:33.452Z"
   },
   {
    "duration": 227,
    "start_time": "2022-03-09T02:22:33.461Z"
   },
   {
    "duration": 21,
    "start_time": "2022-03-09T02:22:33.689Z"
   },
   {
    "duration": 14,
    "start_time": "2022-03-09T02:22:33.711Z"
   },
   {
    "duration": 7,
    "start_time": "2022-03-09T02:22:33.727Z"
   },
   {
    "duration": 30,
    "start_time": "2022-03-09T02:22:33.735Z"
   },
   {
    "duration": 92051,
    "start_time": "2022-03-09T02:22:33.766Z"
   },
   {
    "duration": 8,
    "start_time": "2022-03-09T02:24:05.819Z"
   },
   {
    "duration": 11,
    "start_time": "2022-03-09T02:24:05.828Z"
   },
   {
    "duration": 9,
    "start_time": "2022-03-09T02:30:57.063Z"
   },
   {
    "duration": 10,
    "start_time": "2022-03-09T02:31:05.372Z"
   },
   {
    "duration": 3,
    "start_time": "2022-03-09T02:31:12.089Z"
   },
   {
    "duration": 93131,
    "start_time": "2022-03-09T02:31:16.713Z"
   },
   {
    "duration": 3,
    "start_time": "2022-03-09T02:32:56.085Z"
   },
   {
    "duration": 3,
    "start_time": "2022-03-09T02:32:56.563Z"
   },
   {
    "duration": 69,
    "start_time": "2022-03-09T02:32:57.458Z"
   },
   {
    "duration": 9,
    "start_time": "2022-03-09T02:32:59.895Z"
   },
   {
    "duration": 10,
    "start_time": "2022-03-09T02:33:09.656Z"
   },
   {
    "duration": 7,
    "start_time": "2022-03-09T02:33:10.577Z"
   },
   {
    "duration": 12,
    "start_time": "2022-03-09T02:34:09.864Z"
   },
   {
    "duration": 9,
    "start_time": "2022-03-09T02:34:10.601Z"
   },
   {
    "duration": 2,
    "start_time": "2022-03-09T02:35:00.646Z"
   },
   {
    "duration": 39485,
    "start_time": "2022-03-09T02:35:02.270Z"
   },
   {
    "duration": 3,
    "start_time": "2022-03-09T02:36:06.441Z"
   },
   {
    "duration": 46,
    "start_time": "2022-03-09T02:36:07.847Z"
   },
   {
    "duration": 9,
    "start_time": "2022-03-09T02:36:09.922Z"
   },
   {
    "duration": 12,
    "start_time": "2022-03-09T02:36:16.535Z"
   },
   {
    "duration": 8,
    "start_time": "2022-03-09T02:36:16.881Z"
   },
   {
    "duration": 16,
    "start_time": "2022-03-09T02:38:10.517Z"
   },
   {
    "duration": 10,
    "start_time": "2022-03-09T02:38:11.442Z"
   },
   {
    "duration": 7118,
    "start_time": "2022-03-09T02:39:24.894Z"
   },
   {
    "duration": -172,
    "start_time": "2022-03-09T02:39:32.186Z"
   },
   {
    "duration": 2,
    "start_time": "2022-03-09T02:39:37.109Z"
   },
   {
    "duration": 64081,
    "start_time": "2022-03-09T02:39:37.492Z"
   },
   {
    "duration": 4,
    "start_time": "2022-03-09T02:40:41.574Z"
   },
   {
    "duration": 64,
    "start_time": "2022-03-09T02:40:41.579Z"
   },
   {
    "duration": 10,
    "start_time": "2022-03-09T02:41:03.763Z"
   },
   {
    "duration": 8,
    "start_time": "2022-03-09T02:41:25.987Z"
   },
   {
    "duration": 8,
    "start_time": "2022-03-09T02:41:29.289Z"
   },
   {
    "duration": 53,
    "start_time": "2022-03-09T02:45:30.911Z"
   },
   {
    "duration": 36,
    "start_time": "2022-03-09T02:46:08.821Z"
   },
   {
    "duration": 29,
    "start_time": "2022-03-09T02:46:14.942Z"
   },
   {
    "duration": 30,
    "start_time": "2022-03-09T02:47:50.538Z"
   },
   {
    "duration": 298,
    "start_time": "2022-03-09T02:49:53.889Z"
   },
   {
    "duration": 31,
    "start_time": "2022-03-09T02:50:12.658Z"
   },
   {
    "duration": 9,
    "start_time": "2022-03-09T03:03:32.346Z"
   },
   {
    "duration": 16,
    "start_time": "2022-03-09T03:03:46.648Z"
   },
   {
    "duration": 23,
    "start_time": "2022-03-09T03:04:10.513Z"
   },
   {
    "duration": 5,
    "start_time": "2022-03-09T03:10:45.713Z"
   },
   {
    "duration": 11,
    "start_time": "2022-03-09T03:10:50.580Z"
   },
   {
    "duration": 7,
    "start_time": "2022-03-09T03:10:52.235Z"
   },
   {
    "duration": 11,
    "start_time": "2022-03-09T03:11:21.277Z"
   },
   {
    "duration": 6,
    "start_time": "2022-03-09T03:11:22.679Z"
   },
   {
    "duration": 6,
    "start_time": "2022-03-09T03:11:51.326Z"
   },
   {
    "duration": 101,
    "start_time": "2022-03-09T03:12:31.079Z"
   },
   {
    "duration": 20,
    "start_time": "2022-03-09T03:12:33.556Z"
   },
   {
    "duration": 3,
    "start_time": "2022-03-09T03:20:29.799Z"
   },
   {
    "duration": 283,
    "start_time": "2022-03-09T03:23:48.666Z"
   },
   {
    "duration": 300,
    "start_time": "2022-03-09T03:28:07.579Z"
   },
   {
    "duration": 446,
    "start_time": "2022-03-09T03:36:38.840Z"
   },
   {
    "duration": 12,
    "start_time": "2022-03-09T03:45:48.593Z"
   },
   {
    "duration": 265,
    "start_time": "2022-03-09T03:49:04.243Z"
   },
   {
    "duration": 252,
    "start_time": "2022-03-09T03:49:04.723Z"
   },
   {
    "duration": 275,
    "start_time": "2022-03-09T04:03:25.165Z"
   },
   {
    "duration": 277,
    "start_time": "2022-03-09T04:08:18.708Z"
   },
   {
    "duration": 496,
    "start_time": "2022-03-09T04:12:03.725Z"
   },
   {
    "duration": 12,
    "start_time": "2022-03-09T04:17:30.463Z"
   },
   {
    "duration": 230,
    "start_time": "2022-03-09T04:21:23.879Z"
   },
   {
    "duration": 233,
    "start_time": "2022-03-09T04:21:26.569Z"
   },
   {
    "duration": 280,
    "start_time": "2022-03-09T04:30:17.093Z"
   },
   {
    "duration": 276,
    "start_time": "2022-03-09T04:32:57.595Z"
   },
   {
    "duration": 478,
    "start_time": "2022-03-09T04:34:10.153Z"
   },
   {
    "duration": 11,
    "start_time": "2022-03-09T04:39:46.104Z"
   },
   {
    "duration": 226,
    "start_time": "2022-03-09T04:41:01.063Z"
   },
   {
    "duration": 241,
    "start_time": "2022-03-09T04:41:03.985Z"
   },
   {
    "duration": 12,
    "start_time": "2022-03-09T04:41:27.831Z"
   },
   {
    "duration": 1319,
    "start_time": "2022-03-09T21:49:36.897Z"
   },
   {
    "duration": 348,
    "start_time": "2022-03-09T21:49:38.219Z"
   },
   {
    "duration": 9,
    "start_time": "2022-03-09T21:49:38.570Z"
   },
   {
    "duration": 29,
    "start_time": "2022-03-09T21:49:38.583Z"
   },
   {
    "duration": 25,
    "start_time": "2022-03-09T21:49:38.614Z"
   },
   {
    "duration": 30,
    "start_time": "2022-03-09T21:49:38.641Z"
   },
   {
    "duration": 29,
    "start_time": "2022-03-09T21:49:38.673Z"
   },
   {
    "duration": 25,
    "start_time": "2022-03-09T21:49:38.704Z"
   },
   {
    "duration": 21,
    "start_time": "2022-03-09T21:49:38.734Z"
   },
   {
    "duration": 23,
    "start_time": "2022-03-09T21:49:38.758Z"
   },
   {
    "duration": 488,
    "start_time": "2022-03-09T21:49:38.784Z"
   },
   {
    "duration": 13,
    "start_time": "2022-03-09T21:49:39.274Z"
   },
   {
    "duration": 33,
    "start_time": "2022-03-09T21:49:39.291Z"
   },
   {
    "duration": 33,
    "start_time": "2022-03-09T21:49:39.327Z"
   },
   {
    "duration": 41,
    "start_time": "2022-03-09T21:49:39.363Z"
   },
   {
    "duration": 119117,
    "start_time": "2022-03-09T21:49:39.407Z"
   },
   {
    "duration": 23,
    "start_time": "2022-03-09T21:51:38.528Z"
   },
   {
    "duration": 14,
    "start_time": "2022-03-09T21:51:38.553Z"
   },
   {
    "duration": 4,
    "start_time": "2022-03-09T21:51:38.569Z"
   },
   {
    "duration": 132557,
    "start_time": "2022-03-09T21:51:38.576Z"
   },
   {
    "duration": 4,
    "start_time": "2022-03-09T21:53:51.136Z"
   },
   {
    "duration": 4,
    "start_time": "2022-03-09T21:53:51.152Z"
   },
   {
    "duration": 177,
    "start_time": "2022-03-09T21:53:51.158Z"
   },
   {
    "duration": 19,
    "start_time": "2022-03-09T21:53:51.338Z"
   },
   {
    "duration": 15,
    "start_time": "2022-03-09T21:53:51.359Z"
   },
   {
    "duration": 10,
    "start_time": "2022-03-09T21:53:51.376Z"
   },
   {
    "duration": 18,
    "start_time": "2022-03-09T21:53:51.393Z"
   },
   {
    "duration": 12,
    "start_time": "2022-03-09T21:53:51.451Z"
   },
   {
    "duration": 4,
    "start_time": "2022-03-09T21:53:51.465Z"
   },
   {
    "duration": 60548,
    "start_time": "2022-03-09T21:53:51.471Z"
   },
   {
    "duration": 5,
    "start_time": "2022-03-09T21:54:52.022Z"
   },
   {
    "duration": 108,
    "start_time": "2022-03-09T21:54:52.029Z"
   },
   {
    "duration": 24,
    "start_time": "2022-03-09T21:54:52.139Z"
   },
   {
    "duration": 18,
    "start_time": "2022-03-09T21:54:52.166Z"
   },
   {
    "duration": 13,
    "start_time": "2022-03-09T21:54:52.186Z"
   },
   {
    "duration": 58,
    "start_time": "2022-03-09T21:54:52.201Z"
   },
   {
    "duration": 14,
    "start_time": "2022-03-09T21:54:52.262Z"
   },
   {
    "duration": 3,
    "start_time": "2022-03-09T21:54:52.279Z"
   },
   {
    "duration": 91023,
    "start_time": "2022-03-09T21:54:52.284Z"
   },
   {
    "duration": 5,
    "start_time": "2022-03-09T21:56:23.310Z"
   },
   {
    "duration": 141,
    "start_time": "2022-03-09T21:56:23.317Z"
   },
   {
    "duration": 18,
    "start_time": "2022-03-09T21:56:23.461Z"
   },
   {
    "duration": 17,
    "start_time": "2022-03-09T21:56:23.482Z"
   },
   {
    "duration": 109,
    "start_time": "2022-03-09T21:56:23.501Z"
   },
   {
    "duration": 62,
    "start_time": "2022-03-09T21:56:23.613Z"
   },
   {
    "duration": 46,
    "start_time": "2022-03-09T21:56:23.677Z"
   },
   {
    "duration": 59,
    "start_time": "2022-03-09T21:56:23.725Z"
   },
   {
    "duration": 67,
    "start_time": "2022-03-09T21:56:23.787Z"
   },
   {
    "duration": 14,
    "start_time": "2022-03-09T21:56:23.857Z"
   },
   {
    "duration": 25,
    "start_time": "2022-03-09T21:56:23.874Z"
   },
   {
    "duration": 62,
    "start_time": "2022-03-09T21:56:23.901Z"
   },
   {
    "duration": 7,
    "start_time": "2022-03-09T21:56:23.966Z"
   },
   {
    "duration": 20,
    "start_time": "2022-03-09T21:56:23.975Z"
   },
   {
    "duration": 11,
    "start_time": "2022-03-09T21:56:23.997Z"
   },
   {
    "duration": 217,
    "start_time": "2022-03-09T21:56:24.011Z"
   },
   {
    "duration": 38,
    "start_time": "2022-03-09T21:56:24.230Z"
   },
   {
    "duration": 3,
    "start_time": "2022-03-09T21:56:24.270Z"
   },
   {
    "duration": 527,
    "start_time": "2022-03-09T21:56:24.275Z"
   },
   {
    "duration": 518,
    "start_time": "2022-03-09T21:56:24.804Z"
   },
   {
    "duration": 868,
    "start_time": "2022-03-09T21:56:25.324Z"
   },
   {
    "duration": 19,
    "start_time": "2022-03-09T21:56:26.195Z"
   },
   {
    "duration": 437,
    "start_time": "2022-03-09T21:56:26.216Z"
   },
   {
    "duration": 417,
    "start_time": "2022-03-09T21:56:26.656Z"
   },
   {
    "duration": 530,
    "start_time": "2022-03-09T21:56:27.075Z"
   },
   {
    "duration": 517,
    "start_time": "2022-03-09T21:56:27.608Z"
   },
   {
    "duration": 956,
    "start_time": "2022-03-09T21:56:28.127Z"
   },
   {
    "duration": 18,
    "start_time": "2022-03-09T21:56:29.086Z"
   },
   {
    "duration": 463,
    "start_time": "2022-03-09T21:56:29.107Z"
   },
   {
    "duration": 445,
    "start_time": "2022-03-09T21:56:29.573Z"
   },
   {
    "duration": 658,
    "start_time": "2022-03-09T21:56:30.020Z"
   },
   {
    "duration": 539,
    "start_time": "2022-03-09T21:56:30.680Z"
   },
   {
    "duration": 865,
    "start_time": "2022-03-09T21:56:31.221Z"
   },
   {
    "duration": 23,
    "start_time": "2022-03-09T21:56:32.089Z"
   },
   {
    "duration": 442,
    "start_time": "2022-03-09T21:56:32.115Z"
   },
   {
    "duration": 458,
    "start_time": "2022-03-09T21:56:32.559Z"
   },
   {
    "duration": 528,
    "start_time": "2022-03-09T21:56:33.019Z"
   },
   {
    "duration": 630,
    "start_time": "2022-03-09T21:56:33.552Z"
   },
   {
    "duration": 823,
    "start_time": "2022-03-09T21:56:34.184Z"
   },
   {
    "duration": 21,
    "start_time": "2022-03-09T21:56:35.009Z"
   },
   {
    "duration": 424,
    "start_time": "2022-03-09T21:56:35.052Z"
   },
   {
    "duration": 424,
    "start_time": "2022-03-09T21:56:35.484Z"
   },
   {
    "duration": 359,
    "start_time": "2022-03-09T21:56:35.911Z"
   },
   {
    "duration": -306,
    "start_time": "2022-03-09T21:56:36.579Z"
   },
   {
    "duration": 487,
    "start_time": "2022-03-09T22:01:24.626Z"
   },
   {
    "duration": 817,
    "start_time": "2022-03-09T22:07:24.844Z"
   },
   {
    "duration": 19,
    "start_time": "2022-03-09T22:11:54.070Z"
   },
   {
    "duration": 406,
    "start_time": "2022-03-09T22:16:49.813Z"
   },
   {
    "duration": 407,
    "start_time": "2022-03-09T22:18:22.146Z"
   },
   {
    "duration": 15,
    "start_time": "2022-03-09T22:42:49.629Z"
   },
   {
    "duration": 14,
    "start_time": "2022-03-09T22:43:07.895Z"
   },
   {
    "duration": 14,
    "start_time": "2022-03-09T22:43:22.552Z"
   },
   {
    "duration": 15,
    "start_time": "2022-03-09T22:43:41.861Z"
   },
   {
    "duration": 14,
    "start_time": "2022-03-09T22:43:50.871Z"
   },
   {
    "duration": 35,
    "start_time": "2022-03-09T23:00:21.935Z"
   },
   {
    "duration": 30,
    "start_time": "2022-03-09T23:03:16.762Z"
   },
   {
    "duration": 15,
    "start_time": "2022-03-09T23:39:25.029Z"
   },
   {
    "duration": 1145,
    "start_time": "2022-03-10T10:53:23.324Z"
   },
   {
    "duration": 324,
    "start_time": "2022-03-10T10:53:24.471Z"
   },
   {
    "duration": 6,
    "start_time": "2022-03-10T10:53:24.798Z"
   },
   {
    "duration": 21,
    "start_time": "2022-03-10T10:53:24.806Z"
   },
   {
    "duration": 3,
    "start_time": "2022-03-10T10:53:24.829Z"
   },
   {
    "duration": 16,
    "start_time": "2022-03-10T10:53:24.834Z"
   },
   {
    "duration": 18,
    "start_time": "2022-03-10T10:53:24.851Z"
   },
   {
    "duration": 13,
    "start_time": "2022-03-10T10:53:24.872Z"
   },
   {
    "duration": 9,
    "start_time": "2022-03-10T10:53:24.888Z"
   },
   {
    "duration": 10,
    "start_time": "2022-03-10T10:53:24.898Z"
   },
   {
    "duration": 293,
    "start_time": "2022-03-10T10:53:24.910Z"
   },
   {
    "duration": 9,
    "start_time": "2022-03-10T10:53:25.205Z"
   },
   {
    "duration": 23,
    "start_time": "2022-03-10T10:53:25.215Z"
   },
   {
    "duration": 9,
    "start_time": "2022-03-10T10:53:25.240Z"
   },
   {
    "duration": 48,
    "start_time": "2022-03-10T10:53:25.251Z"
   },
   {
    "duration": 98462,
    "start_time": "2022-03-10T10:53:25.301Z"
   },
   {
    "duration": 15,
    "start_time": "2022-03-10T10:55:03.764Z"
   },
   {
    "duration": 44,
    "start_time": "2022-03-10T10:55:03.780Z"
   },
   {
    "duration": 16,
    "start_time": "2022-03-10T10:55:03.826Z"
   },
   {
    "duration": 104654,
    "start_time": "2022-03-10T10:55:03.844Z"
   },
   {
    "duration": 3,
    "start_time": "2022-03-10T10:56:48.500Z"
   },
   {
    "duration": 8,
    "start_time": "2022-03-10T10:56:48.505Z"
   },
   {
    "duration": 96,
    "start_time": "2022-03-10T10:56:48.518Z"
   },
   {
    "duration": 12,
    "start_time": "2022-03-10T10:56:48.617Z"
   },
   {
    "duration": 18,
    "start_time": "2022-03-10T10:56:48.630Z"
   },
   {
    "duration": 9,
    "start_time": "2022-03-10T10:56:48.650Z"
   },
   {
    "duration": 14,
    "start_time": "2022-03-10T10:56:48.678Z"
   },
   {
    "duration": 9,
    "start_time": "2022-03-10T10:56:48.694Z"
   },
   {
    "duration": 6,
    "start_time": "2022-03-10T10:56:48.705Z"
   },
   {
    "duration": 45336,
    "start_time": "2022-03-10T10:56:48.712Z"
   },
   {
    "duration": 4,
    "start_time": "2022-03-10T10:57:34.050Z"
   },
   {
    "duration": 64,
    "start_time": "2022-03-10T10:57:34.056Z"
   },
   {
    "duration": 10,
    "start_time": "2022-03-10T10:57:34.122Z"
   },
   {
    "duration": 21,
    "start_time": "2022-03-10T10:57:34.134Z"
   },
   {
    "duration": 27,
    "start_time": "2022-03-10T10:57:34.157Z"
   },
   {
    "duration": 22,
    "start_time": "2022-03-10T10:57:34.186Z"
   },
   {
    "duration": 13,
    "start_time": "2022-03-10T10:57:34.210Z"
   },
   {
    "duration": 3,
    "start_time": "2022-03-10T10:57:34.226Z"
   },
   {
    "duration": 69861,
    "start_time": "2022-03-10T10:57:34.231Z"
   },
   {
    "duration": 5,
    "start_time": "2022-03-10T10:58:44.093Z"
   },
   {
    "duration": 80,
    "start_time": "2022-03-10T10:58:44.099Z"
   },
   {
    "duration": 13,
    "start_time": "2022-03-10T10:58:44.180Z"
   },
   {
    "duration": 12,
    "start_time": "2022-03-10T10:58:44.195Z"
   },
   {
    "duration": 84,
    "start_time": "2022-03-10T10:58:44.209Z"
   },
   {
    "duration": 40,
    "start_time": "2022-03-10T10:58:44.295Z"
   },
   {
    "duration": 54,
    "start_time": "2022-03-10T10:58:44.337Z"
   },
   {
    "duration": 39,
    "start_time": "2022-03-10T10:58:44.393Z"
   },
   {
    "duration": 59,
    "start_time": "2022-03-10T10:58:44.434Z"
   },
   {
    "duration": 10,
    "start_time": "2022-03-10T10:58:44.495Z"
   },
   {
    "duration": 24,
    "start_time": "2022-03-10T10:58:44.507Z"
   },
   {
    "duration": 43,
    "start_time": "2022-03-10T10:58:44.533Z"
   },
   {
    "duration": 6,
    "start_time": "2022-03-10T10:58:44.578Z"
   },
   {
    "duration": 18,
    "start_time": "2022-03-10T10:58:44.586Z"
   },
   {
    "duration": 10,
    "start_time": "2022-03-10T10:58:44.606Z"
   },
   {
    "duration": 150,
    "start_time": "2022-03-10T10:58:44.618Z"
   },
   {
    "duration": 28,
    "start_time": "2022-03-10T10:58:44.770Z"
   },
   {
    "duration": 3,
    "start_time": "2022-03-10T10:58:44.799Z"
   },
   {
    "duration": 404,
    "start_time": "2022-03-10T10:58:44.804Z"
   },
   {
    "duration": 394,
    "start_time": "2022-03-10T10:58:45.209Z"
   },
   {
    "duration": 669,
    "start_time": "2022-03-10T10:58:45.605Z"
   },
   {
    "duration": 15,
    "start_time": "2022-03-10T10:58:46.276Z"
   },
   {
    "duration": 316,
    "start_time": "2022-03-10T10:58:46.293Z"
   },
   {
    "duration": 313,
    "start_time": "2022-03-10T10:58:46.611Z"
   },
   {
    "duration": 390,
    "start_time": "2022-03-10T10:58:46.926Z"
   },
   {
    "duration": 389,
    "start_time": "2022-03-10T10:58:47.318Z"
   },
   {
    "duration": 703,
    "start_time": "2022-03-10T10:58:47.709Z"
   },
   {
    "duration": 14,
    "start_time": "2022-03-10T10:58:48.413Z"
   },
   {
    "duration": 331,
    "start_time": "2022-03-10T10:58:48.433Z"
   },
   {
    "duration": 325,
    "start_time": "2022-03-10T10:58:48.766Z"
   },
   {
    "duration": 403,
    "start_time": "2022-03-10T10:58:49.093Z"
   },
   {
    "duration": 391,
    "start_time": "2022-03-10T10:58:49.498Z"
   },
   {
    "duration": 643,
    "start_time": "2022-03-10T10:58:49.891Z"
   },
   {
    "duration": 14,
    "start_time": "2022-03-10T10:58:50.536Z"
   },
   {
    "duration": 322,
    "start_time": "2022-03-10T10:58:50.552Z"
   },
   {
    "duration": 342,
    "start_time": "2022-03-10T10:58:50.876Z"
   },
   {
    "duration": 407,
    "start_time": "2022-03-10T10:58:51.220Z"
   },
   {
    "duration": 477,
    "start_time": "2022-03-10T10:58:51.629Z"
   },
   {
    "duration": 613,
    "start_time": "2022-03-10T10:58:52.108Z"
   },
   {
    "duration": 13,
    "start_time": "2022-03-10T10:58:52.723Z"
   },
   {
    "duration": 326,
    "start_time": "2022-03-10T10:58:52.738Z"
   },
   {
    "duration": 314,
    "start_time": "2022-03-10T10:58:53.065Z"
   },
   {
    "duration": 13,
    "start_time": "2022-03-10T10:58:53.382Z"
   },
   {
    "duration": 36,
    "start_time": "2022-03-10T10:58:53.397Z"
   },
   {
    "duration": 17,
    "start_time": "2022-03-10T11:05:56.353Z"
   },
   {
    "duration": 1021,
    "start_time": "2022-03-10T22:05:38.509Z"
   },
   {
    "duration": 280,
    "start_time": "2022-03-10T22:05:40.282Z"
   },
   {
    "duration": 7,
    "start_time": "2022-03-10T22:05:42.275Z"
   },
   {
    "duration": 13,
    "start_time": "2022-03-10T22:05:44.806Z"
   },
   {
    "duration": 7,
    "start_time": "2022-03-10T22:05:56.462Z"
   },
   {
    "duration": 11,
    "start_time": "2022-03-10T22:05:59.718Z"
   },
   {
    "duration": 14,
    "start_time": "2022-03-10T22:06:14.890Z"
   },
   {
    "duration": 10,
    "start_time": "2022-03-10T22:06:15.798Z"
   },
   {
    "duration": 18,
    "start_time": "2022-03-10T22:06:19.848Z"
   },
   {
    "duration": 11,
    "start_time": "2022-03-10T22:06:20.990Z"
   },
   {
    "duration": 3,
    "start_time": "2022-03-10T22:06:24.288Z"
   },
   {
    "duration": 2,
    "start_time": "2022-03-10T22:12:53.195Z"
   },
   {
    "duration": 16,
    "start_time": "2022-03-10T22:13:08.766Z"
   },
   {
    "duration": 3,
    "start_time": "2022-03-10T22:13:18.037Z"
   },
   {
    "duration": 275,
    "start_time": "2022-03-10T22:13:19.884Z"
   },
   {
    "duration": 6,
    "start_time": "2022-03-10T22:13:21.798Z"
   },
   {
    "duration": 10,
    "start_time": "2022-03-10T22:13:23.074Z"
   },
   {
    "duration": 2,
    "start_time": "2022-03-10T22:13:25.323Z"
   },
   {
    "duration": 7,
    "start_time": "2022-03-10T22:13:29.254Z"
   },
   {
    "duration": 12,
    "start_time": "2022-03-10T22:13:30.987Z"
   },
   {
    "duration": 7,
    "start_time": "2022-03-10T22:13:33.109Z"
   },
   {
    "duration": 7,
    "start_time": "2022-03-10T22:13:35.120Z"
   },
   {
    "duration": 268,
    "start_time": "2022-03-10T22:13:36.965Z"
   },
   {
    "duration": 9,
    "start_time": "2022-03-10T22:13:39.208Z"
   },
   {
    "duration": 18,
    "start_time": "2022-03-10T22:13:42.523Z"
   },
   {
    "duration": 10,
    "start_time": "2022-03-10T22:13:44.541Z"
   },
   {
    "duration": 22,
    "start_time": "2022-03-10T22:14:08.183Z"
   },
   {
    "duration": 5,
    "start_time": "2022-03-10T22:14:43.391Z"
   },
   {
    "duration": 4,
    "start_time": "2022-03-10T22:15:48.279Z"
   },
   {
    "duration": 10,
    "start_time": "2022-03-10T22:15:50.966Z"
   },
   {
    "duration": 12,
    "start_time": "2022-03-10T22:15:53.728Z"
   },
   {
    "duration": 4,
    "start_time": "2022-03-10T22:15:59.341Z"
   },
   {
    "duration": 17,
    "start_time": "2022-03-10T22:19:02.617Z"
   },
   {
    "duration": 314,
    "start_time": "2022-03-10T22:23:45.959Z"
   },
   {
    "duration": 290,
    "start_time": "2022-03-10T22:24:12.663Z"
   },
   {
    "duration": 1003,
    "start_time": "2022-03-10T22:25:12.515Z"
   },
   {
    "duration": 266,
    "start_time": "2022-03-10T22:25:13.520Z"
   },
   {
    "duration": 7,
    "start_time": "2022-03-10T22:25:13.788Z"
   },
   {
    "duration": 11,
    "start_time": "2022-03-10T22:25:13.797Z"
   },
   {
    "duration": 4,
    "start_time": "2022-03-10T22:25:13.810Z"
   },
   {
    "duration": 9,
    "start_time": "2022-03-10T22:25:13.816Z"
   },
   {
    "duration": 11,
    "start_time": "2022-03-10T22:25:13.826Z"
   },
   {
    "duration": 7,
    "start_time": "2022-03-10T22:25:13.839Z"
   },
   {
    "duration": 16,
    "start_time": "2022-03-10T22:25:13.848Z"
   },
   {
    "duration": 263,
    "start_time": "2022-03-10T22:25:13.866Z"
   },
   {
    "duration": 8,
    "start_time": "2022-03-10T22:25:14.131Z"
   },
   {
    "duration": 35,
    "start_time": "2022-03-10T22:25:14.140Z"
   },
   {
    "duration": 11,
    "start_time": "2022-03-10T22:25:14.177Z"
   },
   {
    "duration": 306,
    "start_time": "2022-03-10T22:26:07.260Z"
   },
   {
    "duration": 230,
    "start_time": "2022-03-10T22:27:01.852Z"
   },
   {
    "duration": 231,
    "start_time": "2022-03-10T22:27:10.876Z"
   },
   {
    "duration": 246,
    "start_time": "2022-03-10T22:28:53.370Z"
   },
   {
    "duration": 5,
    "start_time": "2022-03-10T22:29:15.744Z"
   },
   {
    "duration": 36,
    "start_time": "2022-03-10T22:31:18.258Z"
   },
   {
    "duration": 6,
    "start_time": "2022-03-10T22:31:27.668Z"
   },
   {
    "duration": 8,
    "start_time": "2022-03-10T22:32:23.088Z"
   },
   {
    "duration": 1620,
    "start_time": "2022-03-10T22:33:32.725Z"
   },
   {
    "duration": 264,
    "start_time": "2022-03-10T22:36:31.034Z"
   },
   {
    "duration": 537,
    "start_time": "2022-03-10T22:36:53.150Z"
   },
   {
    "duration": 5,
    "start_time": "2022-03-10T22:37:00.931Z"
   },
   {
    "duration": 5,
    "start_time": "2022-03-10T22:37:07.839Z"
   },
   {
    "duration": 220,
    "start_time": "2022-03-10T22:37:42.876Z"
   },
   {
    "duration": 257,
    "start_time": "2022-03-10T22:40:57.170Z"
   },
   {
    "duration": 3,
    "start_time": "2022-03-10T22:41:58.647Z"
   },
   {
    "duration": 302,
    "start_time": "2022-03-10T22:42:16.561Z"
   },
   {
    "duration": 26,
    "start_time": "2022-03-10T22:42:59.146Z"
   },
   {
    "duration": 30,
    "start_time": "2022-03-10T22:43:55.069Z"
   },
   {
    "duration": 4,
    "start_time": "2022-03-10T22:43:56.555Z"
   },
   {
    "duration": 9,
    "start_time": "2022-03-10T22:44:00.271Z"
   },
   {
    "duration": 11,
    "start_time": "2022-03-10T22:44:04.216Z"
   },
   {
    "duration": 3,
    "start_time": "2022-03-10T22:44:08.482Z"
   },
   {
    "duration": 96638,
    "start_time": "2022-03-10T22:44:40.209Z"
   },
   {
    "duration": 545,
    "start_time": "2022-03-10T22:47:40.574Z"
   },
   {
    "duration": 5,
    "start_time": "2022-03-10T22:47:44.778Z"
   },
   {
    "duration": 12,
    "start_time": "2022-03-10T22:47:47.071Z"
   },
   {
    "duration": 11,
    "start_time": "2022-03-10T22:47:57.540Z"
   },
   {
    "duration": 4,
    "start_time": "2022-03-10T22:48:03.804Z"
   },
   {
    "duration": 11,
    "start_time": "2022-03-10T22:48:05.804Z"
   },
   {
    "duration": 12,
    "start_time": "2022-03-10T22:48:08.080Z"
   },
   {
    "duration": 3,
    "start_time": "2022-03-10T22:48:18.819Z"
   },
   {
    "duration": 227,
    "start_time": "2022-03-10T22:49:08.487Z"
   },
   {
    "duration": 996,
    "start_time": "2022-03-10T22:54:08.324Z"
   },
   {
    "duration": 264,
    "start_time": "2022-03-10T22:54:09.322Z"
   },
   {
    "duration": 6,
    "start_time": "2022-03-10T22:54:09.589Z"
   },
   {
    "duration": 26,
    "start_time": "2022-03-10T22:54:09.598Z"
   },
   {
    "duration": 7,
    "start_time": "2022-03-10T22:54:09.626Z"
   },
   {
    "duration": 9,
    "start_time": "2022-03-10T22:54:09.635Z"
   },
   {
    "duration": 15,
    "start_time": "2022-03-10T22:54:09.646Z"
   },
   {
    "duration": 13,
    "start_time": "2022-03-10T22:54:09.662Z"
   },
   {
    "duration": 12,
    "start_time": "2022-03-10T22:54:09.678Z"
   },
   {
    "duration": 255,
    "start_time": "2022-03-10T22:54:09.692Z"
   },
   {
    "duration": 33,
    "start_time": "2022-03-10T22:54:09.949Z"
   },
   {
    "duration": 19,
    "start_time": "2022-03-10T22:54:09.984Z"
   },
   {
    "duration": 10,
    "start_time": "2022-03-10T22:54:10.005Z"
   },
   {
    "duration": 46,
    "start_time": "2022-03-10T22:54:10.017Z"
   },
   {
    "duration": 5,
    "start_time": "2022-03-10T22:54:10.065Z"
   },
   {
    "duration": 11,
    "start_time": "2022-03-10T22:54:10.072Z"
   },
   {
    "duration": 10,
    "start_time": "2022-03-10T22:54:10.085Z"
   },
   {
    "duration": 3,
    "start_time": "2022-03-10T22:54:13.090Z"
   },
   {
    "duration": 5804,
    "start_time": "2022-03-10T22:55:10.625Z"
   },
   {
    "duration": 4,
    "start_time": "2022-03-10T22:55:22.757Z"
   },
   {
    "duration": 99550,
    "start_time": "2022-03-10T22:55:28.260Z"
   },
   {
    "duration": 4,
    "start_time": "2022-03-10T22:57:10.656Z"
   },
   {
    "duration": 3,
    "start_time": "2022-03-10T22:57:23.273Z"
   },
   {
    "duration": 227,
    "start_time": "2022-03-10T22:58:21.333Z"
   },
   {
    "duration": 230,
    "start_time": "2022-03-10T22:58:48.114Z"
   },
   {
    "duration": 41,
    "start_time": "2022-03-10T22:58:59.394Z"
   },
   {
    "duration": 17,
    "start_time": "2022-03-10T22:59:07.096Z"
   },
   {
    "duration": 3,
    "start_time": "2022-03-10T23:01:46.794Z"
   },
   {
    "duration": 43,
    "start_time": "2022-03-10T23:01:54.657Z"
   },
   {
    "duration": 12,
    "start_time": "2022-03-10T23:02:21.411Z"
   },
   {
    "duration": 1095,
    "start_time": "2022-03-10T23:03:39.044Z"
   },
   {
    "duration": 295,
    "start_time": "2022-03-10T23:03:40.141Z"
   },
   {
    "duration": 7,
    "start_time": "2022-03-10T23:03:40.439Z"
   },
   {
    "duration": 13,
    "start_time": "2022-03-10T23:03:40.449Z"
   },
   {
    "duration": 2,
    "start_time": "2022-03-10T23:03:40.464Z"
   },
   {
    "duration": 8,
    "start_time": "2022-03-10T23:03:40.468Z"
   },
   {
    "duration": 14,
    "start_time": "2022-03-10T23:03:40.478Z"
   },
   {
    "duration": 7,
    "start_time": "2022-03-10T23:03:40.494Z"
   },
   {
    "duration": 8,
    "start_time": "2022-03-10T23:03:40.503Z"
   },
   {
    "duration": 289,
    "start_time": "2022-03-10T23:03:40.513Z"
   },
   {
    "duration": 8,
    "start_time": "2022-03-10T23:03:40.804Z"
   },
   {
    "duration": 18,
    "start_time": "2022-03-10T23:03:40.813Z"
   },
   {
    "duration": 31,
    "start_time": "2022-03-10T23:03:40.832Z"
   },
   {
    "duration": 21,
    "start_time": "2022-03-10T23:03:40.865Z"
   },
   {
    "duration": 4,
    "start_time": "2022-03-10T23:03:40.887Z"
   },
   {
    "duration": 9,
    "start_time": "2022-03-10T23:03:40.893Z"
   },
   {
    "duration": 10,
    "start_time": "2022-03-10T23:03:40.904Z"
   },
   {
    "duration": 2,
    "start_time": "2022-03-10T23:03:40.916Z"
   },
   {
    "duration": 76,
    "start_time": "2022-03-10T23:03:40.919Z"
   },
   {
    "duration": 11,
    "start_time": "2022-03-10T23:03:40.997Z"
   },
   {
    "duration": 11,
    "start_time": "2022-03-10T23:04:26.220Z"
   },
   {
    "duration": 7,
    "start_time": "2022-03-10T23:04:27.099Z"
   },
   {
    "duration": 15,
    "start_time": "2022-03-10T23:04:42.863Z"
   },
   {
    "duration": 9,
    "start_time": "2022-03-10T23:04:46.802Z"
   },
   {
    "duration": 48,
    "start_time": "2022-03-10T23:06:08.693Z"
   },
   {
    "duration": 25,
    "start_time": "2022-03-10T23:06:31.927Z"
   },
   {
    "duration": 10,
    "start_time": "2022-03-10T23:06:32.948Z"
   },
   {
    "duration": 15,
    "start_time": "2022-03-10T23:06:36.384Z"
   },
   {
    "duration": 8,
    "start_time": "2022-03-10T23:06:36.835Z"
   },
   {
    "duration": 17,
    "start_time": "2022-03-10T23:06:45.911Z"
   },
   {
    "duration": 12,
    "start_time": "2022-03-10T23:06:46.706Z"
   },
   {
    "duration": 10,
    "start_time": "2022-03-10T23:08:04.383Z"
   },
   {
    "duration": 10,
    "start_time": "2022-03-10T23:08:04.631Z"
   },
   {
    "duration": 7,
    "start_time": "2022-03-10T23:08:08.433Z"
   },
   {
    "duration": 33,
    "start_time": "2022-03-10T23:09:03.594Z"
   },
   {
    "duration": 11,
    "start_time": "2022-03-10T23:09:04.375Z"
   },
   {
    "duration": 9,
    "start_time": "2022-03-10T23:09:08.034Z"
   },
   {
    "duration": 621,
    "start_time": "2022-03-10T23:10:02.413Z"
   },
   {
    "duration": 302,
    "start_time": "2022-03-10T23:10:12.583Z"
   },
   {
    "duration": 52,
    "start_time": "2022-03-10T23:10:52.714Z"
   },
   {
    "duration": 47,
    "start_time": "2022-03-10T23:10:57.843Z"
   },
   {
    "duration": 40,
    "start_time": "2022-03-10T23:11:07.968Z"
   },
   {
    "duration": 36,
    "start_time": "2022-03-10T23:11:10.472Z"
   },
   {
    "duration": 32,
    "start_time": "2022-03-10T23:11:12.496Z"
   },
   {
    "duration": 1056,
    "start_time": "2022-03-10T23:11:29.972Z"
   },
   {
    "duration": 278,
    "start_time": "2022-03-10T23:11:31.030Z"
   },
   {
    "duration": 7,
    "start_time": "2022-03-10T23:11:31.310Z"
   },
   {
    "duration": 16,
    "start_time": "2022-03-10T23:11:31.318Z"
   },
   {
    "duration": 5,
    "start_time": "2022-03-10T23:11:31.336Z"
   },
   {
    "duration": 13,
    "start_time": "2022-03-10T23:11:31.342Z"
   },
   {
    "duration": 16,
    "start_time": "2022-03-10T23:11:31.356Z"
   },
   {
    "duration": 8,
    "start_time": "2022-03-10T23:11:31.374Z"
   },
   {
    "duration": 8,
    "start_time": "2022-03-10T23:11:31.384Z"
   },
   {
    "duration": 278,
    "start_time": "2022-03-10T23:11:31.393Z"
   },
   {
    "duration": 9,
    "start_time": "2022-03-10T23:11:31.672Z"
   },
   {
    "duration": 18,
    "start_time": "2022-03-10T23:11:31.683Z"
   },
   {
    "duration": 8,
    "start_time": "2022-03-10T23:11:31.702Z"
   },
   {
    "duration": 25,
    "start_time": "2022-03-10T23:11:31.711Z"
   },
   {
    "duration": 25,
    "start_time": "2022-03-10T23:11:31.738Z"
   },
   {
    "duration": 11,
    "start_time": "2022-03-10T23:11:31.765Z"
   },
   {
    "duration": 11,
    "start_time": "2022-03-10T23:11:31.778Z"
   },
   {
    "duration": 2,
    "start_time": "2022-03-10T23:11:31.791Z"
   },
   {
    "duration": 70,
    "start_time": "2022-03-10T23:11:31.795Z"
   },
   {
    "duration": 12,
    "start_time": "2022-03-10T23:11:31.867Z"
   },
   {
    "duration": 12,
    "start_time": "2022-03-10T23:11:31.881Z"
   },
   {
    "duration": 8,
    "start_time": "2022-03-10T23:11:31.895Z"
   },
   {
    "duration": 14,
    "start_time": "2022-03-10T23:11:31.907Z"
   },
   {
    "duration": 46,
    "start_time": "2022-03-10T23:11:31.924Z"
   },
   {
    "duration": 28,
    "start_time": "2022-03-10T23:11:31.972Z"
   },
   {
    "duration": 12,
    "start_time": "2022-03-10T23:11:32.002Z"
   },
   {
    "duration": 15,
    "start_time": "2022-03-10T23:11:32.016Z"
   },
   {
    "duration": 39,
    "start_time": "2022-03-10T23:11:32.033Z"
   },
   {
    "duration": 22,
    "start_time": "2022-03-10T23:11:32.074Z"
   },
   {
    "duration": 12,
    "start_time": "2022-03-10T23:11:32.098Z"
   },
   {
    "duration": 57,
    "start_time": "2022-03-10T23:11:32.111Z"
   },
   {
    "duration": 10,
    "start_time": "2022-03-10T23:11:32.170Z"
   },
   {
    "duration": 9,
    "start_time": "2022-03-10T23:11:32.181Z"
   },
   {
    "duration": 82,
    "start_time": "2022-03-10T23:11:32.191Z"
   },
   {
    "duration": 42,
    "start_time": "2022-03-10T23:11:32.275Z"
   },
   {
    "duration": 59,
    "start_time": "2022-03-10T23:11:32.320Z"
   },
   {
    "duration": 38,
    "start_time": "2022-03-10T23:11:32.381Z"
   },
   {
    "duration": 32,
    "start_time": "2022-03-10T23:14:31.537Z"
   },
   {
    "duration": 31,
    "start_time": "2022-03-10T23:14:50.628Z"
   },
   {
    "duration": 10,
    "start_time": "2022-03-10T23:17:50.448Z"
   },
   {
    "duration": 19,
    "start_time": "2022-03-10T23:17:51.879Z"
   },
   {
    "duration": 24,
    "start_time": "2022-03-10T23:18:02.274Z"
   },
   {
    "duration": 6,
    "start_time": "2022-03-10T23:18:20.663Z"
   },
   {
    "duration": 15,
    "start_time": "2022-03-10T23:18:23.623Z"
   },
   {
    "duration": 7,
    "start_time": "2022-03-10T23:18:25.156Z"
   },
   {
    "duration": 586,
    "start_time": "2022-03-10T23:18:27.504Z"
   },
   {
    "duration": -247,
    "start_time": "2022-03-10T23:18:28.340Z"
   },
   {
    "duration": 3,
    "start_time": "2022-03-10T23:32:06.900Z"
   },
   {
    "duration": 470,
    "start_time": "2022-03-10T23:32:21.243Z"
   },
   {
    "duration": 3,
    "start_time": "2022-03-10T23:32:28.888Z"
   },
   {
    "duration": 4,
    "start_time": "2022-03-10T23:32:29.656Z"
   },
   {
    "duration": 28,
    "start_time": "2022-03-10T23:33:43.908Z"
   },
   {
    "duration": 3,
    "start_time": "2022-03-10T23:38:30.114Z"
   },
   {
    "duration": 73,
    "start_time": "2022-03-10T23:41:20.748Z"
   },
   {
    "duration": 4,
    "start_time": "2022-03-10T23:41:53.163Z"
   },
   {
    "duration": 13,
    "start_time": "2022-03-10T23:41:55.194Z"
   },
   {
    "duration": 7,
    "start_time": "2022-03-10T23:41:57.129Z"
   },
   {
    "duration": 484,
    "start_time": "2022-03-10T23:41:58.511Z"
   },
   {
    "duration": 7,
    "start_time": "2022-03-10T23:43:05.571Z"
   },
   {
    "duration": 479,
    "start_time": "2022-03-10T23:43:09.832Z"
   },
   {
    "duration": 5,
    "start_time": "2022-03-10T23:43:33.053Z"
   },
   {
    "duration": 19,
    "start_time": "2022-03-10T23:44:29.818Z"
   },
   {
    "duration": 12,
    "start_time": "2022-03-10T23:45:14.718Z"
   },
   {
    "duration": 25,
    "start_time": "2022-03-10T23:45:16.566Z"
   },
   {
    "duration": 6,
    "start_time": "2022-03-10T23:45:31.171Z"
   },
   {
    "duration": 10,
    "start_time": "2022-03-10T23:45:34.261Z"
   },
   {
    "duration": 27,
    "start_time": "2022-03-10T23:45:36.199Z"
   },
   {
    "duration": 38,
    "start_time": "2022-03-10T23:45:37.962Z"
   },
   {
    "duration": 5,
    "start_time": "2022-03-10T23:45:39.893Z"
   },
   {
    "duration": 21,
    "start_time": "2022-03-10T23:45:41.640Z"
   },
   {
    "duration": 6650,
    "start_time": "2022-03-10T23:45:41.981Z"
   },
   {
    "duration": -212,
    "start_time": "2022-03-10T23:45:48.844Z"
   },
   {
    "duration": 6524,
    "start_time": "2022-03-10T23:46:15.682Z"
   },
   {
    "duration": 1029,
    "start_time": "2022-03-10T23:47:51.785Z"
   },
   {
    "duration": 263,
    "start_time": "2022-03-10T23:47:52.815Z"
   },
   {
    "duration": 7,
    "start_time": "2022-03-10T23:47:53.080Z"
   },
   {
    "duration": 15,
    "start_time": "2022-03-10T23:47:53.088Z"
   },
   {
    "duration": 2,
    "start_time": "2022-03-10T23:47:53.105Z"
   },
   {
    "duration": 14,
    "start_time": "2022-03-10T23:47:53.108Z"
   },
   {
    "duration": 11,
    "start_time": "2022-03-10T23:47:53.124Z"
   },
   {
    "duration": 7,
    "start_time": "2022-03-10T23:47:53.137Z"
   },
   {
    "duration": 8,
    "start_time": "2022-03-10T23:47:53.146Z"
   },
   {
    "duration": 238,
    "start_time": "2022-03-10T23:47:53.155Z"
   },
   {
    "duration": 9,
    "start_time": "2022-03-10T23:47:53.395Z"
   },
   {
    "duration": 22,
    "start_time": "2022-03-10T23:47:53.405Z"
   },
   {
    "duration": 7,
    "start_time": "2022-03-10T23:47:53.429Z"
   },
   {
    "duration": 38,
    "start_time": "2022-03-10T23:47:53.438Z"
   },
   {
    "duration": 4,
    "start_time": "2022-03-10T23:47:53.478Z"
   },
   {
    "duration": 12,
    "start_time": "2022-03-10T23:47:53.483Z"
   },
   {
    "duration": 11,
    "start_time": "2022-03-10T23:47:53.496Z"
   },
   {
    "duration": 2,
    "start_time": "2022-03-10T23:47:53.509Z"
   },
   {
    "duration": 61,
    "start_time": "2022-03-10T23:47:53.513Z"
   },
   {
    "duration": 12,
    "start_time": "2022-03-10T23:47:53.575Z"
   },
   {
    "duration": 11,
    "start_time": "2022-03-10T23:47:53.589Z"
   },
   {
    "duration": 7,
    "start_time": "2022-03-10T23:47:53.601Z"
   },
   {
    "duration": 12,
    "start_time": "2022-03-10T23:47:53.611Z"
   },
   {
    "duration": 38,
    "start_time": "2022-03-10T23:47:53.625Z"
   },
   {
    "duration": 24,
    "start_time": "2022-03-10T23:47:53.665Z"
   },
   {
    "duration": 9,
    "start_time": "2022-03-10T23:47:53.691Z"
   },
   {
    "duration": 16,
    "start_time": "2022-03-10T23:47:53.702Z"
   },
   {
    "duration": 7,
    "start_time": "2022-03-10T23:47:53.720Z"
   },
   {
    "duration": 45,
    "start_time": "2022-03-10T23:47:53.729Z"
   },
   {
    "duration": 10,
    "start_time": "2022-03-10T23:47:53.776Z"
   },
   {
    "duration": 31,
    "start_time": "2022-03-10T23:47:53.788Z"
   },
   {
    "duration": 10,
    "start_time": "2022-03-10T23:47:53.820Z"
   },
   {
    "duration": 32,
    "start_time": "2022-03-10T23:47:53.832Z"
   },
   {
    "duration": 64,
    "start_time": "2022-03-10T23:47:53.866Z"
   },
   {
    "duration": 59,
    "start_time": "2022-03-10T23:47:53.932Z"
   },
   {
    "duration": 47,
    "start_time": "2022-03-10T23:47:53.992Z"
   },
   {
    "duration": 54,
    "start_time": "2022-03-10T23:47:54.041Z"
   },
   {
    "duration": 30,
    "start_time": "2022-03-10T23:47:54.097Z"
   },
   {
    "duration": 4,
    "start_time": "2022-03-10T23:47:54.128Z"
   },
   {
    "duration": 11,
    "start_time": "2022-03-10T23:47:54.133Z"
   },
   {
    "duration": 16,
    "start_time": "2022-03-10T23:47:54.163Z"
   },
   {
    "duration": 22,
    "start_time": "2022-03-10T23:47:54.180Z"
   },
   {
    "duration": 5,
    "start_time": "2022-03-10T23:47:54.203Z"
   },
   {
    "duration": 20,
    "start_time": "2022-03-10T23:47:54.209Z"
   },
   {
    "duration": 10,
    "start_time": "2022-03-10T23:47:54.230Z"
   },
   {
    "duration": 159,
    "start_time": "2022-03-10T23:47:54.242Z"
   },
   {
    "duration": 21,
    "start_time": "2022-03-10T23:47:54.402Z"
   },
   {
    "duration": 4,
    "start_time": "2022-03-10T23:47:54.424Z"
   },
   {
    "duration": 300,
    "start_time": "2022-03-10T23:47:54.429Z"
   },
   {
    "duration": 290,
    "start_time": "2022-03-10T23:47:54.731Z"
   },
   {
    "duration": 587,
    "start_time": "2022-03-10T23:47:55.024Z"
   },
   {
    "duration": 14,
    "start_time": "2022-03-10T23:47:55.613Z"
   },
   {
    "duration": 270,
    "start_time": "2022-03-10T23:47:55.628Z"
   },
   {
    "duration": 259,
    "start_time": "2022-03-10T23:47:55.900Z"
   },
   {
    "duration": 303,
    "start_time": "2022-03-10T23:47:56.163Z"
   },
   {
    "duration": 297,
    "start_time": "2022-03-10T23:47:56.468Z"
   },
   {
    "duration": 545,
    "start_time": "2022-03-10T23:47:56.767Z"
   },
   {
    "duration": 13,
    "start_time": "2022-03-10T23:47:57.314Z"
   },
   {
    "duration": 276,
    "start_time": "2022-03-10T23:47:57.329Z"
   },
   {
    "duration": 262,
    "start_time": "2022-03-10T23:47:57.607Z"
   },
   {
    "duration": 313,
    "start_time": "2022-03-10T23:47:57.871Z"
   },
   {
    "duration": 304,
    "start_time": "2022-03-10T23:47:58.186Z"
   },
   {
    "duration": 511,
    "start_time": "2022-03-10T23:47:58.492Z"
   },
   {
    "duration": 13,
    "start_time": "2022-03-10T23:47:59.004Z"
   },
   {
    "duration": 253,
    "start_time": "2022-03-10T23:47:59.019Z"
   },
   {
    "duration": 260,
    "start_time": "2022-03-10T23:47:59.274Z"
   },
   {
    "duration": 300,
    "start_time": "2022-03-10T23:47:59.535Z"
   },
   {
    "duration": 385,
    "start_time": "2022-03-10T23:47:59.840Z"
   },
   {
    "duration": 489,
    "start_time": "2022-03-10T23:48:00.227Z"
   },
   {
    "duration": 13,
    "start_time": "2022-03-10T23:48:00.718Z"
   },
   {
    "duration": 256,
    "start_time": "2022-03-10T23:48:00.732Z"
   },
   {
    "duration": 260,
    "start_time": "2022-03-10T23:48:00.990Z"
   },
   {
    "duration": 16,
    "start_time": "2022-03-10T23:48:01.252Z"
   },
   {
    "duration": 25,
    "start_time": "2022-03-10T23:48:01.270Z"
   },
   {
    "duration": 16,
    "start_time": "2022-03-10T23:48:29.667Z"
   },
   {
    "duration": 291,
    "start_time": "2022-03-10T23:51:33.675Z"
   },
   {
    "duration": 301,
    "start_time": "2022-03-10T23:51:38.711Z"
   },
   {
    "duration": 283,
    "start_time": "2022-03-10T23:52:18.593Z"
   },
   {
    "duration": 297,
    "start_time": "2022-03-10T23:52:40.002Z"
   },
   {
    "duration": 466,
    "start_time": "2022-03-10T23:55:53.316Z"
   },
   {
    "duration": 97,
    "start_time": "2022-03-10T23:56:05.316Z"
   },
   {
    "duration": 245,
    "start_time": "2022-03-10T23:56:36.081Z"
   },
   {
    "duration": 301,
    "start_time": "2022-03-10T23:56:59.190Z"
   },
   {
    "duration": 292,
    "start_time": "2022-03-10T23:57:47.726Z"
   },
   {
    "duration": 465,
    "start_time": "2022-03-10T23:58:56.633Z"
   },
   {
    "duration": 12,
    "start_time": "2022-03-11T00:01:27.051Z"
   },
   {
    "duration": 253,
    "start_time": "2022-03-11T00:03:27.951Z"
   },
   {
    "duration": 255,
    "start_time": "2022-03-11T00:03:34.476Z"
   },
   {
    "duration": 302,
    "start_time": "2022-03-11T00:05:16.310Z"
   },
   {
    "duration": 315,
    "start_time": "2022-03-11T00:06:33.075Z"
   },
   {
    "duration": 13,
    "start_time": "2022-03-11T00:07:40.587Z"
   },
   {
    "duration": 246,
    "start_time": "2022-03-11T00:09:01.325Z"
   },
   {
    "duration": 260,
    "start_time": "2022-03-11T00:09:03.932Z"
   },
   {
    "duration": 399,
    "start_time": "2022-03-11T00:09:26.394Z"
   },
   {
    "duration": 308,
    "start_time": "2022-03-11T00:09:34.112Z"
   },
   {
    "duration": 297,
    "start_time": "2022-03-11T00:09:56.228Z"
   },
   {
    "duration": 473,
    "start_time": "2022-03-11T00:10:21.561Z"
   },
   {
    "duration": 13,
    "start_time": "2022-03-11T00:10:30.058Z"
   },
   {
    "duration": 240,
    "start_time": "2022-03-11T00:11:49.267Z"
   },
   {
    "duration": 6,
    "start_time": "2022-03-11T00:39:02.497Z"
   },
   {
    "duration": 14,
    "start_time": "2022-03-11T00:39:03.737Z"
   },
   {
    "duration": 1038,
    "start_time": "2022-03-11T00:39:18.671Z"
   },
   {
    "duration": 267,
    "start_time": "2022-03-11T00:39:19.710Z"
   },
   {
    "duration": 6,
    "start_time": "2022-03-11T00:39:19.980Z"
   },
   {
    "duration": 15,
    "start_time": "2022-03-11T00:39:19.988Z"
   },
   {
    "duration": 3,
    "start_time": "2022-03-11T00:39:20.005Z"
   },
   {
    "duration": 13,
    "start_time": "2022-03-11T00:39:20.009Z"
   },
   {
    "duration": 13,
    "start_time": "2022-03-11T00:39:20.024Z"
   },
   {
    "duration": 11,
    "start_time": "2022-03-11T00:39:20.039Z"
   },
   {
    "duration": 11,
    "start_time": "2022-03-11T00:39:20.053Z"
   },
   {
    "duration": 260,
    "start_time": "2022-03-11T00:39:20.066Z"
   },
   {
    "duration": 10,
    "start_time": "2022-03-11T00:39:20.328Z"
   },
   {
    "duration": 30,
    "start_time": "2022-03-11T00:39:20.339Z"
   },
   {
    "duration": 10,
    "start_time": "2022-03-11T00:39:20.371Z"
   },
   {
    "duration": 24,
    "start_time": "2022-03-11T00:39:20.382Z"
   },
   {
    "duration": 5,
    "start_time": "2022-03-11T00:39:20.407Z"
   },
   {
    "duration": 10,
    "start_time": "2022-03-11T00:39:20.414Z"
   },
   {
    "duration": 40,
    "start_time": "2022-03-11T00:39:20.426Z"
   },
   {
    "duration": 3,
    "start_time": "2022-03-11T00:39:20.468Z"
   },
   {
    "duration": 44,
    "start_time": "2022-03-11T00:39:20.473Z"
   },
   {
    "duration": 11,
    "start_time": "2022-03-11T00:39:20.519Z"
   },
   {
    "duration": 35,
    "start_time": "2022-03-11T00:39:20.532Z"
   },
   {
    "duration": 10,
    "start_time": "2022-03-11T00:39:20.568Z"
   },
   {
    "duration": 19,
    "start_time": "2022-03-11T00:39:20.580Z"
   },
   {
    "duration": 8,
    "start_time": "2022-03-11T00:39:20.601Z"
   },
   {
    "duration": 24,
    "start_time": "2022-03-11T00:39:20.610Z"
   },
   {
    "duration": 9,
    "start_time": "2022-03-11T00:39:20.636Z"
   },
   {
    "duration": 12,
    "start_time": "2022-03-11T00:39:20.666Z"
   },
   {
    "duration": 8,
    "start_time": "2022-03-11T00:39:20.680Z"
   },
   {
    "duration": 17,
    "start_time": "2022-03-11T00:39:20.689Z"
   },
   {
    "duration": 10,
    "start_time": "2022-03-11T00:39:20.708Z"
   },
   {
    "duration": 58,
    "start_time": "2022-03-11T00:39:20.720Z"
   },
   {
    "duration": 11,
    "start_time": "2022-03-11T00:39:20.779Z"
   },
   {
    "duration": 10,
    "start_time": "2022-03-11T00:39:20.791Z"
   },
   {
    "duration": 92,
    "start_time": "2022-03-11T00:39:20.802Z"
   },
   {
    "duration": 43,
    "start_time": "2022-03-11T00:39:20.895Z"
   },
   {
    "duration": 52,
    "start_time": "2022-03-11T00:39:20.939Z"
   },
   {
    "duration": 40,
    "start_time": "2022-03-11T00:39:20.992Z"
   },
   {
    "duration": 50,
    "start_time": "2022-03-11T00:39:21.033Z"
   },
   {
    "duration": 3,
    "start_time": "2022-03-11T00:39:21.085Z"
   },
   {
    "duration": 11,
    "start_time": "2022-03-11T00:39:21.089Z"
   },
   {
    "duration": 17,
    "start_time": "2022-03-11T00:39:21.101Z"
   },
   {
    "duration": 45,
    "start_time": "2022-03-11T00:39:21.119Z"
   },
   {
    "duration": 5,
    "start_time": "2022-03-11T00:39:21.165Z"
   },
   {
    "duration": 17,
    "start_time": "2022-03-11T00:39:21.171Z"
   },
   {
    "duration": 8,
    "start_time": "2022-03-11T00:39:21.189Z"
   },
   {
    "duration": 158,
    "start_time": "2022-03-11T00:39:21.199Z"
   },
   {
    "duration": 18,
    "start_time": "2022-03-11T00:39:21.359Z"
   },
   {
    "duration": 5,
    "start_time": "2022-03-11T00:39:21.379Z"
   },
   {
    "duration": 307,
    "start_time": "2022-03-11T00:39:21.385Z"
   },
   {
    "duration": 311,
    "start_time": "2022-03-11T00:39:21.694Z"
   },
   {
    "duration": 478,
    "start_time": "2022-03-11T00:39:22.006Z"
   },
   {
    "duration": 11,
    "start_time": "2022-03-11T00:39:22.486Z"
   },
   {
    "duration": 253,
    "start_time": "2022-03-11T00:39:22.499Z"
   },
   {
    "duration": 258,
    "start_time": "2022-03-11T00:39:22.754Z"
   },
   {
    "duration": 316,
    "start_time": "2022-03-11T00:39:23.014Z"
   },
   {
    "duration": 303,
    "start_time": "2022-03-11T00:39:23.332Z"
   },
   {
    "duration": 555,
    "start_time": "2022-03-11T00:39:23.637Z"
   },
   {
    "duration": 12,
    "start_time": "2022-03-11T00:39:24.194Z"
   },
   {
    "duration": 271,
    "start_time": "2022-03-11T00:39:24.207Z"
   },
   {
    "duration": 260,
    "start_time": "2022-03-11T00:39:24.480Z"
   },
   {
    "duration": 312,
    "start_time": "2022-03-11T00:39:24.742Z"
   },
   {
    "duration": 312,
    "start_time": "2022-03-11T00:39:25.056Z"
   },
   {
    "duration": 492,
    "start_time": "2022-03-11T00:39:25.370Z"
   },
   {
    "duration": 12,
    "start_time": "2022-03-11T00:39:25.864Z"
   },
   {
    "duration": 250,
    "start_time": "2022-03-11T00:39:25.877Z"
   },
   {
    "duration": 257,
    "start_time": "2022-03-11T00:39:26.129Z"
   },
   {
    "duration": 311,
    "start_time": "2022-03-11T00:39:26.388Z"
   },
   {
    "duration": 409,
    "start_time": "2022-03-11T00:39:26.701Z"
   },
   {
    "duration": 473,
    "start_time": "2022-03-11T00:39:27.112Z"
   },
   {
    "duration": 12,
    "start_time": "2022-03-11T00:39:27.587Z"
   },
   {
    "duration": 370,
    "start_time": "2022-03-11T00:39:27.600Z"
   },
   {
    "duration": 254,
    "start_time": "2022-03-11T00:39:27.972Z"
   },
   {
    "duration": 11,
    "start_time": "2022-03-11T00:39:28.227Z"
   },
   {
    "duration": 41,
    "start_time": "2022-03-11T00:39:28.239Z"
   },
   {
    "duration": 5,
    "start_time": "2022-03-11T00:49:52.290Z"
   },
   {
    "duration": 1075,
    "start_time": "2022-03-11T00:50:35.737Z"
   },
   {
    "duration": 269,
    "start_time": "2022-03-11T00:50:36.814Z"
   },
   {
    "duration": 7,
    "start_time": "2022-03-11T00:50:37.085Z"
   },
   {
    "duration": 15,
    "start_time": "2022-03-11T00:50:37.093Z"
   },
   {
    "duration": 4,
    "start_time": "2022-03-11T00:50:37.109Z"
   },
   {
    "duration": 10,
    "start_time": "2022-03-11T00:50:37.115Z"
   },
   {
    "duration": 14,
    "start_time": "2022-03-11T00:50:37.127Z"
   },
   {
    "duration": 7,
    "start_time": "2022-03-11T00:50:37.144Z"
   },
   {
    "duration": 12,
    "start_time": "2022-03-11T00:50:37.152Z"
   },
   {
    "duration": 240,
    "start_time": "2022-03-11T00:50:37.166Z"
   },
   {
    "duration": 7,
    "start_time": "2022-03-11T00:50:37.408Z"
   },
   {
    "duration": 18,
    "start_time": "2022-03-11T00:50:37.417Z"
   },
   {
    "duration": 29,
    "start_time": "2022-03-11T00:50:37.437Z"
   },
   {
    "duration": 23,
    "start_time": "2022-03-11T00:50:37.467Z"
   },
   {
    "duration": 4,
    "start_time": "2022-03-11T00:50:37.492Z"
   },
   {
    "duration": 11,
    "start_time": "2022-03-11T00:50:37.498Z"
   },
   {
    "duration": 13,
    "start_time": "2022-03-11T00:50:37.510Z"
   },
   {
    "duration": 3,
    "start_time": "2022-03-11T00:50:37.524Z"
   },
   {
    "duration": 72,
    "start_time": "2022-03-11T00:50:37.528Z"
   },
   {
    "duration": 10,
    "start_time": "2022-03-11T00:50:37.602Z"
   },
   {
    "duration": 12,
    "start_time": "2022-03-11T00:50:37.613Z"
   },
   {
    "duration": 7,
    "start_time": "2022-03-11T00:50:37.626Z"
   },
   {
    "duration": 33,
    "start_time": "2022-03-11T00:50:37.637Z"
   },
   {
    "duration": 8,
    "start_time": "2022-03-11T00:50:37.672Z"
   },
   {
    "duration": 23,
    "start_time": "2022-03-11T00:50:37.682Z"
   },
   {
    "duration": 9,
    "start_time": "2022-03-11T00:50:37.707Z"
   },
   {
    "duration": 15,
    "start_time": "2022-03-11T00:50:37.717Z"
   },
   {
    "duration": 30,
    "start_time": "2022-03-11T00:50:37.733Z"
   },
   {
    "duration": 16,
    "start_time": "2022-03-11T00:50:37.765Z"
   },
   {
    "duration": 9,
    "start_time": "2022-03-11T00:50:37.782Z"
   },
   {
    "duration": 34,
    "start_time": "2022-03-11T00:50:37.793Z"
   },
   {
    "duration": 10,
    "start_time": "2022-03-11T00:50:37.829Z"
   },
   {
    "duration": 8,
    "start_time": "2022-03-11T00:50:37.863Z"
   },
   {
    "duration": 66,
    "start_time": "2022-03-11T00:50:37.873Z"
   },
   {
    "duration": 56,
    "start_time": "2022-03-11T00:50:37.940Z"
   },
   {
    "duration": 37,
    "start_time": "2022-03-11T00:50:37.998Z"
   },
   {
    "duration": 60,
    "start_time": "2022-03-11T00:50:38.037Z"
   },
   {
    "duration": 31,
    "start_time": "2022-03-11T00:50:38.099Z"
   },
   {
    "duration": 3,
    "start_time": "2022-03-11T00:50:38.131Z"
   },
   {
    "duration": 13,
    "start_time": "2022-03-11T00:50:38.135Z"
   },
   {
    "duration": 16,
    "start_time": "2022-03-11T00:50:38.163Z"
   },
   {
    "duration": 23,
    "start_time": "2022-03-11T00:50:38.180Z"
   },
   {
    "duration": 6,
    "start_time": "2022-03-11T00:50:38.205Z"
   },
   {
    "duration": 18,
    "start_time": "2022-03-11T00:50:38.213Z"
   },
   {
    "duration": 38,
    "start_time": "2022-03-11T00:50:38.233Z"
   },
   {
    "duration": 152,
    "start_time": "2022-03-11T00:50:38.273Z"
   },
   {
    "duration": 18,
    "start_time": "2022-03-11T00:50:38.427Z"
   },
   {
    "duration": 17,
    "start_time": "2022-03-11T00:50:38.447Z"
   },
   {
    "duration": 304,
    "start_time": "2022-03-11T00:50:38.466Z"
   },
   {
    "duration": 333,
    "start_time": "2022-03-11T00:50:38.772Z"
   },
   {
    "duration": 479,
    "start_time": "2022-03-11T00:50:39.107Z"
   },
   {
    "duration": 13,
    "start_time": "2022-03-11T00:50:39.588Z"
   },
   {
    "duration": 262,
    "start_time": "2022-03-11T00:50:39.603Z"
   },
   {
    "duration": 256,
    "start_time": "2022-03-11T00:50:39.867Z"
   },
   {
    "duration": 312,
    "start_time": "2022-03-11T00:50:40.125Z"
   },
   {
    "duration": 300,
    "start_time": "2022-03-11T00:50:40.439Z"
   },
   {
    "duration": 557,
    "start_time": "2022-03-11T00:50:40.741Z"
   },
   {
    "duration": 13,
    "start_time": "2022-03-11T00:50:41.299Z"
   },
   {
    "duration": 267,
    "start_time": "2022-03-11T00:50:41.313Z"
   },
   {
    "duration": 255,
    "start_time": "2022-03-11T00:50:41.582Z"
   },
   {
    "duration": 305,
    "start_time": "2022-03-11T00:50:41.838Z"
   },
   {
    "duration": 307,
    "start_time": "2022-03-11T00:50:42.144Z"
   },
   {
    "duration": 494,
    "start_time": "2022-03-11T00:50:42.453Z"
   },
   {
    "duration": 19,
    "start_time": "2022-03-11T00:50:42.949Z"
   },
   {
    "duration": 251,
    "start_time": "2022-03-11T00:50:42.970Z"
   },
   {
    "duration": 260,
    "start_time": "2022-03-11T00:50:43.223Z"
   },
   {
    "duration": 301,
    "start_time": "2022-03-11T00:50:43.484Z"
   },
   {
    "duration": 399,
    "start_time": "2022-03-11T00:50:43.791Z"
   },
   {
    "duration": 486,
    "start_time": "2022-03-11T00:50:44.192Z"
   },
   {
    "duration": 14,
    "start_time": "2022-03-11T00:50:44.680Z"
   },
   {
    "duration": 257,
    "start_time": "2022-03-11T00:50:44.695Z"
   },
   {
    "duration": 253,
    "start_time": "2022-03-11T00:50:44.954Z"
   },
   {
    "duration": 11,
    "start_time": "2022-03-11T00:50:45.209Z"
   },
   {
    "duration": 23,
    "start_time": "2022-03-11T00:50:45.222Z"
   }
  ],
  "kernelspec": {
   "display_name": "Python 3 (ipykernel)",
   "language": "python",
   "name": "python3"
  },
  "language_info": {
   "codemirror_mode": {
    "name": "ipython",
    "version": 3
   },
   "file_extension": ".py",
   "mimetype": "text/x-python",
   "name": "python",
   "nbconvert_exporter": "python",
   "pygments_lexer": "ipython3",
   "version": "3.9.5"
  },
  "toc": {
   "base_numbering": 1,
   "nav_menu": {},
   "number_sections": true,
   "sideBar": true,
   "skip_h1_title": false,
   "title_cell": "Table of Contents",
   "title_sidebar": "Contents",
   "toc_cell": false,
   "toc_position": {
    "height": "calc(100% - 180px)",
    "left": "10px",
    "top": "150px",
    "width": "366.391px"
   },
   "toc_section_display": true,
   "toc_window_display": false
  }
 },
 "nbformat": 4,
 "nbformat_minor": 2
}
